{
 "cells": [
  {
   "cell_type": "markdown",
   "id": "2f2d913f",
   "metadata": {},
   "source": [
    "# For Loop"
   ]
  },
  {
   "cell_type": "code",
   "execution_count": 1,
   "id": "9d22badc",
   "metadata": {},
   "outputs": [
    {
     "name": "stdout",
     "output_type": "stream",
     "text": [
      "1 2 3 4 5 6 7 8 9 10 "
     ]
    }
   ],
   "source": [
    "# 1.Write a Python program to print numbers from 1 to 10 using a for loop.\n",
    "start = 1\n",
    "end = 10\n",
    "for i in range(start, end+1):\n",
    "    print(i, end=\" \")"
   ]
  },
  {
   "cell_type": "markdown",
   "id": "f2d64325",
   "metadata": {},
   "source": [
    "**2.Explain the difference between a for loop and a while loop in Python.**\n",
    "\n",
    "In Python, both `for` loops and `while` loops are used for repetitive tasks, but they have different structures and use cases. Here's the key difference between a `for` loop and a `while` loop:\n",
    "\n",
    "**For Loop:**\n",
    "\n",
    "1. **Structure:** A `for` loop is used to iterate over a sequence (such as a list, tuple, string, or range) or any iterable object.\n",
    "\n",
    "2. **Iteration Count:** In a `for` loop, you specify the number of iterations explicitly by providing an iterable. The loop iterates over each item in the sequence.\n",
    "\n",
    "3. **Example:**\n",
    "   ```python\n",
    "   for item in iterable:\n",
    "       # Code to be executed for each item\n",
    "   ```\n",
    "\n",
    "4. **Use Cases:** `for` loops are typically used when you know the number of times you want to repeat a task or when you want to iterate over elements in a collection or sequence.\n",
    "\n",
    "**While Loop:**\n",
    "\n",
    "1. **Structure:** A `while` loop is used when you want to repeat a block of code as long as a specified condition is `True`.\n",
    "\n",
    "2. **Iteration Count:** In a `while` loop, you don't specify the number of iterations upfront. Instead, the loop continues executing as long as the specified condition remains `True`.\n",
    "\n",
    "3. **Example:**\n",
    "   ```python\n",
    "   while condition:\n",
    "       # Code to be executed as long as the condition is True\n",
    "   ```\n",
    "\n",
    "4. **Use Cases:** `while` loops are typically used when you need to perform a task repeatedly until a certain condition is met, and you don't know the exact number of iterations in advance.\n",
    "\n",
    "Here's an example to illustrate the difference:\n",
    "\n",
    "**For Loop Example:**\n",
    "\n",
    "```python\n",
    "numbers = [1, 2, 3, 4, 5]\n",
    "sum = 0\n",
    "\n",
    "for num in numbers:\n",
    "    sum += num\n",
    "\n",
    "print(sum)  # Prints the sum of numbers 1 to 5: 15\n",
    "```\n",
    "\n",
    "In this example, a `for` loop is used to iterate over the `numbers` list, and the sum of the numbers is calculated.\n",
    "\n",
    "**While Loop Example:**\n",
    "\n",
    "```python\n",
    "count = 0\n",
    "while count < 5:\n",
    "    print(f\"Count: {count}\")\n",
    "    count += 1\n",
    "```\n",
    "\n",
    "In this example, a `while` loop is used to print the value of `count` until it becomes equal to or greater than 5. The loop continues as long as the condition `count < 5` is `True`.\n",
    "\n",
    "In summary, the choice between a `for` loop and a `while` loop in Python depends on the specific task and whether you know the number of iterations in advance or need to repeat a task based on a condition."
   ]
  },
  {
   "cell_type": "code",
   "execution_count": 3,
   "id": "72a8a187",
   "metadata": {},
   "outputs": [
    {
     "data": {
      "text/plain": [
       "5050"
      ]
     },
     "execution_count": 3,
     "metadata": {},
     "output_type": "execute_result"
    }
   ],
   "source": [
    "# 3.Write a Python program to calculate the sum of all numbers from 1 to 100 using a for loop.\n",
    "start = 1\n",
    "end = 100\n",
    "sum(x for x in range(start, end+1))"
   ]
  },
  {
   "cell_type": "markdown",
   "id": "66f50fa0",
   "metadata": {},
   "source": [
    "**4.How do you iterate through a list using a for loop in Python?**\n",
    "\n",
    "To iterate through a list using a `for` loop in Python, you can follow these steps:\n",
    "\n",
    "1. **Create a List:** First, you need a list that you want to iterate through. You can define a list with square brackets and include the elements you want to iterate over.\n",
    "\n",
    "2. **Use the `for` Loop:** Use the `for` keyword to start a `for` loop. After `for`, you need to specify a variable name (often referred to as an iterator variable) that will take on the value of each element in the list during each iteration.\n",
    "\n",
    "3. **Specify the List:** After the iterator variable, use the `in` keyword followed by the name of the list you want to iterate through.\n",
    "\n",
    "4. **Indentation:** Indent the code block that you want to execute during each iteration. In Python, indentation is crucial for defining the scope of the loop.\n",
    "\n",
    "Here's the basic syntax for iterating through a list using a `for` loop:\n",
    "\n",
    "```python\n",
    "my_list = [item1, item2, item3, ...]\n",
    "\n",
    "for item in my_list:\n",
    "    # Code to be executed for each item in the list\n",
    "```\n",
    "\n",
    "Here's a concrete example:\n",
    "\n",
    "```python\n",
    "fruits = [\"apple\", \"banana\", \"cherry\", \"date\"]\n",
    "\n",
    "for fruit in fruits:\n",
    "    print(f\"I like {fruit}s\")\n",
    "```\n",
    "\n",
    "In this example, the `for` loop iterates through the `fruits` list, and during each iteration, the `fruit` variable takes on the value of the current element in the list. The indented code block inside the loop prints a message using the value of `fruit`.\n",
    "\n",
    "The output of the above code will be:\n",
    "\n",
    "```\n",
    "I like apples\n",
    "I like bananas\n",
    "I like cherries\n",
    "I like dates\n",
    "```\n",
    "\n",
    "You can replace the code inside the loop with any operations or tasks you want to perform on each item in the list. The `for` loop will continue until it has processed all the elements in the list.\n"
   ]
  },
  {
   "cell_type": "code",
   "execution_count": 11,
   "id": "213cb9b1",
   "metadata": {},
   "outputs": [
    {
     "data": {
      "text/plain": [
       "40320"
      ]
     },
     "execution_count": 11,
     "metadata": {},
     "output_type": "execute_result"
    }
   ],
   "source": [
    "# 5.Write a Python program to find the product of all elements in a list using a for loop.\n",
    "\n",
    "from functools import reduce\n",
    "ls = [x for x in range(1,9)] # list of 10 numbers \n",
    "\n",
    "reduce(lambda a,b :a*b, ls)\n"
   ]
  },
  {
   "cell_type": "code",
   "execution_count": 13,
   "id": "2ad676c6",
   "metadata": {},
   "outputs": [
    {
     "data": {
      "text/plain": [
       "[2, 4, 6, 8, 10, 12, 14, 16, 18, 20]"
      ]
     },
     "execution_count": 13,
     "metadata": {},
     "output_type": "execute_result"
    }
   ],
   "source": [
    "# 6.Create a Python program that prints all even numbers from 1 to 20 using a for loop.\n",
    "\n",
    "start = 1\n",
    "end = 20\n",
    "ls = [x for x in range(start, end+1)]\n",
    "\n",
    "list(filter(lambda x: x%2==0 , ls))"
   ]
  },
  {
   "cell_type": "code",
   "execution_count": 17,
   "id": "0f620a09",
   "metadata": {},
   "outputs": [
    {
     "name": "stdout",
     "output_type": "stream",
     "text": [
      "Enter a number: 5\n",
      "The factorial of 5 is 120\n"
     ]
    }
   ],
   "source": [
    "# 7.Write a Python program that calculates the factorial of a number using a for loop.\n",
    "\n",
    "# Function to calculate the factorial of a number\n",
    "def factorial(n):\n",
    "    if n < 0:\n",
    "        return \"Factorial is not defined for negative numbers\"\n",
    "    elif n == 0:\n",
    "        return 1\n",
    "    else:\n",
    "        result = 1\n",
    "        for i in range(1, n + 1):\n",
    "            result *= i\n",
    "        return result\n",
    "\n",
    "# Input: Get the number from the user\n",
    "num = int(input(\"Enter a number: \"))\n",
    "\n",
    "# Calculate the factorial and print the result\n",
    "fact = factorial(num)\n",
    "print(f\"The factorial of {num} is {fact}\")"
   ]
  },
  {
   "cell_type": "code",
   "execution_count": 19,
   "id": "ca1a1ba3",
   "metadata": {},
   "outputs": [
    {
     "data": {
      "text/plain": [
       "['p', 'w', 's', 'k', 'i', 'l', 'l', 's']"
      ]
     },
     "execution_count": 19,
     "metadata": {},
     "output_type": "execute_result"
    }
   ],
   "source": [
    "# 8.How can you iterate through the characters of a string using a for loop in Python?\n",
    "sent = \"pwskills\"\n",
    "[x for x in sent]"
   ]
  },
  {
   "cell_type": "code",
   "execution_count": 24,
   "id": "67cb13e4",
   "metadata": {},
   "outputs": [
    {
     "name": "stdout",
     "output_type": "stream",
     "text": [
      "Genrated list: [17, 48, 48, 45, 7, 74, 68, 30, 27, 39]\n",
      "max number in given list: 74\n"
     ]
    }
   ],
   "source": [
    "# 9.Write a Python program to find the largest number in a list using a for loop.\n",
    "\n",
    "import random\n",
    "ls = [random.randint(1,100) for x in range(1,11)]\n",
    "print(\"Genrated list:\", ls)\n",
    "max_ = ls[0]\n",
    "\n",
    "for i in ls:\n",
    "    if i > max_:\n",
    "        max_ = i\n",
    "        \n",
    "print(\"max number in given list:\", max_)"
   ]
  },
  {
   "cell_type": "code",
   "execution_count": 27,
   "id": "0d0e0f3f",
   "metadata": {},
   "outputs": [
    {
     "name": "stdout",
     "output_type": "stream",
     "text": [
      "Enter limit: 5\n",
      "Fibonacci series [0, 1, 1, 2, 3, 5] till 5\n"
     ]
    }
   ],
   "source": [
    "# 10.Create a Python program that prints the Fibonacci sequence up to a specified limit using a for loop.\n",
    "\n",
    "def fibonacci(limit):\n",
    "    fibo_squence = []\n",
    "    a,b = 0, 1\n",
    "    \n",
    "    while a <= limit:\n",
    "        fibo_squence.append(a)\n",
    "        a,b = b, a+b\n",
    "    \n",
    "    return fibo_squence\n",
    "\n",
    "limit = int(input(\"Enter limit: \"))\n",
    "\n",
    "print(f\"Fibonacci series {fibonacci(limit)} till {limit}\")\n"
   ]
  },
  {
   "cell_type": "code",
   "execution_count": 29,
   "id": "6978f257",
   "metadata": {},
   "outputs": [
    {
     "name": "stdout",
     "output_type": "stream",
     "text": [
      "enter string:pw skills\n"
     ]
    },
    {
     "data": {
      "text/plain": [
       "1"
      ]
     },
     "execution_count": 29,
     "metadata": {},
     "output_type": "execute_result"
    }
   ],
   "source": [
    "# 11.Write a Python program to count the number of vowels in a given string using a for loop.\n",
    "vowels = \"aeiou\"\n",
    "\n",
    "sent = input(\"enter string:\")\n",
    "\n",
    "sum(1 for x in sent if x in vowels)"
   ]
  },
  {
   "cell_type": "code",
   "execution_count": 31,
   "id": "5a64d927",
   "metadata": {},
   "outputs": [
    {
     "name": "stdout",
     "output_type": "stream",
     "text": [
      "Enter number: 3\n",
      "multiplication table for a 3\n",
      "3  *  1  =  3\n",
      "3  *  2  =  6\n",
      "3  *  3  =  9\n",
      "3  *  4  =  12\n",
      "3  *  5  =  15\n",
      "3  *  6  =  18\n",
      "3  *  7  =  21\n",
      "3  *  8  =  24\n",
      "3  *  9  =  27\n",
      "3  *  10  =  30\n"
     ]
    }
   ],
   "source": [
    "# 12.Create a Python program that generates a multiplication table for a given number using a for loop.\n",
    "\n",
    "n = int(input(\"Enter number: \"))\n",
    "print(f\"multiplication table for a {n}\")\n",
    "for i in range(1,11):\n",
    "    print(n, \" * \", i, \" = \", n*i)"
   ]
  },
  {
   "cell_type": "code",
   "execution_count": 35,
   "id": "e84131ec",
   "metadata": {},
   "outputs": [
    {
     "name": "stdout",
     "output_type": "stream",
     "text": [
      "Original List: [1, 2, 3, 4, 5]\n",
      "Reversed List: [5, 4, 3, 2, 1]\n"
     ]
    }
   ],
   "source": [
    "# 13.Write a Python program to reverse a list using a for loop.\n",
    "\n",
    "# Function to reverse a list using a for loop\n",
    "def reverse_list(input_list):\n",
    "    reversed_list = []\n",
    "\n",
    "    # Iterate through the input list in reverse order\n",
    "    for item in input_list[::-1]:\n",
    "        reversed_list.append(item)\n",
    "\n",
    "    return reversed_list\n",
    "\n",
    "# Sample list to be reversed\n",
    "original_list = [1, 2, 3, 4, 5]\n",
    "\n",
    "# Call the function to reverse the list\n",
    "reversed_result = reverse_list(original_list)\n",
    "\n",
    "# Print the reversed list\n",
    "print(\"Original List:\", original_list)\n",
    "print(\"Reversed List:\", reversed_result)\n"
   ]
  },
  {
   "cell_type": "code",
   "execution_count": 38,
   "id": "c512c8ef",
   "metadata": {},
   "outputs": [
    {
     "name": "stdout",
     "output_type": "stream",
     "text": [
      "list of common elements between list: [2, 4, 5]\n"
     ]
    }
   ],
   "source": [
    "# 14.Write a Python program to find the common elements between two lists using a for loop.\n",
    "\n",
    "ls1 = [5, 4, 3, 2, 1]\n",
    "ls2 = [2, 4, 5, 7, 8, 9]\n",
    "\n",
    "print(\"list of common elements between list:\" ,[i for i in ls2 if i in ls1])        "
   ]
  },
  {
   "cell_type": "code",
   "execution_count": 42,
   "id": "c079dfcd",
   "metadata": {},
   "outputs": [
    {
     "name": "stdout",
     "output_type": "stream",
     "text": [
      "Key: course  Value: DS pro\n",
      "Key: provider  Value: pw skills\n"
     ]
    }
   ],
   "source": [
    "# 15.Explain how to use a for loop to iterate through the keys and values of a dictionary in Python.\n",
    "\n",
    "sample_dix = {\"course\": \"DS pro\", \"provider\": \"pw skills\"}\n",
    "\n",
    "for key, value in sample_dix.items():\n",
    "    print(f\"Key: {key}  Value: {value}\")"
   ]
  },
  {
   "cell_type": "code",
   "execution_count": 48,
   "id": "e657b084",
   "metadata": {},
   "outputs": [
    {
     "name": "stdout",
     "output_type": "stream",
     "text": [
      "Enter the first number: 34\n",
      "Enter the second number: 3\n",
      "The GCD of 34 and 3 is 1\n"
     ]
    }
   ],
   "source": [
    "# 16.Write a Python program to find the GCD (Greatest Common Divisor) of two numbers using a for loop.\n",
    "\n",
    "\n",
    "def GCD(a,b):\n",
    "    while b:\n",
    "        a,b = b, a%b\n",
    "        \n",
    "    return a\n",
    "\n",
    "# Input: Get the two numbers from the user\n",
    "num1 = int(input(\"Enter the first number: \"))\n",
    "num2 = int(input(\"Enter the second number: \"))\n",
    "\n",
    "# Calculate the GCD using the find_gcd function\n",
    "gcd = GCD(num1, num2)\n",
    "\n",
    "# Print the GCD\n",
    "print(f\"The GCD of {num1} and {num2} is {gcd}\")"
   ]
  },
  {
   "cell_type": "code",
   "execution_count": 52,
   "id": "c916d047",
   "metadata": {},
   "outputs": [
    {
     "name": "stdout",
     "output_type": "stream",
     "text": [
      "Enter a string: pw\n",
      "pw is not a palindrome.\n"
     ]
    }
   ],
   "source": [
    "# 17.Create a Python program that checks if a string is a palindrome using a for loop.\n",
    "\n",
    "# Function to check if a string is a palindrome\n",
    "def is_palindrome(input_string):\n",
    "    # Remove spaces and convert to lowercase for accurate palindrome check\n",
    "    cleaned_string = input_string.replace(\" \", \"\").lower()\n",
    "    \n",
    "    # Initialize indices for the first and last characters of the string\n",
    "    start = 0\n",
    "    end = len(cleaned_string) - 1\n",
    "    \n",
    "    # Iterate through the string using a for loop\n",
    "    while start < end:\n",
    "        if cleaned_string[start] != cleaned_string[end]:\n",
    "            return False  # If characters don't match, it's not a palindrome\n",
    "        start += 1\n",
    "        end -= 1\n",
    "    \n",
    "    return True  # If the loop completes without returning False, it's a palindrome\n",
    "\n",
    "# Input: Get the string from the user\n",
    "user_input = input(\"Enter a string: \")\n",
    "\n",
    "# Check if the input string is a palindrome\n",
    "if is_palindrome(user_input):\n",
    "    print(f\"{user_input} is a palindrome.\")\n",
    "else:\n",
    "    print(f\"{user_input} is not a palindrome.\")\n"
   ]
  },
  {
   "cell_type": "code",
   "execution_count": 54,
   "id": "08e79dc9",
   "metadata": {},
   "outputs": [
    {
     "data": {
      "text/plain": [
       "[1, 2, 3, 4, 53, 5, 6]"
      ]
     },
     "execution_count": 54,
     "metadata": {},
     "output_type": "execute_result"
    }
   ],
   "source": [
    "# 18.Write a Python program to remove duplicates from a list using a for loop.\n",
    "     \n",
    "ls = [1,2,3,4,53,4,5,6]\n",
    "\n",
    "seen = []\n",
    "for i in ls:\n",
    "    if i not in seen:\n",
    "        seen.append(i)\n",
    "seen"
   ]
  },
  {
   "cell_type": "code",
   "execution_count": 55,
   "id": "6d0235d6",
   "metadata": {},
   "outputs": [
    {
     "name": "stdout",
     "output_type": "stream",
     "text": [
      "Enter a sentence: pw skills\n",
      "The sentence contains 2 words.\n"
     ]
    }
   ],
   "source": [
    "# 19.Create a Python program that counts the number of words in a sentence using a for loop.\n",
    "\n",
    "# Function to count the number of words in a sentence\n",
    "def count_words(sentence):\n",
    "    words = sentence.split()  # Split the sentence into words using whitespace as the delimiter\n",
    "    word_count = sum(1 for x in words) # Count the number of words\n",
    "    return word_count\n",
    "\n",
    "# Input: Get the sentence from the user\n",
    "user_input = input(\"Enter a sentence: \")\n",
    "\n",
    "# Call the function to count the words\n",
    "num_words = count_words(user_input)\n",
    "\n",
    "# Print the word count\n",
    "print(f\"The sentence contains {num_words} words.\")\n"
   ]
  },
  {
   "cell_type": "code",
   "execution_count": 59,
   "id": "6067d069",
   "metadata": {},
   "outputs": [
    {
     "data": {
      "text/plain": [
       "625"
      ]
     },
     "execution_count": 59,
     "metadata": {},
     "output_type": "execute_result"
    }
   ],
   "source": [
    "# 20.Write a Python program to find the sum of all odd numbers from 1 to 50 using a for loop.\n",
    "\n",
    "start = 1\n",
    "end = 50\n",
    "\n",
    "sum(x for x in range(start, end+1) if x % 2 != 0)"
   ]
  },
  {
   "cell_type": "code",
   "execution_count": 60,
   "id": "61b2e492",
   "metadata": {},
   "outputs": [
    {
     "name": "stdout",
     "output_type": "stream",
     "text": [
      "Enter a year: 2016\n",
      "2016 is a leap year.\n"
     ]
    }
   ],
   "source": [
    "# 21.Write a Python program that checks if a given year is a leap year using a for loop.\n",
    "\n",
    "# Function to check if a year is a leap year\n",
    "def is_leap_year(year):\n",
    "    if (year % 4 == 0 and year % 100 != 0) or (year % 400 == 0):\n",
    "        return True\n",
    "    else:\n",
    "        return False\n",
    "\n",
    "# Input: Get the year from the user\n",
    "year = int(input(\"Enter a year: \"))\n",
    "\n",
    "# Check if the year is a leap year\n",
    "if is_leap_year(year):\n",
    "    print(f\"{year} is a leap year.\")\n",
    "else:\n",
    "    print(f\"{year} is not a leap year.\")\n"
   ]
  },
  {
   "cell_type": "code",
   "execution_count": null,
   "id": "d21e5cb7",
   "metadata": {},
   "outputs": [],
   "source": [
    "# 22.Create a Python program that calculates the square root of a number using a for loop.\n"
   ]
  },
  {
   "cell_type": "code",
   "execution_count": 62,
   "id": "6c9c0682",
   "metadata": {},
   "outputs": [
    {
     "name": "stdout",
     "output_type": "stream",
     "text": [
      "Enter the first number: 2\n",
      "Enter the second number: 12\n",
      "The LCM of 2 and 12 is 12\n"
     ]
    }
   ],
   "source": [
    "# 23.Write a Python program to find the LCM (Least Common Multiple) of two numbers using a for loop.\n",
    "\n",
    "# Function to find the Greatest Common Divisor (GCD) of two numbers\n",
    "def find_gcd(a, b):\n",
    "    while b:\n",
    "        a, b = b, a % b\n",
    "    return a\n",
    "\n",
    "# Function to find the LCM of two numbers\n",
    "def find_lcm(x, y):\n",
    "    # Calculate the LCM using the GCD formula: LCM = (x * y) / GCD(x, y)\n",
    "    lcm = (x * y) // find_gcd(x, y)\n",
    "    return lcm\n",
    "\n",
    "# Input: Get the two numbers from the user\n",
    "num1 = int(input(\"Enter the first number: \"))\n",
    "num2 = int(input(\"Enter the second number: \"))\n",
    "\n",
    "# Calculate the LCM using the find_lcm function\n",
    "lcm = find_lcm(num1, num2)\n",
    "\n",
    "# Print the LCM\n",
    "print(f\"The LCM of {num1} and {num2} is {lcm}\")"
   ]
  },
  {
   "cell_type": "markdown",
   "id": "f399d424",
   "metadata": {},
   "source": [
    "# If else"
   ]
  },
  {
   "cell_type": "code",
   "execution_count": null,
   "id": "39b60518",
   "metadata": {},
   "outputs": [],
   "source": []
  },
  {
   "cell_type": "code",
   "execution_count": null,
   "id": "3a015739",
   "metadata": {},
   "outputs": [],
   "source": []
  },
  {
   "cell_type": "code",
   "execution_count": null,
   "id": "8a3c1061",
   "metadata": {},
   "outputs": [],
   "source": []
  },
  {
   "cell_type": "code",
   "execution_count": null,
   "id": "1b7fd759",
   "metadata": {},
   "outputs": [],
   "source": []
  },
  {
   "cell_type": "code",
   "execution_count": null,
   "id": "52454671",
   "metadata": {},
   "outputs": [],
   "source": []
  },
  {
   "cell_type": "code",
   "execution_count": null,
   "id": "f4a77bd9",
   "metadata": {},
   "outputs": [],
   "source": []
  },
  {
   "cell_type": "markdown",
   "id": "2a49a9fb",
   "metadata": {},
   "source": [
    "# MAP"
   ]
  },
  {
   "cell_type": "markdown",
   "id": "fd786f91",
   "metadata": {},
   "source": [
    "**1.Explain the purpose of the `map()` function in Python and provide an example of how it can be used to apply a function to each element of an iterable.**\n",
    "\n",
    "The `map()` function in Python is a built-in function that is used to apply a specified function to each item in an iterable (e.g., a list, tuple, or other iterable) and returns an iterator of the results. The primary purpose of `map()` is to efficiently transform and process data without the need for explicit loops, making code more concise and readable.\n",
    "\n",
    "Here's the basic syntax of the `map()` function:\n",
    "\n",
    "```python\n",
    "map(function, iterable)\n",
    "```\n",
    "\n",
    "- `function`: This is the function that you want to apply to each element of the iterable.\n",
    "- `iterable`: This is the iterable (e.g., list, tuple) containing the elements you want to process.\n",
    "\n",
    "Here's an example of how `map()` can be used to apply a function to each element of a list:\n",
    "\n",
    "```python\n",
    "# Function to calculate the square of a number\n",
    "def square(x):\n",
    "    return x * x\n",
    "\n",
    "# List of numbers\n",
    "numbers = [1, 2, 3, 4, 5]\n",
    "\n",
    "# Use map() to apply the square function to each element of the list\n",
    "squared_numbers = map(square, numbers)\n",
    "\n",
    "# Convert the result to a list (optional, as map() returns an iterator)\n",
    "squared_numbers_list = list(squared_numbers)\n",
    "\n",
    "# Print the squared numbers\n",
    "print(squared_numbers_list)\n",
    "```\n",
    "\n",
    "In this example:\n",
    "\n",
    "1. We define a function `square(x)` that takes a number `x` and returns its square.\n",
    "\n",
    "2. We create a list of numbers called `numbers`.\n",
    "\n",
    "3. We use the `map()` function to apply the `square` function to each element of the `numbers` list. This returns an iterator containing the results.\n",
    "\n",
    "4. We convert the iterator to a list using `list()` to obtain the final result as a list of squared numbers.\n",
    "\n",
    "5. Finally, we print the squared numbers, which are `[1, 4, 9, 16, 25]`.\n",
    "\n",
    "The `map()` function is especially useful when you want to apply a transformation or operation to every element of an iterable, as it simplifies the code and makes it more concise. It's a functional programming concept that promotes a cleaner and more readable code style."
   ]
  },
  {
   "cell_type": "code",
   "execution_count": 79,
   "id": "79740083",
   "metadata": {},
   "outputs": [
    {
     "data": {
      "text/plain": [
       "[1, 4, 9, 16, 25]"
      ]
     },
     "execution_count": 79,
     "metadata": {},
     "output_type": "execute_result"
    }
   ],
   "source": [
    "# 2.Write a Python program that uses the `map()` function to square each element of a list of numbers.\n",
    "\n",
    "ls = [1,2,3,4,5]\n",
    "list(map(lambda x: x**2, ls))"
   ]
  },
  {
   "cell_type": "markdown",
   "id": "45fa116b",
   "metadata": {},
   "source": [
    "**3.How does the `map()` function differ from a list comprehension in Python, and when would you choose one over the other?**\n",
    "\n",
    "The `map()` function and list comprehensions in Python are both used for transforming data and performing operations on iterable objects (e.g., lists), but they differ in their approach and usage. Here's how they differ and when you might choose one over the other:\n",
    "\n",
    "**1. `map()` Function:**\n",
    "\n",
    "- **Function-Based Transformation:** `map()` applies a specified function to each element of an iterable and returns an iterator of the results. It is primarily function-based.\n",
    "\n",
    "- **Returns an Iterator:** `map()` returns an iterator, not a list or other iterable. To obtain the result as a list, you need to convert the iterator to a list using `list()`.\n",
    "\n",
    "- **Elegant for Simple Operations:** It is useful and elegant for applying a simple operation or transformation to each element of an iterable, especially when you have an existing function.\n",
    "\n",
    "- **Readability:** `map()` can be less concise and less readable than list comprehensions, especially when the transformation logic is complex.\n",
    "\n",
    "**Example Using `map()`:**\n",
    "```python\n",
    "numbers = [1, 2, 3, 4, 5]\n",
    "squared_numbers = map(lambda x: x * x, numbers)\n",
    "squared_numbers_list = list(squared_numbers)\n",
    "```\n",
    "\n",
    "**2. List Comprehensions:**\n",
    "\n",
    "- **Expression-Based Transformation:** List comprehensions create a new list by applying an expression to each element of an iterable. They are more expression-based and resemble a compact way to create lists.\n",
    "\n",
    "- **Returns a List:** List comprehensions directly return a new list, making them more suitable when you want a list as the result.\n",
    "\n",
    "- **Concise and Readable:** List comprehensions are often more concise and readable, especially for simple transformations or filtering operations.\n",
    "\n",
    "- **Supports Filtering:** List comprehensions can also include filtering conditions, allowing you to create filtered lists.\n",
    "\n",
    "**Example Using List Comprehension:**\n",
    "```python\n",
    "numbers = [1, 2, 3, 4, 5]\n",
    "squared_numbers = [x * x for x in numbers]\n",
    "```\n",
    "\n",
    "**Choosing Between `map()` and List Comprehension:**\n",
    "\n",
    "- **Use `map()` When:** You have an existing function or when you want to apply the same function to each element of an iterable. It's a good choice for simple, repetitive transformations.\n",
    "\n",
    "- **Use List Comprehension When:** You want a concise and readable way to create a new list with an expression-based transformation. List comprehensions are also suitable when you want to filter elements or perform more complex operations.\n",
    "\n",
    "- **Personal Preference:** The choice between `map()` and list comprehension can often come down to personal preference and readability. Some developers prefer the more explicit nature of `map()`, while others find list comprehensions more intuitive.\n",
    "\n",
    "In many cases, both `map()` and list comprehensions can accomplish the same task, and the choice between them depends on your coding style, the complexity of the operation, and the specific requirements of your code."
   ]
  },
  {
   "cell_type": "code",
   "execution_count": 81,
   "id": "f7af7d22",
   "metadata": {},
   "outputs": [
    {
     "data": {
      "text/plain": [
       "['PW', 'SKILLS', 'DS', 'BATCH']"
      ]
     },
     "execution_count": 81,
     "metadata": {},
     "output_type": "execute_result"
    }
   ],
   "source": [
    "# 4.Create a Python program that uses the `map()` function to convert a list of names to uppercase.\n",
    "\n",
    "ls = ['pw', 'skills', 'ds', 'batch']\n",
    "list(map(lambda x: x.upper(), ls))"
   ]
  },
  {
   "cell_type": "code",
   "execution_count": 82,
   "id": "bd47df28",
   "metadata": {},
   "outputs": [
    {
     "data": {
      "text/plain": [
       "[2, 6, 2, 5]"
      ]
     },
     "execution_count": 82,
     "metadata": {},
     "output_type": "execute_result"
    }
   ],
   "source": [
    "# 5.Write a Python program that uses the `map()` function to calculate the length of each word in a list of strings.\n",
    "\n",
    "ls = ['pw', 'skills', 'ds', 'batch']\n",
    "list(map(lambda x: len(x), ls))"
   ]
  },
  {
   "cell_type": "code",
   "execution_count": 96,
   "id": "40751ecf",
   "metadata": {},
   "outputs": [
    {
     "name": "stdout",
     "output_type": "stream",
     "text": [
      "[5, 7, 9]\n"
     ]
    }
   ],
   "source": [
    "# 6.How can you use the `map()` function to apply a custom function to elements of multiple lists simultaneously in Python?\n",
    "\n",
    "\n",
    "# Custom function that takes two arguments and returns their sum\n",
    "def add(x, y):\n",
    "    return x + y\n",
    "\n",
    "# Lists of numbers\n",
    "list1 = [1, 2, 3]\n",
    "list2 = [4, 5, 6]\n",
    "\n",
    "# Use map() to apply the custom function to elements of both lists\n",
    "result = map(add, list1, list2)\n",
    "\n",
    "# Convert the result to a list (optional, as map() returns an iterator)\n",
    "result_list = list(result)\n",
    "\n",
    "# Print the result\n",
    "print(result_list)\n"
   ]
  },
  {
   "cell_type": "code",
   "execution_count": 97,
   "id": "d05d35c2",
   "metadata": {},
   "outputs": [
    {
     "data": {
      "text/plain": [
       "[32.0, 50.0, 68.0, 86.0, 104.0]"
      ]
     },
     "execution_count": 97,
     "metadata": {},
     "output_type": "execute_result"
    }
   ],
   "source": [
    "# 7.Create a Python program that uses `map()` to convert a list of temperatures from Celsius to Fahrenheit.\n",
    "\n",
    "# Custom function to convert Celsius to Fahrenheit\n",
    "def celsius_to_fahrenheit(celsius):\n",
    "    return (celsius * 9/5) + 32\n",
    "\n",
    "# List of temperatures in Celsius\n",
    "celsius_temperatures = [0, 10, 20, 30, 40]\n",
    "\n",
    "# Use map() to convert temperatures to Fahrenheit\n",
    "list(map(celsius_to_fahrenheit, celsius_temperatures))"
   ]
  },
  {
   "cell_type": "code",
   "execution_count": 95,
   "id": "5fc88368",
   "metadata": {},
   "outputs": [
    {
     "name": "stdout",
     "output_type": "stream",
     "text": [
      "[0.25, 0.5, 0.75, 1.0]\n"
     ]
    },
    {
     "data": {
      "text/plain": [
       "[0, 0, 1, 1]"
      ]
     },
     "execution_count": 95,
     "metadata": {},
     "output_type": "execute_result"
    }
   ],
   "source": [
    "# 8.Write a Python program that uses the `map()` function to round each element of a list of floating-point numbers to the nearest integer.\n",
    "\n",
    "ls = [x/4 for x in range(1,5)]\n",
    "print(ls)\n",
    "list(map(lambda x: round(x), ls))"
   ]
  },
  {
   "cell_type": "code",
   "execution_count": null,
   "id": "f1cfdd83",
   "metadata": {},
   "outputs": [],
   "source": []
  },
  {
   "cell_type": "markdown",
   "id": "914ac724",
   "metadata": {},
   "source": [
    "# Reduce"
   ]
  },
  {
   "cell_type": "markdown",
   "id": "abab7a01",
   "metadata": {},
   "source": [
    "**1.What is the `reduce()` function in Python, and what module should you import to use it? Provide an example of its basic usage.**\n",
    "\n",
    "The `reduce()` function in Python is a part of the `functools` module, and it is used to apply a given function cumulatively to the items of an iterable (e.g., a list or tuple) from left to right, in a way that reduces the iterable to a single cumulative result.\n",
    "\n",
    "Here's the basic syntax of the `reduce()` function:\n",
    "\n",
    "```python\n",
    "functools.reduce(function, iterable, initializer)\n",
    "```\n",
    "\n",
    "- `function`: The function to apply cumulatively to the items of the iterable. It should take two arguments.\n",
    "- `iterable`: The iterable (e.g., a list, tuple, or string) whose items are processed cumulatively.\n",
    "- `initializer` (optional): An optional initial value that is used as the first argument to the `function`. If not provided, the first item in the iterable is used as the initial value.\n",
    "\n",
    "Here's an example of how to use the `reduce()` function to find the product of all elements in a list:\n",
    "\n",
    "```python\n",
    "from functools import reduce\n",
    "\n",
    "# Define a function that multiplies two numbers\n",
    "def multiply(x, y):\n",
    "    return x * y\n",
    "\n",
    "# List of numbers\n",
    "numbers = [1, 2, 3, 4, 5]\n",
    "\n",
    "# Use reduce() to find the product of all elements in the list\n",
    "product = reduce(multiply, numbers)\n",
    "\n",
    "# Output the result\n",
    "print(\"Product:\", product)\n",
    "```\n",
    "\n",
    "In this example, we import `reduce` from `functools`, define a `multiply` function that takes two arguments and returns their product, and then use `reduce()` to apply the `multiply` function cumulatively to the list of numbers. The result is the product of all the elements in the list, which is printed as \"Product.\""
   ]
  },
  {
   "cell_type": "code",
   "execution_count": 100,
   "id": "a7f532d9",
   "metadata": {},
   "outputs": [
    {
     "data": {
      "text/plain": [
       "120"
      ]
     },
     "execution_count": 100,
     "metadata": {},
     "output_type": "execute_result"
    }
   ],
   "source": [
    "# 2.Write a Python program that uses the `reduce()` function to find the product of all elements in a list.\n",
    "\n",
    "from functools import reduce\n",
    "ls = [1,2,3,4,5]\n",
    "\n",
    "reduce(lambda a,b : a*b, ls)"
   ]
  },
  {
   "cell_type": "code",
   "execution_count": 102,
   "id": "51b44115",
   "metadata": {},
   "outputs": [
    {
     "data": {
      "text/plain": [
       "13"
      ]
     },
     "execution_count": 102,
     "metadata": {},
     "output_type": "execute_result"
    }
   ],
   "source": [
    "# 3.Create a Python program that uses `reduce()` to find the maximum element in a list of numbers.\n",
    "\n",
    "ls = [1,2,13,4,5]\n",
    "\n",
    "reduce(lambda a,b : max(a,b), ls)"
   ]
  },
  {
   "cell_type": "code",
   "execution_count": 105,
   "id": "cd83680a",
   "metadata": {},
   "outputs": [
    {
     "data": {
      "text/plain": [
       "'pw skills ds batch'"
      ]
     },
     "execution_count": 105,
     "metadata": {},
     "output_type": "execute_result"
    }
   ],
   "source": [
    "# 4.How can you use the `reduce()` function to concatenate a list of strings into a single string?\n",
    "\n",
    "ls = ['pw', 'skills', 'ds', 'batch']\n",
    "reduce(lambda a,b : a+\" \"+b, ls)"
   ]
  },
  {
   "cell_type": "code",
   "execution_count": 107,
   "id": "160759dd",
   "metadata": {},
   "outputs": [
    {
     "data": {
      "text/plain": [
       "720"
      ]
     },
     "execution_count": 107,
     "metadata": {},
     "output_type": "execute_result"
    }
   ],
   "source": [
    "# 5.Write a Python program that calculates the factorial of a number using the `reduce()` function.\n",
    "\n",
    "number = 6\n",
    "reduce(lambda a,b : a*b, range(1, number+1))"
   ]
  },
  {
   "cell_type": "code",
   "execution_count": 112,
   "id": "5f2a7f03",
   "metadata": {},
   "outputs": [
    {
     "name": "stdout",
     "output_type": "stream",
     "text": [
      "Enter a list of numbers separated by spaces: 6 8 12\n",
      "The GCD of the numbers is 2\n"
     ]
    }
   ],
   "source": [
    "# 6.Create a Python program that uses `reduce()` to find the GCD (Greatest Common Divisor) of a list of numbers.\n",
    "\n",
    "from functools import reduce\n",
    "from math import gcd\n",
    "\n",
    "# Define a function to find the GCD of two numbers\n",
    "def find_gcd(x, y):\n",
    "    return gcd(x, y)\n",
    "\n",
    "# Input: Get a list of numbers for which you want to find the GCD\n",
    "num_list = list(map(int, input(\"Enter a list of numbers separated by spaces: \").split()))\n",
    "\n",
    "# Check if the list is empty\n",
    "if not num_list:\n",
    "    print(\"The list is empty.\")\n",
    "else:\n",
    "    # Calculate the GCD using reduce()\n",
    "    result_gcd = reduce(find_gcd, num_list)\n",
    "\n",
    "    # Output the result\n",
    "    print(f\"The GCD of the numbers is {result_gcd}\")\n"
   ]
  },
  {
   "cell_type": "code",
   "execution_count": 108,
   "id": "74b9c752",
   "metadata": {},
   "outputs": [
    {
     "data": {
      "text/plain": [
       "15"
      ]
     },
     "execution_count": 108,
     "metadata": {},
     "output_type": "execute_result"
    }
   ],
   "source": [
    "# 7.Write a Python program that uses the `reduce()` function to find the sum of the digits of a given number.\n",
    "\n",
    "ls = [1,2,3,4,5]\n",
    "\n",
    "reduce(lambda a,b : a+b, ls)"
   ]
  },
  {
   "cell_type": "code",
   "execution_count": null,
   "id": "c4a4afee",
   "metadata": {},
   "outputs": [],
   "source": []
  },
  {
   "cell_type": "markdown",
   "id": "7029e220",
   "metadata": {},
   "source": [
    "# Filter"
   ]
  },
  {
   "cell_type": "markdown",
   "id": "b11a8b4b",
   "metadata": {},
   "source": [
    "**1.Explain the purpose of the `filter()` function in Python and provide an example of how it can be used to filter elements from an iterable.**\n",
    "\n",
    "The `filter()` function in Python is used to filter elements from an iterable (e.g., a list, tuple, or any other iterable) based on a specified condition. It creates a new iterable that contains only the elements for which the provided condition or function returns `True`. In other words, it is used to selectively include or exclude elements from the original iterable.\n",
    "\n",
    "Here's the basic syntax of the `filter()` function:\n",
    "\n",
    "```python\n",
    "filter(function, iterable)\n",
    "```\n",
    "\n",
    "- `function`: A function that defines the condition for filtering. This function should return `True` for elements you want to include in the filtered iterable and `False` for elements you want to exclude.\n",
    "- `iterable`: The iterable from which elements are filtered.\n",
    "\n",
    "Here's an example of how to use the `filter()` function to filter even numbers from a list:\n",
    "\n",
    "```python\n",
    "# Define a function to check if a number is even\n",
    "def is_even(x):\n",
    "    return x % 2 == 0\n",
    "\n",
    "# List of numbers\n",
    "numbers = [1, 2, 3, 4, 5, 6, 7, 8, 9, 10]\n",
    "\n",
    "# Use filter() to filter even numbers from the list\n",
    "even_numbers = list(filter(is_even, numbers))\n",
    "\n",
    "# Output the result\n",
    "print(\"Even numbers:\", even_numbers)\n",
    "```\n",
    "\n",
    "In this example, we define the `is_even()` function, which returns `True` if a number is even (i.e., divisible by 2) and `False` otherwise. We then use the `filter()` function with this function to filter even numbers from the `numbers` list. The result is a new list containing only the even numbers, which is printed as \"Even numbers.\"\n",
    "\n",
    "The `filter()` function is a useful tool for selecting elements from an iterable based on specific criteria, and it can be combined with lambda functions for more concise filtering."
   ]
  },
  {
   "cell_type": "code",
   "execution_count": 113,
   "id": "58519e61",
   "metadata": {},
   "outputs": [
    {
     "data": {
      "text/plain": [
       "[2, 4, 6, 8, 10]"
      ]
     },
     "execution_count": 113,
     "metadata": {},
     "output_type": "execute_result"
    }
   ],
   "source": [
    "# 2.Write a Python program that uses the `filter()` function to select even numbers from a list of integers.\n",
    "\n",
    "ls = [x for x in range(1,11)]\n",
    "list(filter(lambda x: x%2 == 0, ls))"
   ]
  },
  {
   "cell_type": "code",
   "execution_count": 114,
   "id": "06e2e535",
   "metadata": {},
   "outputs": [
    {
     "data": {
      "text/plain": [
       "['pw', 'pro']"
      ]
     },
     "execution_count": 114,
     "metadata": {},
     "output_type": "execute_result"
    }
   ],
   "source": [
    "# 3.Create a Python program that uses the `filter()` function to select names that start with a specific letter from a list of strings.\n",
    "\n",
    "ls = ['pw', 'skills', 'ds', 'batch', 'pro']\n",
    "start_letter = 'p'\n",
    "list(filter(lambda x: x[0] == start_letter, ls))"
   ]
  },
  {
   "cell_type": "code",
   "execution_count": 120,
   "id": "d4f854ed",
   "metadata": {},
   "outputs": [
    {
     "name": "stdout",
     "output_type": "stream",
     "text": [
      "[2, 5, 7, 9]\n"
     ]
    }
   ],
   "source": [
    "# 4.Write a Python program that uses the `filter()` function to select prime numbers from a list of integers.\n",
    "\n",
    "def is_prime(n):\n",
    "    if n <= 1:\n",
    "        return False\n",
    "    if n == 2:\n",
    "        return True\n",
    "    for i in range(2, int(n/2) + 1): \n",
    "        return n % i != 0\n",
    "            \n",
    "ls = [x for x in range(1, 11)]\n",
    "prime_numbers = list(filter(lambda x: is_prime(x), ls))\n",
    "\n",
    "print(prime_numbers)"
   ]
  },
  {
   "cell_type": "code",
   "execution_count": 126,
   "id": "64133f8b",
   "metadata": {},
   "outputs": [
    {
     "data": {
      "text/plain": [
       "['pw', 'ds', 'batch', 'pro']"
      ]
     },
     "execution_count": 126,
     "metadata": {},
     "output_type": "execute_result"
    }
   ],
   "source": [
    "# 5.How can you use the `filter()` function to remove None values from a list in Python?\n",
    "\n",
    "ls = ['pw', None, 'ds', 'batch', 'pro']\n",
    "list(filter(lambda x:  x, ls))"
   ]
  },
  {
   "cell_type": "code",
   "execution_count": 121,
   "id": "5ec7687b",
   "metadata": {},
   "outputs": [
    {
     "data": {
      "text/plain": [
       "['skills', 'batch', 'pro']"
      ]
     },
     "execution_count": 121,
     "metadata": {},
     "output_type": "execute_result"
    }
   ],
   "source": [
    "# 6.Create a Python program that uses `filter()` to select words longer than a certain length from a list of strings.\n",
    "\n",
    "ls = ['pw', 'skills', 'ds', 'batch', 'pro']\n",
    "ln = 2\n",
    "list(filter(lambda x: len(x) > ln, ls))"
   ]
  },
  {
   "cell_type": "code",
   "execution_count": 123,
   "id": "b7b5a1a7",
   "metadata": {},
   "outputs": [
    {
     "data": {
      "text/plain": [
       "[6, 7, 8, 9, 10]"
      ]
     },
     "execution_count": 123,
     "metadata": {},
     "output_type": "execute_result"
    }
   ],
   "source": [
    "# 7.Write a Python program that uses the `filter()` function to select elements greater than a specified threshold from a list of values.\n",
    "\n",
    "ls = [x for x in range(1, 11)]\n",
    "number = 5\n",
    "list(filter(lambda x: x > number, ls))"
   ]
  },
  {
   "cell_type": "code",
   "execution_count": null,
   "id": "521989e9",
   "metadata": {},
   "outputs": [],
   "source": []
  },
  {
   "cell_type": "markdown",
   "id": "f5098bd3",
   "metadata": {},
   "source": [
    "# Recursion"
   ]
  },
  {
   "cell_type": "code",
   "execution_count": null,
   "id": "312c9ac9",
   "metadata": {},
   "outputs": [],
   "source": [
    "# 1.Explain the concept of recursion in Python. How does it differ from iteration?\n"
   ]
  },
  {
   "cell_type": "code",
   "execution_count": 66,
   "id": "9f7056b1",
   "metadata": {},
   "outputs": [
    {
     "name": "stdout",
     "output_type": "stream",
     "text": [
      "Enter number:5\n",
      "factorial of a number 5 is 120\n"
     ]
    }
   ],
   "source": [
    "# 2.Write a Python program to calculate the factorial of a number using recursion.\n",
    "\n",
    "def fact(n):\n",
    "    if n < 0:\n",
    "        return \"Enter positive number\"\n",
    "    elif n == 0:\n",
    "        return 1\n",
    "    else:\n",
    "        return n*fact(n-1)\n",
    "    \n",
    "num = int(input(\"Enter number:\"))\n",
    "print(f\"factorial of a number {num} is {fact(num)}\" )"
   ]
  },
  {
   "cell_type": "code",
   "execution_count": 69,
   "id": "c0a44f6e",
   "metadata": {},
   "outputs": [
    {
     "name": "stdout",
     "output_type": "stream",
     "text": [
      "Enter a positive integer (n): 5\n",
      "The 5th Fibonacci number is 3\n"
     ]
    }
   ],
   "source": [
    "# 3.Create a recursive Python function to find the nth Fibonacci number.\n",
    "\n",
    "# Recursive function to find the nth Fibonacci number\n",
    "def fibonacci(n):\n",
    "    if n <= 0:\n",
    "        return \"Invalid input (n should be a positive integer)\"\n",
    "    elif n == 1:\n",
    "        return 0  # Base case: Fibonacci(1) = 0\n",
    "    elif n == 2:\n",
    "        return 1  # Base case: Fibonacci(2) = 1\n",
    "    else:\n",
    "        return fibonacci(n - 1) + fibonacci(n - 2)\n",
    "\n",
    "# Input: Get the value of n from the user\n",
    "n = int(input(\"Enter a positive integer (n): \"))\n",
    "\n",
    "# Calculate and print the nth Fibonacci number\n",
    "result = fibonacci(n)\n",
    "print(f\"The {n}th Fibonacci number is {result}\")    "
   ]
  },
  {
   "cell_type": "code",
   "execution_count": 71,
   "id": "8dad429c",
   "metadata": {},
   "outputs": [
    {
     "name": "stdout",
     "output_type": "stream",
     "text": [
      "The sum of number is 15\n"
     ]
    }
   ],
   "source": [
    "# 4.Write a recursive Python function to calculate the sum of all elements in a list.\n",
    "\n",
    "def sum_of_digit(nums):\n",
    "    if not nums:\n",
    "        return 0 # base case \n",
    "    return nums[0] + sum_of_digit(nums[1:])\n",
    "\n",
    "ls = [1,2,3,4,5]\n",
    "print(f\"The sum of numbers is {sum_of_digit(ls)}\")"
   ]
  },
  {
   "cell_type": "code",
   "execution_count": null,
   "id": "42b918e0",
   "metadata": {},
   "outputs": [],
   "source": [
    "# 5.How can you prevent a recursive function from running indefinitely, causing a stack overflow error?\n"
   ]
  },
  {
   "cell_type": "code",
   "execution_count": null,
   "id": "9a1dc2f5",
   "metadata": {},
   "outputs": [],
   "source": [
    "# 6.Create a recursive Python function to find the greatest common divisor (GCD) of two numbers using the Euclidean algorithm.\n"
   ]
  },
  {
   "cell_type": "code",
   "execution_count": 75,
   "id": "7f2b5b44",
   "metadata": {},
   "outputs": [
    {
     "name": "stdout",
     "output_type": "stream",
     "text": [
      "reversed string: slliks wp\n"
     ]
    }
   ],
   "source": [
    "# 7.Write a recursive Python function to reverse a string.\n",
    "\n",
    "def reverse_str(sent):\n",
    "    if not sent:\n",
    "        return \"\"\n",
    "    return sent[-1] + reverse_str(sent[:-1])\n",
    "\n",
    "sent = \"pw skills\"\n",
    "\n",
    "print(\"reversed string:\", reverse_str(sent))"
   ]
  },
  {
   "cell_type": "code",
   "execution_count": 72,
   "id": "c79c638f",
   "metadata": {},
   "outputs": [
    {
     "name": "stdout",
     "output_type": "stream",
     "text": [
      "Enter the base (x): 5\n",
      "Enter the exponent (n): 3\n",
      "5.0^3 = 125.0\n"
     ]
    }
   ],
   "source": [
    "# 8.Create a recursive Python function to calculate the power of a number (x^n).\n",
    "\n",
    "# Recursive function to calculate the power of a number (x^n)\n",
    "def power(x, n):\n",
    "    if n == 0:\n",
    "        return 1  # Any number raised to the power of 0 is 1 (base case)\n",
    "    else:\n",
    "        return x * power(x, n - 1)  # Recursive case: Multiply x by x^(n-1)\n",
    "\n",
    "# Input: Get the base (x) and exponent (n) from the user\n",
    "x = float(input(\"Enter the base (x): \"))\n",
    "n = int(input(\"Enter the exponent (n): \"))\n",
    "\n",
    "# Calculate x^n using the power function\n",
    "result = power(x, n)\n",
    "\n",
    "# Print the result\n",
    "print(f\"{x}^{n} =\", result)\n"
   ]
  },
  {
   "cell_type": "code",
   "execution_count": null,
   "id": "e69b7e74",
   "metadata": {},
   "outputs": [],
   "source": [
    "# 9.Write a recursive Python function to find all permutations of a given string.\n"
   ]
  },
  {
   "cell_type": "code",
   "execution_count": 78,
   "id": "c5865008",
   "metadata": {},
   "outputs": [
    {
     "name": "stdout",
     "output_type": "stream",
     "text": [
      "Enter a string: ada\n",
      "ada is a palindrome.\n"
     ]
    }
   ],
   "source": [
    "# 10.Write a recursive Python function to check if a string is a palindrome.\n",
    "\n",
    "def is_palindrome(input_string):\n",
    "    input_string = input_string.lower() \n",
    "    if len(input_string) <= 1:\n",
    "        return True  # Base case: A string with 0 or 1 characters is a palindrome\n",
    "    elif input_string[0] != input_string[-1]:\n",
    "        return False  # Base case: If the first and last characters don't match, it's not a palindrome\n",
    "    else:\n",
    "        # Recursively check the substring without the first and last characters\n",
    "        return is_palindrome(input_string[1:-1])\n",
    "\n",
    "user_input = input(\"Enter a string: \")\n",
    "\n",
    "cleaned_input = \"\".join(user_input.split())  # Remove spaces from the input\n",
    "if is_palindrome(cleaned_input):\n",
    "    print(f\"{user_input} is a palindrome.\")\n",
    "else:\n",
    "    print(f\"{user_input} is not a palindrome.\")\n"
   ]
  },
  {
   "cell_type": "code",
   "execution_count": null,
   "id": "464b3e79",
   "metadata": {},
   "outputs": [],
   "source": [
    "# 11.Create a recursive Python function to generate all possible combinations of a list of elements.\n"
   ]
  },
  {
   "cell_type": "code",
   "execution_count": null,
   "id": "e3b0d787",
   "metadata": {},
   "outputs": [],
   "source": []
  },
  {
   "cell_type": "code",
   "execution_count": null,
   "id": "a468009d",
   "metadata": {},
   "outputs": [],
   "source": []
  },
  {
   "cell_type": "code",
   "execution_count": null,
   "id": "a0200878",
   "metadata": {},
   "outputs": [],
   "source": []
  }
 ],
 "metadata": {
  "kernelspec": {
   "display_name": "Python 3 (ipykernel)",
   "language": "python",
   "name": "python3"
  },
  "language_info": {
   "codemirror_mode": {
    "name": "ipython",
    "version": 3
   },
   "file_extension": ".py",
   "mimetype": "text/x-python",
   "name": "python",
   "nbconvert_exporter": "python",
   "pygments_lexer": "ipython3",
   "version": "3.11.3"
  }
 },
 "nbformat": 4,
 "nbformat_minor": 5
}
