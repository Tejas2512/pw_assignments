{
 "cells": [
  {
   "cell_type": "markdown",
   "id": "2e4253fd",
   "metadata": {},
   "source": [
    "# For Loop"
   ]
  },
  {
   "cell_type": "code",
   "execution_count": 1,
   "id": "6ab44496",
   "metadata": {},
   "outputs": [
    {
     "name": "stdout",
     "output_type": "stream",
     "text": [
      "1 2 3 4 5 6 7 8 9 10 "
     ]
    }
   ],
   "source": [
    "# 1.Write a Python program to print numbers from 1 to 10 using a for loop.\n",
    "start = 1\n",
    "end = 10\n",
    "for i in range(start, end+1):\n",
    "    print(i, end=\" \")"
   ]
  },
  {
   "cell_type": "markdown",
   "id": "193bb2bf",
   "metadata": {},
   "source": [
    "#"
   ]
  },
  {
   "cell_type": "markdown",
   "id": "a73d6f5b",
   "metadata": {},
   "source": [
    "**#2.Explain the difference between a for loop and a while loop in Python.**\n",
    "\n",
    "In Python, both `for` loops and `while` loops are used for repetitive tasks, but they have different structures and use cases. Here's the key difference between a `for` loop and a `while` loop:\n",
    "\n",
    "**For Loop:**\n",
    "\n",
    "1. **Structure:** A `for` loop is used to iterate over a sequence (such as a list, tuple, string, or range) or any iterable object.\n",
    "\n",
    "2. **Iteration Count:** In a `for` loop, you specify the number of iterations explicitly by providing an iterable. The loop iterates over each item in the sequence.\n",
    "\n",
    "3. **Example:**\n",
    "   ```python\n",
    "   for item in iterable:\n",
    "       # Code to be executed for each item\n",
    "   ```\n",
    "\n",
    "4. **Use Cases:** `for` loops are typically used when you know the number of times you want to repeat a task or when you want to iterate over elements in a collection or sequence.\n",
    "\n",
    "**While Loop:**\n",
    "\n",
    "1. **Structure:** A `while` loop is used when you want to repeat a block of code as long as a specified condition is `True`.\n",
    "\n",
    "2. **Iteration Count:** In a `while` loop, you don't specify the number of iterations upfront. Instead, the loop continues executing as long as the specified condition remains `True`.\n",
    "\n",
    "3. **Example:**\n",
    "   ```python\n",
    "   while condition:\n",
    "       # Code to be executed as long as the condition is True\n",
    "   ```\n",
    "\n",
    "4. **Use Cases:** `while` loops are typically used when you need to perform a task repeatedly until a certain condition is met, and you don't know the exact number of iterations in advance.\n",
    "\n",
    "Here's an example to illustrate the difference:\n",
    "\n",
    "**For Loop Example:**\n",
    "\n",
    "```python\n",
    "numbers = [1, 2, 3, 4, 5]\n",
    "sum = 0\n",
    "\n",
    "for num in numbers:\n",
    "    sum += num\n",
    "\n",
    "print(sum)  # Prints the sum of numbers 1 to 5: 15\n",
    "```\n",
    "\n",
    "In this example, a `for` loop is used to iterate over the `numbers` list, and the sum of the numbers is calculated.\n",
    "\n",
    "**While Loop Example:**\n",
    "\n",
    "```python\n",
    "count = 0\n",
    "while count < 5:\n",
    "    print(f\"Count: {count}\")\n",
    "    count += 1\n",
    "```\n",
    "\n",
    "In this example, a `while` loop is used to print the value of `count` until it becomes equal to or greater than 5. The loop continues as long as the condition `count < 5` is `True`.\n",
    "\n",
    "In summary, the choice between a `for` loop and a `while` loop in Python depends on the specific task and whether you know the number of iterations in advance or need to repeat a task based on a condition."
   ]
  },
  {
   "cell_type": "code",
   "execution_count": 3,
   "id": "8f23b7ca",
   "metadata": {},
   "outputs": [
    {
     "data": {
      "text/plain": [
       "5050"
      ]
     },
     "execution_count": 3,
     "metadata": {},
     "output_type": "execute_result"
    }
   ],
   "source": [
    "# 3.Write a Python program to calculate the sum of all numbers from 1 to 100 using a for loop.\n",
    "start = 1\n",
    "end = 100\n",
    "sum(x for x in range(start, end+1))"
   ]
  },
  {
   "cell_type": "markdown",
   "id": "aa453d32",
   "metadata": {},
   "source": [
    "#"
   ]
  },
  {
   "cell_type": "markdown",
   "id": "1f84c173",
   "metadata": {},
   "source": [
    "**# 4.How do you iterate through a list using a for loop in Python?**\n",
    "\n",
    "To iterate through a list using a `for` loop in Python, you can follow these steps:\n",
    "\n",
    "1. **Create a List:** First, you need a list that you want to iterate through. You can define a list with square brackets and include the elements you want to iterate over.\n",
    "\n",
    "2. **Use the `for` Loop:** Use the `for` keyword to start a `for` loop. After `for`, you need to specify a variable name (often referred to as an iterator variable) that will take on the value of each element in the list during each iteration.\n",
    "\n",
    "3. **Specify the List:** After the iterator variable, use the `in` keyword followed by the name of the list you want to iterate through.\n",
    "\n",
    "4. **Indentation:** Indent the code block that you want to execute during each iteration. In Python, indentation is crucial for defining the scope of the loop.\n",
    "\n",
    "Here's the basic syntax for iterating through a list using a `for` loop:\n",
    "\n",
    "```python\n",
    "my_list = [item1, item2, item3, ...]\n",
    "\n",
    "for item in my_list:\n",
    "    # Code to be executed for each item in the list\n",
    "```\n",
    "\n",
    "Here's a concrete example:\n",
    "\n",
    "```python\n",
    "fruits = [\"apple\", \"banana\", \"cherry\", \"date\"]\n",
    "\n",
    "for fruit in fruits:\n",
    "    print(f\"I like {fruit}s\")\n",
    "```\n",
    "\n",
    "In this example, the `for` loop iterates through the `fruits` list, and during each iteration, the `fruit` variable takes on the value of the current element in the list. The indented code block inside the loop prints a message using the value of `fruit`.\n",
    "\n",
    "The output of the above code will be:\n",
    "\n",
    "```\n",
    "I like apples\n",
    "I like bananas\n",
    "I like cherries\n",
    "I like dates\n",
    "```\n",
    "\n",
    "You can replace the code inside the loop with any operations or tasks you want to perform on each item in the list. The `for` loop will continue until it has processed all the elements in the list.\n"
   ]
  },
  {
   "cell_type": "code",
   "execution_count": 11,
   "id": "4b878bfe",
   "metadata": {},
   "outputs": [
    {
     "data": {
      "text/plain": [
       "40320"
      ]
     },
     "execution_count": 11,
     "metadata": {},
     "output_type": "execute_result"
    }
   ],
   "source": [
    "# 5.Write a Python program to find the product of all elements in a list using a for loop.\n",
    "\n",
    "from functools import reduce\n",
    "ls = [x for x in range(1,9)] # list of 10 numbers \n",
    "\n",
    "reduce(lambda a,b :a*b, ls)\n"
   ]
  },
  {
   "cell_type": "code",
   "execution_count": 13,
   "id": "c759c549",
   "metadata": {},
   "outputs": [
    {
     "data": {
      "text/plain": [
       "[2, 4, 6, 8, 10, 12, 14, 16, 18, 20]"
      ]
     },
     "execution_count": 13,
     "metadata": {},
     "output_type": "execute_result"
    }
   ],
   "source": [
    "# 6.Create a Python program that prints all even numbers from 1 to 20 using a for loop.\n",
    "\n",
    "start = 1\n",
    "end = 20\n",
    "ls = [x for x in range(start, end+1)]\n",
    "\n",
    "list(filter(lambda x: x%2==0 , ls))"
   ]
  },
  {
   "cell_type": "code",
   "execution_count": 17,
   "id": "6d4d649c",
   "metadata": {},
   "outputs": [
    {
     "name": "stdout",
     "output_type": "stream",
     "text": [
      "Enter a number: 5\n",
      "The factorial of 5 is 120\n"
     ]
    }
   ],
   "source": [
    "# 7.Write a Python program that calculates the factorial of a number using a for loop.\n",
    "\n",
    "# Function to calculate the factorial of a number\n",
    "def factorial(n):\n",
    "    if n < 0:\n",
    "        return \"Factorial is not defined for negative numbers\"\n",
    "    elif n == 0:\n",
    "        return 1\n",
    "    else:\n",
    "        result = 1\n",
    "        for i in range(1, n + 1):\n",
    "            result *= i\n",
    "        return result\n",
    "\n",
    "# Input: Get the number from the user\n",
    "num = int(input(\"Enter a number: \"))\n",
    "\n",
    "# Calculate the factorial and print the result\n",
    "fact = factorial(num)\n",
    "print(f\"The factorial of {num} is {fact}\")"
   ]
  },
  {
   "cell_type": "code",
   "execution_count": 19,
   "id": "fc318ab7",
   "metadata": {},
   "outputs": [
    {
     "data": {
      "text/plain": [
       "['p', 'w', 's', 'k', 'i', 'l', 'l', 's']"
      ]
     },
     "execution_count": 19,
     "metadata": {},
     "output_type": "execute_result"
    }
   ],
   "source": [
    "# 8.How can you iterate through the characters of a string using a for loop in Python?\n",
    "sent = \"pwskills\"\n",
    "[x for x in sent]"
   ]
  },
  {
   "cell_type": "code",
   "execution_count": 24,
   "id": "2b63d0a5",
   "metadata": {},
   "outputs": [
    {
     "name": "stdout",
     "output_type": "stream",
     "text": [
      "Genrated list: [17, 48, 48, 45, 7, 74, 68, 30, 27, 39]\n",
      "max number in given list: 74\n"
     ]
    }
   ],
   "source": [
    "# 9.Write a Python program to find the largest number in a list using a for loop.\n",
    "\n",
    "import random\n",
    "ls = [random.randint(1,100) for x in range(1,11)]\n",
    "print(\"Genrated list:\", ls)\n",
    "max_ = ls[0]\n",
    "\n",
    "for i in ls:\n",
    "    if i > max_:\n",
    "        max_ = i\n",
    "        \n",
    "print(\"max number in given list:\", max_)"
   ]
  },
  {
   "cell_type": "code",
   "execution_count": 27,
   "id": "ab913d5b",
   "metadata": {},
   "outputs": [
    {
     "name": "stdout",
     "output_type": "stream",
     "text": [
      "Enter limit: 5\n",
      "Fibonacci series [0, 1, 1, 2, 3, 5] till 5\n"
     ]
    }
   ],
   "source": [
    "# 10.Create a Python program that prints the Fibonacci sequence up to a specified limit using a for loop.\n",
    "\n",
    "def fibonacci(limit):\n",
    "    fibo_squence = []\n",
    "    a,b = 0, 1\n",
    "    \n",
    "    while a <= limit:\n",
    "        fibo_squence.append(a)\n",
    "        a,b = b, a+b\n",
    "    \n",
    "    return fibo_squence\n",
    "\n",
    "limit = int(input(\"Enter limit: \"))\n",
    "\n",
    "print(f\"Fibonacci series {fibonacci(limit)} till {limit}\")\n"
   ]
  },
  {
   "cell_type": "code",
   "execution_count": 29,
   "id": "282825a6",
   "metadata": {},
   "outputs": [
    {
     "name": "stdout",
     "output_type": "stream",
     "text": [
      "enter string:pw skills\n"
     ]
    },
    {
     "data": {
      "text/plain": [
       "1"
      ]
     },
     "execution_count": 29,
     "metadata": {},
     "output_type": "execute_result"
    }
   ],
   "source": [
    "# 11.Write a Python program to count the number of vowels in a given string using a for loop.\n",
    "vowels = \"aeiou\"\n",
    "\n",
    "sent = input(\"enter string:\")\n",
    "\n",
    "sum(1 for x in sent if x in vowels)"
   ]
  },
  {
   "cell_type": "code",
   "execution_count": 31,
   "id": "d01bde55",
   "metadata": {},
   "outputs": [
    {
     "name": "stdout",
     "output_type": "stream",
     "text": [
      "Enter number: 3\n",
      "multiplication table for a 3\n",
      "3  *  1  =  3\n",
      "3  *  2  =  6\n",
      "3  *  3  =  9\n",
      "3  *  4  =  12\n",
      "3  *  5  =  15\n",
      "3  *  6  =  18\n",
      "3  *  7  =  21\n",
      "3  *  8  =  24\n",
      "3  *  9  =  27\n",
      "3  *  10  =  30\n"
     ]
    }
   ],
   "source": [
    "# 12.Create a Python program that generates a multiplication table for a given number using a for loop.\n",
    "\n",
    "n = int(input(\"Enter number: \"))\n",
    "print(f\"multiplication table for a {n}\")\n",
    "for i in range(1,11):\n",
    "    print(n, \" * \", i, \" = \", n*i)"
   ]
  },
  {
   "cell_type": "code",
   "execution_count": 35,
   "id": "ef6271a0",
   "metadata": {},
   "outputs": [
    {
     "name": "stdout",
     "output_type": "stream",
     "text": [
      "Original List: [1, 2, 3, 4, 5]\n",
      "Reversed List: [5, 4, 3, 2, 1]\n"
     ]
    }
   ],
   "source": [
    "# 13.Write a Python program to reverse a list using a for loop.\n",
    "\n",
    "# Function to reverse a list using a for loop\n",
    "def reverse_list(input_list):\n",
    "    reversed_list = []\n",
    "\n",
    "    # Iterate through the input list in reverse order\n",
    "    for item in input_list[::-1]:\n",
    "        reversed_list.append(item)\n",
    "\n",
    "    return reversed_list\n",
    "\n",
    "# Sample list to be reversed\n",
    "original_list = [1, 2, 3, 4, 5]\n",
    "\n",
    "# Call the function to reverse the list\n",
    "reversed_result = reverse_list(original_list)\n",
    "\n",
    "# Print the reversed list\n",
    "print(\"Original List:\", original_list)\n",
    "print(\"Reversed List:\", reversed_result)\n"
   ]
  },
  {
   "cell_type": "code",
   "execution_count": 38,
   "id": "336aed02",
   "metadata": {},
   "outputs": [
    {
     "name": "stdout",
     "output_type": "stream",
     "text": [
      "list of common elements between list: [2, 4, 5]\n"
     ]
    }
   ],
   "source": [
    "# 14.Write a Python program to find the common elements between two lists using a for loop.\n",
    "\n",
    "ls1 = [5, 4, 3, 2, 1]\n",
    "ls2 = [2, 4, 5, 7, 8, 9]\n",
    "\n",
    "print(\"list of common elements between list:\" ,[i for i in ls2 if i in ls1])        "
   ]
  },
  {
   "cell_type": "code",
   "execution_count": 42,
   "id": "73965d54",
   "metadata": {},
   "outputs": [
    {
     "name": "stdout",
     "output_type": "stream",
     "text": [
      "Key: course  Value: DS pro\n",
      "Key: provider  Value: pw skills\n"
     ]
    }
   ],
   "source": [
    "# 15.Explain how to use a for loop to iterate through the keys and values of a dictionary in Python.\n",
    "\n",
    "sample_dix = {\"course\": \"DS pro\", \"provider\": \"pw skills\"}\n",
    "\n",
    "for key, value in sample_dix.items():\n",
    "    print(f\"Key: {key}  Value: {value}\")"
   ]
  },
  {
   "cell_type": "code",
   "execution_count": 48,
   "id": "4819952d",
   "metadata": {},
   "outputs": [
    {
     "name": "stdout",
     "output_type": "stream",
     "text": [
      "Enter the first number: 34\n",
      "Enter the second number: 3\n",
      "The GCD of 34 and 3 is 1\n"
     ]
    }
   ],
   "source": [
    "# 16.Write a Python program to find the GCD (Greatest Common Divisor) of two numbers using a for loop.\n",
    "\n",
    "\n",
    "def GCD(a,b):\n",
    "    while b:\n",
    "        a,b = b, a%b\n",
    "        \n",
    "    return a\n",
    "\n",
    "# Input: Get the two numbers from the user\n",
    "num1 = int(input(\"Enter the first number: \"))\n",
    "num2 = int(input(\"Enter the second number: \"))\n",
    "\n",
    "# Calculate the GCD using the find_gcd function\n",
    "gcd = GCD(num1, num2)\n",
    "\n",
    "# Print the GCD\n",
    "print(f\"The GCD of {num1} and {num2} is {gcd}\")"
   ]
  },
  {
   "cell_type": "code",
   "execution_count": 52,
   "id": "fe081f21",
   "metadata": {},
   "outputs": [
    {
     "name": "stdout",
     "output_type": "stream",
     "text": [
      "Enter a string: pw\n",
      "pw is not a palindrome.\n"
     ]
    }
   ],
   "source": [
    "# 17.Create a Python program that checks if a string is a palindrome using a for loop.\n",
    "\n",
    "# Function to check if a string is a palindrome\n",
    "def is_palindrome(input_string):\n",
    "    # Remove spaces and convert to lowercase for accurate palindrome check\n",
    "    cleaned_string = input_string.replace(\" \", \"\").lower()\n",
    "    \n",
    "    # Initialize indices for the first and last characters of the string\n",
    "    start = 0\n",
    "    end = len(cleaned_string) - 1\n",
    "    \n",
    "    # Iterate through the string using a for loop\n",
    "    while start < end:\n",
    "        if cleaned_string[start] != cleaned_string[end]:\n",
    "            return False  # If characters don't match, it's not a palindrome\n",
    "        start += 1\n",
    "        end -= 1\n",
    "    \n",
    "    return True  # If the loop completes without returning False, it's a palindrome\n",
    "\n",
    "# Input: Get the string from the user\n",
    "user_input = input(\"Enter a string: \")\n",
    "\n",
    "# Check if the input string is a palindrome\n",
    "if is_palindrome(user_input):\n",
    "    print(f\"{user_input} is a palindrome.\")\n",
    "else:\n",
    "    print(f\"{user_input} is not a palindrome.\")\n"
   ]
  },
  {
   "cell_type": "code",
   "execution_count": 54,
   "id": "c80e7faa",
   "metadata": {},
   "outputs": [
    {
     "data": {
      "text/plain": [
       "[1, 2, 3, 4, 53, 5, 6]"
      ]
     },
     "execution_count": 54,
     "metadata": {},
     "output_type": "execute_result"
    }
   ],
   "source": [
    "# 18.Write a Python program to remove duplicates from a list using a for loop.\n",
    "     \n",
    "ls = [1,2,3,4,53,4,5,6]\n",
    "\n",
    "seen = []\n",
    "for i in ls:\n",
    "    if i not in seen:\n",
    "        seen.append(i)\n",
    "seen"
   ]
  },
  {
   "cell_type": "code",
   "execution_count": 55,
   "id": "a1035ea3",
   "metadata": {},
   "outputs": [
    {
     "name": "stdout",
     "output_type": "stream",
     "text": [
      "Enter a sentence: pw skills\n",
      "The sentence contains 2 words.\n"
     ]
    }
   ],
   "source": [
    "# 19.Create a Python program that counts the number of words in a sentence using a for loop.\n",
    "\n",
    "# Function to count the number of words in a sentence\n",
    "def count_words(sentence):\n",
    "    words = sentence.split()  # Split the sentence into words using whitespace as the delimiter\n",
    "    word_count = sum(1 for x in words) # Count the number of words\n",
    "    return word_count\n",
    "\n",
    "# Input: Get the sentence from the user\n",
    "user_input = input(\"Enter a sentence: \")\n",
    "\n",
    "# Call the function to count the words\n",
    "num_words = count_words(user_input)\n",
    "\n",
    "# Print the word count\n",
    "print(f\"The sentence contains {num_words} words.\")\n"
   ]
  },
  {
   "cell_type": "code",
   "execution_count": 59,
   "id": "07ae097a",
   "metadata": {},
   "outputs": [
    {
     "data": {
      "text/plain": [
       "625"
      ]
     },
     "execution_count": 59,
     "metadata": {},
     "output_type": "execute_result"
    }
   ],
   "source": [
    "# 20.Write a Python program to find the sum of all odd numbers from 1 to 50 using a for loop.\n",
    "\n",
    "start = 1\n",
    "end = 50\n",
    "\n",
    "sum(x for x in range(start, end+1) if x % 2 != 0)"
   ]
  },
  {
   "cell_type": "code",
   "execution_count": 60,
   "id": "e2f4c620",
   "metadata": {},
   "outputs": [
    {
     "name": "stdout",
     "output_type": "stream",
     "text": [
      "Enter a year: 2016\n",
      "2016 is a leap year.\n"
     ]
    }
   ],
   "source": [
    "# 21.Write a Python program that checks if a given year is a leap year using a for loop.\n",
    "\n",
    "# Function to check if a year is a leap year\n",
    "def is_leap_year(year):\n",
    "    if (year % 4 == 0 and year % 100 != 0) or (year % 400 == 0):\n",
    "        return True\n",
    "    else:\n",
    "        return False\n",
    "\n",
    "# Input: Get the year from the user\n",
    "year = int(input(\"Enter a year: \"))\n",
    "\n",
    "# Check if the year is a leap year\n",
    "if is_leap_year(year):\n",
    "    print(f\"{year} is a leap year.\")\n",
    "else:\n",
    "    print(f\"{year} is not a leap year.\")\n"
   ]
  },
  {
   "cell_type": "code",
   "execution_count": 137,
   "id": "07f9f667",
   "metadata": {},
   "outputs": [
    {
     "name": "stdout",
     "output_type": "stream",
     "text": [
      "Enter a number: 12\n",
      "The square root of 12.0 is approximately 3.4641016151377544\n"
     ]
    }
   ],
   "source": [
    "# 22.Create a Python program that calculates the square root of a number using a for loop.\n",
    "\n",
    "\n",
    "def square_root(number, num_iterations=100):\n",
    "    if number < 0:\n",
    "        raise ValueError(\"Cannot calculate the square root of a negative number.\")\n",
    "    \n",
    "    guess = number / 2  # Initial guess, often a reasonable starting point\n",
    "\n",
    "    for _ in range(num_iterations):\n",
    "        guess = 0.5 * (guess + (number / guess))\n",
    "    \n",
    "    return guess\n",
    "\n",
    "# Input: Get the number for which you want to calculate the square root\n",
    "num = float(input(\"Enter a number: \"))\n",
    "\n",
    "# Calculate the square root using the square_root function\n",
    "result = square_root(num)\n",
    "\n",
    "# Output the result\n",
    "print(f\"The square root of {num} is approximately {result}\")\n"
   ]
  },
  {
   "cell_type": "code",
   "execution_count": 62,
   "id": "9ad91d2a",
   "metadata": {},
   "outputs": [
    {
     "name": "stdout",
     "output_type": "stream",
     "text": [
      "Enter the first number: 2\n",
      "Enter the second number: 12\n",
      "The LCM of 2 and 12 is 12\n"
     ]
    }
   ],
   "source": [
    "# 23.Write a Python program to find the LCM (Least Common Multiple) of two numbers using a for loop.\n",
    "\n",
    "# Function to find the Greatest Common Divisor (GCD) of two numbers\n",
    "def find_gcd(a, b):\n",
    "    while b:\n",
    "        a, b = b, a % b\n",
    "    return a\n",
    "\n",
    "# Function to find the LCM of two numbers\n",
    "def find_lcm(x, y):\n",
    "    # Calculate the LCM using the GCD formula: LCM = (x * y) / GCD(x, y)\n",
    "    lcm = (x * y) // find_gcd(x, y)\n",
    "    return lcm\n",
    "\n",
    "# Input: Get the two numbers from the user\n",
    "num1 = int(input(\"Enter the first number: \"))\n",
    "num2 = int(input(\"Enter the second number: \"))\n",
    "\n",
    "# Calculate the LCM using the find_lcm function\n",
    "lcm = find_lcm(num1, num2)\n",
    "\n",
    "# Print the LCM\n",
    "print(f\"The LCM of {num1} and {num2} is {lcm}\")"
   ]
  },
  {
   "cell_type": "markdown",
   "id": "890e46dd",
   "metadata": {},
   "source": [
    "# If else"
   ]
  },
  {
   "cell_type": "code",
   "execution_count": 199,
   "id": "ed571adf",
   "metadata": {},
   "outputs": [
    {
     "name": "stdout",
     "output_type": "stream",
     "text": [
      "Enter a number:0\n",
      "Zero\n"
     ]
    }
   ],
   "source": [
    "# 1.Write a Python program to check if a number is positive, negative, or zero using an if-else statement.\n",
    "\n",
    "number = float(input(\"Enter a number:\"))\n",
    "\n",
    "if number == 0:\n",
    "    print(\"Zero\")\n",
    "elif number > 0:\n",
    "    print(\"positive number\")\n",
    "else:\n",
    "    print(\"negative number\")"
   ]
  },
  {
   "cell_type": "code",
   "execution_count": 205,
   "id": "b80dc3ce",
   "metadata": {},
   "outputs": [
    {
     "name": "stdout",
     "output_type": "stream",
     "text": [
      "Enter a number:2\n",
      "even number\n"
     ]
    }
   ],
   "source": [
    "# 2.Create a Python program that checks if a given number is even or odd using an if-else statement.\n",
    "\n",
    "number = float(input(\"Enter a number:\"))\n",
    "\n",
    "if number%2 == 0:\n",
    "    print(\"even number\")\n",
    "else:\n",
    "    print(\"odd number\")\n"
   ]
  },
  {
   "cell_type": "code",
   "execution_count": 206,
   "id": "328ff911",
   "metadata": {},
   "outputs": [
    {
     "name": "stdout",
     "output_type": "stream",
     "text": [
      "Enter the student's score: 56\n",
      "The student's grade is: F\n"
     ]
    }
   ],
   "source": [
    "# 3.How can you use nested if-else statements in Python, and provide an example?\n",
    "\n",
    "# Input the student's score\n",
    "score = int(input(\"Enter the student's score: \"))\n",
    "\n",
    "# Nested if-else statements to determine the grade\n",
    "if score >= 90:\n",
    "    grade = 'A'\n",
    "else:\n",
    "    if score >= 80:\n",
    "        grade = 'B'\n",
    "    else:\n",
    "        if score >= 70:\n",
    "            grade = 'C'\n",
    "        else:\n",
    "            if score >= 60:\n",
    "                grade = 'D'\n",
    "            else:\n",
    "                grade = 'F'\n",
    "\n",
    "# Output the grade\n",
    "print(f\"The student's grade is: {grade}\")\n",
    "\n"
   ]
  },
  {
   "cell_type": "code",
   "execution_count": 210,
   "id": "78096ab9",
   "metadata": {},
   "outputs": [
    {
     "name": "stdout",
     "output_type": "stream",
     "text": [
      "113\n"
     ]
    }
   ],
   "source": [
    "# 4.Write a Python program to determine the largest of three numbers using if-else.\n",
    "\n",
    "a = 10\n",
    "b = 51\n",
    "c = 113\n",
    "\n",
    "if a>b:\n",
    "    if b>c:\n",
    "        print(a)\n",
    "    elif c>a:\n",
    "        print(c)\n",
    "else:\n",
    "    if a>c:\n",
    "        print(b)\n",
    "    elif c>b:\n",
    "        print(c) "
   ]
  },
  {
   "cell_type": "code",
   "execution_count": 216,
   "id": "edb8e3bf",
   "metadata": {},
   "outputs": [
    {
     "name": "stdout",
     "output_type": "stream",
     "text": [
      "Enter a number:-11\n",
      "11.0\n"
     ]
    }
   ],
   "source": [
    "# 5.Write a Python program that calculates the absolute value of a number using if-else.\n",
    "\n",
    "number = float(input(\"Enter a number:\"))\n",
    "\n",
    "\n",
    "if number >= 0:\n",
    "    print(f\"{number}\")\n",
    "else:\n",
    "    print(f\"{-number}\")"
   ]
  },
  {
   "cell_type": "code",
   "execution_count": 224,
   "id": "2b60db81",
   "metadata": {},
   "outputs": [
    {
     "name": "stdout",
     "output_type": "stream",
     "text": [
      "Enter a character:i\n",
      "vowel\n"
     ]
    }
   ],
   "source": [
    "# 6.Create a Python program that checks if a given character is a vowel or consonant using if-else.\n",
    "\n",
    "vowels = \"aeiou\"\n",
    "char = input(\"Enter a character:\").lower()\n",
    "\n",
    "if char in vowels:\n",
    "    print(\"vowel\")\n",
    "else:\n",
    "    print(\"consonant\")"
   ]
  },
  {
   "cell_type": "code",
   "execution_count": 229,
   "id": "ee98f15c",
   "metadata": {},
   "outputs": [
    {
     "name": "stdout",
     "output_type": "stream",
     "text": [
      "Enter a number:-3\n",
      "Not eligible\n"
     ]
    }
   ],
   "source": [
    "# 7.Write a Python program to determine if a user is eligible to vote based on their age using if-else.\n",
    "\n",
    "age = abs(float(input(\"Enter a number:\")))\n",
    "\n",
    "if age < 18:\n",
    "    print(\"Not eligible\")\n",
    "else:\n",
    "    print(\"Eligible\")"
   ]
  },
  {
   "cell_type": "code",
   "execution_count": 230,
   "id": "ad62623b",
   "metadata": {},
   "outputs": [
    {
     "name": "stdout",
     "output_type": "stream",
     "text": [
      "Enter the purchase amount: $12\n",
      "Purchase Amount: $12.00\n",
      "Discount Rate: 0%\n",
      "Discount Amount: $0.00\n",
      "Final Amount: $12.00\n"
     ]
    }
   ],
   "source": [
    "# 8.Create a Python program that calculates the discount amount based on the purchase amount using if-else.\n",
    "\n",
    "# Input the purchase amount\n",
    "purchase_amount = float(input(\"Enter the purchase amount: $\"))\n",
    "\n",
    "# Initialize discount rate\n",
    "discount_rate = 0\n",
    "\n",
    "# Determine the discount rate based on the purchase amount\n",
    "if purchase_amount >= 100:\n",
    "    discount_rate = 0.1  # 10% discount for purchases of $100 or more\n",
    "elif purchase_amount >= 50:\n",
    "    discount_rate = 0.05  # 5% discount for purchases between $50 and $99.99\n",
    "\n",
    "# Calculate the discount amount\n",
    "discount_amount = purchase_amount * discount_rate\n",
    "\n",
    "# Calculate the final amount after applying the discount\n",
    "final_amount = purchase_amount - discount_amount\n",
    "\n",
    "# Output the results\n",
    "print(f\"Purchase Amount: ${purchase_amount:.2f}\")\n",
    "print(f\"Discount Rate: {discount_rate * 100:.0f}%\")\n",
    "print(f\"Discount Amount: ${discount_amount:.2f}\")\n",
    "print(f\"Final Amount: ${final_amount:.2f}\")\n"
   ]
  },
  {
   "cell_type": "code",
   "execution_count": 231,
   "id": "decc4973",
   "metadata": {},
   "outputs": [
    {
     "name": "stdout",
     "output_type": "stream",
     "text": [
      "Enter a number: 12\n",
      "12.0 is within the range [10, 50]\n"
     ]
    }
   ],
   "source": [
    "# 9.Write a Python program to check if a number is within a specified range using if-else.\n",
    "\n",
    "# Input the number to check\n",
    "number = float(input(\"Enter a number: \"))\n",
    "\n",
    "# Define the specified range\n",
    "lower_limit = 10\n",
    "upper_limit = 50\n",
    "\n",
    "# Check if the number is within the specified range using if-else statements\n",
    "if number >= lower_limit and number <= upper_limit:\n",
    "    print(f\"{number} is within the range [{lower_limit}, {upper_limit}]\")\n",
    "else:\n",
    "    print(f\"{number} is not within the range [{lower_limit}, {upper_limit}]\")\n"
   ]
  },
  {
   "cell_type": "code",
   "execution_count": 232,
   "id": "3a12b089",
   "metadata": {},
   "outputs": [
    {
     "name": "stdout",
     "output_type": "stream",
     "text": [
      "Enter the student's score: 82\n",
      "The student's grade is: B\n"
     ]
    }
   ],
   "source": [
    "# 10.Create a Python program that determines the grade of a student based on their score using if-else.\n",
    "\n",
    "\n",
    "# Input the student's score\n",
    "score = int(input(\"Enter the student's score: \"))\n",
    "\n",
    "# Nested if-else statements to determine the grade\n",
    "if score >= 90:\n",
    "    grade = 'A'\n",
    "else:\n",
    "    if score >= 80:\n",
    "        grade = 'B'\n",
    "    else:\n",
    "        if score >= 70:\n",
    "            grade = 'C'\n",
    "        else:\n",
    "            if score >= 60:\n",
    "                grade = 'D'\n",
    "            else:\n",
    "                grade = 'F'\n",
    "\n",
    "# Output the grade\n",
    "print(f\"The student's grade is: {grade}\")\n"
   ]
  },
  {
   "cell_type": "code",
   "execution_count": 233,
   "id": "d5346c30",
   "metadata": {},
   "outputs": [
    {
     "name": "stdout",
     "output_type": "stream",
     "text": [
      "Enter a string: \n",
      "The string is empty.\n"
     ]
    }
   ],
   "source": [
    "# 11.Write a Python program to check if a string is empty or not using if-else.\n",
    "\n",
    "# Input a string\n",
    "input_string = input(\"Enter a string: \")\n",
    "\n",
    "# Check if the string is empty or not using if-else statements\n",
    "if not input_string:\n",
    "    print(\"The string is empty.\")\n",
    "else:\n",
    "    print(\"The string is not empty.\")\n"
   ]
  },
  {
   "cell_type": "code",
   "execution_count": 236,
   "id": "db7e5dd2",
   "metadata": {},
   "outputs": [
    {
     "name": "stdout",
     "output_type": "stream",
     "text": [
      "Enter the length of the first side: 1\n",
      "Enter the length of the second side: 1\n",
      "Enter the length of the third side: 1\n",
      "The triangle is equilateral.\n"
     ]
    }
   ],
   "source": [
    "# 12.Create a Python program that identifies the type of a triangle (e.g., equilateral, isosceles, or scalene) based on input values using if-else.\n",
    "\n",
    "# Input the lengths of the three sides of the triangle\n",
    "side1 = float(input(\"Enter the length of the first side: \"))\n",
    "side2 = float(input(\"Enter the length of the second side: \"))\n",
    "side3 = float(input(\"Enter the length of the third side: \"))\n",
    "\n",
    "# Check and identify the type of triangle using if-else statements\n",
    "if side1 == side2 == side3:\n",
    "    triangle_type = \"equilateral\"\n",
    "elif side1 == side2 or side2 == side3 or side1 == side3:\n",
    "    triangle_type = \"isosceles\"\n",
    "else:\n",
    "    triangle_type = \"scalene\"\n",
    "\n",
    "# Output the type of triangle\n",
    "print(f\"The triangle is {triangle_type}.\")\n"
   ]
  },
  {
   "cell_type": "code",
   "execution_count": 239,
   "id": "6e5bb82f",
   "metadata": {},
   "outputs": [
    {
     "name": "stdout",
     "output_type": "stream",
     "text": [
      "Enter a number (1-7) representing the day of the week: 4\n",
      "The day corresponding to 4 is Wednesday.\n"
     ]
    }
   ],
   "source": [
    "# 13.Write a Python program to determine the day of the week based on a user-provided number using if-else.\n",
    "\n",
    "# Input a number representing the day of the week\n",
    "day_number = int(input(\"Enter a number (1-7) representing the day of the week: \"))\n",
    "\n",
    "# Determine the day of the week using if-else statements\n",
    "if day_number == 1:\n",
    "    day_name = \"Sunday\"\n",
    "elif day_number == 2:\n",
    "    day_name = \"Monday\"\n",
    "elif day_number == 3:\n",
    "    day_name = \"Tuesday\"\n",
    "elif day_number == 4:\n",
    "    day_name = \"Wednesday\"\n",
    "elif day_number == 5:\n",
    "    day_name = \"Thursday\"\n",
    "elif day_number == 6:\n",
    "    day_name = \"Friday\"\n",
    "elif day_number == 7:\n",
    "    day_name = \"Saturday\"\n",
    "else:\n",
    "    day_name = \"Invalid input\"\n",
    "\n",
    "# Output the day of the week or an error message\n",
    "print(f\"The day corresponding to {day_number} is {day_name}.\")\n"
   ]
  },
  {
   "cell_type": "code",
   "execution_count": 242,
   "id": "e47f45fe",
   "metadata": {},
   "outputs": [
    {
     "name": "stdout",
     "output_type": "stream",
     "text": [
      "Enter a year: 2023\n",
      "2023 is not a leap year.\n"
     ]
    }
   ],
   "source": [
    "# 14.Create a Python program that checks if a given year is a leap year using both if-else and a function.\n",
    "\n",
    "# Function to check if a year is a leap year\n",
    "def is_leap_year(year):\n",
    "    return (year % 4 == 0 and year % 100 != 0) or (year % 400 == 0)\n",
    "\n",
    "# Input the year from the user\n",
    "year = int(input(\"Enter a year: \"))\n",
    "\n",
    "# Check if it's a leap year using the is_leap_year function\n",
    "if is_leap_year(year):\n",
    "    print(f\"{year} is a leap year.\")\n",
    "else:\n",
    "    print(f\"{year} is not a leap year.\")\n"
   ]
  },
  {
   "cell_type": "code",
   "execution_count": 244,
   "id": "39e90961",
   "metadata": {},
   "outputs": [
    {
     "ename": "AssertionError",
     "evalue": "x should be less than 10",
     "output_type": "error",
     "traceback": [
      "\u001b[1;31m---------------------------------------------------------------------------\u001b[0m",
      "\u001b[1;31mAssertionError\u001b[0m                            Traceback (most recent call last)",
      "Cell \u001b[1;32mIn[244], line 6\u001b[0m\n\u001b[0;32m      3\u001b[0m x \u001b[38;5;241m=\u001b[39m \u001b[38;5;241m51\u001b[39m\n\u001b[0;32m      5\u001b[0m \u001b[38;5;28;01mif\u001b[39;00m x \u001b[38;5;241m>\u001b[39m \u001b[38;5;241m0\u001b[39m:\n\u001b[1;32m----> 6\u001b[0m     \u001b[38;5;28;01massert\u001b[39;00m x \u001b[38;5;241m<\u001b[39m \u001b[38;5;241m10\u001b[39m, \u001b[38;5;124m\"\u001b[39m\u001b[38;5;124mx should be less than 10\u001b[39m\u001b[38;5;124m\"\u001b[39m\n\u001b[0;32m      7\u001b[0m     \u001b[38;5;28mprint\u001b[39m(\u001b[38;5;124m\"\u001b[39m\u001b[38;5;124mx is within the valid range.\u001b[39m\u001b[38;5;124m\"\u001b[39m)\n\u001b[0;32m      8\u001b[0m \u001b[38;5;28;01melse\u001b[39;00m:\n",
      "\u001b[1;31mAssertionError\u001b[0m: x should be less than 10"
     ]
    }
   ],
   "source": [
    "# 15.How do you use the \"assert\" statement in Python to add debugging checks within if-else blocks?\n",
    "\n",
    "x = 51\n",
    "\n",
    "if x > 0:\n",
    "    assert x < 10, \"x should be less than 10\"\n",
    "    print(\"x is within the valid range.\")\n",
    "else:\n",
    "    print(\"x is not greater than 0.\")\n",
    "\n",
    "print(\"Program continues...\")\n"
   ]
  },
  {
   "cell_type": "code",
   "execution_count": 245,
   "id": "9b51dff1",
   "metadata": {},
   "outputs": [
    {
     "name": "stdout",
     "output_type": "stream",
     "text": [
      "Enter the person's age: 51\n",
      "The person is not eligible for a senior citizen discount.\n"
     ]
    }
   ],
   "source": [
    "# 16.Create a Python program that determines the eligibility of a person for a senior citizen discount based on age using if-else.\n",
    "\n",
    "# Input the person's age\n",
    "age = int(input(\"Enter the person's age: \"))\n",
    "\n",
    "# Check eligibility for a senior citizen discount using if-else statements\n",
    "if age >= 60:\n",
    "    eligibility = \"eligible\"\n",
    "else:\n",
    "    eligibility = \"not eligible\"\n",
    "\n",
    "# Output the eligibility status\n",
    "print(f\"The person is {eligibility} for a senior citizen discount.\")\n"
   ]
  },
  {
   "cell_type": "code",
   "execution_count": 248,
   "id": "7f833f7d",
   "metadata": {},
   "outputs": [
    {
     "name": "stdout",
     "output_type": "stream",
     "text": [
      "Enter a character: 1\n",
      "The character '1' is neither uppercase nor lowercase.\n"
     ]
    }
   ],
   "source": [
    "# 17.Write a Python program to categorize a given character as uppercase, lowercase, or neither using if-else.\n",
    "\n",
    "# Input a character from the user\n",
    "char = input(\"Enter a character: \")\n",
    "\n",
    "# Check and categorize the character using if-else statements\n",
    "if char.isupper():\n",
    "    category = \"uppercase\"\n",
    "elif char.islower():\n",
    "    category = \"lowercase\"\n",
    "else:\n",
    "    category = \"neither uppercase nor lowercase\"\n",
    "\n",
    "# Output the category\n",
    "print(f\"The character '{char}' is {category}.\")\n"
   ]
  },
  {
   "cell_type": "code",
   "execution_count": 249,
   "id": "79f24c2f",
   "metadata": {},
   "outputs": [
    {
     "name": "stdout",
     "output_type": "stream",
     "text": [
      "Enter coefficient 'a': 1\n",
      "Enter coefficient 'b': 23\n",
      "Enter coefficient 'c': 3\n",
      "Root 1: -0.13118299909792697\n",
      "Root 2: -22.868817000902073\n"
     ]
    }
   ],
   "source": [
    "# 18.\tWrite a Python program to determine the roots of a quadratic equation using if-else.\n",
    "\n",
    "import math\n",
    "\n",
    "# Input coefficients a, b, and c from the user\n",
    "a = float(input(\"Enter coefficient 'a': \"))\n",
    "b = float(input(\"Enter coefficient 'b': \"))\n",
    "c = float(input(\"Enter coefficient 'c': \"))\n",
    "\n",
    "# Calculate the discriminant (the value inside the square root)\n",
    "discriminant = b**2 - 4*a*c\n",
    "\n",
    "# Check if the discriminant is positive, negative, or zero using if-else statements\n",
    "if discriminant > 0:\n",
    "    # Two real and distinct roots\n",
    "    root1 = (-b + math.sqrt(discriminant)) / (2*a)\n",
    "    root2 = (-b - math.sqrt(discriminant)) / (2*a)\n",
    "    print(f\"Root 1: {root1}\")\n",
    "    print(f\"Root 2: {root2}\")\n",
    "elif discriminant == 0:\n",
    "    # One real root (repeated)\n",
    "    root = -b / (2*a)\n",
    "    print(f\"Root: {root}\")\n",
    "else:\n",
    "    # Complex roots (no real roots)\n",
    "    real_part = -b / (2*a)\n",
    "    imaginary_part = math.sqrt(abs(discriminant)) / (2*a)\n",
    "    print(f\"Root 1: {real_part} + {imaginary_part}i\")\n",
    "    print(f\"Root 2: {real_part} - {imaginary_part}i\")\n"
   ]
  },
  {
   "cell_type": "code",
   "execution_count": 251,
   "id": "e11bff00",
   "metadata": {},
   "outputs": [
    {
     "name": "stdout",
     "output_type": "stream",
     "text": [
      "Enter a year: 2020\n",
      "2020 is not a century year.\n"
     ]
    }
   ],
   "source": [
    "# 19.Create a Python program that checks if a given year is a century year or not using if-else.\n",
    "# Input the year from the user\n",
    "year = int(input(\"Enter a year: \"))\n",
    "\n",
    "# Check if it's a century year or not using if-else statements\n",
    "if year % 100 == 0:\n",
    "    is_century_year = True\n",
    "else:\n",
    "    is_century_year = False\n",
    "\n",
    "# Output the result\n",
    "if is_century_year:\n",
    "    print(f\"{year} is a century year.\")\n",
    "else:\n",
    "    print(f\"{year} is not a century year.\")\n"
   ]
  },
  {
   "cell_type": "code",
   "execution_count": 256,
   "id": "6adec507",
   "metadata": {},
   "outputs": [
    {
     "name": "stdout",
     "output_type": "stream",
     "text": [
      "25 is a perfect square.\n"
     ]
    }
   ],
   "source": [
    "# 20.Write a Python program to determine if a given number is a perfect square using if-else.\n",
    "\n",
    "def perfect_square(n, s=1):\n",
    "    if n == s**2:\n",
    "        return True\n",
    "    if n < s**2:\n",
    "        return False\n",
    "    else:\n",
    "        return perfect_square(n, s+1)\n",
    "    \n",
    "# Test the function with an example\n",
    "n = 25\n",
    "if perfect_square(n):\n",
    "    print(f\"{n} is a perfect square.\")\n",
    "else:\n",
    "    print(f\"{n} is not a perfect square.\")\n"
   ]
  },
  {
   "cell_type": "markdown",
   "id": "1b06749a",
   "metadata": {},
   "source": [
    "#"
   ]
  },
  {
   "cell_type": "markdown",
   "id": "b28164f9",
   "metadata": {},
   "source": [
    "**# 21.Explain the purpose of the \"continue\" and \"break\" statements within if-else loops.**\n",
    "\n",
    "The \"continue\" and \"break\" statements are control flow statements used within loops (including for loops, while loops, and nested loops) to modify the execution of the loop and control the flow of the program.\n",
    "\n",
    "1. **Continue Statement:**\n",
    "   - The \"continue\" statement is used to skip the current iteration of a loop and move to the next iteration.\n",
    "   - When a \"continue\" statement is encountered, the remaining code within the current iteration is skipped, and the loop's control returns to the beginning of the loop for the next iteration.\n",
    "   - \"continue\" is typically used when you want to skip certain iterations of a loop based on a specific condition without terminating the loop entirely.\n",
    "\n",
    "   Example of \"continue\" in a for loop:\n",
    "   ```python\n",
    "   for i in range(1, 6):\n",
    "       if i == 3:\n",
    "           continue  # Skip the current iteration when i is 3\n",
    "       print(i)\n",
    "   ```\n",
    "   Output:\n",
    "   ```\n",
    "   1\n",
    "   2\n",
    "   4\n",
    "   5\n",
    "   ```\n",
    "\n",
    "2. **Break Statement:**\n",
    "   - The \"break\" statement is used to exit the loop prematurely when a certain condition is met.\n",
    "   - When a \"break\" statement is encountered, the loop in which it appears is terminated immediately, and the program continues executing the code after the loop.\n",
    "   - \"break\" is often used when you want to exit a loop early based on a specific condition, such as finding a desired item or reaching a stopping condition.\n",
    "\n",
    "   Example of \"break\" in a while loop:\n",
    "   ```python\n",
    "   i = 1\n",
    "   while i <= 5:\n",
    "       if i == 3:\n",
    "           break  # Exit the loop when i is 3\n",
    "       print(i)\n",
    "       i += 1\n",
    "   ```\n",
    "   Output:\n",
    "   ```\n",
    "   1\n",
    "   2\n",
    "   ```\n"
   ]
  },
  {
   "cell_type": "code",
   "execution_count": 257,
   "id": "8a82897c",
   "metadata": {},
   "outputs": [
    {
     "name": "stdout",
     "output_type": "stream",
     "text": [
      "Enter your weight (in kilograms): 21\n",
      "Enter your height (in meters): 1\n",
      "Your BMI is: 21.00\n",
      "You are categorized as: Normal Weight\n"
     ]
    }
   ],
   "source": [
    "# 22.Create a Python program that calculates the BMI (Body Mass Index) of a person based on their weight and height using if-else.\n",
    "\n",
    "\n",
    "# Input weight (in kilograms) and height (in meters) from the user\n",
    "weight = float(input(\"Enter your weight (in kilograms): \"))\n",
    "height = float(input(\"Enter your height (in meters): \"))\n",
    "\n",
    "# Calculate BMI\n",
    "bmi = weight / (height * height)\n",
    "\n",
    "# Determine BMI category using if-else statements\n",
    "if bmi < 18.5:\n",
    "    category = \"Underweight\"\n",
    "elif 18.5 <= bmi < 24.9:\n",
    "    category = \"Normal Weight\"\n",
    "elif 25 <= bmi < 29.9:\n",
    "    category = \"Overweight\"\n",
    "else:\n",
    "    category = \"Obese\"\n",
    "\n",
    "# Output BMI and category\n",
    "print(f\"Your BMI is: {bmi:.2f}\")\n",
    "print(f\"You are categorized as: {category}\")\n"
   ]
  },
  {
   "cell_type": "code",
   "execution_count": 258,
   "id": "0138e525",
   "metadata": {},
   "outputs": [
    {
     "name": "stdout",
     "output_type": "stream",
     "text": [
      "Even numbers: [2, 4, 6, 8, 10]\n"
     ]
    }
   ],
   "source": [
    "# 23.How can you use the \"filter()\" function with if-else statements to filter elements from a list?\n",
    "\n",
    "def filter_even(num):\n",
    "    if num % 2 == 0:\n",
    "        return True\n",
    "    else:\n",
    "        return False\n",
    "\n",
    "# List of numbers\n",
    "numbers = [1, 2, 3, 4, 5, 6, 7, 8, 9, 10]\n",
    "\n",
    "# Use the filter() function to filter even numbers\n",
    "filtered_numbers = filter(filter_even, numbers)\n",
    "\n",
    "# Convert the result to a list (optional)\n",
    "even_numbers = list(filtered_numbers)\n",
    "\n",
    "# Output the filtered even numbers\n",
    "print(\"Even numbers:\", even_numbers)\n"
   ]
  },
  {
   "cell_type": "code",
   "execution_count": 271,
   "id": "fb27aafa",
   "metadata": {},
   "outputs": [
    {
     "data": {
      "text/plain": [
       "False"
      ]
     },
     "execution_count": 271,
     "metadata": {},
     "output_type": "execute_result"
    }
   ],
   "source": [
    "# 24.Write a Python program to determine if a given number is prime or not using if-else.\n",
    "\n",
    "def is_prime(n):\n",
    "    if n <= 1:\n",
    "        return False\n",
    "    else:\n",
    "        for i in range(2, int(n/2)+1):\n",
    "            if n%i == 0:\n",
    "                return False\n",
    "    return True\n",
    "\n",
    "is_prime(4)\n",
    "            \n"
   ]
  },
  {
   "cell_type": "markdown",
   "id": "91209bd0",
   "metadata": {},
   "source": [
    "#"
   ]
  },
  {
   "cell_type": "markdown",
   "id": "4afb42a9",
   "metadata": {},
   "source": [
    "# MAP"
   ]
  },
  {
   "cell_type": "markdown",
   "id": "bb107fa1",
   "metadata": {},
   "source": [
    "#"
   ]
  },
  {
   "cell_type": "markdown",
   "id": "c1cb2cc3",
   "metadata": {},
   "source": [
    "**1.Explain the purpose of the `map()` function in Python and provide an example of how it can be used to apply a function to each element of an iterable.**\n",
    "\n",
    "The `map()` function in Python is a built-in function that is used to apply a specified function to each item in an iterable (e.g., a list, tuple, or other iterable) and returns an iterator of the results. The primary purpose of `map()` is to efficiently transform and process data without the need for explicit loops, making code more concise and readable.\n",
    "\n",
    "Here's the basic syntax of the `map()` function:\n",
    "\n",
    "```python\n",
    "map(function, iterable)\n",
    "```\n",
    "\n",
    "- `function`: This is the function that you want to apply to each element of the iterable.\n",
    "- `iterable`: This is the iterable (e.g., list, tuple) containing the elements you want to process.\n",
    "\n",
    "Here's an example of how `map()` can be used to apply a function to each element of a list:\n",
    "\n",
    "```python\n",
    "# Function to calculate the square of a number\n",
    "def square(x):\n",
    "    return x * x\n",
    "\n",
    "# List of numbers\n",
    "numbers = [1, 2, 3, 4, 5]\n",
    "\n",
    "# Use map() to apply the square function to each element of the list\n",
    "squared_numbers = map(square, numbers)\n",
    "\n",
    "# Convert the result to a list (optional, as map() returns an iterator)\n",
    "squared_numbers_list = list(squared_numbers)\n",
    "\n",
    "# Print the squared numbers\n",
    "print(squared_numbers_list)\n",
    "```\n",
    "\n",
    "In this example:\n",
    "\n",
    "1. We define a function `square(x)` that takes a number `x` and returns its square.\n",
    "\n",
    "2. We create a list of numbers called `numbers`.\n",
    "\n",
    "3. We use the `map()` function to apply the `square` function to each element of the `numbers` list. This returns an iterator containing the results.\n",
    "\n",
    "4. We convert the iterator to a list using `list()` to obtain the final result as a list of squared numbers.\n",
    "\n",
    "5. Finally, we print the squared numbers, which are `[1, 4, 9, 16, 25]`.\n",
    "\n",
    "The `map()` function is especially useful when you want to apply a transformation or operation to every element of an iterable, as it simplifies the code and makes it more concise. It's a functional programming concept that promotes a cleaner and more readable code style."
   ]
  },
  {
   "cell_type": "code",
   "execution_count": 79,
   "id": "0f22e31c",
   "metadata": {},
   "outputs": [
    {
     "data": {
      "text/plain": [
       "[1, 4, 9, 16, 25]"
      ]
     },
     "execution_count": 79,
     "metadata": {},
     "output_type": "execute_result"
    }
   ],
   "source": [
    "# 2.Write a Python program that uses the `map()` function to square each element of a list of numbers.\n",
    "\n",
    "ls = [1,2,3,4,5]\n",
    "list(map(lambda x: x**2, ls))"
   ]
  },
  {
   "cell_type": "markdown",
   "id": "86100132",
   "metadata": {},
   "source": [
    "**# 3.How does the `map()` function differ from a list comprehension in Python, and when would you choose one over the other?**\n",
    "\n",
    "The `map()` function and list comprehensions in Python are both used for transforming data and performing operations on iterable objects (e.g., lists), but they differ in their approach and usage. Here's how they differ and when you might choose one over the other:\n",
    "\n",
    "**1. `map()` Function:**\n",
    "\n",
    "- **Function-Based Transformation:** `map()` applies a specified function to each element of an iterable and returns an iterator of the results. It is primarily function-based.\n",
    "\n",
    "- **Returns an Iterator:** `map()` returns an iterator, not a list or other iterable. To obtain the result as a list, you need to convert the iterator to a list using `list()`.\n",
    "\n",
    "- **Elegant for Simple Operations:** It is useful and elegant for applying a simple operation or transformation to each element of an iterable, especially when you have an existing function.\n",
    "\n",
    "- **Readability:** `map()` can be less concise and less readable than list comprehensions, especially when the transformation logic is complex.\n",
    "\n",
    "**Example Using `map()`:**\n",
    "```python\n",
    "numbers = [1, 2, 3, 4, 5]\n",
    "squared_numbers = map(lambda x: x * x, numbers)\n",
    "squared_numbers_list = list(squared_numbers)\n",
    "```\n",
    "\n",
    "**2. List Comprehensions:**\n",
    "\n",
    "- **Expression-Based Transformation:** List comprehensions create a new list by applying an expression to each element of an iterable. They are more expression-based and resemble a compact way to create lists.\n",
    "\n",
    "- **Returns a List:** List comprehensions directly return a new list, making them more suitable when you want a list as the result.\n",
    "\n",
    "- **Concise and Readable:** List comprehensions are often more concise and readable, especially for simple transformations or filtering operations.\n",
    "\n",
    "- **Supports Filtering:** List comprehensions can also include filtering conditions, allowing you to create filtered lists.\n",
    "\n",
    "**Example Using List Comprehension:**\n",
    "```python\n",
    "numbers = [1, 2, 3, 4, 5]\n",
    "squared_numbers = [x * x for x in numbers]\n",
    "```\n",
    "\n",
    "**Choosing Between `map()` and List Comprehension:**\n",
    "\n",
    "- **Use `map()` When:** You have an existing function or when you want to apply the same function to each element of an iterable. It's a good choice for simple, repetitive transformations.\n",
    "\n",
    "- **Use List Comprehension When:** You want a concise and readable way to create a new list with an expression-based transformation. List comprehensions are also suitable when you want to filter elements or perform more complex operations.\n",
    "\n",
    "- **Personal Preference:** The choice between `map()` and list comprehension can often come down to personal preference and readability. Some developers prefer the more explicit nature of `map()`, while others find list comprehensions more intuitive.\n",
    "\n",
    "In many cases, both `map()` and list comprehensions can accomplish the same task, and the choice between them depends on your coding style, the complexity of the operation, and the specific requirements of your code."
   ]
  },
  {
   "cell_type": "code",
   "execution_count": 81,
   "id": "5d145905",
   "metadata": {},
   "outputs": [
    {
     "data": {
      "text/plain": [
       "['PW', 'SKILLS', 'DS', 'BATCH']"
      ]
     },
     "execution_count": 81,
     "metadata": {},
     "output_type": "execute_result"
    }
   ],
   "source": [
    "# 4.Create a Python program that uses the `map()` function to convert a list of names to uppercase.\n",
    "\n",
    "ls = ['pw', 'skills', 'ds', 'batch']\n",
    "list(map(lambda x: x.upper(), ls))"
   ]
  },
  {
   "cell_type": "code",
   "execution_count": 82,
   "id": "e382a71b",
   "metadata": {},
   "outputs": [
    {
     "data": {
      "text/plain": [
       "[2, 6, 2, 5]"
      ]
     },
     "execution_count": 82,
     "metadata": {},
     "output_type": "execute_result"
    }
   ],
   "source": [
    "# 5.Write a Python program that uses the `map()` function to calculate the length of each word in a list of strings.\n",
    "\n",
    "ls = ['pw', 'skills', 'ds', 'batch']\n",
    "list(map(lambda x: len(x), ls))"
   ]
  },
  {
   "cell_type": "code",
   "execution_count": 96,
   "id": "a2613e73",
   "metadata": {},
   "outputs": [
    {
     "name": "stdout",
     "output_type": "stream",
     "text": [
      "[5, 7, 9]\n"
     ]
    }
   ],
   "source": [
    "# 6.How can you use the `map()` function to apply a custom function to elements of multiple lists simultaneously in Python?\n",
    "\n",
    "\n",
    "# Custom function that takes two arguments and returns their sum\n",
    "def add(x, y):\n",
    "    return x + y\n",
    "\n",
    "# Lists of numbers\n",
    "list1 = [1, 2, 3]\n",
    "list2 = [4, 5, 6]\n",
    "\n",
    "# Use map() to apply the custom function to elements of both lists\n",
    "result = map(add, list1, list2)\n",
    "\n",
    "# Convert the result to a list (optional, as map() returns an iterator)\n",
    "result_list = list(result)\n",
    "\n",
    "# Print the result\n",
    "print(result_list)\n"
   ]
  },
  {
   "cell_type": "code",
   "execution_count": 97,
   "id": "c05417e2",
   "metadata": {},
   "outputs": [
    {
     "data": {
      "text/plain": [
       "[32.0, 50.0, 68.0, 86.0, 104.0]"
      ]
     },
     "execution_count": 97,
     "metadata": {},
     "output_type": "execute_result"
    }
   ],
   "source": [
    "# 7.Create a Python program that uses `map()` to convert a list of temperatures from Celsius to Fahrenheit.\n",
    "\n",
    "# Custom function to convert Celsius to Fahrenheit\n",
    "def celsius_to_fahrenheit(celsius):\n",
    "    return (celsius * 9/5) + 32\n",
    "\n",
    "# List of temperatures in Celsius\n",
    "celsius_temperatures = [0, 10, 20, 30, 40]\n",
    "\n",
    "# Use map() to convert temperatures to Fahrenheit\n",
    "list(map(celsius_to_fahrenheit, celsius_temperatures))"
   ]
  },
  {
   "cell_type": "code",
   "execution_count": 95,
   "id": "97bd9ad6",
   "metadata": {},
   "outputs": [
    {
     "name": "stdout",
     "output_type": "stream",
     "text": [
      "[0.25, 0.5, 0.75, 1.0]\n"
     ]
    },
    {
     "data": {
      "text/plain": [
       "[0, 0, 1, 1]"
      ]
     },
     "execution_count": 95,
     "metadata": {},
     "output_type": "execute_result"
    }
   ],
   "source": [
    "# 8.Write a Python program that uses the `map()` function to round each element of a list of floating-point numbers to the nearest integer.\n",
    "\n",
    "ls = [x/4 for x in range(1,5)]\n",
    "print(ls)\n",
    "list(map(lambda x: round(x), ls))"
   ]
  },
  {
   "cell_type": "markdown",
   "id": "00984c14",
   "metadata": {},
   "source": [
    "#"
   ]
  },
  {
   "cell_type": "markdown",
   "id": "4f118aed",
   "metadata": {},
   "source": [
    "# Reduce"
   ]
  },
  {
   "cell_type": "markdown",
   "id": "5a98d6e2",
   "metadata": {},
   "source": [
    "#"
   ]
  },
  {
   "cell_type": "markdown",
   "id": "603697ca",
   "metadata": {},
   "source": [
    "**# 1.What is the `reduce()` function in Python, and what module should you import to use it? Provide an example of its basic usage.**\n",
    "\n",
    "The `reduce()` function in Python is a part of the `functools` module, and it is used to apply a given function cumulatively to the items of an iterable (e.g., a list or tuple) from left to right, in a way that reduces the iterable to a single cumulative result.\n",
    "\n",
    "Here's the basic syntax of the `reduce()` function:\n",
    "\n",
    "```python\n",
    "functools.reduce(function, iterable, initializer)\n",
    "```\n",
    "\n",
    "- `function`: The function to apply cumulatively to the items of the iterable. It should take two arguments.\n",
    "- `iterable`: The iterable (e.g., a list, tuple, or string) whose items are processed cumulatively.\n",
    "- `initializer` (optional): An optional initial value that is used as the first argument to the `function`. If not provided, the first item in the iterable is used as the initial value.\n",
    "\n",
    "Here's an example of how to use the `reduce()` function to find the product of all elements in a list:\n",
    "\n",
    "```python\n",
    "from functools import reduce\n",
    "\n",
    "# Define a function that multiplies two numbers\n",
    "def multiply(x, y):\n",
    "    return x * y\n",
    "\n",
    "# List of numbers\n",
    "numbers = [1, 2, 3, 4, 5]\n",
    "\n",
    "# Use reduce() to find the product of all elements in the list\n",
    "product = reduce(multiply, numbers)\n",
    "\n",
    "# Output the result\n",
    "print(\"Product:\", product)\n",
    "```\n",
    "\n",
    "In this example, we import `reduce` from `functools`, define a `multiply` function that takes two arguments and returns their product, and then use `reduce()` to apply the `multiply` function cumulatively to the list of numbers. The result is the product of all the elements in the list, which is printed as \"Product.\""
   ]
  },
  {
   "cell_type": "code",
   "execution_count": 100,
   "id": "c3289a78",
   "metadata": {},
   "outputs": [
    {
     "data": {
      "text/plain": [
       "120"
      ]
     },
     "execution_count": 100,
     "metadata": {},
     "output_type": "execute_result"
    }
   ],
   "source": [
    "# 2.Write a Python program that uses the `reduce()` function to find the product of all elements in a list.\n",
    "\n",
    "from functools import reduce\n",
    "ls = [1,2,3,4,5]\n",
    "\n",
    "reduce(lambda a,b : a*b, ls)"
   ]
  },
  {
   "cell_type": "code",
   "execution_count": 102,
   "id": "baa63758",
   "metadata": {},
   "outputs": [
    {
     "data": {
      "text/plain": [
       "13"
      ]
     },
     "execution_count": 102,
     "metadata": {},
     "output_type": "execute_result"
    }
   ],
   "source": [
    "# 3.Create a Python program that uses `reduce()` to find the maximum element in a list of numbers.\n",
    "\n",
    "ls = [1,2,13,4,5]\n",
    "\n",
    "reduce(lambda a,b : max(a,b), ls)"
   ]
  },
  {
   "cell_type": "code",
   "execution_count": 105,
   "id": "c016b919",
   "metadata": {},
   "outputs": [
    {
     "data": {
      "text/plain": [
       "'pw skills ds batch'"
      ]
     },
     "execution_count": 105,
     "metadata": {},
     "output_type": "execute_result"
    }
   ],
   "source": [
    "# 4.How can you use the `reduce()` function to concatenate a list of strings into a single string?\n",
    "\n",
    "ls = ['pw', 'skills', 'ds', 'batch']\n",
    "reduce(lambda a,b : a+\" \"+b, ls)"
   ]
  },
  {
   "cell_type": "code",
   "execution_count": 107,
   "id": "18a6c405",
   "metadata": {},
   "outputs": [
    {
     "data": {
      "text/plain": [
       "720"
      ]
     },
     "execution_count": 107,
     "metadata": {},
     "output_type": "execute_result"
    }
   ],
   "source": [
    "# 5.Write a Python program that calculates the factorial of a number using the `reduce()` function.\n",
    "\n",
    "number = 6\n",
    "reduce(lambda a,b : a*b, range(1, number+1))"
   ]
  },
  {
   "cell_type": "code",
   "execution_count": 112,
   "id": "d7cee970",
   "metadata": {},
   "outputs": [
    {
     "name": "stdout",
     "output_type": "stream",
     "text": [
      "Enter a list of numbers separated by spaces: 6 8 12\n",
      "The GCD of the numbers is 2\n"
     ]
    }
   ],
   "source": [
    "# 6.Create a Python program that uses `reduce()` to find the GCD (Greatest Common Divisor) of a list of numbers.\n",
    "\n",
    "from functools import reduce\n",
    "from math import gcd\n",
    "\n",
    "# Define a function to find the GCD of two numbers\n",
    "def find_gcd(x, y):\n",
    "    return gcd(x, y)\n",
    "\n",
    "# Input: Get a list of numbers for which you want to find the GCD\n",
    "num_list = list(map(int, input(\"Enter a list of numbers separated by spaces: \").split()))\n",
    "\n",
    "# Check if the list is empty\n",
    "if not num_list:\n",
    "    print(\"The list is empty.\")\n",
    "else:\n",
    "    # Calculate the GCD using reduce()\n",
    "    result_gcd = reduce(find_gcd, num_list)\n",
    "\n",
    "    # Output the result\n",
    "    print(f\"The GCD of the numbers is {result_gcd}\")\n"
   ]
  },
  {
   "cell_type": "code",
   "execution_count": 108,
   "id": "37fab0ff",
   "metadata": {},
   "outputs": [
    {
     "data": {
      "text/plain": [
       "15"
      ]
     },
     "execution_count": 108,
     "metadata": {},
     "output_type": "execute_result"
    }
   ],
   "source": [
    "# 7.Write a Python program that uses the `reduce()` function to find the sum of the digits of a given number.\n",
    "\n",
    "ls = [1,2,3,4,5]\n",
    "\n",
    "reduce(lambda a,b : a+b, ls)"
   ]
  },
  {
   "cell_type": "markdown",
   "id": "19fa6970",
   "metadata": {},
   "source": [
    "#"
   ]
  },
  {
   "cell_type": "markdown",
   "id": "42087b33",
   "metadata": {},
   "source": [
    "# Filter"
   ]
  },
  {
   "cell_type": "markdown",
   "id": "0f927b0d",
   "metadata": {},
   "source": [
    "#"
   ]
  },
  {
   "cell_type": "markdown",
   "id": "e4f3eb88",
   "metadata": {},
   "source": [
    "**# 1.Explain the purpose of the `filter()` function in Python and provide an example of how it can be used to filter elements from an iterable.**\n",
    "\n",
    "The `filter()` function in Python is used to filter elements from an iterable (e.g., a list, tuple, or any other iterable) based on a specified condition. It creates a new iterable that contains only the elements for which the provided condition or function returns `True`. In other words, it is used to selectively include or exclude elements from the original iterable.\n",
    "\n",
    "Here's the basic syntax of the `filter()` function:\n",
    "\n",
    "```python\n",
    "filter(function, iterable)\n",
    "```\n",
    "\n",
    "- `function`: A function that defines the condition for filtering. This function should return `True` for elements you want to include in the filtered iterable and `False` for elements you want to exclude.\n",
    "- `iterable`: The iterable from which elements are filtered.\n",
    "\n",
    "Here's an example of how to use the `filter()` function to filter even numbers from a list:\n",
    "\n",
    "```python\n",
    "# Define a function to check if a number is even\n",
    "def is_even(x):\n",
    "    return x % 2 == 0\n",
    "\n",
    "# List of numbers\n",
    "numbers = [1, 2, 3, 4, 5, 6, 7, 8, 9, 10]\n",
    "\n",
    "# Use filter() to filter even numbers from the list\n",
    "even_numbers = list(filter(is_even, numbers))\n",
    "\n",
    "# Output the result\n",
    "print(\"Even numbers:\", even_numbers)\n",
    "```\n",
    "\n",
    "In this example, we define the `is_even()` function, which returns `True` if a number is even (i.e., divisible by 2) and `False` otherwise. We then use the `filter()` function with this function to filter even numbers from the `numbers` list. The result is a new list containing only the even numbers, which is printed as \"Even numbers.\"\n",
    "\n",
    "The `filter()` function is a useful tool for selecting elements from an iterable based on specific criteria, and it can be combined with lambda functions for more concise filtering."
   ]
  },
  {
   "cell_type": "code",
   "execution_count": 113,
   "id": "111cd6a0",
   "metadata": {},
   "outputs": [
    {
     "data": {
      "text/plain": [
       "[2, 4, 6, 8, 10]"
      ]
     },
     "execution_count": 113,
     "metadata": {},
     "output_type": "execute_result"
    }
   ],
   "source": [
    "# 2.Write a Python program that uses the `filter()` function to select even numbers from a list of integers.\n",
    "\n",
    "ls = [x for x in range(1,11)]\n",
    "list(filter(lambda x: x%2 == 0, ls))"
   ]
  },
  {
   "cell_type": "code",
   "execution_count": 114,
   "id": "c5a6943c",
   "metadata": {},
   "outputs": [
    {
     "data": {
      "text/plain": [
       "['pw', 'pro']"
      ]
     },
     "execution_count": 114,
     "metadata": {},
     "output_type": "execute_result"
    }
   ],
   "source": [
    "# 3.Create a Python program that uses the `filter()` function to select names that start with a specific letter from a list of strings.\n",
    "\n",
    "ls = ['pw', 'skills', 'ds', 'batch', 'pro']\n",
    "start_letter = 'p'\n",
    "list(filter(lambda x: x[0] == start_letter, ls))"
   ]
  },
  {
   "cell_type": "code",
   "execution_count": 120,
   "id": "64fc1cbf",
   "metadata": {},
   "outputs": [
    {
     "name": "stdout",
     "output_type": "stream",
     "text": [
      "[2, 5, 7, 9]\n"
     ]
    }
   ],
   "source": [
    "# 4.Write a Python program that uses the `filter()` function to select prime numbers from a list of integers.\n",
    "\n",
    "def is_prime(n):\n",
    "    if n <= 1:\n",
    "        return False\n",
    "    if n == 2:\n",
    "        return True\n",
    "    for i in range(2, int(n/2) + 1): \n",
    "        return n % i != 0\n",
    "            \n",
    "ls = [x for x in range(1, 11)]\n",
    "prime_numbers = list(filter(lambda x: is_prime(x), ls))\n",
    "\n",
    "print(prime_numbers)"
   ]
  },
  {
   "cell_type": "code",
   "execution_count": 126,
   "id": "528e3898",
   "metadata": {},
   "outputs": [
    {
     "data": {
      "text/plain": [
       "['pw', 'ds', 'batch', 'pro']"
      ]
     },
     "execution_count": 126,
     "metadata": {},
     "output_type": "execute_result"
    }
   ],
   "source": [
    "# 5.How can you use the `filter()` function to remove None values from a list in Python?\n",
    "\n",
    "ls = ['pw', None, 'ds', 'batch', 'pro']\n",
    "list(filter(lambda x:  x, ls))"
   ]
  },
  {
   "cell_type": "code",
   "execution_count": 121,
   "id": "8b4f0649",
   "metadata": {},
   "outputs": [
    {
     "data": {
      "text/plain": [
       "['skills', 'batch', 'pro']"
      ]
     },
     "execution_count": 121,
     "metadata": {},
     "output_type": "execute_result"
    }
   ],
   "source": [
    "# 6.Create a Python program that uses `filter()` to select words longer than a certain length from a list of strings.\n",
    "\n",
    "ls = ['pw', 'skills', 'ds', 'batch', 'pro']\n",
    "ln = 2\n",
    "list(filter(lambda x: len(x) > ln, ls))"
   ]
  },
  {
   "cell_type": "code",
   "execution_count": 123,
   "id": "0ede6588",
   "metadata": {},
   "outputs": [
    {
     "data": {
      "text/plain": [
       "[6, 7, 8, 9, 10]"
      ]
     },
     "execution_count": 123,
     "metadata": {},
     "output_type": "execute_result"
    }
   ],
   "source": [
    "# 7.Write a Python program that uses the `filter()` function to select elements greater than a specified threshold from a list of values.\n",
    "\n",
    "ls = [x for x in range(1, 11)]\n",
    "number = 5\n",
    "list(filter(lambda x: x > number, ls))"
   ]
  },
  {
   "cell_type": "markdown",
   "id": "3f876fef",
   "metadata": {},
   "source": [
    "#"
   ]
  },
  {
   "cell_type": "markdown",
   "id": "1582bdaa",
   "metadata": {},
   "source": [
    "# Recursion"
   ]
  },
  {
   "cell_type": "markdown",
   "id": "faf63587",
   "metadata": {},
   "source": [
    "#"
   ]
  },
  {
   "cell_type": "markdown",
   "id": "9d2be544",
   "metadata": {},
   "source": [
    "**# 1.Explain the concept of recursion in Python. How does it differ from iteration?**\n",
    "\n",
    "Recursion is a programming concept in Python (and many other programming languages) where a function calls itself in order to solve a problem. In essence, a recursive function is a function that breaks down a problem into smaller, more manageable subproblems of the same type. These subproblems are solved recursively until they reach a base case, which is a problem that can be solved without further recursion. At this point, the recursion \"unwinds\" or returns, and the solutions to the subproblems are combined to solve the original problem.\n",
    "\n",
    "Here are the key components of recursion:\n",
    "\n",
    "1. **Base Case**: This is the condition that specifies when the recursion should stop. It provides a termination point for the recursive calls and prevents infinite recursion.\n",
    "\n",
    "2. **Recursive Case**: In the recursive case, the function calls itself with modified arguments to solve a smaller or simpler subproblem.\n",
    "\n",
    "Recursion is often used to solve problems that can be naturally divided into smaller, similar subproblems. Some classic examples of problems that are well-suited for recursion include calculating factorials, Fibonacci sequences, and traversing recursive data structures like trees.\n",
    "\n",
    "Recursion vs. Iteration:\n",
    "Recursion and iteration are two different approaches to solving problems in programming. Here are some key differences:\n",
    "\n",
    "1. **Control Flow**: In recursion, the function calls itself to solve the problem, and the control flow is managed implicitly by the function calls. In iteration, a loop (e.g., `for` or `while`) is used to repeatedly execute a block of code, and the control flow is managed explicitly by the loop.\n",
    "\n",
    "2. **Code Clarity**: Recursion can sometimes make the code more elegant and concise when solving certain problems, especially those with a natural recursive structure. Iteration is often used for problems that are more naturally expressed as loops.\n",
    "\n",
    "3. **Memory Usage**: Recursion can be less memory-efficient compared to iteration because each recursive call adds a new function call frame to the call stack. If the recursion depth is too deep, it can lead to a stack overflow error. In contrast, iteration typically uses a constant amount of memory.\n",
    "\n",
    "4. **Performance**: In some cases, recursion can be less efficient than iteration due to the overhead of function calls. However, modern programming languages and compilers often optimize tail-recursive functions to have performance similar to iterative solutions.\n",
    "\n",
    "In Python, both recursion and iteration are powerful tools, and the choice between them depends on the specific problem and coding style preferences. Recursion is particularly useful for solving problems with a recursive structure, while iteration is suitable for most repetitive tasks and when performance and memory usage are important considerations.\n"
   ]
  },
  {
   "cell_type": "code",
   "execution_count": 66,
   "id": "b4a94b6d",
   "metadata": {},
   "outputs": [
    {
     "name": "stdout",
     "output_type": "stream",
     "text": [
      "Enter number:5\n",
      "factorial of a number 5 is 120\n"
     ]
    }
   ],
   "source": [
    "# 2.Write a Python program to calculate the factorial of a number using recursion.\n",
    "\n",
    "def fact(n):\n",
    "    if n < 0:\n",
    "        return \"Enter positive number\"\n",
    "    elif n == 0:\n",
    "        return 1\n",
    "    else:\n",
    "        return n*fact(n-1)\n",
    "    \n",
    "num = int(input(\"Enter number:\"))\n",
    "print(f\"factorial of a number {num} is {fact(num)}\" )"
   ]
  },
  {
   "cell_type": "code",
   "execution_count": 69,
   "id": "c4d1254e",
   "metadata": {},
   "outputs": [
    {
     "name": "stdout",
     "output_type": "stream",
     "text": [
      "Enter a positive integer (n): 5\n",
      "The 5th Fibonacci number is 3\n"
     ]
    }
   ],
   "source": [
    "# 3.Create a recursive Python function to find the nth Fibonacci number.\n",
    "\n",
    "# Recursive function to find the nth Fibonacci number\n",
    "def fibonacci(n):\n",
    "    if n <= 0:\n",
    "        return \"Invalid input (n should be a positive integer)\"\n",
    "    elif n == 1:\n",
    "        return 0  # Base case: Fibonacci(1) = 0\n",
    "    elif n == 2:\n",
    "        return 1  # Base case: Fibonacci(2) = 1\n",
    "    else:\n",
    "        return fibonacci(n - 1) + fibonacci(n - 2)\n",
    "\n",
    "# Input: Get the value of n from the user\n",
    "n = int(input(\"Enter a positive integer (n): \"))\n",
    "\n",
    "# Calculate and print the nth Fibonacci number\n",
    "result = fibonacci(n)\n",
    "print(f\"The {n}th Fibonacci number is {result}\")    "
   ]
  },
  {
   "cell_type": "code",
   "execution_count": 71,
   "id": "30531416",
   "metadata": {},
   "outputs": [
    {
     "name": "stdout",
     "output_type": "stream",
     "text": [
      "The sum of number is 15\n"
     ]
    }
   ],
   "source": [
    "# 4.Write a recursive Python function to calculate the sum of all elements in a list.\n",
    "\n",
    "def sum_of_digit(nums):\n",
    "    if not nums:\n",
    "        return 0 # base case \n",
    "    return nums[0] + sum_of_digit(nums[1:])\n",
    "\n",
    "ls = [1,2,3,4,5]\n",
    "print(f\"The sum of numbers is {sum_of_digit(ls)}\")"
   ]
  },
  {
   "cell_type": "markdown",
   "id": "f99af26f",
   "metadata": {},
   "source": [
    "#"
   ]
  },
  {
   "cell_type": "markdown",
   "id": "198b84c0",
   "metadata": {},
   "source": [
    "**# 5.How can you prevent a recursive function from running indefinitely, causing a stack overflow error?**\n",
    "\n",
    "Preventing a recursive function from running indefinitely and causing a stack overflow error involves implementing proper termination conditions and controlling the depth of recursion. Here are some strategies to achieve this:\n",
    "\n",
    "1. **Base Case**: Always include a base case in your recursive function. The base case is a condition under which the recursion stops and the function returns a result. Without a base case, the recursion will continue indefinitely. Ensure that the base case is reachable and correctly specified.\n",
    "\n",
    "2. **Ensure Progress**: In each recursive call, make sure that you move closer to the base case. This ensures that you eventually reach the base case and the recursion stops. If your recursive function doesn't make progress, it can lead to infinite recursion.\n",
    "\n",
    "3. **Limit Recursion Depth**: You can limit the depth of recursion by using techniques like setting a maximum recursion depth or using an iterative approach for large inputs. Python has a default maximum recursion depth (usually 1000), which you can change using `sys.setrecursionlimit()`. However, changing this limit should be done with caution, as it can lead to program crashes if set too high.\n",
    "\n",
    "4. **Use Memoization**: If your recursive function involves solving overlapping subproblems, consider using memoization to store and reuse previously computed results. Memoization can significantly reduce the number of recursive calls and prevent stack overflow errors.\n",
    "\n",
    "5. **Tail Recursion**: If possible, convert your recursive function into a tail-recursive form. In tail recursion, the recursive call is the last operation in the function before returning the result. Some programming languages, like Python, do not optimize tail recursion by default, but you can still use it for clarity. In other languages like Scheme, tail-recursive functions can be optimized by the compiler or interpreter.\n",
    "\n",
    "6. **Test with Small Inputs**: When implementing a recursive function, start by testing it with small inputs to ensure it behaves as expected and terminates correctly. Gradually increase the input size to check for performance and stack depth.\n",
    "\n",
    "7. **Use Iteration**: In cases where recursion isn't the most efficient solution or where you're concerned about stack depth, consider using an iterative approach instead. Some problems that can be solved with recursion can also be solved with iteration.\n",
    "\n",
    "8. **Monitoring and Profiling**: Use debugging tools and profiling techniques to monitor the behavior of your recursive function. This can help you identify issues with stack depth and performance.\n",
    "\n",
    "By following these strategies, you can prevent a recursive function from running indefinitely and causing a stack overflow error, ensuring that it behaves correctly and efficiently for a wide range of inputs."
   ]
  },
  {
   "cell_type": "code",
   "execution_count": 136,
   "id": "31014d9e",
   "metadata": {},
   "outputs": [
    {
     "name": "stdout",
     "output_type": "stream",
     "text": [
      "The GCD of 48 and 18 is 6\n"
     ]
    }
   ],
   "source": [
    "# 6.Create a recursive Python function to find the greatest common divisor (GCD) of two numbers using the Euclidean algorithm.\n",
    "\n",
    "def euclidean_gcd(a, b):\n",
    "    # Base case\n",
    "    if b == 0:\n",
    "        return a\n",
    "    else:\n",
    "        # Recursive case\n",
    "        return euclidean_gcd(b, a % b)\n",
    "\n",
    "# Test the function\n",
    "num1 = 48\n",
    "num2 = 18\n",
    "gcd_result = euclidean_gcd(num1, num2)\n",
    "print(f\"The GCD of {num1} and {num2} is {gcd_result}\")\n"
   ]
  },
  {
   "cell_type": "code",
   "execution_count": 75,
   "id": "b91bab17",
   "metadata": {},
   "outputs": [
    {
     "name": "stdout",
     "output_type": "stream",
     "text": [
      "reversed string: slliks wp\n"
     ]
    }
   ],
   "source": [
    "# 7.Write a recursive Python function to reverse a string.\n",
    "\n",
    "def reverse_str(sent):\n",
    "    if not sent:\n",
    "        return \"\"\n",
    "    return sent[-1] + reverse_str(sent[:-1])\n",
    "\n",
    "sent = \"pw skills\"\n",
    "\n",
    "print(\"reversed string:\", reverse_str(sent))"
   ]
  },
  {
   "cell_type": "code",
   "execution_count": 72,
   "id": "19bdddb3",
   "metadata": {},
   "outputs": [
    {
     "name": "stdout",
     "output_type": "stream",
     "text": [
      "Enter the base (x): 5\n",
      "Enter the exponent (n): 3\n",
      "5.0^3 = 125.0\n"
     ]
    }
   ],
   "source": [
    "# 8.Create a recursive Python function to calculate the power of a number (x^n).\n",
    "\n",
    "# Recursive function to calculate the power of a number (x^n)\n",
    "def power(x, n):\n",
    "    if n == 0:\n",
    "        return 1  # Any number raised to the power of 0 is 1 (base case)\n",
    "    else:\n",
    "        return x * power(x, n - 1)  # Recursive case: Multiply x by x^(n-1)\n",
    "\n",
    "# Input: Get the base (x) and exponent (n) from the user\n",
    "x = float(input(\"Enter the base (x): \"))\n",
    "n = int(input(\"Enter the exponent (n): \"))\n",
    "\n",
    "# Calculate x^n using the power function\n",
    "result = power(x, n)\n",
    "\n",
    "# Print the result\n",
    "print(f\"{x}^{n} =\", result)\n"
   ]
  },
  {
   "cell_type": "code",
   "execution_count": null,
   "id": "db5c3614",
   "metadata": {},
   "outputs": [],
   "source": [
    "# 9.Write a recursive Python function to find all permutations of a given string.\n",
    "\n",
    "def find_permutations(input_string):\n",
    "    # Base case: If the input string is empty or has only one character, return it as a single-element list.\n",
    "    if len(input_string) <= 1:\n",
    "        return [input_string]\n",
    "\n",
    "    # Initialize the list to store permutations\n",
    "    permutations = []\n",
    "\n",
    "    # Iterate through each character in the input string\n",
    "    for char in input_string:\n",
    "        # Create a smaller string by removing the current character\n",
    "        remaining_chars = input_string.replace(char, \"\", 1)\n",
    "\n",
    "        # Recursively find permutations of the smaller string\n",
    "        smaller_permutations = find_permutations(remaining_chars)\n",
    "\n",
    "        # Add the current character to each permutation of the smaller string\n",
    "        for perm in smaller_permutations:\n",
    "            permutations.append(char + perm)\n",
    "\n",
    "    return permutations\n",
    "\n",
    "# Test the function\n",
    "input_str = \"abc\"\n",
    "permutations = find_permutations(input_str)\n",
    "for perm in permutations:\n",
    "    print(perm)\n"
   ]
  },
  {
   "cell_type": "code",
   "execution_count": 78,
   "id": "78b1453d",
   "metadata": {},
   "outputs": [
    {
     "name": "stdout",
     "output_type": "stream",
     "text": [
      "Enter a string: ada\n",
      "ada is a palindrome.\n"
     ]
    }
   ],
   "source": [
    "# 10.Write a recursive Python function to check if a string is a palindrome.\n",
    "\n",
    "def is_palindrome(input_string):\n",
    "    input_string = input_string.lower() \n",
    "    if len(input_string) <= 1:\n",
    "        return True  # Base case: A string with 0 or 1 characters is a palindrome\n",
    "    elif input_string[0] != input_string[-1]:\n",
    "        return False  # Base case: If the first and last characters don't match, it's not a palindrome\n",
    "    else:\n",
    "        # Recursively check the substring without the first and last characters\n",
    "        return is_palindrome(input_string[1:-1])\n",
    "\n",
    "user_input = input(\"Enter a string: \")\n",
    "\n",
    "cleaned_input = \"\".join(user_input.split())  # Remove spaces from the input\n",
    "if is_palindrome(cleaned_input):\n",
    "    print(f\"{user_input} is a palindrome.\")\n",
    "else:\n",
    "    print(f\"{user_input} is not a palindrome.\")\n"
   ]
  },
  {
   "cell_type": "code",
   "execution_count": 135,
   "id": "a49b3755",
   "metadata": {},
   "outputs": [
    {
     "name": "stdout",
     "output_type": "stream",
     "text": [
      "[1, 2, 3]\n",
      "[1, 3, 2]\n",
      "[2, 1, 3]\n",
      "[2, 3, 1]\n",
      "[3, 1, 2]\n",
      "[3, 2, 1]\n"
     ]
    }
   ],
   "source": [
    "# 11.Create a recursive Python function to generate all possible combinations of a list of elements.\n",
    "def get_permutations(arr):\n",
    "    if len(arr) == 0:\n",
    "        return [[]]\n",
    "\n",
    "    permutations = []\n",
    "    for i in range(len(arr)):\n",
    "        first_elem = [arr[i]]\n",
    "        rest_elem = arr[:i] + arr[i+1:]\n",
    "        for perm in get_permutations(rest_elem):\n",
    "            permutations.append(first_elem + perm)\n",
    "    \n",
    "    return permutations\n",
    "\n",
    "# Test the function\n",
    "input_list = [1, 2, 3]\n",
    "result = get_permutations(input_list)\n",
    "for perm in result:\n",
    "    print(perm)\n"
   ]
  },
  {
   "cell_type": "markdown",
   "id": "b23fdb38",
   "metadata": {},
   "source": [
    "#"
   ]
  },
  {
   "cell_type": "markdown",
   "id": "74290dc5",
   "metadata": {},
   "source": [
    "# Basics of Functions"
   ]
  },
  {
   "cell_type": "markdown",
   "id": "b1a72432",
   "metadata": {},
   "source": [
    "#"
   ]
  },
  {
   "cell_type": "markdown",
   "id": "ab47dd29",
   "metadata": {},
   "source": [
    "**# 1.What is a function in Python, and why is it used?**\n",
    "\n",
    "In Python, a function is a named block of reusable code that performs a specific task or set of tasks. Functions are a fundamental concept in programming and serve several important purposes:\n",
    "\n",
    "\n",
    ">**Readability and Maintainability**: Well-structured code with well-named functions is more readable and easier to maintain. Functions allow you to give meaningful names to different parts of your code, making it clear what each part does. This is especially valuable when working on large or collaborative projects.\n",
    "\n",
    ">**Code Organization**: Functions help organize your code into logical units, making it easier to locate and modify specific functionality. This improves code maintainability and reduces the chances of introducing bugs when making changes.\n",
    "\n",
    ">**Code Reusability**: Once you've defined a function, you can use it in multiple parts of your program or even in different programs altogether. This reusability saves time and effort in writing and testing code.\n",
    "\n",
    ">**Testing and Debugging**: Functions make it easier to test and debug code. You can isolate specific parts of your code by testing individual functions, which simplifies the debugging process when issues arise.\n",
    "\n",
    "Here's a basic example of a Python function:\n",
    "\n",
    "```python\n",
    "def greet(name):\n",
    "    \"\"\"\n",
    "    This function greets a person with the given name.\n",
    "    \"\"\"\n",
    "    print(f\"Hello, {name}!\")\n",
    "\n",
    "# Calling the function\n",
    "greet(\"Alice\")\n",
    "```\n",
    "\n",
    "In this example, `greet` is a function that takes a `name` as an argument and prints a greeting message. Functions in Python are defined using the `def` keyword, followed by the function name, a parameter list (in parentheses), and a colon. The function body is indented and contains the code to be executed when the function is called."
   ]
  },
  {
   "cell_type": "markdown",
   "id": "acedf713",
   "metadata": {},
   "source": [
    "#"
   ]
  },
  {
   "cell_type": "markdown",
   "id": "0b875164",
   "metadata": {},
   "source": [
    "**# 2.How do you define a function in Python? Provide an example.**\n",
    "\n",
    "Here's a basic example of a Python function:\n",
    "\n",
    "```python\n",
    "def greet(name):\n",
    "    \"\"\"\n",
    "    This function greets a person with the given name.\n",
    "    \"\"\"\n",
    "    print(f\"Hello, {name}!\")\n",
    "\n",
    "# Calling the function\n",
    "greet(\"Indians\")\n",
    "```\n",
    "\n",
    "In this example, `greet` is a function that takes a `name` as an argument and prints a greeting message. Functions in Python are defined using the `def` keyword, followed by the function name, a parameter list (in parentheses), and a colon. The function body is indented and contains the code to be executed when the function is called."
   ]
  },
  {
   "cell_type": "markdown",
   "id": "ed788aa4",
   "metadata": {},
   "source": [
    "#"
   ]
  },
  {
   "cell_type": "markdown",
   "id": "89ff08c8",
   "metadata": {},
   "source": [
    "**# 3.Explain the difference between a function definition and a function call.**\n",
    "\n",
    "In Python, there are two distinct concepts related to functions: function definition and function call. These concepts serve different purposes in the program's execution.\n",
    "\n",
    "**Function Definition:**\n",
    "- A function definition is where you define what a function does and how it operates.\n",
    "- It starts with the `def` keyword followed by the function's name, a parameter list (if any), and a colon.\n",
    "- The body of the function is indented and contains the code that specifies what the function does.\n",
    "- The function definition serves as a blueprint or a template for the function's behavior. It defines the function's name, parameters, and the code that will execute when the function is called.\n",
    "- Function definitions do not execute any code immediately; they only define the structure and behavior of the function.\n",
    "\n",
    "Here's an example of a function definition:\n",
    "\n",
    "```python\n",
    "def add(a, b):\n",
    "    result = a + b\n",
    "    return result\n",
    "```\n",
    "\n",
    "In this example, `add` is a function definition that defines how to add two numbers `a` and `b`.\n",
    "\n",
    "**Function Call:**\n",
    "- A function call is where you invoke or execute a previously defined function with specific arguments.\n",
    "- It consists of the function's name followed by a set of parentheses that enclose the function's arguments, if any.\n",
    "- When a function is called, the program jumps to the function's definition and executes the code inside it using the provided arguments.\n",
    "- Function calls are how you use the defined functions to perform specific tasks or computations.\n",
    "- Function calls result in the actual execution of the function's code and can return values or perform actions based on the code defined in the function.\n",
    "\n",
    "Here's an example of a function call:\n",
    "\n",
    "```python\n",
    "result = add(5, 3)\n",
    "```\n",
    "\n",
    "In this example, `add(5, 3)` is a function call that executes the `add` function with arguments `5` and `3`, and assigns the result to the variable `result`.\n",
    "\n",
    "In summary, a function definition defines the structure and behavior of a function, while a function call invokes the defined function with specific arguments to execute the code within the function. The distinction between the two is essential for organizing and reusing code effectively in Python programs."
   ]
  },
  {
   "cell_type": "code",
   "execution_count": 147,
   "id": "0e8bff3a",
   "metadata": {},
   "outputs": [
    {
     "data": {
      "text/plain": [
       "5"
      ]
     },
     "execution_count": 147,
     "metadata": {},
     "output_type": "execute_result"
    }
   ],
   "source": [
    "# 4.Write a Python program that defines a function to calculate the sum of two numbers and then calls the function.\n",
    "\n",
    "def add(a,b):\n",
    "    return a+b\n",
    "\n",
    "add(2,3)"
   ]
  },
  {
   "cell_type": "markdown",
   "id": "aa340583",
   "metadata": {},
   "source": [
    "**# 5.What is a function signature, and what information does it typically include?**\n",
    "\n",
    "\n",
    "A function signature, also known as a function prototype or function declaration, is a way of specifying important information about a function without providing its complete implementation. It typically includes the following information:\n",
    "\n",
    "1. **Function Name**: The name that identifies the function. It must be unique within the program's scope.\n",
    "\n",
    "2. **Return Type**: The data type of the value that the function returns when it is called. It can be any valid data type in the programming language.\n",
    "\n",
    "3. **Parameter List**: The list of parameters (also known as arguments) that the function accepts when it is called. Each parameter is specified with its data type and name. If the function takes no parameters, the parameter list is usually empty, but you still include empty parentheses `()`.\n",
    "\n",
    "Here's a general format for a function signature:\n",
    "\n",
    "```python\n",
    "return_type function_name(parameter1_type parameter1_name, parameter2_type parameter2_name, ...)\n",
    "```\n",
    "\n",
    "In Python, you don't explicitly specify data types in the function signature, which makes Python dynamically typed. However, in statically typed languages like C or C++, data types are explicitly included in the function signature.\n",
    "\n",
    "Here's an example of a function signature in Python:\n",
    "\n",
    "```python\n",
    "def add_numbers(a, b):\n",
    "    \"\"\"\n",
    "        This is a function signature.\n",
    "\n",
    "        Parameters:\n",
    "        - a (int): First integer input\n",
    "        - b (int): Second integer input\n",
    "\n",
    "        Returns:\n",
    "        int: The sum of a and b\n",
    "    \"\"\"\n",
    "```\n",
    "\n",
    "In this example, the function signature includes the function name `add_numbers`, the parameter list `(a, b)`, and the return type `int`. Additionally, there's a docstring that provides documentation about the function, describing its purpose, parameters, and return value.\n",
    "\n",
    "Function signatures are essential because they convey crucial information about how to use a function correctly, including the types of arguments it accepts and the type of value it returns. This information is valuable for both the function's author and anyone who uses the function in their code, as it helps ensure that the function is used correctly and effectively."
   ]
  },
  {
   "cell_type": "code",
   "execution_count": 148,
   "id": "24e4c367",
   "metadata": {},
   "outputs": [
    {
     "data": {
      "text/plain": [
       "6"
      ]
     },
     "execution_count": 148,
     "metadata": {},
     "output_type": "execute_result"
    }
   ],
   "source": [
    "# 6.Create a Python function that takes two arguments and returns their product.\n",
    "\n",
    "def multiplication(a,b):\n",
    "    return a*b\n",
    "\n",
    "multiplication(2,3)"
   ]
  },
  {
   "cell_type": "markdown",
   "id": "7b0f52b1",
   "metadata": {},
   "source": [
    "#"
   ]
  },
  {
   "cell_type": "markdown",
   "id": "817c388b",
   "metadata": {},
   "source": [
    "# Function Parameters and Arguments"
   ]
  },
  {
   "cell_type": "markdown",
   "id": "ce1af45a",
   "metadata": {},
   "source": [
    "# "
   ]
  },
  {
   "cell_type": "markdown",
   "id": "345fcbeb",
   "metadata": {},
   "source": [
    "**# 1.Explain the concepts of formal parameters and actual arguments in Python functions.**\n",
    "\n",
    "In Python functions, there are two important concepts related to the passing of data: formal parameters and actual arguments.\n",
    "\n",
    "**Formal Parameters (Parameters):**\n",
    "- Formal parameters are placeholders in a function's definition that represent the data that the function expects to receive when it is called.\n",
    "- They are declared as part of the function's definition and serve as variables used within the function's code.\n",
    "- Formal parameters are enclosed in the parentheses following the function's name in its definition.\n",
    "- They are used to specify what kind of data the function requires to perform its task.\n",
    "- Formal parameters have names, and these names are used to refer to the corresponding arguments when the function is called.\n",
    "\n",
    "Here's an example of a function definition with formal parameters:\n",
    "\n",
    "```python\n",
    "def greet(name):\n",
    "    print(f\"Hello, {name}!\")\n",
    "```\n",
    "\n",
    "In this function, `name` is a formal parameter.\n",
    "\n",
    "**Actual Arguments (Arguments):**\n",
    "- Actual arguments are the values or expressions that are passed to a function when it is called.\n",
    "- They correspond to the formal parameters defined in the function's signature.\n",
    "- Actual arguments are provided in the parentheses when the function is called.\n",
    "- They supply the actual data that the function will work with while executing its code.\n",
    "- The number and order of actual arguments must match the number and order of formal parameters in the function's definition.\n",
    "\n",
    "Here's an example of calling the `greet` function with actual arguments:\n",
    "\n",
    "```python\n",
    "greet(\"Alice\")\n",
    "```\n",
    "\n",
    "In this function call, `\"Alice\"` is an actual argument that gets assigned to the `name` formal parameter.\n",
    "\n",
    "To summarize, formal parameters are placeholders in a function's definition that represent the data the function expects to receive, while actual arguments are the values or expressions provided to the function when it is called, and they correspond to the formal parameters. The relationship between formal parameters and actual arguments allows you to pass data into functions and work with that data within the function's code."
   ]
  },
  {
   "cell_type": "code",
   "execution_count": 149,
   "id": "37ac7331",
   "metadata": {},
   "outputs": [],
   "source": [
    "# 2.Write a Python program that defines a function with default argument values.\n",
    "\n",
    "def function_with_defafult(course = \"DS pro batch\"):\n",
    "    # do something \n",
    "    pass"
   ]
  },
  {
   "cell_type": "markdown",
   "id": "709495d6",
   "metadata": {},
   "source": [
    "# "
   ]
  },
  {
   "cell_type": "markdown",
   "id": "cd27153b",
   "metadata": {},
   "source": [
    "**# 3.How do you use keyword arguments in Python function calls? Provide an example.**\n",
    "\n",
    "In Python, you can use keyword arguments in function calls to specify arguments by their parameter names, rather than relying on the order in which the parameters are defined in the function's signature. This allows for greater clarity and flexibility when calling functions, especially when dealing with functions that have a large number of parameters or default values.\n",
    "\n",
    "Here's the general syntax for using keyword arguments in function calls:\n",
    "\n",
    "```python\n",
    "function_name(param1=value1, param2=value2, ...)\n",
    "```\n",
    "\n",
    "Here's an example:\n",
    "\n",
    "```python\n",
    "def greet(name, greeting):\n",
    "    print(f\"{greeting}, {name}!\")\n",
    "\n",
    "# Using keyword arguments to call the function\n",
    "greet(name=\"Alice\", greeting=\"Hello\")\n",
    "```\n",
    "\n",
    "In this example, we have a `greet` function that takes two parameters, `name` and `greeting`. When we call the function, we use keyword arguments to specify the values for these parameters. The order of the keyword arguments does not need to match the order of the parameters in the function definition.\n",
    "\n",
    "Keyword arguments provide several advantages:\n",
    "\n",
    "1. **Clarity**: When calling functions with many parameters, using keyword arguments makes the code more self-explanatory and easier to read because it explicitly states the purpose of each argument.\n",
    "\n",
    "2. **Flexibility**: You can skip some arguments by providing values only for the parameters you want to set. This is especially useful when a function has default values for some parameters.\n",
    "\n",
    "3. **Order Independence**: Keyword arguments allow you to provide arguments in any order, making it easier to adjust the function call without worrying about positional ordering.\n",
    "\n",
    "Here's an example that demonstrates the flexibility of keyword arguments:\n",
    "\n",
    "```python\n",
    "def describe_person(name, age, city=\"Unknown\"):\n",
    "    print(f\"{name} is {age} years old and lives in {city}.\")\n",
    "\n",
    "# Using keyword arguments with a mix of positional and default values\n",
    "describe_person(age=30, name=\"Alice\")\n",
    "```\n",
    "\n",
    "In this example, we've mixed positional arguments (`age` and `name`) with a keyword argument (`city`). This demonstrates how you can provide values for some parameters using their names while accepting the default value for others.\n",
    "\n",
    "Using keyword arguments can lead to more readable and maintainable code, especially in cases where functions have many parameters or when you want to be explicit about the values you're passing.\n",
    "\n",
    "\n"
   ]
  },
  {
   "cell_type": "code",
   "execution_count": 152,
   "id": "52e1747c",
   "metadata": {},
   "outputs": [
    {
     "data": {
      "text/plain": [
       "15"
      ]
     },
     "execution_count": 152,
     "metadata": {},
     "output_type": "execute_result"
    }
   ],
   "source": [
    "# 4.Create a Python function that accepts a variable number of arguments and calculates their sum.\n",
    "\n",
    "def sum_(*args):\n",
    "    return sum(*args)\n",
    "\n",
    "ls = [1,2,3,5,4]\n",
    "sum_(ls)"
   ]
  },
  {
   "cell_type": "markdown",
   "id": "5f23e35c",
   "metadata": {},
   "source": [
    "#"
   ]
  },
  {
   "cell_type": "markdown",
   "id": "43bfe1a9",
   "metadata": {},
   "source": [
    "**# 5.What is the purpose of the `*args` and `**kwargs` syntax in function parameter lists?**\n",
    "\n",
    "The `*args` and `**kwargs` syntax in function parameter lists are used to work with a variable number of arguments in Python functions. They provide flexibility when defining functions that can accept an arbitrary number of positional arguments and keyword arguments, respectively.\n",
    "\n",
    "> **`*args` (Arbitrary Positional Arguments):**\n",
    "   - The `*args` syntax allows you to pass a variable number of positional arguments to a function.\n",
    "   - The `*` before `args` unpacks the arguments into a tuple within the function, making it accessible as a sequence of values.\n",
    "   - You can use any name instead of `args`, but the `*` symbol is required to indicate that it's for arbitrary positional arguments.\n",
    "   - This is useful when you want to create functions that can accept a varying number of arguments without specifying them individually.\n",
    "\n",
    "   Here's an example:\n",
    "\n",
    "   ```python\n",
    "   def add_numbers(*args):\n",
    "       result = 0\n",
    "       for num in args:\n",
    "           result += num\n",
    "       return result\n",
    "\n",
    "   sum_result = add_numbers(1, 2, 3, 4, 5)\n",
    "   print(sum_result)  # Output: 15\n",
    "   ```\n",
    "\n",
    "> **`**kwargs` (Arbitrary Keyword Arguments):**\n",
    "   - The `**kwargs` syntax allows you to pass a variable number of keyword arguments to a function.\n",
    "   - The `**` before `kwargs` unpacks the keyword arguments into a dictionary within the function, making it accessible as a collection of key-value pairs.\n",
    "   - You can use any name instead of `kwargs`, but the `**` symbol is required to indicate that it's for arbitrary keyword arguments.\n",
    "   - This is useful when you want to create functions that can accept a varying number of named arguments without specifying them individually.\n",
    "\n",
    "   Here's an example:\n",
    "\n",
    "   ```python\n",
    "   def print_info(**kwargs):\n",
    "       for key, value in kwargs.items():\n",
    "           print(f\"{key}: {value}\")\n",
    "\n",
    "   print_info(name=\"Alice\", age=30, city=\"Wonderland\")\n",
    "   # Output:\n",
    "   # name: Alice\n",
    "   # age: 30\n",
    "   # city: Wonderland\n",
    "   ```\n",
    "\n",
    "Using `*args` and `**kwargs` provides flexibility and makes your code more versatile when defining functions that need to handle different numbers of arguments. They are particularly useful when creating generic utility functions or decorators that work with functions of varying parameter lists."
   ]
  },
  {
   "cell_type": "markdown",
   "id": "bca4916f",
   "metadata": {},
   "source": [
    "# "
   ]
  },
  {
   "cell_type": "markdown",
   "id": "2464d15f",
   "metadata": {},
   "source": [
    "# Return Values and Scoping"
   ]
  },
  {
   "cell_type": "markdown",
   "id": "47989e6a",
   "metadata": {},
   "source": [
    "# "
   ]
  },
  {
   "cell_type": "markdown",
   "id": "e67f0829",
   "metadata": {},
   "source": [
    "**# 1.Describe the role of the `return` statement in Python functions and provide examples.**\n",
    "\n",
    "The `return` statement in Python functions is used to specify the value or values that a function should return when it is called. It allows functions to produce results or data that can be used in the calling code. The `return` statement is crucial for functions because it determines what the function \"gives back\" to the caller.\n",
    "\n",
    "Here are key points about the role of the `return` statement:\n",
    "\n",
    "1. **Value Return**: The primary purpose of the `return` statement is to return a value or expression. This value can be of any data type, including numbers, strings, lists, dictionaries, objects, and more.\n",
    "\n",
    "2. **Exit Function**: When a `return` statement is encountered in a function, the function immediately exits, and the control flow returns to the point where the function was called. Any code following the `return` statement within the function is not executed.\n",
    "\n",
    "3. **Optional**: Not all functions in Python are required to have a `return` statement. Functions can be designed to perform actions or modify data without producing a return value. In such cases, the function may not have a `return` statement, or it may use `return` without specifying a value (e.g., `return` with no expression).\n",
    "\n",
    "Here are some examples of functions with `return` statements:\n",
    "\n",
    "```python\n",
    "# Function to add two numbers and return the result\n",
    "def add(a, b):\n",
    "    result = a + b\n",
    "    return result\n",
    "\n",
    "# Function to calculate the factorial of a number and return it\n",
    "def factorial(n):\n",
    "    if n == 0:\n",
    "        return 1\n",
    "    else:\n",
    "        result = 1\n",
    "        for i in range(1, n + 1):\n",
    "            result *= i\n",
    "        return result\n",
    "\n",
    "# Function to check if a number is even and return True or False\n",
    "def is_even(num):\n",
    "    if num % 2 == 0:\n",
    "        return True\n",
    "    else:\n",
    "        return False\n",
    "```\n",
    "\n",
    "In these examples:\n",
    "\n",
    "- The `add` function returns the result of adding two numbers.\n",
    "- The `factorial` function calculates the factorial of a number and returns the result.\n",
    "- The `is_even` function checks if a number is even and returns a Boolean value (`True` or `False`).\n",
    "\n",
    "When these functions are called, you can capture and use the returned values:\n",
    "\n",
    "```python\n",
    "result1 = add(3, 5)         # result1 is 8\n",
    "result2 = factorial(4)      # result2 is 24\n",
    "result3 = is_even(7)        # result3 is False\n",
    "```\n",
    "\n",
    "In summary, the `return` statement is used to specify the value that a function should produce and return to the caller. It allows functions to provide results and data that can be used in the broader context of a program.\n"
   ]
  },
  {
   "cell_type": "markdown",
   "id": "7a7dd07b",
   "metadata": {},
   "source": [
    "#"
   ]
  },
  {
   "cell_type": "markdown",
   "id": "f191d362",
   "metadata": {},
   "source": [
    "**# 2.Explain the concept of variable scope in Python, including local and global variables.**\n",
    "Variable scope in Python refers to the rules and boundaries that determine where in your code a variable can be accessed or modified. Python has two primary types of variable scope: local scope and global scope.\n",
    "\n",
    "> **Local Scope:**\n",
    "   - Variables defined within a function are said to have local scope. They are accessible only within the function in which they are defined.\n",
    "   - Local variables are created when a function is called and destroyed when the function exits. They are temporary and exist only during the execution of the function.\n",
    "   - Local variables cannot be accessed from outside the function in which they are defined, and they are not visible to other functions or code blocks.\n",
    "\n",
    "   Example:\n",
    "\n",
    "   ```python\n",
    "   def my_function():\n",
    "       x = 10  # 'x' is a local variable\n",
    "       print(x)\n",
    "\n",
    "   my_function()  # Call the function\n",
    "   print(x)  # This will raise an error because 'x' is not defined in this scope\n",
    "   ```\n",
    "\n",
    "> **Global Scope:**\n",
    "   - Variables defined outside of any function or code block have global scope. They are accessible from any part of the program, including functions.\n",
    "   - Global variables are typically defined at the top level of a script or module and persist throughout the program's execution.\n",
    "   - Global variables can be accessed and modified from within functions, but you need to use the `global` keyword to indicate that you are working with a global variable inside a function.\n",
    "\n",
    "   Example:\n",
    "\n",
    "   ```python\n",
    "   y = 20  # 'y' is a global variable\n",
    "\n",
    "   def my_function():\n",
    "       global y\n",
    "       print(y)  # Access the global variable 'y'\n",
    "       y = 30     # Modify the global variable 'y'\n",
    "\n",
    "   my_function()\n",
    "   print(y)  # The global variable 'y' has been modified by the function\n",
    "   ```\n",
    "\n",
    "> **Scope Hierarchy:**\n",
    "   - Python follows a hierarchy of variable scope. Local variables have the highest priority within their enclosing function, which means they shadow (hide) any global variables with the same name.\n",
    "   - If a variable is not found in the local scope, Python searches for it in the enclosing scopes, including any containing functions or the global scope.\n",
    "   - If the variable is not found in any local or enclosing scope, Python raises a `NameError` indicating that the variable is not defined.\n",
    "\n",
    "   Example:\n",
    "\n",
    "   ```python\n",
    "   z = 50  # 'z' is a global variable\n",
    "\n",
    "   def my_function():\n",
    "       z = 60  # 'z' is a local variable with the same name\n",
    "       print(z)  # This prints the local variable 'z'\n",
    "\n",
    "   my_function()\n",
    "   print(z)  # This prints the global variable 'z'\n",
    "   ```\n",
    "\n",
    "Understanding variable scope is essential for writing clean and bug-free code. It helps you control the visibility and accessibility of variables in your program and prevents unintended side effects or conflicts between local and global variables."
   ]
  },
  {
   "cell_type": "code",
   "execution_count": 174,
   "id": "ab078030",
   "metadata": {},
   "outputs": [
    {
     "name": "stdout",
     "output_type": "stream",
     "text": [
      "This call is from outside the function. global variable is: 10\n"
     ]
    }
   ],
   "source": [
    "# 3.Write a Python program that demonstrates the use of global variables within functions.\n",
    "\n",
    "def demo():\n",
    "    global var\n",
    "    var = 10\n",
    "    \n",
    "    \n",
    "print(\"This call is from outside the function. global variable is:\",var)\n"
   ]
  },
  {
   "cell_type": "code",
   "execution_count": 175,
   "id": "fd0a2eb4",
   "metadata": {},
   "outputs": [
    {
     "data": {
      "text/plain": [
       "120"
      ]
     },
     "execution_count": 175,
     "metadata": {},
     "output_type": "execute_result"
    }
   ],
   "source": [
    "# 4.Create a Python function that calculates the factorial of a number and returns it.\n",
    "\n",
    "def fact(n):\n",
    "    if n==0:\n",
    "        return 1\n",
    "    return n * fact(n-1)\n",
    "fact(5)"
   ]
  },
  {
   "cell_type": "code",
   "execution_count": 176,
   "id": "44631678",
   "metadata": {},
   "outputs": [
    {
     "name": "stdout",
     "output_type": "stream",
     "text": [
      "This call is from inside the function. variable is: 10\n"
     ]
    }
   ],
   "source": [
    "# 5.How can you access variables defined outside a function from within the function?\n",
    "\n",
    "var = 10\n",
    "\n",
    "def demo():\n",
    "    print(\"This call is from inside the function. variable is:\",var)\n",
    "\n",
    "demo()"
   ]
  },
  {
   "cell_type": "markdown",
   "id": "ed48e3b1",
   "metadata": {},
   "source": [
    "#"
   ]
  },
  {
   "cell_type": "markdown",
   "id": "312b57e4",
   "metadata": {},
   "source": [
    "# Lambda Functions and Higher-Order Functions"
   ]
  },
  {
   "cell_type": "markdown",
   "id": "f2c4ed41",
   "metadata": {},
   "source": [
    "#"
   ]
  },
  {
   "cell_type": "markdown",
   "id": "381ad002",
   "metadata": {},
   "source": [
    "**# 1.What are lambda functions in Python, and when are they typically used?**\n",
    "\n",
    "In Python, a lambda function (also known as a lambda expression) is a small, anonymous function defined using the `lambda` keyword. Lambda functions are typically used for short, simple operations where you don't want to define a full-fledged named function using the `def` keyword.\n",
    "\n",
    "Here are key characteristics and use cases for lambda functions in Python:\n",
    "\n",
    "1. **Anonymous Functions:** Lambda functions are anonymous, meaning they are defined without a name. Instead, they are expressed as a single line of code.\n",
    "\n",
    "2. **Single Expression:** Lambda functions are limited to a single expression, which is evaluated and returned as the result of the function.\n",
    "\n",
    "3. **Syntax:** The syntax for a lambda function is as follows:\n",
    "   ```\n",
    "   lambda arguments: expression\n",
    "   ```\n",
    "\n",
    "   - `arguments` are the input parameters, similar to those in a regular function.\n",
    "   - `expression` is the operation or calculation that the lambda function performs. The result of the expression is automatically returned by the lambda function.\n",
    "\n",
    "4. **No Statements:** Lambda functions cannot contain statements or multiple expressions. They are intended for simple operations only.\n",
    "\n",
    "Lambda functions are typically used in the following scenarios:\n",
    "\n",
    "- **Short, Simple Operations:** Use lambda functions for small, straightforward operations where defining a full function using `def` would be overkill. For example, sorting a list of tuples based on the second element:\n",
    "\n",
    "  ```python\n",
    "  data = [(3, 5), (1, 2), (4, 1)]\n",
    "  sorted_data = sorted(data, key=lambda x: x[1])\n",
    "  ```\n",
    "\n",
    "- **As Arguments to Higher-Order Functions:** Lambda functions are often used as arguments to higher-order functions like `map()`, `filter()`, and `sorted()`. These functions accept other functions as arguments, making lambda functions a convenient way to define simple operations on the fly.\n",
    "\n",
    "  ```python\n",
    "  numbers = [1, 2, 3, 4, 5]\n",
    "  \n",
    "  # Using lambda with map to square each element\n",
    "  squared = list(map(lambda x: x**2, numbers))\n",
    "  \n",
    "  # Using lambda with filter to select even numbers\n",
    "  evens = list(filter(lambda x: x % 2 == 0, numbers))\n",
    "  ```\n",
    "\n",
    "- **In Functional Programming:** Lambda functions are commonly used in functional programming paradigms where functions are treated as first-class citizens. They allow you to define and pass functions as arguments to other functions, making code more concise and expressive.\n",
    "\n",
    "While lambda functions are handy for quick and simple operations, it's important to note that they have limitations, especially when compared to full named functions defined with `def`. They are not suitable for complex logic or functions with multiple statements. For more complex operations, it's recommended to use regular named functions."
   ]
  },
  {
   "cell_type": "markdown",
   "id": "b877a278",
   "metadata": {},
   "source": [
    "#"
   ]
  },
  {
   "cell_type": "code",
   "execution_count": 191,
   "id": "73e559c8",
   "metadata": {},
   "outputs": [
    {
     "name": "stdout",
     "output_type": "stream",
     "text": [
      "(4, 1)\n",
      "(1, 2)\n",
      "(2, 4)\n",
      "(3, 5)\n"
     ]
    }
   ],
   "source": [
    "# 2.Write a Python program that uses lambda functions to sort a list of tuples based on the second element.\n",
    "\n",
    "# List of tuples\n",
    "data = [(3, 5), (1, 2), (4, 1), (2, 4)]\n",
    "# Sort the list based on the second element of each tuple\n",
    "sorted_data = sorted(data, key=lambda x: x[1])\n",
    "# Print the sorted list\n",
    "for item in sorted_data:\n",
    "    print(item)"
   ]
  },
  {
   "cell_type": "markdown",
   "id": "9195bfba",
   "metadata": {},
   "source": [
    "#"
   ]
  },
  {
   "cell_type": "markdown",
   "id": "ea73a0bb",
   "metadata": {},
   "source": [
    "**# 3.Explain the concept of higher-order functions in Python, and provide an example.**\n",
    "\n",
    "In Python, a higher-order function is a function that takes one or more functions as arguments or returns a function as its result. In other words, it treats functions as first-class citizens, allowing you to work with them in a flexible and modular way. Higher-order functions are a fundamental concept in functional programming and can lead to more concise and expressive code.\n",
    "\n",
    "Here are the key concepts related to higher-order functions:\n",
    "\n",
    "> **Functions as First-Class Citizens:** In languages that support this concept, like Python, functions are treated just like any other data type. You can assign them to variables, pass them as arguments to other functions, and return them from functions.\n",
    "\n",
    "> **Functions as Arguments:** A higher-order function can accept other functions as arguments. These functions are often referred to as \"callback\" functions because they are called back by the higher-order function to perform specific tasks.\n",
    "\n",
    "> **Functions as Return Values:** A higher-order function can also return another function as its result. This allows you to create and return functions on-the-fly based on certain conditions or parameters.\n",
    "\n",
    "Here's an example of a higher-order function in Python:\n",
    "\n",
    "```python\n",
    "def apply_operation(operation, x, y):\n",
    "    \"\"\"\n",
    "    Apply a binary operation to two numbers.\n",
    "\n",
    "    Parameters:\n",
    "    operation (function): The binary operation to apply.\n",
    "    x (int): The first number.\n",
    "    y (int): The second number.\n",
    "\n",
    "    Returns:\n",
    "    int: The result of applying the operation to x and y.\n",
    "    \"\"\"\n",
    "    return operation(x, y)\n",
    "\n",
    "# Define some binary operation functions\n",
    "def add(x, y):\n",
    "    return x + y\n",
    "\n",
    "def subtract(x, y):\n",
    "    return x - y\n",
    "\n",
    "def multiply(x, y):\n",
    "    return x * y\n",
    "\n",
    "# Use the higher-order function to perform different operations\n",
    "result1 = apply_operation(add, 5, 3)         # result1 is 8\n",
    "result2 = apply_operation(subtract, 10, 4)   # result2 is 6\n",
    "result3 = apply_operation(multiply, 7, 2)    # result3 is 14\n",
    "```\n",
    "\n",
    "In this example:\n",
    "\n",
    "- `apply_operation` is a higher-order function that takes three arguments: `operation`, `x`, and `y`. The `operation` argument is expected to be a binary operation function.\n",
    "- Three binary operation functions (`add`, `subtract`, and `multiply`) are defined.\n",
    "- The higher-order function `apply_operation` is used to apply these binary operations to pairs of numbers, demonstrating how it can accept different operations as arguments.\n",
    "\n",
    "Higher-order functions like `apply_operation` make code more modular and flexible. They enable you to pass behavior as well as data between functions, making it easier to create reusable and customizable code."
   ]
  },
  {
   "cell_type": "markdown",
   "id": "18e2e96a",
   "metadata": {},
   "source": [
    "#"
   ]
  },
  {
   "cell_type": "markdown",
   "id": "69be6895",
   "metadata": {},
   "source": [
    "**# 4.Create a Python function that takes a list of numbers and a function as arguments, applying the function to each element in the list.**\n",
    "\n",
    "You can create a Python function that takes a list of numbers and a function as arguments and applies the function to each element in the list using a loop or a list comprehension. Here's an example of such a function:\n",
    "\n",
    "```python\n",
    "def apply_function_to_list(numbers, func):\n",
    "    \"\"\"\n",
    "    Apply a given function to each element in a list of numbers.\n",
    "\n",
    "    Parameters:\n",
    "    numbers (list): The list of numbers.\n",
    "    func (function): The function to apply to each element.\n",
    "\n",
    "    Returns:\n",
    "    list: A new list containing the results of applying the function to each element.\n",
    "    \"\"\"\n",
    "    result = []\n",
    "    for num in numbers:\n",
    "        result.append(func(num))\n",
    "    return result\n",
    "\n",
    "# Define a sample function to apply\n",
    "def square(x):\n",
    "    return x ** 2\n",
    "\n",
    "# List of numbers\n",
    "numbers = [1, 2, 3, 4, 5]\n",
    "\n",
    "# Apply the 'square' function to each element in the list\n",
    "squared_numbers = apply_function_to_list(numbers, square)\n",
    "\n",
    "print(squared_numbers)  # Output: [1, 4, 9, 16, 25]\n",
    "```\n",
    "\n",
    "In this example:\n",
    "\n",
    "- The `apply_function_to_list` function takes two arguments: `numbers`, which is the list of numbers, and `func`, which is the function to be applied to each element in the list.\n",
    "- Inside the function, a new list called `result` is initialized to store the results of applying the function.\n",
    "- The function iterates over each element in the `numbers` list using a `for` loop and applies the `func` to each element, appending the result to the `result` list.\n",
    "- Finally, the `result` list containing the results of applying the function to each element is returned.\n",
    "\n",
    "You can use this `apply_function_to_list` function with different functions and lists to apply various operations to the elements of the list. It provides a flexible way to apply functions to lists of data.\n"
   ]
  },
  {
   "cell_type": "markdown",
   "id": "09b9b58a",
   "metadata": {},
   "source": [
    "#"
   ]
  },
  {
   "cell_type": "markdown",
   "id": "84a45ef6",
   "metadata": {},
   "source": [
    "#"
   ]
  },
  {
   "cell_type": "markdown",
   "id": "cf09649c",
   "metadata": {},
   "source": [
    "# Built-in Functions"
   ]
  },
  {
   "cell_type": "markdown",
   "id": "60650527",
   "metadata": {},
   "source": [
    "#"
   ]
  },
  {
   "cell_type": "markdown",
   "id": "c2418dc5",
   "metadata": {},
   "source": [
    "**# 1.Describe the role of built-in functions like `len()`, `max()`, and `min()` in Python.**\n",
    "\n",
    "Built-in functions like `len()`, `max()`, and `min()` in Python are essential tools for performing common operations on data structures and values. They provide convenient ways to obtain information or perform calculations without the need for custom code. Here's a description of the role of each of these functions:\n",
    "\n",
    "1. **`len()` Function:**\n",
    "   - The `len()` function is used to determine the length or number of elements in a sequence or container, such as a string, list, tuple, dictionary, or set.\n",
    "   - It takes one argument, which can be any iterable object.\n",
    "   - The function returns an integer representing the number of items in the iterable.\n",
    "   - Example:\n",
    "\n",
    "     ```python\n",
    "     my_list = [1, 2, 3, 4, 5]\n",
    "     length = len(my_list)  # length is 5\n",
    "     ```\n",
    "\n",
    "2. **`max()` Function:**\n",
    "   - The `max()` function is used to find the maximum (largest) value among a set of values or elements.\n",
    "   - It can accept multiple arguments or an iterable.\n",
    "   - When provided with multiple arguments, it returns the largest of them.\n",
    "   - When provided with an iterable, it returns the largest element within the iterable.\n",
    "   - Example:\n",
    "\n",
    "     ```python\n",
    "     numbers = [3, 1, 4, 1, 5, 9, 2, 6, 5]\n",
    "     max_value = max(numbers)  # max_value is 9\n",
    "     ```\n",
    "\n",
    "3. **`min()` Function:**\n",
    "   - The `min()` function is used to find the minimum (smallest) value among a set of values or elements.\n",
    "   - Similar to `max()`, it can accept multiple arguments or an iterable.\n",
    "   - When provided with multiple arguments, it returns the smallest of them.\n",
    "   - When provided with an iterable, it returns the smallest element within the iterable.\n",
    "   - Example:\n",
    "\n",
    "     ```python\n",
    "     numbers = [3, 1, 4, 1, 5, 9, 2, 6, 5]\n",
    "     min_value = min(numbers)  # min_value is 1\n",
    "     ```\n",
    "\n",
    "These built-in functions are versatile and can be used in a wide range of scenarios. They are especially helpful when working with collections of data to quickly obtain information about the data's size, maximum, or minimum values without writing custom code to iterate through the data manually. These functions contribute to code simplicity and readability while improving efficiency."
   ]
  },
  {
   "cell_type": "code",
   "execution_count": 187,
   "id": "b93570d2",
   "metadata": {},
   "outputs": [
    {
     "name": "stdout",
     "output_type": "stream",
     "text": [
      "[1, 4, 9, 16, 25]\n"
     ]
    }
   ],
   "source": [
    "# 2.Write a Python program that uses the `map()` function to apply a function to each element of a list.\n",
    "\n",
    "# Function to calculate the square of a number\n",
    "def square(x):\n",
    "    return x * x\n",
    "\n",
    "# List of numbers\n",
    "numbers = [1, 2, 3, 4, 5]\n",
    "\n",
    "# Use map() to apply the square function to each element of the list\n",
    "squared_numbers = map(square, numbers)\n",
    "\n",
    "# Convert the result to a list (optional, as map() returns an iterator)\n",
    "squared_numbers_list = list(squared_numbers)\n",
    "\n",
    "# Print the squared numbers\n",
    "print(squared_numbers_list)"
   ]
  },
  {
   "cell_type": "markdown",
   "id": "7eac7efe",
   "metadata": {},
   "source": [
    "#"
   ]
  },
  {
   "cell_type": "markdown",
   "id": "e948617a",
   "metadata": {},
   "source": [
    "**# 3.How does the `filter()` function work in Python, and when would you use it?**\n",
    "\n",
    "\n",
    "The `filter()` function in Python is used to filter elements from an iterable (e.g., a list, tuple, or any other iterable) based on a specified condition. It creates a new iterable that contains only the elements for which the provided condition or function returns `True`. In other words, it is used to selectively include or exclude elements from the original iterable.\n",
    "\n",
    "Here's the basic syntax of the `filter()` function:\n",
    "\n",
    "```python\n",
    "filter(function, iterable)\n",
    "```\n",
    "\n",
    "- `function`: A function that defines the condition for filtering. This function should return `True` for elements you want to include in the filtered iterable and `False` for elements you want to exclude.\n",
    "- `iterable`: The iterable from which elements are filtered.\n",
    "\n",
    "Here's an example of how to use the `filter()` function to filter even numbers from a list:\n",
    "\n",
    "```python\n",
    "# Define a function to check if a number is even\n",
    "def is_even(x):\n",
    "    return x % 2 == 0\n",
    "\n",
    "# List of numbers\n",
    "numbers = [1, 2, 3, 4, 5, 6, 7, 8, 9, 10]\n",
    "\n",
    "# Use filter() to filter even numbers from the list\n",
    "even_numbers = list(filter(is_even, numbers))\n",
    "\n",
    "# Output the result\n",
    "print(\"Even numbers:\", even_numbers)\n",
    "```\n",
    "\n",
    "In this example, we define the `is_even()` function, which returns `True` if a number is even (i.e., divisible by 2) and `False` otherwise. We then use the `filter()` function with this function to filter even numbers from the `numbers` list. The result is a new list containing only the even numbers, which is printed as \"Even numbers.\"\n",
    "\n",
    "The `filter()` function is a useful tool for selecting elements from an iterable based on specific criteria, and it can be combined with lambda functions for more concise filtering.\n"
   ]
  },
  {
   "cell_type": "code",
   "execution_count": 188,
   "id": "13a6fc47",
   "metadata": {},
   "outputs": [
    {
     "data": {
      "text/plain": [
       "120"
      ]
     },
     "execution_count": 188,
     "metadata": {},
     "output_type": "execute_result"
    }
   ],
   "source": [
    "# 4.Create a Python program that uses the `reduce()` function to find the product of all elements in a list.\n",
    "\n",
    "from functools import reduce\n",
    "ls = [1,2,3,4,5]\n",
    "\n",
    "reduce(lambda a,b : a*b, ls)"
   ]
  },
  {
   "cell_type": "markdown",
   "id": "6376adae",
   "metadata": {},
   "source": [
    "#"
   ]
  },
  {
   "cell_type": "markdown",
   "id": "7e103e54",
   "metadata": {},
   "source": [
    "# Function Documentation and Best Practices"
   ]
  },
  {
   "cell_type": "markdown",
   "id": "9a4eb3cd",
   "metadata": {},
   "source": [
    "#"
   ]
  },
  {
   "cell_type": "markdown",
   "id": "cfae333e",
   "metadata": {},
   "source": [
    "**# 1.Explain the purpose of docstrings in Python functions and how to write them.**\n",
    "\n",
    "Docstrings in Python functions serve as a form of inline documentation, providing information about the function's purpose, usage, parameters, and return values. They are an essential part of writing maintainable and well-documented code. Here's the purpose and how to write docstrings:\n",
    "\n",
    "**Purpose of Docstrings:**\n",
    "1. **Documentation:** Docstrings provide a way to document your code, making it more understandable for both yourself and others who may read or use your code.\n",
    "2. **Clarity:** They offer a clear and concise explanation of what the function does, its input parameters, their data types, and the expected return values.\n",
    "3. **Accessibility:** Docstrings can be accessed programmatically, which is useful for generating documentation, creating help messages, or implementing tools like code analyzers or autocompletion in integrated development environments (IDEs).\n",
    "4. **Best Practices:** Writing docstrings is considered a best practice in Python development, as it promotes code readability, maintainability, and collaboration.\n",
    "\n",
    "**How to Write Docstrings:**\n",
    "- Docstrings are enclosed in triple quotes (single or double) and are placed immediately after the function definition.\n",
    "- There are conventions and styles for writing docstrings. The most commonly used style is the \"Google-style\" or \"numpy-style\" docstring, which includes a one-line summary followed by more detailed descriptions and sections for parameters, return values, and examples.\n",
    "- Here's an example of a well-structured docstring:\n",
    "\n",
    "```python\n",
    "def calculate_sum(a, b):\n",
    "    \"\"\"\n",
    "    Calculate the sum of two numbers.\n",
    "\n",
    "    Parameters:\n",
    "    a (int or float): The first number.\n",
    "    b (int or float): The second number.\n",
    "\n",
    "    Returns:\n",
    "    int or float: The sum of 'a' and 'b'.\n",
    "    \n",
    "    Example:\n",
    "    >>> calculate_sum(3, 4)\n",
    "    7\n",
    "    >>> calculate_sum(1.5, 2.5)\n",
    "    4.0\n",
    "    \"\"\"\n",
    "    return a + b\n",
    "```\n",
    "\n",
    "In this docstring:\n",
    "\n",
    "- The one-line summary provides a concise description of what the function does.\n",
    "- The \"Parameters\" section lists the function's input parameters, along with their data types and descriptions.\n",
    "- The \"Returns\" section explains what the function returns and its data type.\n",
    "- The \"Example\" section provides usage examples and expected output.\n",
    "\n",
    "Using descriptive and informative docstrings helps developers understand how to use the function correctly and encourages good coding practices. Additionally, tools like Python's built-in `help()` function and documentation generators can leverage docstrings to provide comprehensive documentation for your code."
   ]
  },
  {
   "cell_type": "markdown",
   "id": "e29f1290",
   "metadata": {},
   "source": [
    "#"
   ]
  },
  {
   "cell_type": "markdown",
   "id": "042eafc0",
   "metadata": {},
   "source": [
    "**# 2.Describe some best practices for naming functions and variables in Python, including naming conventions and guidelines.**\n",
    "\n",
    "Naming functions and variables in Python is a crucial aspect of writing clean, readable, and maintainable code. Following consistent naming conventions and guidelines helps improve code clarity and makes it easier for you and others to understand and work with the codebase. Here are some best practices for naming functions and variables in Python:\n",
    "\n",
    "**Use Descriptive and Meaningful Names:**\n",
    "   - Choose names that clearly and concisely describe the purpose or functionality of the function or variable.\n",
    "   - Avoid single-letter variable names (e.g., `x`, `y`) unless they are used as loop counters in short loops.\n",
    "   - Use full words or abbreviations that are widely understood within your domain.\n",
    "\n",
    "**Follow Naming Conventions:**\n",
    "   - Python has adopted naming conventions that are widely used and accepted. Two common conventions are:\n",
    "     - **CamelCase:** Use for naming classes (e.g., `MyClass`).\n",
    "     - **snake_case:** Use for naming functions, methods, variables, and module-level constants (e.g., `calculate_sum`, `user_age`).\n",
    "   - Stick to one naming convention consistently throughout your codebase.\n",
    "   - For module names, use lowercase and, if needed, underscores (e.g., `my_module.py`).\n",
    "\n",
    "\n",
    "**Avoid Confusing Names:**\n",
    "   - Avoid using names that are easily confused with other terms or built-in Python functions and keywords. For instance, avoid naming variables `list`, `str`, or `int`.\n",
    "\n",
    "**Use Singular Names for Single Objects and Plural Names for Collections:**\n",
    "   - Use singular names for variables that represent single objects (e.g., `user`), and use plural names for variables that represent collections (e.g., `users` for a list of users).\n",
    "\n",
    "**Prefix or Suffix for Special Variables:**\n",
    "   - Optionally, you can use prefixes or suffixes to indicate the type or purpose of special variables. For example, prefixing boolean variables with `is_` or suffixing iterators with `_list`.\n",
    "\n",
    "**Use Constants in Uppercase:**\n",
    "   - Constants, which are variables with values that don't change, should be named using uppercase letters and underscores (e.g., `PI`, `MAX_VALUE`).\n",
    "\n",
    "**Be Mindful of Scope:**\n",
    "   - Use variable names that reflect their scope. For instance, use different names for local and global variables to prevent naming conflicts.\n",
    "\n",
    "**Document Your Code:**\n",
    "    - Include descriptive docstrings for functions and comments for complex code sections. Good documentation helps clarify the purpose of functions and variables.\n",
    "\n",
    "**Consider PEP 8:**\n",
    "    - PEP 8 is the official Python style guide, which provides detailed recommendations for naming conventions and other coding style guidelines. Consider following PEP 8 for naming your functions and variables.\n",
    "\n",
    "In summary, consistent and meaningful naming of functions and variables is a fundamental practice in Python programming. It enhances code readability, maintainability, and collaboration, making your code more accessible and easier to work with for you and other developers."
   ]
  },
  {
   "cell_type": "markdown",
   "id": "cc80454f",
   "metadata": {},
   "source": [
    "#"
   ]
  },
  {
   "cell_type": "code",
   "execution_count": null,
   "id": "4b67e759",
   "metadata": {},
   "outputs": [],
   "source": []
  }
 ],
 "metadata": {
  "kernelspec": {
   "display_name": "Python 3 (ipykernel)",
   "language": "python",
   "name": "python3"
  },
  "language_info": {
   "codemirror_mode": {
    "name": "ipython",
    "version": 3
   },
   "file_extension": ".py",
   "mimetype": "text/x-python",
   "name": "python",
   "nbconvert_exporter": "python",
   "pygments_lexer": "ipython3",
   "version": "3.11.3"
  }
 },
 "nbformat": 4,
 "nbformat_minor": 5
}
