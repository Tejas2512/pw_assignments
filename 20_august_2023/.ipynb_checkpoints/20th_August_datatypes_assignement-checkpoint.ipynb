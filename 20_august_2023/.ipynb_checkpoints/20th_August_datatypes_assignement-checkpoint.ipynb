{
 "cells": [
  {
   "cell_type": "markdown",
   "id": "76b86118",
   "metadata": {},
   "source": [
    "# String Based Assignment Problem"
   ]
  },
  {
   "cell_type": "code",
   "execution_count": 1,
   "id": "bde5de5f",
   "metadata": {},
   "outputs": [
    {
     "name": "stdout",
     "output_type": "stream",
     "text": [
      "reverse string: lliks wp\n"
     ]
    }
   ],
   "source": [
    "# 1. Write a program to reverse a string.\n",
    "\n",
    "string = \"pw skill\"\n",
    "print(f\"reverse string: {string[::-1]}\")"
   ]
  },
  {
   "cell_type": "code",
   "execution_count": 2,
   "id": "d218e27d",
   "metadata": {},
   "outputs": [
    {
     "name": "stdout",
     "output_type": "stream",
     "text": [
      "string is not palindrome\n"
     ]
    }
   ],
   "source": [
    "# 2. Check if a string is a palindrome.\n",
    "\n",
    "string = \"pw skill\"\n",
    "if string == string[::-1]:\n",
    "    print(\"string is a palindrome\")\n",
    "else:\n",
    "    print(\"string is not palindrome\")"
   ]
  },
  {
   "cell_type": "code",
   "execution_count": 3,
   "id": "550f9760",
   "metadata": {},
   "outputs": [
    {
     "name": "stdout",
     "output_type": "stream",
     "text": [
      "upper case string: PW SKILL\n"
     ]
    }
   ],
   "source": [
    "# 3. Convert a string to uppercase.\n",
    "\n",
    "string = \"pw skill\"\n",
    "print(f\"upper case string: {string.upper()}\")"
   ]
  },
  {
   "cell_type": "code",
   "execution_count": 4,
   "id": "4d252884",
   "metadata": {},
   "outputs": [
    {
     "name": "stdout",
     "output_type": "stream",
     "text": [
      "lower case string: pw skill\n"
     ]
    }
   ],
   "source": [
    "# 4. Convert a string to lowercase.\n",
    "\n",
    "string = \"pw skill\"\n",
    "print(f\"lower case string: {string.lower()}\")"
   ]
  },
  {
   "cell_type": "code",
   "execution_count": 5,
   "id": "3f5e624d",
   "metadata": {},
   "outputs": [
    {
     "name": "stdout",
     "output_type": "stream",
     "text": [
      "number of vowels in given string: 1\n"
     ]
    }
   ],
   "source": [
    "# 5. Count the number of vowels in a string.\n",
    "\n",
    "sent = \"pw skill\"\n",
    "\n",
    "vowel = [\"a\", \"e\", \"i\" ,\"o\", \"u\"]\n",
    "\n",
    "ls = [v for v in sent.lower() if v in vowel]\n",
    "print(f\"number of vowels in given string: {len(ls)}\")"
   ]
  },
  {
   "cell_type": "code",
   "execution_count": 6,
   "id": "f0b316ff",
   "metadata": {},
   "outputs": [
    {
     "name": "stdout",
     "output_type": "stream",
     "text": [
      "number of consonants in given string: 7\n"
     ]
    }
   ],
   "source": [
    "# 6. Count the number of consonants in a string.\n",
    "\n",
    "sent = \"pw skill\"\n",
    "\n",
    "vowel = [\"a\", \"e\", \"i\" ,\"o\", \"u\"]\n",
    "\n",
    "ls = [v for v in sent.lower() if v not in vowel]\n",
    "print(f\"number of consonants in given string: {len(ls)}\")"
   ]
  },
  {
   "cell_type": "code",
   "execution_count": 7,
   "id": "75d8f0aa",
   "metadata": {},
   "outputs": [
    {
     "name": "stdout",
     "output_type": "stream",
     "text": [
      "Updated string: pwskill\n"
     ]
    }
   ],
   "source": [
    "# 7. Remove all whitespaces from a string.\n",
    "\n",
    "sent = \"pw skill\"\n",
    "\n",
    "print(f\"Updated string: {sent.replace(' ', '')}\")"
   ]
  },
  {
   "cell_type": "code",
   "execution_count": 8,
   "id": "0114bfb5",
   "metadata": {},
   "outputs": [
    {
     "name": "stdout",
     "output_type": "stream",
     "text": [
      "Length of string: 8\n"
     ]
    }
   ],
   "source": [
    "# 8. Find the length of a string without using the `len()` function\n",
    "\n",
    "sent = \"pw skill\"\n",
    "ct = 0\n",
    "for i in sent:\n",
    "    ct+=1 \n",
    "print(f\"Length of string: {ct}\")"
   ]
  },
  {
   "cell_type": "code",
   "execution_count": 9,
   "id": "e9aa3a5e",
   "metadata": {},
   "outputs": [
    {
     "name": "stdout",
     "output_type": "stream",
     "text": [
      "words available in sentence\n"
     ]
    }
   ],
   "source": [
    "# 9. Check if a string contains a specific word.\n",
    "\n",
    "word_to_search = \"pw\"\n",
    "sent = \"pw skill\"\n",
    "\n",
    "if word_to_search in sent:\n",
    "    print(\"words available in sentence\")\n",
    "else:\n",
    "    print(\"words not available in sentence\")"
   ]
  },
  {
   "cell_type": "code",
   "execution_count": 10,
   "id": "845ab93c",
   "metadata": {},
   "outputs": [
    {
     "name": "stdout",
     "output_type": "stream",
     "text": [
      "updated string: inueron skill\n"
     ]
    }
   ],
   "source": [
    "# 10. Replace a word in a string with another word.\n",
    "\n",
    "sent = \"pw skill\"\n",
    "replacing_word = \"inueron\"\n",
    "print(f\"updated string: {sent.replace('pw', replacing_word)}\")"
   ]
  },
  {
   "cell_type": "code",
   "execution_count": 11,
   "id": "16764547",
   "metadata": {},
   "outputs": [
    {
     "name": "stdout",
     "output_type": "stream",
     "text": [
      "The word 'pw' occurs 1 times in the sentence\n"
     ]
    }
   ],
   "source": [
    "# 11. Count the occurrences of a word in a string.\n",
    "\n",
    "sent = \"This assignement is given by pw skill\"\n",
    "word_to_count = \"pw\"\n",
    "\n",
    "words = sent.split()\n",
    "word_count = sum(1 for word in words if word == word_to_count)\n",
    "print(f\"The word '{word_to_count}' occurs {word_count} times in the sentence\")\n"
   ]
  },
  {
   "cell_type": "code",
   "execution_count": 12,
   "id": "a898d1a2",
   "metadata": {},
   "outputs": [
    {
     "name": "stdout",
     "output_type": "stream",
     "text": [
      "The word 'pw' first occurs at index 29\n"
     ]
    }
   ],
   "source": [
    "# 12. Find the first occurrence of a word in a string.\n",
    "\n",
    "sent = \"This assignement is given by pw skill\"\n",
    "word_to_find = \"pw\"\n",
    "\n",
    "try:\n",
    "    index = sent.index(word_to_find)\n",
    "    print(f\"The word '{word_to_find}' first occurs at index {index}\")\n",
    "except ValueError:\n",
    "    print(f\"The word '{word_to_find}' is not found in the sentence\")\n"
   ]
  },
  {
   "cell_type": "code",
   "execution_count": 13,
   "id": "7ef80796",
   "metadata": {},
   "outputs": [
    {
     "name": "stdout",
     "output_type": "stream",
     "text": [
      "The word 'pw' last occurs at index 66\n"
     ]
    }
   ],
   "source": [
    "# 13. Find the last occurrence of a word in a string.\n",
    "\n",
    "sent = \"This course is offered by pw skills. This assignement is given by pw skill.\"\n",
    "word_to_find = \"pw\"\n",
    "\n",
    "try:\n",
    "    index = sent.rindex(word_to_find)\n",
    "    print(f\"The word '{word_to_find}' last occurs at index {index}\")\n",
    "except ValueError:\n",
    "    print(f\"The word '{word_to_find}' is not found in the sentence\")"
   ]
  },
  {
   "cell_type": "code",
   "execution_count": 14,
   "id": "60bb939e",
   "metadata": {},
   "outputs": [
    {
     "name": "stdout",
     "output_type": "stream",
     "text": [
      "['pw', 'skill']\n"
     ]
    }
   ],
   "source": [
    "# 14. Split a string into a list of words.\n",
    "sent = 'pw skill'\n",
    "print(sent.split())"
   ]
  },
  {
   "cell_type": "code",
   "execution_count": 15,
   "id": "a28fc591",
   "metadata": {},
   "outputs": [
    {
     "name": "stdout",
     "output_type": "stream",
     "text": [
      "This assignement is given by pw skill \n"
     ]
    }
   ],
   "source": [
    "# 15. Join a list of words into a string.\n",
    "\n",
    "sent = \"This assignement is given by pw skill\"\n",
    "word_to_count = \"pw\"\n",
    "\n",
    "words = sent.split()\n",
    "\n",
    "s = \"\"\n",
    "for i in words:\n",
    "    s += i\n",
    "    s +=\" \"\n",
    "print(s)"
   ]
  },
  {
   "cell_type": "code",
   "execution_count": 16,
   "id": "bdfb691a",
   "metadata": {},
   "outputs": [
    {
     "name": "stdout",
     "output_type": "stream",
     "text": [
      "updated string: This_assignement_is_given_by_pw_skill\n"
     ]
    }
   ],
   "source": [
    "# 16. Convert a string where words are separated by spaces to one where words are separated by underscores.\n",
    "sent = \"This assignement is given by pw skill\"\n",
    "print(f\"updated string: {sent.replace(' ', '_')}\")"
   ]
  },
  {
   "cell_type": "code",
   "execution_count": 17,
   "id": "89a243d0",
   "metadata": {},
   "outputs": [
    {
     "name": "stdout",
     "output_type": "stream",
     "text": [
      "The string does not start with 'pw'\n"
     ]
    }
   ],
   "source": [
    "# 17. Check if a string starts with a specific word or phrase.\n",
    "\n",
    "sent = \"This assignement is given by pw skill\"\n",
    "prefix_to_check = \"pw\"\n",
    "\n",
    "if sent.startswith(prefix_to_check):\n",
    "    print(f\"The string starts with '{prefix_to_check}'\")\n",
    "else:\n",
    "    print(f\"The string does not start with '{prefix_to_check}'\")\n"
   ]
  },
  {
   "cell_type": "code",
   "execution_count": 18,
   "id": "738b1ade",
   "metadata": {},
   "outputs": [
    {
     "name": "stdout",
     "output_type": "stream",
     "text": [
      "The string end with 'pw skill'\n"
     ]
    }
   ],
   "source": [
    "# 18. Check if a string ends with a specific word or phrase.\n",
    "\n",
    "sent = \"This assignement is given by pw skill\"\n",
    "prefix_to_check = \"pw skill\"\n",
    "\n",
    "if sent.endswith(prefix_to_check):\n",
    "    print(f\"The string end with '{prefix_to_check}'\")\n",
    "else:\n",
    "    print(f\"The string does not end with '{prefix_to_check}'\")"
   ]
  },
  {
   "cell_type": "code",
   "execution_count": 19,
   "id": "e9c20635",
   "metadata": {},
   "outputs": [
    {
     "name": "stdout",
     "output_type": "stream",
     "text": [
      "This Assignement Is Given By Pw Skill\n"
     ]
    }
   ],
   "source": [
    "# 19. Convert a string to title case (e.g., \"hello world\" to \"Hello World\").\n",
    "\n",
    "sent = \"This assignement is given by pw skill\"\n",
    "print(sent.title())"
   ]
  },
  {
   "cell_type": "code",
   "execution_count": 20,
   "id": "d5e3dac9",
   "metadata": {},
   "outputs": [
    {
     "name": "stdout",
     "output_type": "stream",
     "text": [
      "list of longest words  ['given', 'skill']\n"
     ]
    }
   ],
   "source": [
    "# 20. Find the longest word in a string.\n",
    "\n",
    "sent = \"This is given by pw skill\"\n",
    "max_len_word = max(len(w) for w in sent.split())    \n",
    "words  = [x for x in sent.split() if len(x) == max_len_word]\n",
    "print(\"list of longest words \",words)"
   ]
  },
  {
   "cell_type": "code",
   "execution_count": 21,
   "id": "26c85790",
   "metadata": {},
   "outputs": [
    {
     "name": "stdout",
     "output_type": "stream",
     "text": [
      "list of shortest words  ['is', 'by', 'pw']\n"
     ]
    }
   ],
   "source": [
    "# 21. Find the shortest word in a string.\n",
    "\n",
    "sent = \"This assignement is given by pw skill\"\n",
    "min_len_word = min(len(w) for w in sent.split())    \n",
    "words  = [x for x in sent.split() if len(x) == min_len_word]\n",
    "print(\"list of shortest words \",words)"
   ]
  },
  {
   "cell_type": "code",
   "execution_count": 22,
   "id": "67f56c46",
   "metadata": {},
   "outputs": [],
   "source": [
    "# 22. Reverse the order of words in a string.\n",
    "\n",
    "sent = \"This assignement is given by pw skill\"\n",
    "words = sent.split()\n",
    "reversed = \"\"\n",
    "\n",
    "for word in words[::-1]:\n",
    "    reversed += f\" {word}\""
   ]
  },
  {
   "cell_type": "code",
   "execution_count": 23,
   "id": "b041c59a",
   "metadata": {},
   "outputs": [
    {
     "name": "stdout",
     "output_type": "stream",
     "text": [
      "The string is alphanumeric\n"
     ]
    }
   ],
   "source": [
    "# 23. Check if a string is alphanumeric.\n",
    "\n",
    "def is_alphanumeric(s):\n",
    "    for char in s:\n",
    "        if not (char.isalpha() or char.isdigit() or char.isspace()):\n",
    "            return False\n",
    "    return True\n",
    "\n",
    "sent = \"This assignement is given by pw skill\"\n",
    "\n",
    "if is_alphanumeric(sent):\n",
    "    print(\"The string is alphanumeric\")\n",
    "else:\n",
    "    print(\"The string is not alphanumeric\")"
   ]
  },
  {
   "cell_type": "code",
   "execution_count": 24,
   "id": "b9445d1d",
   "metadata": {},
   "outputs": [
    {
     "name": "stdout",
     "output_type": "stream",
     "text": [
      "Digits extracted from the string: 2202023\n"
     ]
    }
   ],
   "source": [
    "# 24. Extract all digits from a string.\n",
    "\n",
    "sent = \"This is 2nd assignement given by pw skill on 20th aug 2023\"\n",
    "digits = [char for char in sent if char.isdigit()]\n",
    "result = ''.join(digits)\n",
    "\n",
    "print(\"Digits extracted from the string:\", result)"
   ]
  },
  {
   "cell_type": "code",
   "execution_count": 25,
   "id": "8c2b815f",
   "metadata": {},
   "outputs": [
    {
     "name": "stdout",
     "output_type": "stream",
     "text": [
      "Alphabets extracted from the string: Thisisndassignementgivenbypwskillonthaug\n"
     ]
    }
   ],
   "source": [
    "# 25. Extract all alphabets from a string.\n",
    "\n",
    "sent = \"This is 2nd assignement given by pw skill on 20th aug 2023\"\n",
    "alphabets = [char for char in sent if char.isalpha()]\n",
    "result = ''.join(alphabets)\n",
    "\n",
    "print(\"Alphabets extracted from the string:\", result)"
   ]
  },
  {
   "cell_type": "code",
   "execution_count": 26,
   "id": "bc77d377",
   "metadata": {},
   "outputs": [
    {
     "name": "stdout",
     "output_type": "stream",
     "text": [
      "Number of upper case char: 1\n"
     ]
    }
   ],
   "source": [
    "# 26. Count the number of uppercase letters in a string.\n",
    "\n",
    "sent = \"This is 2nd assignement given by pw skill on 20th aug 2023\"\n",
    "ct_uppercase = sum(1 for char in sent if char.isupper())\n",
    "\n",
    "print(\"Number of upper case char:\", ct_uppercase)"
   ]
  },
  {
   "cell_type": "code",
   "execution_count": 27,
   "id": "17cfff1d",
   "metadata": {},
   "outputs": [
    {
     "name": "stdout",
     "output_type": "stream",
     "text": [
      "Number of lower case char: 39\n"
     ]
    }
   ],
   "source": [
    "# 27. Count the number of lowercase letters in a string.\n",
    "\n",
    "sent = \"This is 2nd assignement given by pw skill on 20th aug 2023\"\n",
    "ct_lowercase = sum(1 for char in sent if char.islower())\n",
    "\n",
    "print(\"Number of lower case char:\", ct_lowercase)"
   ]
  },
  {
   "cell_type": "code",
   "execution_count": 28,
   "id": "b2ab50d5",
   "metadata": {},
   "outputs": [
    {
     "name": "stdout",
     "output_type": "stream",
     "text": [
      "Swapped string: tHIS IS 2ND ASSIGNEMENT GIVEN BY PW SKILL ON 20TH AUG 2023\n"
     ]
    }
   ],
   "source": [
    "# 28. Swap the case of each character in a string.\n",
    "\n",
    "sent = \"This is 2nd assignement given by pw skill on 20th aug 2023\"\n",
    "swapped_string = sent.swapcase()\n",
    "\n",
    "print(\"Swapped string:\", swapped_string)"
   ]
  },
  {
   "cell_type": "code",
   "execution_count": 29,
   "id": "99263e0e",
   "metadata": {},
   "outputs": [
    {
     "name": "stdout",
     "output_type": "stream",
     "text": [
      "Modified string: This is 2nd assignement given by pw skill on 20th aug \n"
     ]
    }
   ],
   "source": [
    "# 29. Remove a specific word from a string.\n",
    "sent = \"This is 2nd assignement given by pw skill on 20th aug 2023\"\n",
    "word_to_remove = \"2023\"\n",
    "\n",
    "modified_string = sent.replace(word_to_remove, \"\")\n",
    "print(\"Modified string:\", modified_string)"
   ]
  },
  {
   "cell_type": "code",
   "execution_count": 30,
   "id": "a203e419",
   "metadata": {},
   "outputs": [
    {
     "name": "stdout",
     "output_type": "stream",
     "text": [
      "pwskills@pw.com is a valid email address\n"
     ]
    }
   ],
   "source": [
    "# 30. Check if a string is a valid email address.\n",
    "\n",
    "import re\n",
    "\n",
    "def is_valid_email(email):\n",
    "    pattern = r'^[\\w\\.-]+@[\\w\\.-]+\\.\\w+$'\n",
    "    return re.match(pattern, email) is not None\n",
    "\n",
    "email = \"pwskills@pw.com\"\n",
    "if is_valid_email(email):\n",
    "    print(f\"{email} is a valid email address\")\n",
    "else:\n",
    "    print(f\"{email} is not a valid email address\")"
   ]
  },
  {
   "cell_type": "code",
   "execution_count": 31,
   "id": "3dda3eca",
   "metadata": {},
   "outputs": [
    {
     "name": "stdout",
     "output_type": "stream",
     "text": [
      "Extracted username: pwskills\n"
     ]
    }
   ],
   "source": [
    "# 31. Extract the username from an email address string\n",
    "\n",
    "email = \"pwskills@pw.com\"\n",
    "username = email.split(\"@\")[0]\n",
    "print(\"Extracted username:\", username)"
   ]
  },
  {
   "cell_type": "code",
   "execution_count": 32,
   "id": "cc9cbc0c",
   "metadata": {},
   "outputs": [
    {
     "name": "stdout",
     "output_type": "stream",
     "text": [
      "Extracted username: com\n"
     ]
    }
   ],
   "source": [
    "# 32. Extract the domain name from an email address string\n",
    "\n",
    "email = \"pwskills@pw.com\"\n",
    "username = email.split(\".\")[1]\n",
    "print(\"Extracted username:\", username)"
   ]
  },
  {
   "cell_type": "code",
   "execution_count": 33,
   "id": "1da039c6",
   "metadata": {},
   "outputs": [
    {
     "name": "stdout",
     "output_type": "stream",
     "text": [
      "Modified string: This is 2nd assignement given by pw skill on 20th aug 2023\n"
     ]
    }
   ],
   "source": [
    "# 33. Replace multiple spaces in a string with a single space.\n",
    "\n",
    "import re\n",
    "\n",
    "sent = \"This  is  2nd  assignement        given by pw skill on 20th aug 2023\"\n",
    "modified_string = re.sub(r'\\s+', ' ', sent)\n",
    "\n",
    "print(\"Modified string:\", modified_string)\n"
   ]
  },
  {
   "cell_type": "code",
   "execution_count": 34,
   "id": "4b615101",
   "metadata": {},
   "outputs": [],
   "source": [
    "# 34. Check if a string is a valid URL.\n",
    "\n",
    "import re\n",
    "\n",
    "def is_valid_url(url):\n",
    "    # Regular expression pattern for a basic URL validation\n",
    "    url_pattern = re.compile(r'^(https?|ftp)://[^\\s/$.?#].[^\\s]*$')\n",
    "    \n",
    "    return re.match(url_pattern, url) is not None\n",
    "\n",
    "# Test cases\n",
    "print(is_valid_url(\"https://www.pw.com\"))  # True\n",
    "print(is_valid_url(\"ftp://files.example.com\"))  # True\n",
    "print(is_valid_url(\"invalidurl\"))  # False\n"
   ]
  },
  {
   "cell_type": "code",
   "execution_count": 35,
   "id": "53fd4447",
   "metadata": {},
   "outputs": [],
   "source": [
    "# 35. Extract the protocol (http or https) from a URL string."
   ]
  },
  {
   "cell_type": "code",
   "execution_count": null,
   "id": "4b83c11c",
   "metadata": {},
   "outputs": [],
   "source": [
    "# 36. Find the frequency of each character in a string."
   ]
  },
  {
   "cell_type": "code",
   "execution_count": null,
   "id": "1ed82dae",
   "metadata": {},
   "outputs": [],
   "source": [
    "# 37. Remove all punctuation from a string."
   ]
  },
  {
   "cell_type": "code",
   "execution_count": null,
   "id": "c0ac72c4",
   "metadata": {},
   "outputs": [],
   "source": [
    "# 38. Check if a string contains only digits."
   ]
  },
  {
   "cell_type": "code",
   "execution_count": null,
   "id": "fa4253ab",
   "metadata": {},
   "outputs": [],
   "source": [
    "# 39. Check if a string contains only alphabets."
   ]
  },
  {
   "cell_type": "code",
   "execution_count": null,
   "id": "005afd0e",
   "metadata": {},
   "outputs": [],
   "source": [
    "# 40. Convert a string to a list of characters."
   ]
  },
  {
   "cell_type": "code",
   "execution_count": null,
   "id": "f66194f2",
   "metadata": {},
   "outputs": [],
   "source": [
    "# 41. Check if two strings are anagrams."
   ]
  },
  {
   "cell_type": "code",
   "execution_count": null,
   "id": "f2098f2b",
   "metadata": {},
   "outputs": [],
   "source": [
    "# 42. Encode a string using a Caesar cipher."
   ]
  },
  {
   "cell_type": "code",
   "execution_count": null,
   "id": "739c6bd3",
   "metadata": {},
   "outputs": [],
   "source": [
    "# 43. Decode a Caesar cipher encoded string."
   ]
  },
  {
   "cell_type": "code",
   "execution_count": null,
   "id": "814d7c62",
   "metadata": {},
   "outputs": [],
   "source": [
    "# 44. Find the most frequent word in a string."
   ]
  },
  {
   "cell_type": "code",
   "execution_count": null,
   "id": "8c4b87b6",
   "metadata": {},
   "outputs": [],
   "source": [
    "# 45. Find all unique words in a string."
   ]
  },
  {
   "cell_type": "code",
   "execution_count": null,
   "id": "11f78f34",
   "metadata": {},
   "outputs": [],
   "source": [
    "# 46. Count the number of syllables in a string."
   ]
  },
  {
   "cell_type": "code",
   "execution_count": null,
   "id": "f7ead912",
   "metadata": {},
   "outputs": [],
   "source": [
    "# 47. Check if a string contains any special characters."
   ]
  },
  {
   "cell_type": "code",
   "execution_count": null,
   "id": "90eac62b",
   "metadata": {},
   "outputs": [],
   "source": [
    "# 48. Remove the nth word from a string."
   ]
  },
  {
   "cell_type": "code",
   "execution_count": null,
   "id": "bd9190aa",
   "metadata": {},
   "outputs": [],
   "source": [
    "# 49. Insert a word at the nth position in a string."
   ]
  },
  {
   "cell_type": "code",
   "execution_count": null,
   "id": "f271ba7b",
   "metadata": {},
   "outputs": [],
   "source": [
    "# 50. Convert a CSV string to a list of lists"
   ]
  },
  {
   "cell_type": "code",
   "execution_count": null,
   "id": "f359e4ad",
   "metadata": {},
   "outputs": [],
   "source": []
  }
 ],
 "metadata": {
  "kernelspec": {
   "display_name": "Python 3 (ipykernel)",
   "language": "python",
   "name": "python3"
  },
  "language_info": {
   "codemirror_mode": {
    "name": "ipython",
    "version": 3
   },
   "file_extension": ".py",
   "mimetype": "text/x-python",
   "name": "python",
   "nbconvert_exporter": "python",
   "pygments_lexer": "ipython3",
   "version": "3.11.3"
  }
 },
 "nbformat": 4,
 "nbformat_minor": 5
}
