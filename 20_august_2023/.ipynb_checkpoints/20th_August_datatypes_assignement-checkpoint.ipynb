{
 "cells": [
  {
   "cell_type": "markdown",
   "id": "76b86118",
   "metadata": {},
   "source": [
    "# String Based Assignment Problem"
   ]
  },
  {
   "cell_type": "code",
   "execution_count": null,
   "id": "bde5de5f",
   "metadata": {},
   "outputs": [],
   "source": [
    "# 1. Write a program to reverse a string.\n",
    "\n",
    "string = \"pw skill\"\n",
    "print(f\"reverse string: {string[::-1]}\")"
   ]
  },
  {
   "cell_type": "code",
   "execution_count": null,
   "id": "d218e27d",
   "metadata": {},
   "outputs": [],
   "source": [
    "# 2. Check if a string is a palindrome.\n",
    "\n",
    "string = \"pw skill\"\n",
    "if string == string[::-1]:\n",
    "    print(\"string is a palindrome\")\n",
    "else:\n",
    "    print(\"string is not palindrome\")"
   ]
  },
  {
   "cell_type": "code",
   "execution_count": null,
   "id": "550f9760",
   "metadata": {},
   "outputs": [],
   "source": [
    "# 3. Convert a string to uppercase.\n",
    "\n",
    "string = \"pw skill\"\n",
    "print(f\"upper case string: {string.upper()}\")"
   ]
  },
  {
   "cell_type": "code",
   "execution_count": null,
   "id": "4d252884",
   "metadata": {},
   "outputs": [],
   "source": [
    "# 4. Convert a string to lowercase.\n",
    "\n",
    "string = \"pw skill\"\n",
    "print(f\"lower case string: {string.lower()}\")"
   ]
  },
  {
   "cell_type": "code",
   "execution_count": null,
   "id": "3f5e624d",
   "metadata": {},
   "outputs": [],
   "source": [
    "# 5. Count the number of vowels in a string.\n",
    "\n",
    "sent = \"pw skill\"\n",
    "\n",
    "vowel = [\"a\", \"e\", \"i\" ,\"o\", \"u\"]\n",
    "\n",
    "ls = [v for v in sent.lower() if v in vowel]\n",
    "print(f\"number of vowels in given string: {len(ls)}\")"
   ]
  },
  {
   "cell_type": "code",
   "execution_count": null,
   "id": "f0b316ff",
   "metadata": {},
   "outputs": [],
   "source": [
    "# 6. Count the number of consonants in a string.\n",
    "\n",
    "sent = \"pw skill\"\n",
    "\n",
    "vowel = [\"a\", \"e\", \"i\" ,\"o\", \"u\"]\n",
    "\n",
    "ls = [v for v in sent.lower() if v not in vowel]\n",
    "print(f\"number of consonants in given string: {len(ls)}\")"
   ]
  },
  {
   "cell_type": "code",
   "execution_count": null,
   "id": "75d8f0aa",
   "metadata": {},
   "outputs": [],
   "source": [
    "# 7. Remove all whitespaces from a string.\n",
    "\n",
    "sent = \"pw skill\"\n",
    "\n",
    "print(f\"Updated string: {sent.replace(' ', '')}\")"
   ]
  },
  {
   "cell_type": "code",
   "execution_count": null,
   "id": "0114bfb5",
   "metadata": {},
   "outputs": [],
   "source": [
    "# 8. Find the length of a string without using the `len()` function\n",
    "\n",
    "sent = \"pw skill\"\n",
    "ct = 0\n",
    "for i in sent:\n",
    "    ct+=1 \n",
    "print(f\"Length of string: {ct}\")"
   ]
  },
  {
   "cell_type": "code",
   "execution_count": null,
   "id": "e9aa3a5e",
   "metadata": {},
   "outputs": [],
   "source": [
    "# 9. Check if a string contains a specific word.\n",
    "\n",
    "word_to_search = \"pw\"\n",
    "sent = \"pw skill\"\n",
    "\n",
    "if word_to_search in sent:\n",
    "    print(\"words available in sentence\")\n",
    "else:\n",
    "    print(\"words not available in sentence\")"
   ]
  },
  {
   "cell_type": "code",
   "execution_count": null,
   "id": "845ab93c",
   "metadata": {},
   "outputs": [],
   "source": [
    "# 10. Replace a word in a string with another word.\n",
    "\n",
    "sent = \"pw skill\"\n",
    "replacing_word = \"inueron\"\n",
    "print(f\"updated string: {sent.replace('pw', replacing_word)}\")"
   ]
  },
  {
   "cell_type": "code",
   "execution_count": null,
   "id": "16764547",
   "metadata": {},
   "outputs": [],
   "source": [
    "# 11. Count the occurrences of a word in a string.\n",
    "\n",
    "sent = \"This assignement is given by pw skill\"\n",
    "word_to_count = \"pw\"\n",
    "\n",
    "words = sent.split()\n",
    "word_count = sum(1 for word in words if word == word_to_count)\n",
    "print(f\"The word '{word_to_count}' occurs {word_count} times in the sentence\")\n"
   ]
  },
  {
   "cell_type": "code",
   "execution_count": null,
   "id": "a898d1a2",
   "metadata": {},
   "outputs": [],
   "source": [
    "# 12. Find the first occurrence of a word in a string.\n",
    "\n",
    "sent = \"This assignement is given by pw skill\"\n",
    "word_to_find = \"pw\"\n",
    "\n",
    "try:\n",
    "    index = sent.index(word_to_find)\n",
    "    print(f\"The word '{word_to_find}' first occurs at index {index}\")\n",
    "except ValueError:\n",
    "    print(f\"The word '{word_to_find}' is not found in the sentence\")\n"
   ]
  },
  {
   "cell_type": "code",
   "execution_count": null,
   "id": "7ef80796",
   "metadata": {},
   "outputs": [],
   "source": [
    "# 13. Find the last occurrence of a word in a string.\n",
    "\n",
    "sent = \"This course is offered by pw skills. This assignement is given by pw skill.\"\n",
    "word_to_find = \"pw\"\n",
    "\n",
    "try:\n",
    "    index = sent.rindex(word_to_find)\n",
    "    print(f\"The word '{word_to_find}' last occurs at index {index}\")\n",
    "except ValueError:\n",
    "    print(f\"The word '{word_to_find}' is not found in the sentence\")"
   ]
  },
  {
   "cell_type": "code",
   "execution_count": null,
   "id": "60bb939e",
   "metadata": {},
   "outputs": [],
   "source": [
    "# 14. Split a string into a list of words.\n",
    "sent = 'pw skill'\n",
    "print(sent.split())"
   ]
  },
  {
   "cell_type": "code",
   "execution_count": null,
   "id": "a28fc591",
   "metadata": {},
   "outputs": [],
   "source": [
    "# 15. Join a list of words into a string.\n",
    "\n",
    "sent = \"This assignement is given by pw skill\"\n",
    "word_to_count = \"pw\"\n",
    "\n",
    "words = sent.split()\n",
    "\n",
    "s = \"\"\n",
    "for i in words:\n",
    "    s += i\n",
    "    s +=\" \"\n",
    "print(s)"
   ]
  },
  {
   "cell_type": "code",
   "execution_count": null,
   "id": "bdfb691a",
   "metadata": {},
   "outputs": [],
   "source": [
    "# 16. Convert a string where words are separated by spaces to one where words are separated by underscores.\n",
    "sent = \"This assignement is given by pw skill\"\n",
    "print(f\"updated string: {sent.replace(' ', '_')}\")"
   ]
  },
  {
   "cell_type": "code",
   "execution_count": null,
   "id": "89a243d0",
   "metadata": {},
   "outputs": [],
   "source": [
    "# 17. Check if a string starts with a specific word or phrase.\n",
    "\n",
    "sent = \"This assignement is given by pw skill\"\n",
    "prefix_to_check = \"pw\"\n",
    "\n",
    "if sent.startswith(prefix_to_check):\n",
    "    print(f\"The string starts with '{prefix_to_check}'\")\n",
    "else:\n",
    "    print(f\"The string does not start with '{prefix_to_check}'\")\n"
   ]
  },
  {
   "cell_type": "code",
   "execution_count": null,
   "id": "738b1ade",
   "metadata": {},
   "outputs": [],
   "source": [
    "# 18. Check if a string ends with a specific word or phrase.\n",
    "\n",
    "sent = \"This assignement is given by pw skill\"\n",
    "prefix_to_check = \"pw skill\"\n",
    "\n",
    "if sent.endswith(prefix_to_check):\n",
    "    print(f\"The string end with '{prefix_to_check}'\")\n",
    "else:\n",
    "    print(f\"The string does not end with '{prefix_to_check}'\")"
   ]
  },
  {
   "cell_type": "code",
   "execution_count": null,
   "id": "e9c20635",
   "metadata": {},
   "outputs": [],
   "source": [
    "# 19. Convert a string to title case (e.g., \"hello world\" to \"Hello World\").\n",
    "\n",
    "sent = \"This assignement is given by pw skill\"\n",
    "print(sent.title())"
   ]
  },
  {
   "cell_type": "code",
   "execution_count": null,
   "id": "d5e3dac9",
   "metadata": {},
   "outputs": [],
   "source": [
    "# 20. Find the longest word in a string.\n",
    "\n",
    "sent = \"This is given by pw skill\"\n",
    "max_len_word = max(len(w) for w in sent.split())    \n",
    "words  = [x for x in sent.split() if len(x) == max_len_word]\n",
    "print(\"list of longest words \",words)"
   ]
  },
  {
   "cell_type": "code",
   "execution_count": null,
   "id": "26c85790",
   "metadata": {},
   "outputs": [],
   "source": [
    "# 21. Find the shortest word in a string.\n",
    "\n",
    "sent = \"This assignement is given by pw skill\"\n",
    "min_len_word = min(len(w) for w in sent.split())    \n",
    "words  = [x for x in sent.split() if len(x) == min_len_word]\n",
    "print(\"list of shortest words \",words)"
   ]
  },
  {
   "cell_type": "code",
   "execution_count": null,
   "id": "67f56c46",
   "metadata": {},
   "outputs": [],
   "source": [
    "# 22. Reverse the order of words in a string.\n",
    "\n",
    "sent = \"This assignement is given by pw skill\"\n",
    "words = sent.split()\n",
    "reversed = \"\"\n",
    "\n",
    "for word in words[::-1]:\n",
    "    reversed += f\" {word}\""
   ]
  },
  {
   "cell_type": "code",
   "execution_count": null,
   "id": "b041c59a",
   "metadata": {},
   "outputs": [],
   "source": [
    "# 23. Check if a string is alphanumeric.\n",
    "\n",
    "def is_alphanumeric(s):\n",
    "    for char in s:\n",
    "        if not (char.isalpha() or char.isdigit() or char.isspace()):\n",
    "            return False\n",
    "    return True\n",
    "\n",
    "sent = \"This assignement is given by pw skill\"\n",
    "\n",
    "if is_alphanumeric(sent):\n",
    "    print(\"The string is alphanumeric\")\n",
    "else:\n",
    "    print(\"The string is not alphanumeric\")"
   ]
  },
  {
   "cell_type": "code",
   "execution_count": null,
   "id": "b9445d1d",
   "metadata": {},
   "outputs": [],
   "source": [
    "# 24. Extract all digits from a string.\n",
    "\n",
    "sent = \"This is 2nd assignement given by pw skill on 20th aug 2023\"\n",
    "digits = [char for char in sent if char.isdigit()]\n",
    "result = ''.join(digits)\n",
    "\n",
    "print(\"Digits extracted from the string:\", result)"
   ]
  },
  {
   "cell_type": "code",
   "execution_count": null,
   "id": "8c2b815f",
   "metadata": {},
   "outputs": [],
   "source": [
    "# 25. Extract all alphabets from a string.\n",
    "\n",
    "sent = \"This is 2nd assignement given by pw skill on 20th aug 2023\"\n",
    "alphabets = [char for char in sent if char.isalpha()]\n",
    "result = ''.join(alphabets)\n",
    "\n",
    "print(\"Alphabets extracted from the string:\", result)"
   ]
  },
  {
   "cell_type": "code",
   "execution_count": null,
   "id": "bc77d377",
   "metadata": {},
   "outputs": [],
   "source": [
    "# 26. Count the number of uppercase letters in a string.\n",
    "\n",
    "sent = \"This is 2nd assignement given by pw skill on 20th aug 2023\"\n",
    "ct_uppercase = sum(1 for char in sent if char.isupper())\n",
    "\n",
    "print(\"Number of upper case char:\", ct_uppercase)"
   ]
  },
  {
   "cell_type": "code",
   "execution_count": null,
   "id": "17cfff1d",
   "metadata": {},
   "outputs": [],
   "source": [
    "# 27. Count the number of lowercase letters in a string.\n",
    "\n",
    "sent = \"This is 2nd assignement given by pw skill on 20th aug 2023\"\n",
    "ct_lowercase = sum(1 for char in sent if char.islower())\n",
    "\n",
    "print(\"Number of lower case char:\", ct_lowercase)"
   ]
  },
  {
   "cell_type": "code",
   "execution_count": null,
   "id": "b2ab50d5",
   "metadata": {},
   "outputs": [],
   "source": [
    "# 28. Swap the case of each character in a string.\n",
    "\n",
    "sent = \"This is 2nd assignement given by pw skill on 20th aug 2023\"\n",
    "swapped_string = sent.swapcase()\n",
    "\n",
    "print(\"Swapped string:\", swapped_string)"
   ]
  },
  {
   "cell_type": "code",
   "execution_count": null,
   "id": "99263e0e",
   "metadata": {},
   "outputs": [],
   "source": [
    "# 29. Remove a specific word from a string.\n",
    "sent = \"This is 2nd assignement given by pw skill on 20th aug 2023\"\n",
    "word_to_remove = \"2023\"\n",
    "\n",
    "modified_string = sent.replace(word_to_remove, \"\")\n",
    "print(\"Modified string:\", modified_string)"
   ]
  },
  {
   "cell_type": "code",
   "execution_count": null,
   "id": "a203e419",
   "metadata": {},
   "outputs": [],
   "source": [
    "# 30. Check if a string is a valid email address.\n",
    "\n",
    "import re\n",
    "\n",
    "def is_valid_email(email):\n",
    "    pattern = r'^[\\w\\.-]+@[\\w\\.-]+\\.\\w+$'\n",
    "    return re.match(pattern, email) is not None\n",
    "\n",
    "email = \"pwskills@pw.com\"\n",
    "if is_valid_email(email):\n",
    "    print(f\"{email} is a valid email address\")\n",
    "else:\n",
    "    print(f\"{email} is not a valid email address\")"
   ]
  },
  {
   "cell_type": "code",
   "execution_count": null,
   "id": "3dda3eca",
   "metadata": {},
   "outputs": [],
   "source": [
    "# 31. Extract the username from an email address string\n",
    "\n",
    "email = \"pwskills@pw.com\"\n",
    "username = email.split(\"@\")[0]\n",
    "print(\"Extracted username:\", username)"
   ]
  },
  {
   "cell_type": "code",
   "execution_count": null,
   "id": "cc9cbc0c",
   "metadata": {},
   "outputs": [],
   "source": [
    "# 32. Extract the domain name from an email address string\n",
    "\n",
    "email = \"pwskills@pw.com\"\n",
    "username = email.split(\".\")[1]\n",
    "print(\"Extracted username:\", username)"
   ]
  },
  {
   "cell_type": "code",
   "execution_count": null,
   "id": "1da039c6",
   "metadata": {},
   "outputs": [],
   "source": [
    "# 33. Replace multiple spaces in a string with a single space.\n",
    "\n",
    "import re\n",
    "\n",
    "sent = \"This  is  2nd  assignement        given by pw skill on 20th aug 2023\"\n",
    "modified_string = re.sub(r'\\s+', ' ', sent)\n",
    "\n",
    "print(\"Modified string:\", modified_string)\n"
   ]
  },
  {
   "cell_type": "code",
   "execution_count": null,
   "id": "4b615101",
   "metadata": {},
   "outputs": [],
   "source": [
    "# 34. Check if a string is a valid URL.\n",
    "\n",
    "import re\n",
    "\n",
    "def is_valid_url(url):\n",
    "    # Regular expression pattern for a basic URL validation\n",
    "    url_pattern = re.compile(r'^(https?|ftp)://[^\\s/$.?#].[^\\s]*$')\n",
    "    \n",
    "    return re.match(url_pattern, url) is not None\n",
    "\n",
    "# Test cases\n",
    "print(is_valid_url(\"https://www.pwskills.com\"))  # True\n",
    "print(is_valid_url(\"ftp://files.example.com\"))  # True\n",
    "print(is_valid_url(\"invalidurl\"))  # False\n"
   ]
  },
  {
   "cell_type": "code",
   "execution_count": null,
   "id": "53fd4447",
   "metadata": {},
   "outputs": [],
   "source": [
    "# 35. Extract the protocol (http or https) from a URL string.\n",
    "\n",
    "url_ = \"https://www.pwskills.com\"\n",
    "\n",
    "print(f\"protocol for given url: {url_.split(':')[0]}\")"
   ]
  },
  {
   "cell_type": "code",
   "execution_count": null,
   "id": "4b83c11c",
   "metadata": {},
   "outputs": [],
   "source": [
    "# 36. Find the frequency of each character in a string.\n",
    "\n",
    "def character_frequency(sent):\n",
    "    frequency = {}\n",
    "    \n",
    "    for char in sent:\n",
    "        if char in frequency:\n",
    "            frequency[char] += 1\n",
    "        else:\n",
    "            frequency[char] = 1\n",
    "    \n",
    "    return frequency\n",
    "\n",
    "# Test\n",
    "sent = \"pe skills\"\n",
    "freq = character_frequency(sent)\n",
    "for char, count in freq.items():\n",
    "    print(f\"'{char}': {count}\")\n"
   ]
  },
  {
   "cell_type": "code",
   "execution_count": null,
   "id": "1ed82dae",
   "metadata": {},
   "outputs": [],
   "source": [
    "# 37. Remove all punctuation from a string.\n",
    "\n",
    "def remove_punctuation(sent):\n",
    "    punctuation = '''!()-[]{};:'\"\\,<>./?@#$%^&*_~'''\n",
    "    no_punctuation = \"\"\n",
    "    \n",
    "    for char in sent:\n",
    "        if char not in punctuation:\n",
    "            no_punctuation += char\n",
    "    \n",
    "    return no_punctuation\n",
    "\n",
    "# Test\n",
    "sent = \"pw skills, Awesome!\"\n",
    "result = remove_punctuation(sent)\n",
    "print(result)  # Output: \"Hello world Hows life\"\n"
   ]
  },
  {
   "cell_type": "code",
   "execution_count": null,
   "id": "c0ac72c4",
   "metadata": {},
   "outputs": [],
   "source": [
    "# 38. Check if a string contains only digits.\n",
    "\n",
    "sent = \"This is 2nd assignement given by pw skill on 20th aug 2023\"\n",
    "\n",
    "\n",
    "result = all(char.isdigit() for char in sent.split())\n",
    "\n",
    "if result:\n",
    "    print(\"string contain only digits (white spaces are not excluded)\")\n",
    "else:\n",
    "    print(\"string doesn't contain only digits\")\n"
   ]
  },
  {
   "cell_type": "code",
   "execution_count": null,
   "id": "fa4253ab",
   "metadata": {},
   "outputs": [],
   "source": [
    "# 39. Check if a string contains only alphabets.\n",
    "\n",
    "sent = \"This is assignement given by pw skill\"\n",
    "\n",
    "\n",
    "result = all(char.isalpha() for char in sent.split())\n",
    "\n",
    "if result:\n",
    "    print(\"string contain only alphabets (white spaces are not excluded)\")\n",
    "else:\n",
    "    print(\"string doesn't contain only alphabets\")"
   ]
  },
  {
   "cell_type": "code",
   "execution_count": null,
   "id": "005afd0e",
   "metadata": {},
   "outputs": [],
   "source": [
    "# 40. Convert a string to a list of characters.\n",
    "\n",
    "sent = \"This is assignement given by pw skill\"\n",
    "\n",
    "ls_char = [char for char in sent]\n",
    "print(\"string to list of characters: \", ls_char)"
   ]
  },
  {
   "cell_type": "code",
   "execution_count": null,
   "id": "f66194f2",
   "metadata": {},
   "outputs": [],
   "source": [
    "# 41. Check if two strings are anagrams.\n",
    "\n",
    "def is_anagrams(str1, str2):\n",
    "    # Remove spaces and convert to lowercase for accurate comparison\n",
    "    str1 = str1.replace(\" \", \"\").lower()\n",
    "    str2 = str2.replace(\" \", \"\").lower()\n",
    "    \n",
    "    # Check if the sorted characters of both strings are the same\n",
    "    return sorted(str1) == sorted(str2)\n",
    "\n",
    "string1 = \"pw\"\n",
    "string2 = \"wp\"\n",
    "if is_anagrams(string1, string2):\n",
    "    print(\"strings are anagrams\")\n",
    "else:\n",
    "    print(\"strings aren't anagrams\")"
   ]
  },
  {
   "cell_type": "code",
   "execution_count": null,
   "id": "f2098f2b",
   "metadata": {},
   "outputs": [],
   "source": [
    "# 42. Encode a string using a Caesar cipher.\n",
    "\n",
    "def caesar_cipher_encrypt(sent, shift):\n",
    "    encrypted_text = \"\"\n",
    "    \n",
    "    for char in sent:\n",
    "        if char.isalpha():\n",
    "            is_upper = char.isupper()\n",
    "            char_index = ord(char.lower()) - ord('a')\n",
    "            encrypted_index = (char_index + shift) % 26\n",
    "            encrypted_char = chr(encrypted_index + ord('a'))\n",
    "            if is_upper:\n",
    "                encrypted_text += encrypted_char.upper()\n",
    "            else:\n",
    "                encrypted_text += encrypted_char\n",
    "        else:\n",
    "            encrypted_text += char\n",
    "    \n",
    "    return encrypted_text\n",
    "\n",
    "\n",
    "sent = \"This is assignement given by pw skill\"\n",
    "shift_value = 1\n",
    "encrypted_text = caesar_cipher_encrypt(sent, shift_value)\n",
    "print(encrypted_text)\n"
   ]
  },
  {
   "cell_type": "code",
   "execution_count": null,
   "id": "739c6bd3",
   "metadata": {},
   "outputs": [],
   "source": [
    "# 43. Decode a Caesar cipher encoded string.\n",
    "\n",
    "sent = \"Uijt jt bttjhofnfou hjwfo cz qx tljmm\"\n",
    "\n",
    "\n",
    "def caesar_cipher_decrypt(sent, shift):\n",
    "    decrypted_text = \"\"\n",
    "    \n",
    "    for char in sent:\n",
    "        if char.isalpha():\n",
    "            is_upper = char.isupper()\n",
    "            char_index = ord(char.lower()) - ord('a')\n",
    "            decrypted_index = (char_index - shift) % 26\n",
    "            decrypted_char = chr(decrypted_index + ord('a'))\n",
    "            if is_upper:\n",
    "                decrypted_text += decrypted_char.upper()\n",
    "            else:\n",
    "                decrypted_text += decrypted_char\n",
    "        else:\n",
    "            decrypted_text += char\n",
    "    \n",
    "    return decrypted_text\n",
    "\n",
    "shift_value = 1\n",
    "decrypted_text = caesar_cipher_decrypt(sent, shift_value)\n",
    "print(decrypted_text) \n"
   ]
  },
  {
   "cell_type": "code",
   "execution_count": null,
   "id": "814d7c62",
   "metadata": {},
   "outputs": [],
   "source": [
    "# 44. Find the most frequent word in a string.\n",
    "\n",
    "def most_frequent_word(sent):\n",
    "    words = sent.lower().split()\n",
    "    word_freq = {}\n",
    "    \n",
    "    for word in words:\n",
    "        if word in word_freq:\n",
    "            word_freq[word] += 1\n",
    "        else:\n",
    "            word_freq[word] = 1\n",
    "    \n",
    "    most_frequent_word = None\n",
    "    highest_frequency = 0\n",
    "    \n",
    "    for word, frequency in word_freq.items():\n",
    "        if frequency > highest_frequency:\n",
    "            highest_frequency = frequency\n",
    "            most_frequent_words = [word]\n",
    "        elif frequency == highest_frequency:\n",
    "            most_frequent_words.append(word)\n",
    "    \n",
    "    return most_frequent_words, highest_frequency\n",
    "\n",
    "\n",
    "sent = \"This is assignement given by pw skill. this is awesome!\"\n",
    "most_frequent, frequency = most_frequent_word(sent)\n",
    "print(f\"The most frequent word is '{most_frequent}' with frequency {frequency}\")\n"
   ]
  },
  {
   "cell_type": "code",
   "execution_count": null,
   "id": "8c4b87b6",
   "metadata": {},
   "outputs": [],
   "source": [
    "# 45. Find all unique words in a string.\n",
    "\n",
    "sent = \"This is assignement given by pw skill. this is awesome!\"\n",
    "\n",
    "unique_words = set(sent.lower().split())\n",
    "\n",
    "print(\"unique words in a string, \", unique_words)"
   ]
  },
  {
   "cell_type": "code",
   "execution_count": null,
   "id": "11f78f34",
   "metadata": {},
   "outputs": [],
   "source": [
    "# 46. Count the number of syllables in a string.\n",
    "\n",
    "def count_syllables(sent):\n",
    "    vowels = \"aeiouAEIOU\"\n",
    "    syllables = 0\n",
    "    in_syllable = False\n",
    "    \n",
    "    for char in word:\n",
    "        if char in vowels:\n",
    "            if not in_syllable:\n",
    "                syllables += 1\n",
    "                in_syllable = True\n",
    "        else:\n",
    "            in_syllable = False\n",
    "    \n",
    "    # Consider cases where 'e' at the end of the word is not counted as a syllable\n",
    "    if word.endswith(\"e\") and syllables > 1:\n",
    "        syllables -= 1\n",
    "    \n",
    "    return syllables\n",
    "\n",
    "def count_syllables_in_string(sent):\n",
    "    words = sent.split()\n",
    "    total_syllables = 0\n",
    "    \n",
    "    for word in words:\n",
    "        total_syllables += count_syllables(word)\n",
    "    \n",
    "    return total_syllables\n",
    "\n",
    "sent = \"This is assignement given by pw skill. this is awesome!\"\n",
    "syllable_count = count_syllables_in_string(sent)\n",
    "print(f\"Total syllables: {syllable_count}\")\n"
   ]
  },
  {
   "cell_type": "code",
   "execution_count": null,
   "id": "f7ead912",
   "metadata": {},
   "outputs": [],
   "source": [
    "# 47. Check if a string contains any special characters.\n",
    "\n",
    "import string\n",
    "\n",
    "special_characters = string.punctuation\n",
    "\n",
    "sent = \"This is assignement given by pw skill. this is awesome!\"\n",
    "\n",
    "flag = any(char for char in sent if char in special_characters)\n",
    "\n",
    "if flag:\n",
    "    print(\"string contains special characters\")\n",
    "else:\n",
    "    print(\"string doen't contains special characters\")"
   ]
  },
  {
   "cell_type": "code",
   "execution_count": null,
   "id": "90eac62b",
   "metadata": {},
   "outputs": [],
   "source": [
    "# 48. Remove the nth word from a string.\n",
    "\n",
    "def remove_nth_word(sent, n):\n",
    "    words = sent.split()\n",
    "    \n",
    "    if 1 <= n <= len(words):\n",
    "        del words[n - 1]\n",
    "        return ' '.join(words)\n",
    "    else:\n",
    "        return input_string\n",
    "\n",
    "sent = \"This is assignement given by pw skill. this is awesome!\"\n",
    "n = 2\n",
    "new_text = remove_nth_word(sent, n)\n",
    "print(new_text)"
   ]
  },
  {
   "cell_type": "code",
   "execution_count": null,
   "id": "bd9190aa",
   "metadata": {},
   "outputs": [],
   "source": [
    "# 49. Insert a word at the nth position in a string.\n",
    "\n",
    "def insert_nth_word(sent, word_to_insert, n):\n",
    "    words = sent.split()\n",
    "    words.insert(n, word_to_insert)\n",
    "    new_string = \" \".join(words)\n",
    "    return new_string\n",
    "\n",
    "# Test\n",
    "sent = \"This is assignement given by pw skill. this is awesome!\"\n",
    "word_to_insert = \"special\"\n",
    "insert_index = 2\n",
    "new_string = insert_nth_word(sent, word_to_insert, insert_index)\n",
    "print(new_string)\n"
   ]
  },
  {
   "cell_type": "code",
   "execution_count": null,
   "id": "f271ba7b",
   "metadata": {},
   "outputs": [],
   "source": [
    "# 50. Convert a CSV string to a list of lists\n",
    "\n",
    "def csv_string_to_list(sent):\n",
    "    lines = sent.strip().split('\\n')\n",
    "    list_of_lists = [line.split(',') for line in lines]\n",
    "    return list_of_lists\n",
    "\n",
    "# Test\n",
    "sent = \"This, is assignement ,given by pw skill. this is awesome!\"\n",
    "result = csv_string_to_list(sent)\n",
    "for row in result:\n",
    "    print(row)"
   ]
  },
  {
   "cell_type": "code",
   "execution_count": null,
   "id": "f359e4ad",
   "metadata": {},
   "outputs": [],
   "source": []
  }
 ],
 "metadata": {
  "kernelspec": {
   "display_name": "Python 3 (ipykernel)",
   "language": "python",
   "name": "python3"
  },
  "language_info": {
   "codemirror_mode": {
    "name": "ipython",
    "version": 3
   },
   "file_extension": ".py",
   "mimetype": "text/x-python",
   "name": "python",
   "nbconvert_exporter": "python",
   "pygments_lexer": "ipython3",
   "version": "3.11.3"
  }
 },
 "nbformat": 4,
 "nbformat_minor": 5
}
