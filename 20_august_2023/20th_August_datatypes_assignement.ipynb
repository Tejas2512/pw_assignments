{
 "cells": [
  {
   "cell_type": "markdown",
   "id": "76b86118",
   "metadata": {},
   "source": [
    "# String Based Assignment Problem"
   ]
  },
  {
   "cell_type": "code",
   "execution_count": null,
   "id": "bde5de5f",
   "metadata": {},
   "outputs": [],
   "source": [
    "# 1. Write a program to reverse a string.\n",
    "\n",
    "string = \"pw skill\"\n",
    "print(f\"reverse string: {string[::-1]}\")"
   ]
  },
  {
   "cell_type": "code",
   "execution_count": null,
   "id": "d218e27d",
   "metadata": {},
   "outputs": [],
   "source": [
    "# 2. Check if a string is a palindrome.\n",
    "\n",
    "string = \"pw skill\"\n",
    "if string == string[::-1]:\n",
    "    print(\"string is a palindrome\")\n",
    "else:\n",
    "    print(\"string is not palindrome\")"
   ]
  },
  {
   "cell_type": "code",
   "execution_count": null,
   "id": "550f9760",
   "metadata": {},
   "outputs": [],
   "source": [
    "# 3. Convert a string to uppercase.\n",
    "\n",
    "string = \"pw skill\"\n",
    "print(f\"upper case string: {string.upper()}\")"
   ]
  },
  {
   "cell_type": "code",
   "execution_count": null,
   "id": "4d252884",
   "metadata": {},
   "outputs": [],
   "source": [
    "# 4. Convert a string to lowercase.\n",
    "\n",
    "string = \"pw skill\"\n",
    "print(f\"lower case string: {string.lower()}\")"
   ]
  },
  {
   "cell_type": "code",
   "execution_count": null,
   "id": "3f5e624d",
   "metadata": {},
   "outputs": [],
   "source": [
    "# 5. Count the number of vowels in a string.\n",
    "\n",
    "sent = \"pw skill\"\n",
    "\n",
    "vowel = [\"a\", \"e\", \"i\" ,\"o\", \"u\"]\n",
    "\n",
    "ls = [v for v in sent.lower() if v in vowel]\n",
    "print(f\"number of vowels in given string: {len(ls)}\")"
   ]
  },
  {
   "cell_type": "code",
   "execution_count": null,
   "id": "f0b316ff",
   "metadata": {},
   "outputs": [],
   "source": [
    "# 6. Count the number of consonants in a string.\n",
    "\n",
    "sent = \"pw skill\"\n",
    "\n",
    "vowel = [\"a\", \"e\", \"i\" ,\"o\", \"u\"]\n",
    "\n",
    "ls = [v for v in sent.lower() if v not in vowel]\n",
    "print(f\"number of consonants in given string: {len(ls)}\")"
   ]
  },
  {
   "cell_type": "code",
   "execution_count": null,
   "id": "75d8f0aa",
   "metadata": {},
   "outputs": [],
   "source": [
    "# 7. Remove all whitespaces from a string.\n",
    "\n",
    "sent = \"pw skill\"\n",
    "\n",
    "print(f\"Updated string: {sent.replace(' ', '')}\")"
   ]
  },
  {
   "cell_type": "code",
   "execution_count": null,
   "id": "0114bfb5",
   "metadata": {},
   "outputs": [],
   "source": [
    "# 8. Find the length of a string without using the `len()` function\n",
    "\n",
    "sent = \"pw skill\"\n",
    "ct = 0\n",
    "for i in sent:\n",
    "    ct+=1 \n",
    "print(f\"Length of string: {ct}\")"
   ]
  },
  {
   "cell_type": "code",
   "execution_count": null,
   "id": "e9aa3a5e",
   "metadata": {},
   "outputs": [],
   "source": [
    "# 9. Check if a string contains a specific word.\n",
    "\n",
    "word_to_search = \"pw\"\n",
    "sent = \"pw skill\"\n",
    "\n",
    "if word_to_search in sent:\n",
    "    print(\"words available in sentence\")\n",
    "else:\n",
    "    print(\"words not available in sentence\")"
   ]
  },
  {
   "cell_type": "code",
   "execution_count": null,
   "id": "845ab93c",
   "metadata": {},
   "outputs": [],
   "source": [
    "# 10. Replace a word in a string with another word.\n",
    "\n",
    "sent = \"pw skill\"\n",
    "replacing_word = \"inueron\"\n",
    "print(f\"updated string: {sent.replace('pw', replacing_word)}\")"
   ]
  },
  {
   "cell_type": "code",
   "execution_count": null,
   "id": "16764547",
   "metadata": {},
   "outputs": [],
   "source": [
    "# 11. Count the occurrences of a word in a string.\n",
    "\n",
    "sent = \"This assignement is given by pw skill\"\n",
    "word_to_count = \"pw\"\n",
    "\n",
    "words = sent.split()\n",
    "word_count = sum(1 for word in words if word == word_to_count)\n",
    "print(f\"The word '{word_to_count}' occurs {word_count} times in the sentence\")\n"
   ]
  },
  {
   "cell_type": "code",
   "execution_count": null,
   "id": "a898d1a2",
   "metadata": {},
   "outputs": [],
   "source": [
    "# 12. Find the first occurrence of a word in a string.\n",
    "\n",
    "sent = \"This assignement is given by pw skill\"\n",
    "word_to_find = \"pw\"\n",
    "\n",
    "try:\n",
    "    index = sent.index(word_to_find)\n",
    "    print(f\"The word '{word_to_find}' first occurs at index {index}\")\n",
    "except ValueError:\n",
    "    print(f\"The word '{word_to_find}' is not found in the sentence\")\n"
   ]
  },
  {
   "cell_type": "code",
   "execution_count": null,
   "id": "7ef80796",
   "metadata": {},
   "outputs": [],
   "source": [
    "# 13. Find the last occurrence of a word in a string.\n",
    "\n",
    "sent = \"This course is offered by pw skills. This assignement is given by pw skill.\"\n",
    "word_to_find = \"pw\"\n",
    "\n",
    "try:\n",
    "    index = sent.rindex(word_to_find)\n",
    "    print(f\"The word '{word_to_find}' last occurs at index {index}\")\n",
    "except ValueError:\n",
    "    print(f\"The word '{word_to_find}' is not found in the sentence\")"
   ]
  },
  {
   "cell_type": "code",
   "execution_count": null,
   "id": "60bb939e",
   "metadata": {},
   "outputs": [],
   "source": [
    "# 14. Split a string into a list of words.\n",
    "sent = 'pw skill'\n",
    "print(sent.split())"
   ]
  },
  {
   "cell_type": "code",
   "execution_count": null,
   "id": "a28fc591",
   "metadata": {},
   "outputs": [],
   "source": [
    "# 15. Join a list of words into a string.\n",
    "\n",
    "sent = \"This assignement is given by pw skill\"\n",
    "word_to_count = \"pw\"\n",
    "\n",
    "words = sent.split()\n",
    "\n",
    "s = \"\"\n",
    "for i in words:\n",
    "    s += i\n",
    "    s +=\" \"\n",
    "print(s)"
   ]
  },
  {
   "cell_type": "code",
   "execution_count": null,
   "id": "bdfb691a",
   "metadata": {},
   "outputs": [],
   "source": [
    "# 16. Convert a string where words are separated by spaces to one where words are separated by underscores.\n",
    "sent = \"This assignement is given by pw skill\"\n",
    "print(f\"updated string: {sent.replace(' ', '_')}\")"
   ]
  },
  {
   "cell_type": "code",
   "execution_count": null,
   "id": "89a243d0",
   "metadata": {},
   "outputs": [],
   "source": [
    "# 17. Check if a string starts with a specific word or phrase.\n",
    "\n",
    "sent = \"This assignement is given by pw skill\"\n",
    "prefix_to_check = \"pw\"\n",
    "\n",
    "if sent.startswith(prefix_to_check):\n",
    "    print(f\"The string starts with '{prefix_to_check}'\")\n",
    "else:\n",
    "    print(f\"The string does not start with '{prefix_to_check}'\")\n"
   ]
  },
  {
   "cell_type": "code",
   "execution_count": null,
   "id": "738b1ade",
   "metadata": {},
   "outputs": [],
   "source": [
    "# 18. Check if a string ends with a specific word or phrase.\n",
    "\n",
    "sent = \"This assignement is given by pw skill\"\n",
    "prefix_to_check = \"pw skill\"\n",
    "\n",
    "if sent.endswith(prefix_to_check):\n",
    "    print(f\"The string end with '{prefix_to_check}'\")\n",
    "else:\n",
    "    print(f\"The string does not end with '{prefix_to_check}'\")"
   ]
  },
  {
   "cell_type": "code",
   "execution_count": null,
   "id": "e9c20635",
   "metadata": {},
   "outputs": [],
   "source": [
    "# 19. Convert a string to title case (e.g., \"hello world\" to \"Hello World\").\n",
    "\n",
    "sent = \"This assignement is given by pw skill\"\n",
    "print(sent.title())"
   ]
  },
  {
   "cell_type": "code",
   "execution_count": null,
   "id": "d5e3dac9",
   "metadata": {},
   "outputs": [],
   "source": [
    "# 20. Find the longest word in a string.\n",
    "\n",
    "sent = \"This is given by pw skill\"\n",
    "max_len_word = max(len(w) for w in sent.split())    \n",
    "words  = [x for x in sent.split() if len(x) == max_len_word]\n",
    "print(\"list of longest words \",words)"
   ]
  },
  {
   "cell_type": "code",
   "execution_count": null,
   "id": "26c85790",
   "metadata": {},
   "outputs": [],
   "source": [
    "# 21. Find the shortest word in a string.\n",
    "\n",
    "sent = \"This assignement is given by pw skill\"\n",
    "min_len_word = min(len(w) for w in sent.split())    \n",
    "words  = [x for x in sent.split() if len(x) == min_len_word]\n",
    "print(\"list of shortest words \",words)"
   ]
  },
  {
   "cell_type": "code",
   "execution_count": null,
   "id": "67f56c46",
   "metadata": {},
   "outputs": [],
   "source": [
    "# 22. Reverse the order of words in a string.\n",
    "\n",
    "sent = \"This assignement is given by pw skill\"\n",
    "words = sent.split()\n",
    "reversed = \"\"\n",
    "\n",
    "for word in words[::-1]:\n",
    "    reversed += f\" {word}\""
   ]
  },
  {
   "cell_type": "code",
   "execution_count": null,
   "id": "b041c59a",
   "metadata": {},
   "outputs": [],
   "source": [
    "# 23. Check if a string is alphanumeric.\n",
    "\n",
    "def is_alphanumeric(s):\n",
    "    for char in s:\n",
    "        if not (char.isalpha() or char.isdigit() or char.isspace()):\n",
    "            return False\n",
    "    return True\n",
    "\n",
    "sent = \"This assignement is given by pw skill\"\n",
    "\n",
    "if is_alphanumeric(sent):\n",
    "    print(\"The string is alphanumeric\")\n",
    "else:\n",
    "    print(\"The string is not alphanumeric\")"
   ]
  },
  {
   "cell_type": "code",
   "execution_count": null,
   "id": "b9445d1d",
   "metadata": {},
   "outputs": [],
   "source": [
    "# 24. Extract all digits from a string.\n",
    "\n",
    "sent = \"This is 2nd assignement given by pw skill on 20th aug 2023\"\n",
    "digits = [char for char in sent if char.isdigit()]\n",
    "result = ''.join(digits)\n",
    "\n",
    "print(\"Digits extracted from the string:\", result)"
   ]
  },
  {
   "cell_type": "code",
   "execution_count": null,
   "id": "8c2b815f",
   "metadata": {},
   "outputs": [],
   "source": [
    "# 25. Extract all alphabets from a string.\n",
    "\n",
    "sent = \"This is 2nd assignement given by pw skill on 20th aug 2023\"\n",
    "alphabets = [char for char in sent if char.isalpha()]\n",
    "result = ''.join(alphabets)\n",
    "\n",
    "print(\"Alphabets extracted from the string:\", result)"
   ]
  },
  {
   "cell_type": "code",
   "execution_count": null,
   "id": "bc77d377",
   "metadata": {},
   "outputs": [],
   "source": [
    "# 26. Count the number of uppercase letters in a string.\n",
    "\n",
    "sent = \"This is 2nd assignement given by pw skill on 20th aug 2023\"\n",
    "ct_uppercase = sum(1 for char in sent if char.isupper())\n",
    "\n",
    "print(\"Number of upper case char:\", ct_uppercase)"
   ]
  },
  {
   "cell_type": "code",
   "execution_count": null,
   "id": "17cfff1d",
   "metadata": {},
   "outputs": [],
   "source": [
    "# 27. Count the number of lowercase letters in a string.\n",
    "\n",
    "sent = \"This is 2nd assignement given by pw skill on 20th aug 2023\"\n",
    "ct_lowercase = sum(1 for char in sent if char.islower())\n",
    "\n",
    "print(\"Number of lower case char:\", ct_lowercase)"
   ]
  },
  {
   "cell_type": "code",
   "execution_count": null,
   "id": "b2ab50d5",
   "metadata": {},
   "outputs": [],
   "source": [
    "# 28. Swap the case of each character in a string.\n",
    "\n",
    "sent = \"This is 2nd assignement given by pw skill on 20th aug 2023\"\n",
    "swapped_string = sent.swapcase()\n",
    "\n",
    "print(\"Swapped string:\", swapped_string)"
   ]
  },
  {
   "cell_type": "code",
   "execution_count": null,
   "id": "99263e0e",
   "metadata": {},
   "outputs": [],
   "source": [
    "# 29. Remove a specific word from a string.\n",
    "sent = \"This is 2nd assignement given by pw skill on 20th aug 2023\"\n",
    "word_to_remove = \"2023\"\n",
    "\n",
    "modified_string = sent.replace(word_to_remove, \"\")\n",
    "print(\"Modified string:\", modified_string)"
   ]
  },
  {
   "cell_type": "code",
   "execution_count": null,
   "id": "a203e419",
   "metadata": {},
   "outputs": [],
   "source": [
    "# 30. Check if a string is a valid email address.\n",
    "\n",
    "import re\n",
    "\n",
    "def is_valid_email(email):\n",
    "    pattern = r'^[\\w\\.-]+@[\\w\\.-]+\\.\\w+$'\n",
    "    return re.match(pattern, email) is not None\n",
    "\n",
    "email = \"pwskills@pw.com\"\n",
    "if is_valid_email(email):\n",
    "    print(f\"{email} is a valid email address\")\n",
    "else:\n",
    "    print(f\"{email} is not a valid email address\")"
   ]
  },
  {
   "cell_type": "code",
   "execution_count": null,
   "id": "3dda3eca",
   "metadata": {},
   "outputs": [],
   "source": [
    "# 31. Extract the username from an email address string\n",
    "\n",
    "email = \"pwskills@pw.com\"\n",
    "username = email.split(\"@\")[0]\n",
    "print(\"Extracted username:\", username)"
   ]
  },
  {
   "cell_type": "code",
   "execution_count": null,
   "id": "cc9cbc0c",
   "metadata": {},
   "outputs": [],
   "source": [
    "# 32. Extract the domain name from an email address string\n",
    "\n",
    "email = \"pwskills@pw.com\"\n",
    "username = email.split(\".\")[1]\n",
    "print(\"Extracted username:\", username)"
   ]
  },
  {
   "cell_type": "code",
   "execution_count": null,
   "id": "1da039c6",
   "metadata": {},
   "outputs": [],
   "source": [
    "# 33. Replace multiple spaces in a string with a single space.\n",
    "\n",
    "import re\n",
    "\n",
    "sent = \"This  is  2nd  assignement        given by pw skill on 20th aug 2023\"\n",
    "modified_string = re.sub(r'\\s+', ' ', sent)\n",
    "\n",
    "print(\"Modified string:\", modified_string)\n"
   ]
  },
  {
   "cell_type": "code",
   "execution_count": null,
   "id": "4b615101",
   "metadata": {},
   "outputs": [],
   "source": [
    "# 34. Check if a string is a valid URL.\n",
    "\n",
    "import re\n",
    "\n",
    "def is_valid_url(url):\n",
    "    # Regular expression pattern for a basic URL validation\n",
    "    url_pattern = re.compile(r'^(https?|ftp)://[^\\s/$.?#].[^\\s]*$')\n",
    "    \n",
    "    return re.match(url_pattern, url) is not None\n",
    "\n",
    "# Test cases\n",
    "print(is_valid_url(\"https://www.pwskills.com\"))  # True\n",
    "print(is_valid_url(\"ftp://files.example.com\"))  # True\n",
    "print(is_valid_url(\"invalidurl\"))  # False\n"
   ]
  },
  {
   "cell_type": "code",
   "execution_count": null,
   "id": "53fd4447",
   "metadata": {},
   "outputs": [],
   "source": [
    "# 35. Extract the protocol (http or https) from a URL string.\n",
    "\n",
    "url_ = \"https://www.pwskills.com\"\n",
    "\n",
    "print(f\"protocol for given url: {url_.split(':')[0]}\")"
   ]
  },
  {
   "cell_type": "code",
   "execution_count": null,
   "id": "4b83c11c",
   "metadata": {},
   "outputs": [],
   "source": [
    "# 36. Find the frequency of each character in a string.\n",
    "\n",
    "def character_frequency(sent):\n",
    "    frequency = {}\n",
    "    \n",
    "    for char in sent:\n",
    "        if char in frequency:\n",
    "            frequency[char] += 1\n",
    "        else:\n",
    "            frequency[char] = 1\n",
    "    \n",
    "    return frequency\n",
    "\n",
    "# Test\n",
    "sent = \"pe skills\"\n",
    "freq = character_frequency(sent)\n",
    "for char, count in freq.items():\n",
    "    print(f\"'{char}': {count}\")\n"
   ]
  },
  {
   "cell_type": "code",
   "execution_count": null,
   "id": "1ed82dae",
   "metadata": {},
   "outputs": [],
   "source": [
    "# 37. Remove all punctuation from a string.\n",
    "\n",
    "def remove_punctuation(sent):\n",
    "    punctuation = '''!()-[]{};:'\"\\,<>./?@#$%^&*_~'''\n",
    "    no_punctuation = \"\"\n",
    "    \n",
    "    for char in sent:\n",
    "        if char not in punctuation:\n",
    "            no_punctuation += char\n",
    "    \n",
    "    return no_punctuation\n",
    "\n",
    "# Test\n",
    "sent = \"pw skills, Awesome!\"\n",
    "result = remove_punctuation(sent)\n",
    "print(result)  # Output: \"Hello world Hows life\"\n"
   ]
  },
  {
   "cell_type": "code",
   "execution_count": null,
   "id": "c0ac72c4",
   "metadata": {},
   "outputs": [],
   "source": [
    "# 38. Check if a string contains only digits.\n",
    "\n",
    "sent = \"This is 2nd assignement given by pw skill on 20th aug 2023\"\n",
    "\n",
    "\n",
    "result = all(char.isdigit() for char in sent.split())\n",
    "\n",
    "if result:\n",
    "    print(\"string contain only digits (white spaces are not excluded)\")\n",
    "else:\n",
    "    print(\"string doesn't contain only digits\")\n"
   ]
  },
  {
   "cell_type": "code",
   "execution_count": null,
   "id": "fa4253ab",
   "metadata": {},
   "outputs": [],
   "source": [
    "# 39. Check if a string contains only alphabets.\n",
    "\n",
    "sent = \"This is assignement given by pw skill\"\n",
    "\n",
    "\n",
    "result = all(char.isalpha() for char in sent.split())\n",
    "\n",
    "if result:\n",
    "    print(\"string contain only alphabets (white spaces are not excluded)\")\n",
    "else:\n",
    "    print(\"string doesn't contain only alphabets\")"
   ]
  },
  {
   "cell_type": "code",
   "execution_count": null,
   "id": "005afd0e",
   "metadata": {},
   "outputs": [],
   "source": [
    "# 40. Convert a string to a list of characters.\n",
    "\n",
    "sent = \"This is assignement given by pw skill\"\n",
    "\n",
    "ls_char = [char for char in sent]\n",
    "print(\"string to list of characters: \", ls_char)"
   ]
  },
  {
   "cell_type": "code",
   "execution_count": null,
   "id": "f66194f2",
   "metadata": {},
   "outputs": [],
   "source": [
    "# 41. Check if two strings are anagrams.\n",
    "\n",
    "def is_anagrams(str1, str2):\n",
    "    # Remove spaces and convert to lowercase for accurate comparison\n",
    "    str1 = str1.replace(\" \", \"\").lower()\n",
    "    str2 = str2.replace(\" \", \"\").lower()\n",
    "    \n",
    "    # Check if the sorted characters of both strings are the same\n",
    "    return sorted(str1) == sorted(str2)\n",
    "\n",
    "string1 = \"pw\"\n",
    "string2 = \"wp\"\n",
    "if is_anagrams(string1, string2):\n",
    "    print(\"strings are anagrams\")\n",
    "else:\n",
    "    print(\"strings aren't anagrams\")"
   ]
  },
  {
   "cell_type": "code",
   "execution_count": null,
   "id": "f2098f2b",
   "metadata": {},
   "outputs": [],
   "source": [
    "# 42. Encode a string using a Caesar cipher.\n",
    "\n",
    "def caesar_cipher_encrypt(sent, shift):\n",
    "    encrypted_text = \"\"\n",
    "    \n",
    "    for char in sent:\n",
    "        if char.isalpha():\n",
    "            is_upper = char.isupper()\n",
    "            char_index = ord(char.lower()) - ord('a')\n",
    "            encrypted_index = (char_index + shift) % 26\n",
    "            encrypted_char = chr(encrypted_index + ord('a'))\n",
    "            if is_upper:\n",
    "                encrypted_text += encrypted_char.upper()\n",
    "            else:\n",
    "                encrypted_text += encrypted_char\n",
    "        else:\n",
    "            encrypted_text += char\n",
    "    \n",
    "    return encrypted_text\n",
    "\n",
    "\n",
    "sent = \"This is assignement given by pw skill\"\n",
    "shift_value = 1\n",
    "encrypted_text = caesar_cipher_encrypt(sent, shift_value)\n",
    "print(encrypted_text)\n"
   ]
  },
  {
   "cell_type": "code",
   "execution_count": null,
   "id": "739c6bd3",
   "metadata": {},
   "outputs": [],
   "source": [
    "# 43. Decode a Caesar cipher encoded string.\n",
    "\n",
    "sent = \"Uijt jt bttjhofnfou hjwfo cz qx tljmm\"\n",
    "\n",
    "\n",
    "def caesar_cipher_decrypt(sent, shift):\n",
    "    decrypted_text = \"\"\n",
    "    \n",
    "    for char in sent:\n",
    "        if char.isalpha():\n",
    "            is_upper = char.isupper()\n",
    "            char_index = ord(char.lower()) - ord('a')\n",
    "            decrypted_index = (char_index - shift) % 26\n",
    "            decrypted_char = chr(decrypted_index + ord('a'))\n",
    "            if is_upper:\n",
    "                decrypted_text += decrypted_char.upper()\n",
    "            else:\n",
    "                decrypted_text += decrypted_char\n",
    "        else:\n",
    "            decrypted_text += char\n",
    "    \n",
    "    return decrypted_text\n",
    "\n",
    "shift_value = 1\n",
    "decrypted_text = caesar_cipher_decrypt(sent, shift_value)\n",
    "print(decrypted_text) \n"
   ]
  },
  {
   "cell_type": "code",
   "execution_count": null,
   "id": "814d7c62",
   "metadata": {},
   "outputs": [],
   "source": [
    "# 44. Find the most frequent word in a string.\n",
    "\n",
    "def most_frequent_word(sent):\n",
    "    words = sent.lower().split()\n",
    "    word_freq = {}\n",
    "    \n",
    "    for word in words:\n",
    "        if word in word_freq:\n",
    "            word_freq[word] += 1\n",
    "        else:\n",
    "            word_freq[word] = 1\n",
    "    \n",
    "    most_frequent_word = None\n",
    "    highest_frequency = 0\n",
    "    \n",
    "    for word, frequency in word_freq.items():\n",
    "        if frequency > highest_frequency:\n",
    "            highest_frequency = frequency\n",
    "            most_frequent_words = [word]\n",
    "        elif frequency == highest_frequency:\n",
    "            most_frequent_words.append(word)\n",
    "    \n",
    "    return most_frequent_words, highest_frequency\n",
    "\n",
    "\n",
    "sent = \"This is assignement given by pw skill. this is awesome!\"\n",
    "most_frequent, frequency = most_frequent_word(sent)\n",
    "print(f\"The most frequent word is '{most_frequent}' with frequency {frequency}\")\n"
   ]
  },
  {
   "cell_type": "code",
   "execution_count": null,
   "id": "8c4b87b6",
   "metadata": {},
   "outputs": [],
   "source": [
    "# 45. Find all unique words in a string.\n",
    "\n",
    "sent = \"This is assignement given by pw skill. this is awesome!\"\n",
    "\n",
    "unique_words = set(sent.lower().split())\n",
    "\n",
    "print(\"unique words in a string, \", unique_words)"
   ]
  },
  {
   "cell_type": "code",
   "execution_count": null,
   "id": "11f78f34",
   "metadata": {},
   "outputs": [],
   "source": [
    "# 46. Count the number of syllables in a string.\n",
    "\n",
    "def count_syllables(sent):\n",
    "    vowels = \"aeiouAEIOU\"\n",
    "    syllables = 0\n",
    "    in_syllable = False\n",
    "    \n",
    "    for char in word:\n",
    "        if char in vowels:\n",
    "            if not in_syllable:\n",
    "                syllables += 1\n",
    "                in_syllable = True\n",
    "        else:\n",
    "            in_syllable = False\n",
    "    \n",
    "    # Consider cases where 'e' at the end of the word is not counted as a syllable\n",
    "    if word.endswith(\"e\") and syllables > 1:\n",
    "        syllables -= 1\n",
    "    \n",
    "    return syllables\n",
    "\n",
    "def count_syllables_in_string(sent):\n",
    "    words = sent.split()\n",
    "    total_syllables = 0\n",
    "    \n",
    "    for word in words:\n",
    "        total_syllables += count_syllables(word)\n",
    "    \n",
    "    return total_syllables\n",
    "\n",
    "sent = \"This is assignement given by pw skill. this is awesome!\"\n",
    "syllable_count = count_syllables_in_string(sent)\n",
    "print(f\"Total syllables: {syllable_count}\")\n"
   ]
  },
  {
   "cell_type": "code",
   "execution_count": null,
   "id": "f7ead912",
   "metadata": {},
   "outputs": [],
   "source": [
    "# 47. Check if a string contains any special characters.\n",
    "\n",
    "import string\n",
    "\n",
    "special_characters = string.punctuation\n",
    "\n",
    "sent = \"This is assignement given by pw skill. this is awesome!\"\n",
    "\n",
    "flag = any(char for char in sent if char in special_characters)\n",
    "\n",
    "if flag:\n",
    "    print(\"string contains special characters\")\n",
    "else:\n",
    "    print(\"string doen't contains special characters\")"
   ]
  },
  {
   "cell_type": "code",
   "execution_count": null,
   "id": "90eac62b",
   "metadata": {},
   "outputs": [],
   "source": [
    "# 48. Remove the nth word from a string.\n",
    "\n",
    "def remove_nth_word(sent, n):\n",
    "    words = sent.split()\n",
    "    \n",
    "    if 1 <= n <= len(words):\n",
    "        del words[n - 1]\n",
    "        return ' '.join(words)\n",
    "    else:\n",
    "        return input_string\n",
    "\n",
    "sent = \"This is assignement given by pw skill. this is awesome!\"\n",
    "n = 2\n",
    "new_text = remove_nth_word(sent, n)\n",
    "print(new_text)"
   ]
  },
  {
   "cell_type": "code",
   "execution_count": null,
   "id": "bd9190aa",
   "metadata": {},
   "outputs": [],
   "source": [
    "# 49. Insert a word at the nth position in a string.\n",
    "\n",
    "def insert_nth_word(sent, word_to_insert, n):\n",
    "    words = sent.split()\n",
    "    words.insert(n, word_to_insert)\n",
    "    new_string = \" \".join(words)\n",
    "    return new_string\n",
    "\n",
    "# Test\n",
    "sent = \"This is assignement given by pw skill. this is awesome!\"\n",
    "word_to_insert = \"special\"\n",
    "insert_index = 2\n",
    "new_string = insert_nth_word(sent, word_to_insert, insert_index)\n",
    "print(new_string)\n"
   ]
  },
  {
   "cell_type": "code",
   "execution_count": null,
   "id": "f271ba7b",
   "metadata": {},
   "outputs": [],
   "source": [
    "# 50. Convert a CSV string to a list of lists\n",
    "\n",
    "def csv_string_to_list(sent):\n",
    "    lines = sent.strip().split('\\n')\n",
    "    list_of_lists = [line.split(',') for line in lines]\n",
    "    return list_of_lists\n",
    "\n",
    "# Test\n",
    "sent = \"This, is assignement ,given by pw skill. this is awesome!\"\n",
    "result = csv_string_to_list(sent)\n",
    "for row in result:\n",
    "    print(row)"
   ]
  },
  {
   "cell_type": "code",
   "execution_count": null,
   "id": "f359e4ad",
   "metadata": {},
   "outputs": [],
   "source": []
  },
  {
   "cell_type": "markdown",
   "id": "f6546f97",
   "metadata": {},
   "source": [
    "# List Based Practice Problem \n"
   ]
  },
  {
   "cell_type": "code",
   "execution_count": null,
   "id": "d50b8473",
   "metadata": {},
   "outputs": [],
   "source": [
    "# 1. Create a list with integers from 1 to 10.\n",
    "\n",
    "ls = [x for x in range(1,11)]\n",
    "ls"
   ]
  },
  {
   "cell_type": "code",
   "execution_count": null,
   "id": "2dcc9760",
   "metadata": {},
   "outputs": [],
   "source": [
    "# 2. Find the length of a list without using the `len()` function.\n",
    "ls = [1, 2, 3, 4, 5, 6, 7, 8, 9, 10]\n",
    "\n",
    "lenght = sum(1 for x in ls)\n",
    "lenght"
   ]
  },
  {
   "cell_type": "code",
   "execution_count": null,
   "id": "63646974",
   "metadata": {},
   "outputs": [],
   "source": [
    "# 3. Append an element to the end of a list.\n",
    "\n",
    "ls = [1, 2, 3, 4, 5, 6, 7, 8, 9, 10]\n",
    "element = 55\n",
    "ls.append(element)\n",
    "ls"
   ]
  },
  {
   "cell_type": "code",
   "execution_count": null,
   "id": "8bc25c52",
   "metadata": {},
   "outputs": [],
   "source": [
    "# 4. Insert an element at a specific index in a list.\n",
    "\n",
    "ls = [1, 2, 3, 4, 5, 6, 7, 8, 9, 10]\n",
    "\n",
    "insert_element = 33\n",
    "idx = 2\n",
    "\n",
    "ls.insert(idx, insert_element)\n",
    "ls"
   ]
  },
  {
   "cell_type": "code",
   "execution_count": null,
   "id": "05370d56",
   "metadata": {},
   "outputs": [],
   "source": [
    "# 5. Remove an element from a list by its value.\n",
    "\n",
    "ls = [1, 2, 3, 4, 55, 6, 7, 8, 9, 10]\n",
    "ls.remove(55)\n",
    "ls"
   ]
  },
  {
   "cell_type": "code",
   "execution_count": null,
   "id": "b4c324e8",
   "metadata": {},
   "outputs": [],
   "source": [
    "# 6. Remove an element from a list by its index.\n",
    "ls = [1, 2, 3, 4, 55, 6, 7, 8, 9, 10]\n",
    "rm_idx = 4\n",
    "\n",
    "for idx, ele in enumerate(ls):\n",
    "    if idx == rm_idx:\n",
    "        ls.remove(ele)\n",
    "ls"
   ]
  },
  {
   "cell_type": "code",
   "execution_count": null,
   "id": "d0b0888b",
   "metadata": {},
   "outputs": [],
   "source": [
    "# 7. Check if an element exists in a list.\n",
    "\n",
    "ls = [1, 2, 3, 4, 55, 6, 7, 8, 9, 10]\n",
    "\n",
    "ele_chk = 55\n",
    "\n",
    "if any(x for x in ls if x==ele_chk):\n",
    "    print(f\"element {ele_chk} present in given list: {ls}\")\n",
    "    \n",
    "else:\n",
    "    print(f\"element {ele_chk} doesn't present in given list: {ls}\")"
   ]
  },
  {
   "cell_type": "code",
   "execution_count": null,
   "id": "683278cd",
   "metadata": {},
   "outputs": [],
   "source": [
    "# 8. Find the index of the first occurrence of an element in a list.\n",
    "\n",
    "ls = [1, 2, 3, 4, 55, 6, 7, 55, 9, 10]\n",
    "\n",
    "first_occur = 55\n",
    "\n",
    "for idx, ele in enumerate(ls):\n",
    "    if ele == first_occur:\n",
    "        print(f\" index of the first occurrence of an element {first_occur} in a list is {idx}\")\n",
    "        break"
   ]
  },
  {
   "cell_type": "code",
   "execution_count": null,
   "id": "1a0d99f7",
   "metadata": {},
   "outputs": [],
   "source": [
    "# 9. Count the occurrences of an element in a list.\n",
    "ls = [1, 2, 3, 4, 55, 6, 7, 55, 9, 10]\n",
    "\n",
    "ct_occur = 55\n",
    "\n",
    "print(f\"Count the occurrences of an element {ct_occur} in a list is\",sum(1 for x in ls if x==ct_occur))"
   ]
  },
  {
   "cell_type": "code",
   "execution_count": null,
   "id": "72a38cb7",
   "metadata": {},
   "outputs": [],
   "source": [
    "# 10. Reverse the order of elements in a list.\n",
    "\n",
    "ls = [1, 2, 3, 4, 55, 6, 7, 55, 9, 10]\n",
    "\n",
    "ls[::-1]"
   ]
  },
  {
   "cell_type": "code",
   "execution_count": null,
   "id": "1b31e2b0",
   "metadata": {},
   "outputs": [],
   "source": [
    "# 11. Sort a list in ascending order.\n",
    "\n",
    "ls = [1, 2, 3, 4, 55, 6, 7, 55, 9, 10]\n",
    "sorted(ls)"
   ]
  },
  {
   "cell_type": "code",
   "execution_count": null,
   "id": "933acb8e",
   "metadata": {},
   "outputs": [],
   "source": [
    "# 12. Sort a list in descending order\n",
    "\n",
    "ls = [1, 2, 3, 4, 55, 6, 7, 55, 9, 10]\n",
    "sorted(ls, reverse=True)"
   ]
  },
  {
   "cell_type": "code",
   "execution_count": null,
   "id": "bcb3b750",
   "metadata": {},
   "outputs": [],
   "source": [
    "# 13. Create a list of even numbers from 1 to 20.\n",
    "\n",
    "even_numbers = list(filter(lambda x: x % 2 == 0, range(1, 21)))\n",
    "\n",
    "print(even_numbers)\n"
   ]
  },
  {
   "cell_type": "code",
   "execution_count": null,
   "id": "71dafc91",
   "metadata": {},
   "outputs": [],
   "source": [
    "# 14. Create a list of odd numbers from 1 to 20.\n",
    "odd_numbers = list(filter(lambda x: x % 2 == 1, range(1, 21)))\n",
    "\n",
    "print(odd_numbers)"
   ]
  },
  {
   "cell_type": "code",
   "execution_count": null,
   "id": "dfc1dce4",
   "metadata": {},
   "outputs": [],
   "source": [
    "# 15. Find the sum of all elements in a list.\n",
    "\n",
    "from functools import reduce\n",
    "\n",
    "ls = [1, 2, 3, 4, 6, 7, 9, 10, 55, 55]\n",
    "\n",
    "sum_of_elements = reduce(lambda x,y:x+y, ls)\n",
    "\n",
    "print(sum_of_elements)\n"
   ]
  },
  {
   "cell_type": "code",
   "execution_count": null,
   "id": "3cd47816",
   "metadata": {},
   "outputs": [],
   "source": [
    "# 16. Find the maximum value in a list.\n",
    "\n",
    "ls = [1, 2, 3, 4, 6, 7, 9, 10, 55, 55]\n",
    "\n",
    "max(ls)"
   ]
  },
  {
   "cell_type": "code",
   "execution_count": null,
   "id": "b1964c0d",
   "metadata": {},
   "outputs": [],
   "source": [
    "# 17. Find the minimum value in a list.\n",
    "ls = [1, 2, 3, 4, 6, 7, 9, 10, 55, 55]\n",
    "\n",
    "min(ls)"
   ]
  },
  {
   "cell_type": "code",
   "execution_count": null,
   "id": "9058b596",
   "metadata": {},
   "outputs": [],
   "source": [
    "# 18. Create a list of squares of numbers from 1 to 10.\n",
    "\n",
    "list(map(lambda x: x**2, range(1,11)))"
   ]
  },
  {
   "cell_type": "code",
   "execution_count": null,
   "id": "b368d625",
   "metadata": {},
   "outputs": [],
   "source": [
    "# 19. Create a list of random numbers.\n",
    "\n",
    "import random\n",
    "\n",
    "[random.randint(1,100) for x in range(10)]"
   ]
  },
  {
   "cell_type": "code",
   "execution_count": null,
   "id": "f9c46865",
   "metadata": {},
   "outputs": [],
   "source": [
    "# 20. Remove duplicates from a list.\n",
    "ls = [1, 2, 3, 4, 6, 7, 9, 10, 55, 55, \"abc\", \"abc\"]\n",
    "list(set(ls))"
   ]
  },
  {
   "cell_type": "code",
   "execution_count": null,
   "id": "f01401eb",
   "metadata": {},
   "outputs": [],
   "source": [
    "# 21. Find the common elements between two lists.\n",
    "ls1 = [1, 2, 3, 4, 6, 7, 9, 10, 55, 55, \"abc\", \"abc\"]\n",
    "ls2 = [1, 2, 3]\n",
    "\n",
    "print(\"common elements between two lists\", [x for x in ls1 if x in ls2])"
   ]
  },
  {
   "cell_type": "code",
   "execution_count": null,
   "id": "a86129b9",
   "metadata": {},
   "outputs": [],
   "source": [
    "# 22. Find the difference between two lists.\n",
    "\n",
    "ls1 = [1, 2, 3, 4, 6, 7, 9, 10, 55, 55, \"abc\", \"abc\"]\n",
    "ls2 = [1, 2, 3, 99]\n",
    "\n",
    "print(\"common elements between two lists\", [x for x in ls1 if x not in ls2] + [x for x in ls2 if x not in ls1])"
   ]
  },
  {
   "cell_type": "code",
   "execution_count": null,
   "id": "ad15c4cc",
   "metadata": {},
   "outputs": [],
   "source": [
    "# 23. Merge two lists.\n",
    "\n",
    "ls1 = [1, 2, 3, 4, 6, 7, 9, 10, 55, 55, \"abc\", \"abc\"]\n",
    "ls2 = [1, 2, 3, 99]\n",
    "\n",
    "ls1+ls2"
   ]
  },
  {
   "cell_type": "code",
   "execution_count": null,
   "id": "2ab0c8d0",
   "metadata": {},
   "outputs": [],
   "source": [
    "# 24. Multiply all elements in a list by 2.\n",
    "ls1 = [1, 2, 3, 4, 6, 7, 9, 10, 55, 55, \"abc\", \"abc\"]\n",
    "\n",
    "list(map(lambda x: x*2, ls1))"
   ]
  },
  {
   "cell_type": "code",
   "execution_count": null,
   "id": "4a979e7b",
   "metadata": {},
   "outputs": [],
   "source": [
    "# 25. Filter out all even numbers from a list.\n",
    "\n",
    "ls1 = [1, 2, 3, 4, 6, 7, 9, 10, 55, 55]\n",
    "even_numbers = list(filter(lambda x: x % 2 == 0, ls1))\n",
    "\n",
    "print(even_numbers)"
   ]
  },
  {
   "cell_type": "code",
   "execution_count": null,
   "id": "e9e593c5",
   "metadata": {},
   "outputs": [],
   "source": [
    "# 26. Convert a list of strings to a list of integers.\n",
    "\n",
    "ls = [\"1\", \"2\", \"3\", \"4\", \"5\"]\n",
    "integer_list = list(map(int, ls))\n",
    "integer_list\n"
   ]
  },
  {
   "cell_type": "code",
   "execution_count": null,
   "id": "d061495e",
   "metadata": {},
   "outputs": [],
   "source": [
    "# 27. Convert a list of integers to a list of strings.\n",
    "\n",
    "ls = [1, 2, 3, 4, 5]\n",
    "str_list = list(map(str, ls))\n",
    "str_list"
   ]
  },
  {
   "cell_type": "code",
   "execution_count": null,
   "id": "65dcab1e",
   "metadata": {},
   "outputs": [],
   "source": [
    "# 28. Flatten a nested list.\n",
    "\n",
    "def flatten_nested_list(nested_list):\n",
    "    flattened_list = []\n",
    "    for item in nested_list:\n",
    "        if isinstance(item, list):\n",
    "            flattened_list.extend(flatten_nested_list(item))\n",
    "        else:\n",
    "            flattened_list.append(item)\n",
    "    return flattened_list\n",
    "\n",
    "nested_list = [1, [2, 3, [4, 5]], 6, [7, [8]]]\n",
    "flattened_list = flatten_nested_list(nested_list)\n",
    "flattened_list"
   ]
  },
  {
   "cell_type": "code",
   "execution_count": null,
   "id": "6e5d7342",
   "metadata": {},
   "outputs": [],
   "source": [
    "# 29. Create a list of the first 10 Fibonacci numbers.\n",
    "\n",
    "def fibonacci_iterative(n):\n",
    "    fib_list = [0, 1]\n",
    "    while len(fib_list) < n:\n",
    "        fib_list.append(fib_list[-1] + fib_list[-2])\n",
    "    return fib_list\n",
    "\n",
    "n = 10  # Change this value to generate more or fewer Fibonacci numbers\n",
    "fib_numbers = fibonacci_iterative(n)\n",
    "fib_numbers"
   ]
  },
  {
   "cell_type": "code",
   "execution_count": null,
   "id": "90c46413",
   "metadata": {},
   "outputs": [],
   "source": [
    "# 30. Check if a list is sorted.\n",
    "ls = [1, 2, 3, 4, 5, 6, 7, 8, 5]\n",
    "\n",
    "ls == sorted(ls)"
   ]
  },
  {
   "cell_type": "code",
   "execution_count": null,
   "id": "f198c410",
   "metadata": {},
   "outputs": [],
   "source": [
    "# 31. Rotate a list to the left by `n` positions.\n",
    "\n",
    "def rotate_left(lst, n):\n",
    "    if not lst:\n",
    "        return lst  # Return an empty list if the input list is empty\n",
    "    n = n % len(lst)  # Ensure n is within the length of the list\n",
    "    return lst[n:] + lst[:n]\n",
    "\n",
    "ls = [1, 2, 3, 4, 5, 6, 7, 8, 9, 10]\n",
    "n = 3\n",
    "rotated_list = rotate_left(ls, n)\n",
    "rotated_list"
   ]
  },
  {
   "cell_type": "code",
   "execution_count": null,
   "id": "0376024f",
   "metadata": {},
   "outputs": [],
   "source": [
    "# 32. Rotate a list to the right by `n` positions.\n",
    "\n",
    "\n",
    "def rotate_right(lst, n):\n",
    "    if not lst:\n",
    "        return lst  # Return an empty list if the input list is empty\n",
    "    n = n % len(lst)  # Ensure n is within the length of the list\n",
    "    return  lst[-n:] + lst[:-n] \n",
    "\n",
    "ls = [1, 2, 3, 4, 5, 6, 7, 8, 9, 10]\n",
    "n = 5\n",
    "rotated_list = rotate_right(ls, n)\n",
    "rotated_list"
   ]
  },
  {
   "cell_type": "code",
   "execution_count": null,
   "id": "4cce536f",
   "metadata": {},
   "outputs": [],
   "source": [
    "# 33. Create a list of prime numbers up to 50.\n",
    "\n",
    "def is_prime(num):\n",
    "    if num <= 1:\n",
    "        return False\n",
    "    elif num == 2:\n",
    "        return True\n",
    "    elif num % 2 == 0:\n",
    "        return False\n",
    "    else:\n",
    "        # Check for factors up to the square root of the number\n",
    "        for i in range(3, int(num ** 0.5) + 1, 2):\n",
    "            if num % i == 0:\n",
    "                return False\n",
    "        return True\n",
    "\n",
    "# Create a list of prime numbers up to 50\n",
    "prime_numbers = [num for num in range(2, 51) if is_prime(num)]\n",
    "\n",
    "prime_numbers"
   ]
  },
  {
   "cell_type": "code",
   "execution_count": null,
   "id": "0d3da1c1",
   "metadata": {},
   "outputs": [],
   "source": [
    "# 34. Split a list into chunks of size `n`.\n",
    "\n",
    "def split_list_into_chunks(lst, n):\n",
    "    for i in range(0, len(lst), n):\n",
    "        yield lst[i:i + n]\n",
    "\n",
    "# Example usage:\n",
    "ls = [1, 2, 3, 4, 5, 6, 7, 8, 9]\n",
    "chunk_size = 2\n",
    "chunked_lists = list(split_list_into_chunks(ls, chunk_size))\n",
    "\n",
    "print(chunked_lists)\n"
   ]
  },
  {
   "cell_type": "code",
   "execution_count": null,
   "id": "1a972876",
   "metadata": {},
   "outputs": [],
   "source": [
    "# 35. Find the second largest number in a list.\n",
    "ls = [1, 2, 3, 4, 5, 6, 7, 8, 9, 99, 88, 32, 44]\n",
    "\n",
    "sorted(ls)[-2]"
   ]
  },
  {
   "cell_type": "code",
   "execution_count": null,
   "id": "23ea5f26",
   "metadata": {},
   "outputs": [],
   "source": [
    "# 36. Replace every element in a list with its square.\n",
    "\n",
    "ls = [1, 2, 3, 4, 5, 6, 7, 8, 9, 99, 88, 32, 44]\n",
    "list(map(lambda x: x**2, ls))"
   ]
  },
  {
   "cell_type": "code",
   "execution_count": null,
   "id": "87c8d4c4",
   "metadata": {},
   "outputs": [],
   "source": [
    "# 37. Convert a list to a dictionary where list elements become keys \n",
    "# and their indices become values.\n",
    "\n",
    "ls = [1, 2, 3, 4, 5, 6, 7, 8, 9, 99, 88, 32, 44]\n",
    "\n",
    "dix = {}\n",
    "\n",
    "for idx, ele in enumerate(ls):\n",
    "    dix[ele] = idx\n",
    "    \n",
    "dix"
   ]
  },
  {
   "cell_type": "code",
   "execution_count": null,
   "id": "3cef3c91",
   "metadata": {},
   "outputs": [],
   "source": [
    "# 38. Shuffle the elements of a list randomly.\n",
    "import random\n",
    "\n",
    "# Define your list\n",
    "ls = [1, 2, 3, 4, 5, 6, 7, 8, 9]\n",
    "\n",
    "# Shuffle the list randomly\n",
    "random.shuffle(ls)\n",
    "\n",
    "# Print the shuffled list\n",
    "print(ls)\n"
   ]
  },
  {
   "cell_type": "code",
   "execution_count": null,
   "id": "cf709f17",
   "metadata": {},
   "outputs": [],
   "source": [
    "# 39. Create a list of the first 10 factorial numbers.\n",
    "\n",
    "def factorial(n):\n",
    "    if n>0:\n",
    "        if n==1:\n",
    "            return 1\n",
    "    return n*factorial(n-1)\n",
    "\n",
    "fact = [factorial(x) for x in range(1,11)]\n",
    "fact"
   ]
  },
  {
   "cell_type": "code",
   "execution_count": null,
   "id": "28291205",
   "metadata": {},
   "outputs": [],
   "source": [
    "# 40. Check if two lists have at least one element in common.\n",
    "\n",
    "def have_common_element(list1, list2):\n",
    "    set1 = set(list1)\n",
    "    set2 = set(list2)\n",
    "    common_elements = set1.intersection(set2)\n",
    "    return bool(common_elements)\n",
    "\n",
    "# Example usage:\n",
    "ls1 = [1, 2, 3, 4, 5]\n",
    "ls2 = [4, 5, 6, 7, 8]\n",
    "\n",
    "if have_common_element(ls1, ls2):\n",
    "    print(\"The lists have at least one common element.\")\n",
    "else:\n",
    "    print(\"The lists have no common elements.\")\n"
   ]
  },
  {
   "cell_type": "code",
   "execution_count": null,
   "id": "b29451e5",
   "metadata": {},
   "outputs": [],
   "source": [
    "# 41. Remove all elements from a list.\n",
    "\n",
    "ls = [1, 2, 3, 4, 5, 6, 7, 8, 9]\n",
    "\n",
    "ls.clear()\n",
    "ls"
   ]
  },
  {
   "cell_type": "code",
   "execution_count": null,
   "id": "50fbe03e",
   "metadata": {},
   "outputs": [],
   "source": [
    "# 42. Replace negative numbers in a list with 0.\n",
    "\n",
    "ls = [1, 2, 3, 4, 5, 6, 7, 8, -9]\n",
    "\n",
    "for idx, ele in enumerate(ls):\n",
    "    if ele < 0:\n",
    "        ls[idx] = 0\n",
    "ls"
   ]
  },
  {
   "cell_type": "code",
   "execution_count": null,
   "id": "1dc52562",
   "metadata": {},
   "outputs": [],
   "source": [
    "# 43. Convert a string into a list of words.\n",
    "\n",
    "sent = \"pw skills DS batch assignment\"\n",
    "sent.split()"
   ]
  },
  {
   "cell_type": "code",
   "execution_count": null,
   "id": "13a5a5a7",
   "metadata": {},
   "outputs": [],
   "source": [
    "# 44. Convert a list of words into a string.\n",
    "\n",
    "ls = ['pw', 'skills', 'DS', 'batch', 'assignment']\n",
    "\" \".join(ls)"
   ]
  },
  {
   "cell_type": "code",
   "execution_count": null,
   "id": "08e913b8",
   "metadata": {},
   "outputs": [],
   "source": [
    "# 45. Create a list of the first `n` powers of 2.\n",
    "\n",
    "n= 10\n",
    "list(map(lambda x:x**2, range(1, n+1)))"
   ]
  },
  {
   "cell_type": "code",
   "execution_count": null,
   "id": "fde8bb6f",
   "metadata": {},
   "outputs": [],
   "source": [
    "# 46. Find the longest string in a list of strings.\n",
    "\n",
    "ls = ['pw', 'skills', 'DS', 'batch', 'assignment', \"asiignment\"]\n",
    "\n",
    "max_len = max(len(i) for i in ls)\n",
    "\n",
    "[x for x in ls if len(x)==max_len]"
   ]
  },
  {
   "cell_type": "code",
   "execution_count": null,
   "id": "688ab87f",
   "metadata": {},
   "outputs": [],
   "source": [
    "# 47. Find the shortest string in a list of strings.\n",
    "\n",
    "ls = ['pw', 'skills', 'DS', 'batch', 'assignment', \"asiignment\"]\n",
    "\n",
    "min_len = min(len(i) for i in ls)\n",
    "\n",
    "[x for x in ls if len(x)==min_len]"
   ]
  },
  {
   "cell_type": "code",
   "execution_count": null,
   "id": "f4a77521",
   "metadata": {},
   "outputs": [],
   "source": [
    "# 48. Create a list of the first `n` triangular numbers.\n",
    "\n",
    "def generate_triangular_numbers(n):\n",
    "    triangular_numbers = []\n",
    "    for i in range(1, n + 1):\n",
    "        triangular_number = (i * (i + 1)) // 2\n",
    "        triangular_numbers.append(triangular_number)\n",
    "    return triangular_numbers\n",
    "\n",
    "n = 10  # Change this value to get the first n triangular numbers\n",
    "triangular_numbers = generate_triangular_numbers(n)\n",
    "triangular_numbers"
   ]
  },
  {
   "cell_type": "code",
   "execution_count": null,
   "id": "e9417f58",
   "metadata": {},
   "outputs": [],
   "source": [
    "# 49. Check if a list contains another list as a subsequence.\n",
    "\n",
    "def check(main_ls, ele):\n",
    "    if ele in main_ls:\n",
    "        return True\n",
    "    else:\n",
    "        return False\n",
    "\n",
    "\n",
    "main_ls = [1,2,3,4,5,6,7,8,9]\n",
    "sub_ls = [4,5,2]\n",
    "\n",
    "result = all(check(main_ls, x) for x in sub_ls)\n",
    "\n",
    "if result:\n",
    "    print(\"All elements are present inside main list\")\n",
    "else:\n",
    "    print(\"All elements doen't present inside main list\")"
   ]
  },
  {
   "cell_type": "code",
   "execution_count": null,
   "id": "af8013f1",
   "metadata": {},
   "outputs": [],
   "source": [
    "# 50. Swap two elements in a list by their indices.\n",
    "\n",
    "\n",
    "ls = [11, 34, 123, 324, 1234]\n",
    "idx1 = 0\n",
    "idx2 = 1\n",
    "\n",
    "ls[idx1], ls[idx2] = ls[idx2], ls[idx1]\n",
    "ls"
   ]
  },
  {
   "cell_type": "code",
   "execution_count": null,
   "id": "574dbe9e",
   "metadata": {},
   "outputs": [],
   "source": []
  },
  {
   "cell_type": "markdown",
   "id": "d5ca9798",
   "metadata": {},
   "source": [
    "# Tuple Based Practice Problem"
   ]
  },
  {
   "cell_type": "code",
   "execution_count": null,
   "id": "4c183992",
   "metadata": {},
   "outputs": [],
   "source": [
    "# 1. Create a tuple with integers from 1 to 5.\n",
    "\n",
    "tuple(x for x in range(1, 6))"
   ]
  },
  {
   "cell_type": "code",
   "execution_count": null,
   "id": "c7ab2f2d",
   "metadata": {},
   "outputs": [],
   "source": [
    "# 2. Access the third element of a tuple.\n",
    "\n",
    "tup = tuple([1, 2, 3, 4, 5])\n",
    "tup[2]"
   ]
  },
  {
   "cell_type": "code",
   "execution_count": null,
   "id": "017130bf",
   "metadata": {},
   "outputs": [],
   "source": [
    "# 3. Find the length of a tuple without using the `len()` function.\n",
    "\n",
    "tup = tuple([1, 2, 3, 4, 5])\n",
    "length = sum(1 for x in tup)\n",
    "length"
   ]
  },
  {
   "cell_type": "code",
   "execution_count": null,
   "id": "f0b0bd34",
   "metadata": {},
   "outputs": [],
   "source": [
    "# 4. Count the occurrences of an element in a tuple.\n",
    "\n",
    "tup = tuple([1, 2, 3, 4, 55, 6, 7, 55, 9, 10])\n",
    "\n",
    "ct_occur = 55\n",
    "\n",
    "print(f\"Count the occurrences of an element {ct_occur} in a tup is\",sum(1 for x in tup if x==ct_occur))"
   ]
  },
  {
   "cell_type": "code",
   "execution_count": null,
   "id": "e33c99e5",
   "metadata": {},
   "outputs": [],
   "source": [
    "# 5. Find the index of the first occurrence of an element in a tuple.\n",
    "\n",
    "tup = tuple([1, 2, 3, 4, 55, 6, 7, 55, 9, 10])\n",
    "\n",
    "first_occur = 55\n",
    "\n",
    "for idx, ele in enumerate(tup):\n",
    "    if ele == first_occur:\n",
    "        print(f\" index of the first occurrence of an element {first_occur} in a tup is {idx}\")\n",
    "        break"
   ]
  },
  {
   "cell_type": "code",
   "execution_count": null,
   "id": "9d8e6bc9",
   "metadata": {},
   "outputs": [],
   "source": [
    "# 6. Check if an element exists in a tuple.\n",
    "\n",
    "tup = tuple([1, 2, 3, 4, 55, 6, 7, 55, 9, 10])\n",
    "\n",
    "ele_chk = 10\n",
    "\n",
    "if any(x for x in tup if x==ele_chk):\n",
    "    print(f\"element {ele_chk} present in given tuple: {tup}\")\n",
    "    \n",
    "else:\n",
    "    print(f\"element {ele_chk} doesn't present in given tuple: {tup}\")"
   ]
  },
  {
   "cell_type": "code",
   "execution_count": null,
   "id": "2018896c",
   "metadata": {},
   "outputs": [],
   "source": [
    "# 7. Convert a tuple to a list.\n",
    "\n",
    "tup = tuple([1, 2, 3, 4, 55, 6, 7, 55, 9, 10])\n",
    "list(tup)"
   ]
  },
  {
   "cell_type": "code",
   "execution_count": null,
   "id": "619eda0e",
   "metadata": {},
   "outputs": [],
   "source": [
    "# 8. Convert a list to a tuple.\n",
    "\n",
    "ls = [1, 2, 3, 4, 55, 6, 7, 55, 9, 10]\n",
    "tuple(ls)"
   ]
  },
  {
   "cell_type": "code",
   "execution_count": null,
   "id": "5f7fec88",
   "metadata": {},
   "outputs": [],
   "source": [
    "# 9. Unpack the elements of a tuple into variables.\n",
    "\n",
    "tup = tuple([11,22])\n",
    "\n",
    "a,b = tup\n",
    "\n",
    "print(a,b)"
   ]
  },
  {
   "cell_type": "code",
   "execution_count": null,
   "id": "a52ab096",
   "metadata": {},
   "outputs": [],
   "source": [
    "# 10. Create a tuple of even numbers from 1 to 10.\n",
    "\n",
    "\n",
    "even_numbers = tuple(filter(lambda x: x % 2 == 0, range(1, 11)))\n",
    "\n",
    "print(even_numbers)"
   ]
  },
  {
   "cell_type": "code",
   "execution_count": null,
   "id": "5f5370b5",
   "metadata": {},
   "outputs": [],
   "source": [
    "# 11. Create a tuple of odd numbers from 1 to 10.\n",
    "\n",
    "\n",
    "odd_numbers = tuple(filter(lambda x: x % 2 == 0, range(1, 11)))\n",
    "\n",
    "print(odd_numbers)"
   ]
  },
  {
   "cell_type": "code",
   "execution_count": null,
   "id": "a28aca84",
   "metadata": {},
   "outputs": [],
   "source": [
    "# 12. Concatenate two tuples.\n",
    "\n",
    "tuple1 = (1, 2, 3)\n",
    "tuple2 = (4, 5, 6)\n",
    "\n",
    "concatenated_tuple = tuple1 + tuple2\n",
    "print(concatenated_tuple)\n"
   ]
  },
  {
   "cell_type": "code",
   "execution_count": null,
   "id": "bd3374fe",
   "metadata": {},
   "outputs": [],
   "source": [
    "# 13. Repeat a tuple three times.\n",
    "\n",
    "tuple1 = (1, 2, 3)\n",
    "\n",
    "3*tuple1"
   ]
  },
  {
   "cell_type": "code",
   "execution_count": null,
   "id": "4d367337",
   "metadata": {},
   "outputs": [],
   "source": [
    "# 14. Check if a tuple is empty.\n",
    "\n",
    "tuple1 =()\n",
    "\n",
    "if len(tuple1) !=0:\n",
    "    print(\"tuple is not empty\")\n",
    "else:\n",
    "    print(\"tuple is empty\")"
   ]
  },
  {
   "cell_type": "code",
   "execution_count": null,
   "id": "f17c54c8",
   "metadata": {},
   "outputs": [],
   "source": [
    "# 15. Create a nested tuple.\n",
    "\n",
    "nested_tuple = (1,22,(22,444,333))\n",
    "nested_tuple"
   ]
  },
  {
   "cell_type": "code",
   "execution_count": null,
   "id": "952713d4",
   "metadata": {},
   "outputs": [],
   "source": [
    "# 16. Access the first element of a nested tuple.\n",
    "\n",
    "nested_tuple[0]"
   ]
  },
  {
   "cell_type": "code",
   "execution_count": null,
   "id": "861e32e2",
   "metadata": {},
   "outputs": [],
   "source": [
    "# 17. Create a tuple with a single element.\n",
    "\n",
    "(1,)"
   ]
  },
  {
   "cell_type": "code",
   "execution_count": null,
   "id": "7d8c27a6",
   "metadata": {},
   "outputs": [],
   "source": [
    "# 18. Compare two tuples.\n",
    "\n",
    "\n",
    "tuple1 = (1, 2, 3)\n",
    "tuple2 = (2, 3, 1)\n",
    "\n",
    "tuple1 == tuple2"
   ]
  },
  {
   "cell_type": "code",
   "execution_count": null,
   "id": "96b386e9",
   "metadata": {},
   "outputs": [],
   "source": [
    "# 19. Delete a tuple.\n",
    "\n",
    "tup = (1, 2, 3, 4, 5)\n",
    "\n",
    "del tup\n",
    "\n",
    "tup"
   ]
  },
  {
   "cell_type": "code",
   "execution_count": null,
   "id": "85811e1e",
   "metadata": {},
   "outputs": [],
   "source": [
    "# 20. Slice a tuple.\n",
    "\n",
    "tup = (1,2,3,4,5)\n",
    "\n",
    "slice_result = tup[1:4]\n",
    "\n",
    "print(slice_result)\n"
   ]
  },
  {
   "cell_type": "code",
   "execution_count": null,
   "id": "6066b844",
   "metadata": {},
   "outputs": [],
   "source": [
    "# 21. Find the maximum value in a tuple.\n",
    "\n",
    "tup = (1,2,3,4,5)\n",
    "\n",
    "mx_value = max(tup)\n",
    "mx_value"
   ]
  },
  {
   "cell_type": "code",
   "execution_count": null,
   "id": "4e62a4c2",
   "metadata": {},
   "outputs": [],
   "source": [
    "# 22. Find the minimum value in a tuple.\n",
    "\n",
    "tup = (1,2,3,4,5)\n",
    "\n",
    "mn_value = min(tup)\n",
    "mn_value"
   ]
  },
  {
   "cell_type": "code",
   "execution_count": null,
   "id": "63c75b21",
   "metadata": {},
   "outputs": [],
   "source": [
    "# 23. Convert a string to a tuple of characters.\n",
    "\n",
    "st = \"pwskills\"\n",
    "\n",
    "tuple((x for x in st))"
   ]
  },
  {
   "cell_type": "code",
   "execution_count": null,
   "id": "6848f96a",
   "metadata": {},
   "outputs": [],
   "source": [
    "# 24. Convert a tuple of characters to a string.\n",
    "\n",
    "tup = ('p', 'w', 's', 'k', 'i', 'l', 'l', 's')\n",
    "\n",
    "\"\".join(tup)"
   ]
  },
  {
   "cell_type": "code",
   "execution_count": null,
   "id": "6e039ead",
   "metadata": {},
   "outputs": [],
   "source": [
    "# 25. Create a tuple from multiple data types.\n",
    "\n",
    "tup = (1, 2.0, \"pw\", \"skills\")\n",
    "tup"
   ]
  },
  {
   "cell_type": "code",
   "execution_count": null,
   "id": "8323486b",
   "metadata": {},
   "outputs": [],
   "source": [
    "# 26. Check if two tuples are identical.\n",
    "\n",
    "tuple1 = (1, 2, 3)\n",
    "tuple2 = (1, 2, 3)\n",
    "\n",
    "if tuple1 == tuple2:\n",
    "    print(\"The two tuples are identical.\")\n",
    "else:\n",
    "    print(\"The two tuples are not identical.\")\n"
   ]
  },
  {
   "cell_type": "code",
   "execution_count": null,
   "id": "f9b4b536",
   "metadata": {},
   "outputs": [],
   "source": [
    "# 27. Sort the elements of a tuple.\n",
    "\n",
    "tup = (3, 1, 2, 5, 4)\n",
    "\n",
    "sorted_list = sorted(tup)\n",
    "\n",
    "sorted_tuple = tuple(sorted_list)\n",
    "print(\"Sorted tuple:\", sorted_tuple)"
   ]
  },
  {
   "cell_type": "code",
   "execution_count": null,
   "id": "15413eca",
   "metadata": {},
   "outputs": [],
   "source": [
    "# 29. Convert a tuple of strings to a tuple of integers.\n",
    "\n",
    "tup = (\"1\", \"2\", \"3\", \"4\", \"5\")\n",
    "\n",
    "tuple_of_integers = tuple(int(x) for x in tup)\n",
    "\n",
    "print(tuple_of_integers)\n"
   ]
  },
  {
   "cell_type": "code",
   "execution_count": null,
   "id": "25ca9e4b",
   "metadata": {},
   "outputs": [],
   "source": [
    "# 30. Merge two tuples.\n",
    "\n",
    "tuple1 = (1, 2, 3)\n",
    "tuple2 = (4, 5, 6)\n",
    "\n",
    "merged_tuple = tuple1 + tuple2\n",
    "print(merged_tuple)"
   ]
  },
  {
   "cell_type": "code",
   "execution_count": null,
   "id": "fffebfc9",
   "metadata": {},
   "outputs": [],
   "source": [
    "# 31. Flatten a nested tuple.\n",
    "\n",
    "def flatten_nested_tuple(nested_tuple):\n",
    "    flat_list = []\n",
    "    for item in nested_tuple:\n",
    "        if isinstance(item, tuple):\n",
    "            flat_list.extend(flatten_nested_tuple(item))\n",
    "        else:\n",
    "            flat_list.append(item)\n",
    "    return tuple(flat_list)\n",
    "\n",
    "nested_tuple = (1, (2, 3), (4, (5, 6)))\n",
    "\n",
    "flat_tuple = flatten_nested_tuple(nested_tuple)\n",
    "print(flat_tuple)\n"
   ]
  },
  {
   "cell_type": "code",
   "execution_count": null,
   "id": "81db9d66",
   "metadata": {},
   "outputs": [],
   "source": [
    "# 32. Create a tuple of the first 5 prime numbers.\n",
    "\n",
    "def is_prime(num):\n",
    "    if num <= 1:\n",
    "        return False\n",
    "    elif num == 2:\n",
    "        return True\n",
    "    elif num % 2 == 0:\n",
    "        return False\n",
    "    else:\n",
    "        # Check for factors up to the square root of the number\n",
    "        for i in range(3, int(num ** 0.5) + 1, 2):\n",
    "            if num % i == 0:\n",
    "                return False\n",
    "        return True\n",
    "\n",
    "prime_numbers = []\n",
    "num = 2  # Start with the first prime number, which is 2\n",
    "\n",
    "while len(prime_numbers) < 5:\n",
    "    if is_prime(num):\n",
    "        prime_numbers.append(num)\n",
    "    num += 1\n",
    "\n",
    "# Convert the list of prime numbers to a tuple\n",
    "prime_tuple = tuple(prime_numbers)\n",
    "\n",
    "print(prime_tuple)\n"
   ]
  },
  {
   "cell_type": "code",
   "execution_count": null,
   "id": "385a3823",
   "metadata": {},
   "outputs": [],
   "source": [
    "# 33. Check if a tuple is a palindrome.\n",
    "\n",
    "def is_palindrome_tuple(input_tuple):\n",
    "    return input_tuple == input_tuple[::-1]\n",
    "\n",
    "tup = (1, 2, 3, 2, 1)\n",
    "\n",
    "if is_palindrome_tuple(tup):\n",
    "    print(\"The tuple is a palindrome.\")\n",
    "else:\n",
    "    print(\"The tuple is not a palindrome.\")\n"
   ]
  },
  {
   "cell_type": "code",
   "execution_count": null,
   "id": "b498f144",
   "metadata": {},
   "outputs": [],
   "source": [
    "# 34. Create a tuple of squares of numbers from 1 to 5.\n",
    "\n",
    "tuple(map(lambda x: x**2, range(1,6)))"
   ]
  },
  {
   "cell_type": "code",
   "execution_count": null,
   "id": "87b7f46f",
   "metadata": {},
   "outputs": [],
   "source": [
    "# 35. Filter out all even numbers from a tuple.\n",
    "\n",
    "tup = (1, 4, 9, 16, 25)\n",
    "\n",
    "tuple(x for x in tup if x%2==0)"
   ]
  },
  {
   "cell_type": "code",
   "execution_count": null,
   "id": "aed69faa",
   "metadata": {},
   "outputs": [],
   "source": [
    "# 36. Multiply all elements in a tuple by 2.\n",
    "\n",
    "tup = (1, 4, 9, 16, 25)\n",
    "\n",
    "tuple(map(lambda x: x*2, tup))"
   ]
  },
  {
   "cell_type": "code",
   "execution_count": null,
   "id": "b53500c9",
   "metadata": {},
   "outputs": [],
   "source": [
    "# 37. Create a tuple of random numbers.\n",
    "\n",
    "import random\n",
    "\n",
    "tuple(random.randint(1,100) for x in range(10))"
   ]
  },
  {
   "cell_type": "code",
   "execution_count": null,
   "id": "a5e1772c",
   "metadata": {},
   "outputs": [],
   "source": [
    "# 38. Check if a tuple is sorted.\n",
    "\n",
    "tup1 = (13, 14, 39, 67, 22, 75, 62, 43, 58, 9)\n",
    "\n",
    "if tup1 == tuple(sorted(tup1)):\n",
    "    print(\"tuple is sorted\")\n",
    "\n",
    "else:\n",
    "    print(\"tuple is not sorted\")"
   ]
  },
  {
   "cell_type": "code",
   "execution_count": null,
   "id": "20d20e79",
   "metadata": {},
   "outputs": [],
   "source": [
    "# 39. Rotate a tuple to the left by `n` positions.\n",
    "\n",
    "def rotate_left(lst, n):\n",
    "    if not lst:\n",
    "        return lst  # Return an empty list if the input list is empty\n",
    "    n = n % len(lst)  # Ensure n is within the length of the list\n",
    "    return lst[n:] + lst[:n]\n",
    "\n",
    "ls = tuple([1, 2, 3, 4, 5, 6, 7, 8, 9, 10])\n",
    "n = 3\n",
    "rotated_tup = rotate_left(ls, n)\n",
    "rotated_tup"
   ]
  },
  {
   "cell_type": "code",
   "execution_count": null,
   "id": "e0abd32d",
   "metadata": {},
   "outputs": [],
   "source": [
    "# 40. Rotate a tuple to the right by `n` positions.\n",
    "\n",
    "def rotate_right(lst, n):\n",
    "    if not lst:\n",
    "        return lst  # Return an empty list if the input list is empty\n",
    "    n = n % len(lst)  # Ensure n is within the length of the list\n",
    "    return lst[-n:] + lst[:-n]\n",
    "\n",
    "ls = tuple([1, 2, 3, 4, 5, 6, 7, 8, 9, 10])\n",
    "n = 3\n",
    "rotated_tup = rotate_right(ls, n)\n",
    "rotated_tup"
   ]
  },
  {
   "cell_type": "code",
   "execution_count": null,
   "id": "f48a6bdf",
   "metadata": {},
   "outputs": [],
   "source": [
    "# 41. Create a tuple of the first 5 Fibonacci numbers.\n",
    "\n",
    "def fibonacci_iterative(n):\n",
    "    fib_list = [0, 1]\n",
    "    while len(fib_list) < n:\n",
    "        fib_list.append(fib_list[-1] + fib_list[-2])\n",
    "    return fib_list\n",
    "\n",
    "n = 5  # Change this value to generate more or fewer Fibonacci numbers\n",
    "fib_numbers = fibonacci_iterative(n)\n",
    "tuple(fib_numbers)"
   ]
  },
  {
   "cell_type": "code",
   "execution_count": null,
   "id": "caa6bf18",
   "metadata": {},
   "outputs": [],
   "source": [
    "# 42. Create a tuple from user input.\n",
    "\n",
    "us_input = tuple(x for x in input())\n",
    "us_input"
   ]
  },
  {
   "cell_type": "code",
   "execution_count": null,
   "id": "1c0f066c",
   "metadata": {},
   "outputs": [],
   "source": [
    "# 43. Swap two elements in a tuple.\n",
    "\n",
    "tup = (1, 2, 3, 4, 5)\n",
    "index1 = 1\n",
    "index2 = 0\n",
    "\n",
    "ls = list(tup)\n",
    "ls[index1], ls[index2] = ls[index2], ls[index1]\n",
    "tuple(ls)"
   ]
  },
  {
   "cell_type": "code",
   "execution_count": null,
   "id": "6f490f9c",
   "metadata": {},
   "outputs": [],
   "source": [
    "# 44. Reverse the elements of a tuple.\n",
    "tup = (1, 2, 3, 4, 5)\n",
    "\n",
    "tup[::-1]"
   ]
  },
  {
   "cell_type": "code",
   "execution_count": null,
   "id": "01359f58",
   "metadata": {},
   "outputs": [],
   "source": [
    "# 45. Create a tuple of the first `n` powers of 2.\n",
    "\n",
    "n=5\n",
    "tuple(map(lambda x: x**2, range(1,n+1)))"
   ]
  },
  {
   "cell_type": "code",
   "execution_count": null,
   "id": "b15b0917",
   "metadata": {},
   "outputs": [],
   "source": [
    "# 46. Find the longest string in a tuple of strings.\n",
    "\n",
    "tup = tuple(['pw', 'skills', 'DS', 'batch', 'assignment', \"asiignment\"])\n",
    "\n",
    "max_len = max(len(i) for i in tup)\n",
    "\n",
    "[x for x in tup if len(x)==max_len]"
   ]
  },
  {
   "cell_type": "code",
   "execution_count": null,
   "id": "f1c49d43",
   "metadata": {},
   "outputs": [],
   "source": [
    "# 47. Find the shortest string in a tuple of strings.\n",
    "\n",
    "tup = tuple(['pw', 'skills', 'DS', 'batch', 'assignment', \"asiignment\"])\n",
    "\n",
    "min_len = min(len(i) for i in tup)\n",
    "\n",
    "[x for x in tup if len(x)==min_len]"
   ]
  },
  {
   "cell_type": "code",
   "execution_count": null,
   "id": "4e9fa1fe",
   "metadata": {},
   "outputs": [],
   "source": [
    "# 48. Create a tuple of the first `n` triangular numbers.\n",
    "\n",
    "\n",
    "def generate_triangular_numbers(n):\n",
    "    triangular_numbers = []\n",
    "    for i in range(1, n + 1):\n",
    "        triangular_number = (i * (i + 1)) // 2\n",
    "        triangular_numbers.append(triangular_number)\n",
    "    return triangular_numbers\n",
    "\n",
    "n = 10  # Change this value to get the first n triangular numbers\n",
    "triangular_numbers = generate_triangular_numbers(n)\n",
    "tuple(triangular_numbers)"
   ]
  },
  {
   "cell_type": "code",
   "execution_count": null,
   "id": "91014cb5",
   "metadata": {},
   "outputs": [],
   "source": [
    "# 49. Check if a tuple contains another tuple as a subsequence.\n",
    "\n",
    "def check(main_ls, ele):\n",
    "    if ele in main_ls:\n",
    "        return True\n",
    "    else:\n",
    "        return False\n",
    "\n",
    "\n",
    "main_ls = tuple([1,2,3,4,5,6,7,8,9])\n",
    "sub_ls = tuple([4,5,2])\n",
    "\n",
    "result = all(check(main_ls, x) for x in sub_ls)\n",
    "\n",
    "if result:\n",
    "    print(\"All elements are present inside main tuple\")\n",
    "else:\n",
    "    print(\"All elements doen't present inside main tuple\")"
   ]
  },
  {
   "cell_type": "code",
   "execution_count": null,
   "id": "097c00ba",
   "metadata": {},
   "outputs": [],
   "source": [
    "# 50. Create a tuple of alternating 1s and 0s of length `n`.\n",
    "\n",
    "n = 10  \n",
    "alternating_list = [1 if i % 2 == 0 else 0 for i in range(n)]\n",
    "alternating_tuple = tuple(alternating_list)\n",
    "alternating_tuple"
   ]
  },
  {
   "cell_type": "markdown",
   "id": "6eaae821",
   "metadata": {},
   "source": [
    "# Set Based Practice Problem "
   ]
  },
  {
   "cell_type": "code",
   "execution_count": null,
   "id": "9d33a8b9",
   "metadata": {},
   "outputs": [],
   "source": [
    "# 1. Create a set with integers from 1 to 5.\n",
    "\n",
    "set(x for x in range(1,6))"
   ]
  },
  {
   "cell_type": "code",
   "execution_count": null,
   "id": "9764d3d3",
   "metadata": {},
   "outputs": [],
   "source": [
    "# 2. Add an element to a set.\n",
    "\n",
    "s = {1, 2, 3, 4, 5}\n",
    "s.add(6)\n",
    "s"
   ]
  },
  {
   "cell_type": "code",
   "execution_count": null,
   "id": "532e16f6",
   "metadata": {},
   "outputs": [],
   "source": [
    "# 3. Remove an element from a set.\n",
    "\n",
    "s = {1, 2, 3, 4, 55}\n",
    "s.remove(55)\n",
    "s"
   ]
  },
  {
   "cell_type": "code",
   "execution_count": null,
   "id": "1d8b95e7",
   "metadata": {},
   "outputs": [],
   "source": [
    "# 4. Check if an element exists in a set.\n",
    "\n",
    "s = {1, 2, 3, 4, 5, 6}\n",
    "ele = 6\n",
    "\n",
    "if all(True for x in s if x == ele):\n",
    "    print(\"element exist\")\n",
    "else:\n",
    "    print(\"element doesnt exist\")"
   ]
  },
  {
   "cell_type": "code",
   "execution_count": null,
   "id": "e37633d3",
   "metadata": {},
   "outputs": [],
   "source": [
    "# 5. Find the length of a set without using the `len()` function.\n",
    "\n",
    "s = {1, 2, 3, 4, 5, 6}\n",
    "\n",
    "print(\"Length of set:\",sum(1 for x in s))"
   ]
  },
  {
   "cell_type": "code",
   "execution_count": null,
   "id": "9c151aae",
   "metadata": {},
   "outputs": [],
   "source": [
    "# 6. Clear all elements from a set.\n",
    "\n",
    "s = {1, 2, 3, 4, 5, 6}\n",
    "s.clear()\n",
    "s"
   ]
  },
  {
   "cell_type": "code",
   "execution_count": null,
   "id": "20c19bee",
   "metadata": {},
   "outputs": [],
   "source": [
    "# 7. Create a set of even numbers from 1 to 10.\n",
    "set(x for x in range(1,11) if x%2==0)"
   ]
  },
  {
   "cell_type": "code",
   "execution_count": null,
   "id": "287049b8",
   "metadata": {},
   "outputs": [],
   "source": [
    "# 8. Create a set of odd numbers from 1 to 10.\n",
    "set(x for x in range(1,11) if x%2!=0)"
   ]
  },
  {
   "cell_type": "code",
   "execution_count": null,
   "id": "dd2f8869",
   "metadata": {},
   "outputs": [],
   "source": [
    "# 9. Find the union of two sets.\n",
    "s1 = {2, 4, 6, 8, 10}\n",
    "s2 = {1, 3, 5, 7, 9}\n",
    "\n",
    "s1.union(s2)"
   ]
  },
  {
   "cell_type": "code",
   "execution_count": null,
   "id": "0c976ab0",
   "metadata": {},
   "outputs": [],
   "source": [
    "# 10. Find the intersection of two sets.\n",
    "\n",
    "s1 = {2, 3, 6, 8, 10}\n",
    "s2 = {1, 3, 5, 7, 9}\n",
    "\n",
    "s1.intersection(s2)"
   ]
  },
  {
   "cell_type": "code",
   "execution_count": null,
   "id": "39f93c00",
   "metadata": {},
   "outputs": [],
   "source": [
    "# 11. Find the difference between two sets.\n",
    "\n",
    "s1 = {2, 3, 6, 8, 10}\n",
    "s2 = {1, 3, 5, 7, 9}\n",
    "\n",
    "s1.difference(s2)"
   ]
  },
  {
   "cell_type": "code",
   "execution_count": null,
   "id": "acf37b7a",
   "metadata": {},
   "outputs": [],
   "source": [
    "# 12. Check if a set is a subset of another set.\n",
    "\n",
    "def check(parent, ele):\n",
    "    if ele in parent:\n",
    "        return True\n",
    "    \n",
    "parent = {2, 3, 6, 8, 10}\n",
    "s2 = {3,8}\n",
    "\n",
    "if all(check(parent,x) for x in s2):\n",
    "    print(\"set is subset\")\n",
    "else:\n",
    "    print(\"set is not subset\")"
   ]
  },
  {
   "cell_type": "code",
   "execution_count": null,
   "id": "b80dcb8c",
   "metadata": {},
   "outputs": [],
   "source": [
    "# 13. Check if a set is a superset of another set.\n",
    "\n",
    "def check(parent, ele):\n",
    "    if ele in parent:\n",
    "        return True\n",
    "    \n",
    "parent = {2, 3, 6, 8, 10}\n",
    "s2 = {3,8}\n",
    "\n",
    "if all(check(parent,x) for x in s2):\n",
    "    print(\"set is superset\")\n",
    "else:\n",
    "    print(\"set is not seperset\")"
   ]
  },
  {
   "cell_type": "code",
   "execution_count": null,
   "id": "bcc19fbf",
   "metadata": {},
   "outputs": [],
   "source": [
    "# 14. Create a set from a list.\n",
    "s = [2, 2, 3, 6, 8, 10]\n",
    "set(s)"
   ]
  },
  {
   "cell_type": "code",
   "execution_count": null,
   "id": "47fdaf2b",
   "metadata": {},
   "outputs": [],
   "source": [
    "# 15. Convert a set to a list.\n",
    "\n",
    "s = {2, 2, 3, 6, 8, 10}\n",
    "list(s)"
   ]
  },
  {
   "cell_type": "code",
   "execution_count": null,
   "id": "5600cc43",
   "metadata": {},
   "outputs": [],
   "source": [
    "# 16. Remove a random element from a set.\n",
    "\n",
    "s = {1, 2, 3, 4, 5}\n",
    "\n",
    "removed_element = s.pop()\n",
    "\n",
    "print(\"Removed element:\", removed_element)\n",
    "print(\"Updated set:\", s)\n"
   ]
  },
  {
   "cell_type": "code",
   "execution_count": null,
   "id": "d579848c",
   "metadata": {},
   "outputs": [],
   "source": [
    "# 17. Pop an element from a set.\n",
    "\n",
    "s = {1, 2, 3, 4, 5}\n",
    "popped_element = s.pop()\n",
    "\n",
    "print(\"Popped element:\", popped_element)\n",
    "print(\"Updated set:\", s)\n"
   ]
  },
  {
   "cell_type": "code",
   "execution_count": null,
   "id": "47a61d33",
   "metadata": {},
   "outputs": [],
   "source": [
    "# 18. Check if two sets have no elements in common.\n",
    "\n",
    "set1 = {1, 2, 3}\n",
    "set2 = {4, 5, 6}\n",
    "\n",
    "if set1.isdisjoint(set2):\n",
    "    print(\"The sets have no elements in common.\")\n",
    "else:\n",
    "    print(\"The sets have at least one common element.\")\n"
   ]
  },
  {
   "cell_type": "code",
   "execution_count": null,
   "id": "78abcf9e",
   "metadata": {},
   "outputs": [],
   "source": [
    "# 19. Find the symmetric difference between two sets.\n",
    "\n",
    "set1 = {1, 2, 3, 4}\n",
    "set2 = {3, 4, 5, 6}\n",
    "\n",
    "symmetric_diff = set1 ^ set2\n",
    "\n",
    "symmetric_diff"
   ]
  },
  {
   "cell_type": "code",
   "execution_count": null,
   "id": "bbec58a2",
   "metadata": {},
   "outputs": [],
   "source": [
    "# 20. Update a set with elements from another set.\n",
    "\n",
    "set1 = {1, 2, 3}\n",
    "set2 = {3, 4, 5}\n",
    "\n",
    "set1.update(set2)\n",
    "\n",
    "set1"
   ]
  },
  {
   "cell_type": "code",
   "execution_count": null,
   "id": "bb12f890",
   "metadata": {},
   "outputs": [],
   "source": [
    "# 21. Create a set of the first 5 prime numbers.\n",
    "\n",
    "def is_prime(num):\n",
    "    if num <= 1:\n",
    "        return False\n",
    "    elif num == 2:\n",
    "        return True\n",
    "    elif num % 2 == 0:\n",
    "        return False\n",
    "    else:\n",
    "        # Check for factors up to the square root of the number\n",
    "        for i in range(3, int(num ** 0.5) + 1, 2):\n",
    "            if num % i == 0:\n",
    "                return False\n",
    "        return True\n",
    "\n",
    "prime_set = set()\n",
    "num = 2  # Start with the first prime number, which is 2\n",
    "\n",
    "while len(prime_set) < 5:\n",
    "    if is_prime(num):\n",
    "        prime_set.add(num)\n",
    "    num += 1\n",
    "\n",
    "prime_set"
   ]
  },
  {
   "cell_type": "code",
   "execution_count": null,
   "id": "d023ba41",
   "metadata": {},
   "outputs": [],
   "source": [
    "# 22. Check if two sets are identical.\n",
    "\n",
    "set1 = {1, 2, 3}\n",
    "set2 = {1, 2, 3}\n",
    "\n",
    "if set1 == set2:\n",
    "    print(\"The sets are identical.\")\n",
    "else:\n",
    "    print(\"The sets are not identical.\")\n"
   ]
  },
  {
   "cell_type": "code",
   "execution_count": null,
   "id": "1bf12c52",
   "metadata": {},
   "outputs": [],
   "source": [
    "# 23. Create a frozen set.\n",
    "\n",
    "frozenset([1,2,3,4,5,6])"
   ]
  },
  {
   "cell_type": "code",
   "execution_count": null,
   "id": "b51654a5",
   "metadata": {},
   "outputs": [],
   "source": [
    "# 24. Check if a set is disjoint with another set.\n",
    "\n",
    "set1 = {1, 2, 3}\n",
    "set2 = {4, 5, 6}\n",
    "\n",
    "# Check if the sets are disjoint using the isdisjoint() method\n",
    "if set1.isdisjoint(set2):\n",
    "    print(\"The sets are disjoint.\")\n",
    "else:\n",
    "    print(\"The sets have common elements.\")\n"
   ]
  },
  {
   "cell_type": "code",
   "execution_count": null,
   "id": "136bafa7",
   "metadata": {},
   "outputs": [],
   "source": [
    "# 25. Create a set of squares of numbers from 1 to 5.\n",
    "\n",
    "set(map(lambda x : x**2, range(1,6)))"
   ]
  },
  {
   "cell_type": "code",
   "execution_count": null,
   "id": "f3834785",
   "metadata": {},
   "outputs": [],
   "source": [
    "# 26. Filter out all even numbers from a set.\n",
    "\n",
    "s= {0, 2, 141, 6, 8, 10, 12, 14, 11, 18}\n",
    "set(filter(lambda x : x%2==0, s))"
   ]
  },
  {
   "cell_type": "code",
   "execution_count": null,
   "id": "50cbb41b",
   "metadata": {},
   "outputs": [],
   "source": [
    "# 27. Multiply all elements in a set by 2.\n",
    "\n",
    "n=10\n",
    "set(map(lambda x : x*2, range(n)))"
   ]
  },
  {
   "cell_type": "code",
   "execution_count": null,
   "id": "8f1997d6",
   "metadata": {},
   "outputs": [],
   "source": [
    "# 28. Create a set of random numbers.\n",
    "\n",
    "import random\n",
    "\n",
    "n=10\n",
    "\n",
    "set(random.randint(1,100) for x in range(n))"
   ]
  },
  {
   "cell_type": "code",
   "execution_count": null,
   "id": "88cb878f",
   "metadata": {},
   "outputs": [],
   "source": [
    "# 29. Check if a set is empty.\n",
    "\n",
    "s = set()\n",
    "\n",
    "if len(s) == 0:\n",
    "    print(\"The set is empty.\")\n",
    "else:\n",
    "    print(\"The set is not empty.\")\n",
    "\n"
   ]
  },
  {
   "cell_type": "code",
   "execution_count": null,
   "id": "208a708f",
   "metadata": {},
   "outputs": [],
   "source": [
    "# 30. Create a nested set (hint: use frozenset).\n",
    "\n",
    "nested_set = {frozenset({1, 2, 3}), frozenset({4, 5, 6})}\n",
    "nested_set"
   ]
  },
  {
   "cell_type": "code",
   "execution_count": null,
   "id": "1e3d1817",
   "metadata": {},
   "outputs": [],
   "source": [
    "# 31. Remove an element from a set using the discard method.\n",
    "\n",
    "s = {1, 2, 33, 4, 5}\n",
    "\n",
    "s.discard(33)\n",
    "\n",
    "s"
   ]
  },
  {
   "cell_type": "code",
   "execution_count": null,
   "id": "be6980f7",
   "metadata": {},
   "outputs": [],
   "source": [
    "# 32. Compare two sets.\n",
    "\n",
    "set1 = {1, 2, 3, 4}\n",
    "set2 = {4, 3, 2, 1}\n",
    "\n",
    "if set1 == set2:\n",
    "    print(\"The sets are equal.\")\n",
    "else:\n",
    "    print(\"The sets are not equal.\")"
   ]
  },
  {
   "cell_type": "code",
   "execution_count": null,
   "id": "048ea98d",
   "metadata": {},
   "outputs": [],
   "source": [
    "# 33. Create a set from a string.\n",
    "\n",
    "sent = \"pw skills\"\n",
    "\n",
    "set(sent)"
   ]
  },
  {
   "cell_type": "code",
   "execution_count": null,
   "id": "e05dd303",
   "metadata": {},
   "outputs": [],
   "source": [
    "# 34. Convert a set of strings to a set of integers.\n",
    "\n",
    "s = {'1', '2', '3', '4', '5'}\n",
    "set_of_int = {int(x) for x in s}\n",
    "\n",
    "set_of_int"
   ]
  },
  {
   "cell_type": "code",
   "execution_count": null,
   "id": "94001d15",
   "metadata": {},
   "outputs": [],
   "source": [
    "# 35. Convert a set of integers to a set of strings.\n",
    "\n",
    "s = {1, 2, 3, 4, 5}\n",
    "set_of_strings = {str(x) for x in s}\n",
    "\n",
    "set_of_strings"
   ]
  },
  {
   "cell_type": "code",
   "execution_count": null,
   "id": "9ca996e5",
   "metadata": {},
   "outputs": [],
   "source": [
    "# 36. Create a set from a tuple.\n",
    "\n",
    "set(tuple([1,2,3,4,6,3,1]))"
   ]
  },
  {
   "cell_type": "code",
   "execution_count": null,
   "id": "a0baf2f1",
   "metadata": {},
   "outputs": [],
   "source": [
    "# 37. Convert a set to a tuple.\n",
    "\n",
    "tuple(set([1,2,3,4,6,3,1]))"
   ]
  },
  {
   "cell_type": "code",
   "execution_count": null,
   "id": "eab76214",
   "metadata": {},
   "outputs": [],
   "source": [
    "# 38. Find the maximum value in a set.\n",
    "max(set([0,2,3,4,7,1,4]))"
   ]
  },
  {
   "cell_type": "code",
   "execution_count": null,
   "id": "64ab84e0",
   "metadata": {},
   "outputs": [],
   "source": [
    "# 39. Find the minimum value in a set.\n",
    "\n",
    "min(set([0,2,3,4,7,1,4]))"
   ]
  },
  {
   "cell_type": "code",
   "execution_count": null,
   "id": "38bb36a0",
   "metadata": {},
   "outputs": [],
   "source": [
    "# 40. Create a set from user input.\n",
    "\n",
    "user_input_set = set()\n",
    "\n",
    "while True:\n",
    "    user_input = input(\"Enter an element (or 'done' to finish): \")\n",
    "    \n",
    "    if user_input.lower() == 'done':\n",
    "        break\n",
    "    \n",
    "    user_input_set.add(user_input)\n",
    "\n",
    "print(\"Set from user input:\", user_input_set)"
   ]
  },
  {
   "cell_type": "code",
   "execution_count": null,
   "id": "52d1d1be",
   "metadata": {},
   "outputs": [],
   "source": [
    "# 41. Check if the intersection of two sets is empty.\n",
    "\n",
    "set1 = {1, 2, 3, 4}\n",
    "set2 = {5, 6, 7}\n",
    "\n",
    "if set1.isdisjoint(set2):\n",
    "    print(\"The intersection of set1 and set2 is empty.\")\n",
    "else:\n",
    "    print(\"The intersection of set1 and set2 is not empty.\")\n"
   ]
  },
  {
   "cell_type": "code",
   "execution_count": null,
   "id": "5a0195bb",
   "metadata": {},
   "outputs": [],
   "source": [
    "# 42. Create a set of the first 5 Fibonacci numbers.\n",
    "\n",
    "def generate_fibonacci_set(n):\n",
    "    fibonacci_set = set()\n",
    "    a, b = 0, 1  \n",
    "\n",
    "    while len(fibonacci_set) < n:\n",
    "        fibonacci_set.add(a)  \n",
    "        a, b = b, a + b  \n",
    "    return fibonacci_set\n",
    "\n",
    "n = 5  \n",
    "fibonacci_numbers_set = generate_fibonacci_set(n)\n",
    "fibonacci_numbers_set"
   ]
  },
  {
   "cell_type": "code",
   "execution_count": null,
   "id": "5ea9388d",
   "metadata": {},
   "outputs": [],
   "source": [
    "# 43. Remove duplicates from a list using sets.\n",
    "\n",
    "ls = [1,2,1,2,3,3,5,5,7,5]\n",
    "set(ls)"
   ]
  },
  {
   "cell_type": "code",
   "execution_count": null,
   "id": "75262fe5",
   "metadata": {},
   "outputs": [],
   "source": [
    "# 44. Check if two sets have the same elements, regardless of their count.\n",
    "\n",
    "set1 = {1, 2, 3, 4}\n",
    "set2 = {4, 3, 2, 1}\n",
    "\n",
    "if set1.issubset(set2) and set1.issuperset(set2):\n",
    "    print(\"The sets have the same elements.\")\n",
    "else:\n",
    "    print(\"The sets do not have the same elements.\")\n"
   ]
  },
  {
   "cell_type": "code",
   "execution_count": null,
   "id": "fb9efc05",
   "metadata": {},
   "outputs": [],
   "source": [
    "# 45. Create a set of the first `n` powers of 2.\n",
    "n=10\n",
    "set(map(lambda x:x**2, range(n)))"
   ]
  },
  {
   "cell_type": "code",
   "execution_count": null,
   "id": "512fc3d1",
   "metadata": {},
   "outputs": [],
   "source": [
    "# 46. Find the common elements between a set and a list.\n",
    "\n",
    "s = {1, 2, 3, 4, 5}\n",
    "ls = [3, 4, 5, 6, 7]\n",
    "\n",
    "common_elements = set(ls).intersection(s)\n",
    "\n",
    "common_elements"
   ]
  },
  {
   "cell_type": "code",
   "execution_count": null,
   "id": "423856c7",
   "metadata": {},
   "outputs": [],
   "source": [
    "# 47. Create a set of the first `n` triangular numbers.\n",
    "\n",
    "def generate_triangular_numbers(n):\n",
    "    triangular_numbers = set()\n",
    "    for i in range(1, n + 1):\n",
    "        triangular_number = (i * (i + 1)) // 2\n",
    "        triangular_numbers.add(triangular_number)\n",
    "    return triangular_numbers\n",
    "\n",
    "n = 10  # Change this value to get the first n triangular numbers\n",
    "triangular_numbers = generate_triangular_numbers(n)\n",
    "triangular_numbers"
   ]
  },
  {
   "cell_type": "code",
   "execution_count": null,
   "id": "0c716e0c",
   "metadata": {},
   "outputs": [],
   "source": [
    "# 48. Check if a set contains another set as a subset.\n",
    "\n",
    "def check(parent, ele):\n",
    "    if ele in parent:\n",
    "        return True\n",
    "    \n",
    "parent = {2, 3, 6, 8, 10}\n",
    "s2 = {3,8}\n",
    "\n",
    "if all(check(parent,x) for x in s2):\n",
    "    print(\"set is subset\")\n",
    "else:\n",
    "    print(\"set is not subset\")"
   ]
  },
  {
   "cell_type": "code",
   "execution_count": null,
   "id": "53d452c2",
   "metadata": {},
   "outputs": [],
   "source": [
    "# 49. Create a set of alternating 1s and 0s of length `n`.\n",
    "n = 10\n",
    "set(1 if x%2==0 else 0 for x in range(10)) # set will remove duplicates"
   ]
  },
  {
   "cell_type": "code",
   "execution_count": null,
   "id": "3fafd4bf",
   "metadata": {},
   "outputs": [],
   "source": [
    "# 50. Merge multiple sets into one.\n",
    "\n",
    "set1 = {1, 2, 3}\n",
    "set2 = {3, 4, 5}\n",
    "set3 = {5, 6, 7}\n",
    "\n",
    "# Merge sets using the union method\n",
    "merged_set = set1.union(set2, set3)\n",
    "\n",
    "merged_set"
   ]
  },
  {
   "cell_type": "code",
   "execution_count": null,
   "id": "ed05fbf1",
   "metadata": {},
   "outputs": [],
   "source": []
  },
  {
   "cell_type": "code",
   "execution_count": null,
   "id": "aff8cf4b",
   "metadata": {},
   "outputs": [],
   "source": []
  },
  {
   "cell_type": "code",
   "execution_count": null,
   "id": "8c1e5361",
   "metadata": {},
   "outputs": [],
   "source": []
  },
  {
   "cell_type": "code",
   "execution_count": null,
   "id": "43a3e88a",
   "metadata": {},
   "outputs": [],
   "source": []
  },
  {
   "cell_type": "code",
   "execution_count": null,
   "id": "47b4091e",
   "metadata": {},
   "outputs": [],
   "source": []
  },
  {
   "cell_type": "code",
   "execution_count": null,
   "id": "c050bb3c",
   "metadata": {},
   "outputs": [],
   "source": []
  },
  {
   "cell_type": "code",
   "execution_count": null,
   "id": "c1091051",
   "metadata": {},
   "outputs": [],
   "source": []
  },
  {
   "cell_type": "code",
   "execution_count": null,
   "id": "bd23cf8a",
   "metadata": {},
   "outputs": [],
   "source": []
  },
  {
   "cell_type": "code",
   "execution_count": null,
   "id": "ca92cfc5",
   "metadata": {},
   "outputs": [],
   "source": []
  }
 ],
 "metadata": {
  "kernelspec": {
   "display_name": "Python 3 (ipykernel)",
   "language": "python",
   "name": "python3"
  },
  "language_info": {
   "codemirror_mode": {
    "name": "ipython",
    "version": 3
   },
   "file_extension": ".py",
   "mimetype": "text/x-python",
   "name": "python",
   "nbconvert_exporter": "python",
   "pygments_lexer": "ipython3",
   "version": "3.11.3"
  }
 },
 "nbformat": 4,
 "nbformat_minor": 5
}
