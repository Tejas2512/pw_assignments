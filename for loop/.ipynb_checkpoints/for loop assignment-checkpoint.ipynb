{
 "cells": [
  {
   "cell_type": "markdown",
   "id": "2c8fb76f",
   "metadata": {},
   "source": [
    "# Basic Level"
   ]
  },
  {
   "cell_type": "code",
   "execution_count": null,
   "id": "f3bce642",
   "metadata": {},
   "outputs": [],
   "source": [
    "# 1. Write a Python program to print the numbers from 1 to 10 using a `for` loop.\n",
    "for i in range(1,11):\n",
    "    print(i, end=\" \")"
   ]
  },
  {
   "cell_type": "code",
   "execution_count": null,
   "id": "0a4a9521",
   "metadata": {},
   "outputs": [],
   "source": [
    "# 2. Create a program that calculates the sum of all numbers in a list using a `for` loop.\n",
    "ls = [1,2,3,4,5,6,7,8,9]\n",
    "sum_ = 0\n",
    "for i in ls:\n",
    "    sum_+=i\n",
    "sum_"
   ]
  },
  {
   "cell_type": "code",
   "execution_count": null,
   "id": "122a3016",
   "metadata": {},
   "outputs": [],
   "source": [
    "# 3. Write a program to print the characters of a string in reverse order using a `for` loop.\n",
    "sent = \"pwskills\"\n",
    "\n",
    "for i in sent[::-1]:\n",
    "    print(i, end=\" \")"
   ]
  },
  {
   "cell_type": "code",
   "execution_count": null,
   "id": "54a2a890",
   "metadata": {},
   "outputs": [],
   "source": [
    "# 4. Develop a program that finds the factorial of a given number using a `for` loop.\n",
    "n = 5\n",
    "fact = 1\n",
    "for i in range(1,n+1):\n",
    "    fact*=i\n",
    "\n",
    "print(f\"factorial {n} is {fact}\")"
   ]
  },
  {
   "cell_type": "code",
   "execution_count": null,
   "id": "66236ed7",
   "metadata": {},
   "outputs": [],
   "source": [
    "# 5. Create a program to print the multiplication table of a given number using a `for` loop.\n",
    "n = 5\n",
    "print(f\"multiplication table for {n}\")\n",
    "for i in range(1,11):\n",
    "    print(n*i, end=\" \")"
   ]
  },
  {
   "cell_type": "code",
   "execution_count": null,
   "id": "fdd9c259",
   "metadata": {},
   "outputs": [],
   "source": [
    "# 6. Write a program that counts the number of even and odd numbers in a list using a `for` loop.\n",
    "ls = [11,0,0,1,2,3,4,5,6,7,8,9]\n",
    "\n",
    "evens = 0\n",
    "odds = 0\n",
    "zero = 0\n",
    "\n",
    "for i in ls:\n",
    "    if i==0:\n",
    "        zero += 1\n",
    "    elif i%2 != 0:\n",
    "        odds += 1\n",
    "    else:\n",
    "        evens += 1\n",
    "\n",
    "print(f\"{evens} even numbers and {odds} odd numbers in given list\")"
   ]
  },
  {
   "cell_type": "code",
   "execution_count": null,
   "id": "f08b0e91",
   "metadata": {},
   "outputs": [],
   "source": [
    "# 7. Develop a program that prints the squares of numbers from 1 to 5 using a `for` loop.\n",
    "\n",
    "ls = [1,2,3,4,5,6,7,8,9]\n",
    "\n",
    "[x*x for x in ls]"
   ]
  },
  {
   "cell_type": "code",
   "execution_count": null,
   "id": "25bba179",
   "metadata": {},
   "outputs": [],
   "source": [
    "# 8. Create a program to find the length of a string without using the `len()` function.\n",
    "\n",
    "sent = \"pwskills\"\n",
    "\n",
    "sum([1 for x in sent])"
   ]
  },
  {
   "cell_type": "code",
   "execution_count": null,
   "id": "a32def83",
   "metadata": {},
   "outputs": [],
   "source": [
    "# 9. Write a program that calculates the average of a list of numbers using a `for` loop.\n",
    "\n",
    "ls = [1,2,3,4,5,6,7,8,9]\n",
    "sum_ = 0\n",
    "for i in ls:\n",
    "    sum_+=i\n",
    "\n",
    "avg = sum_/len(ls)\n",
    "print(f\"Avg of given list is {avg}\")"
   ]
  },
  {
   "cell_type": "code",
   "execution_count": null,
   "id": "99e6c39f",
   "metadata": {},
   "outputs": [],
   "source": [
    "# 10. Develop a program that prints the first `n` Fibonacci numbers using a `for` loop.\n",
    "\n",
    "def fibonacci(n):\n",
    "    fib_sequence = []\n",
    "    if n == 1:\n",
    "        return [0]\n",
    "\n",
    "    fib_sequence = [0, 1]\n",
    "    for i in range(2, n):\n",
    "        next_fib = fib_sequence[-1] + fib_sequence[-2]\n",
    "        fib_sequence.append(next_fib)\n",
    "\n",
    "    return fib_sequence\n",
    "\n",
    "# Input the value of n\n",
    "n = 2\n",
    "\n",
    "if n <= 0:\n",
    "    print(\"Please enter a positive integer.\")\n",
    "else:\n",
    "    result = fibonacci(n)\n",
    "    print(\"The first\", n, \"Fibonacci numbers are:\", result)\n"
   ]
  },
  {
   "cell_type": "code",
   "execution_count": null,
   "id": "5ac32e17",
   "metadata": {},
   "outputs": [],
   "source": []
  },
  {
   "cell_type": "markdown",
   "id": "ac4908bc",
   "metadata": {},
   "source": [
    "# Intermediate Level\n"
   ]
  },
  {
   "cell_type": "code",
   "execution_count": null,
   "id": "a9441d16",
   "metadata": {},
   "outputs": [],
   "source": [
    "# 11. Write a program to check if a given list contains any duplicates using a `for` loop.\n",
    "\n",
    "def has_duplicates(ls):\n",
    "    seen = set()\n",
    "    for item in ls:\n",
    "        if item in seen:\n",
    "            return True\n",
    "        seen.add(item)\n",
    "    return False\n",
    "\n",
    "# Input the list\n",
    "ls = [1,1,1,2,3,4,5,6,2]\n",
    "\n",
    "if has_duplicates(ls):\n",
    "    print(\"The list contains duplicates.\")\n",
    "else:\n",
    "    print(\"The list does not contain duplicates.\")\n",
    "    "
   ]
  },
  {
   "cell_type": "code",
   "execution_count": null,
   "id": "38ac4a0c",
   "metadata": {},
   "outputs": [],
   "source": [
    "# 12. Create a program that prints the prime numbers in a given range using a `for` loop.\n",
    "\n",
    "def is_prime(num):\n",
    "    if num <= 1:\n",
    "        return False\n",
    "    elif num == 2:\n",
    "        return True\n",
    "    elif num % 2 == 0:\n",
    "        return False\n",
    "    else:\n",
    "        # Check for factors up to the square root of the number\n",
    "        for i in range(3, int(num ** 0.5) + 1, 2):\n",
    "            if num % i == 0:\n",
    "                return False\n",
    "        return True\n",
    "\n",
    "start = 1\n",
    "end = 50\n",
    "\n",
    "prime_numbers = [num for num in range(start, end+1) if is_prime(num)]\n",
    "\n",
    "prime_numbers"
   ]
  },
  {
   "cell_type": "code",
   "execution_count": null,
   "id": "1f0446dd",
   "metadata": {},
   "outputs": [],
   "source": [
    "# 13. Develop a program that counts the number of vowels in a string using a `for` loop.\n",
    "\n",
    "sent = \"pw skIlls\"\n",
    "\n",
    "vowels = 0\n",
    "\n",
    "for i in sent:\n",
    "    if i.lower() in \"aeiou\":\n",
    "        vowels+=1\n",
    "        \n",
    "print(f\"number of vowels inside strings {vowels}\")"
   ]
  },
  {
   "cell_type": "code",
   "execution_count": null,
   "id": "95b1abe8",
   "metadata": {},
   "outputs": [],
   "source": [
    "# 14. Write a program to find the maximum element in a 2D list using a nested `for` loop.\n",
    "\n",
    "ls = [[1,2,3,4,5], [2,3,4,1,6,8,9]]\n",
    "\n",
    "max_ = ls[0][0] \n",
    "for i in ls:\n",
    "    for j in i:\n",
    "        if max_ < j:\n",
    "            max_ = j\n",
    "            \n",
    "print(f\"maximum element in 2D list is {max_}\")"
   ]
  },
  {
   "cell_type": "code",
   "execution_count": null,
   "id": "bc1bd647",
   "metadata": {},
   "outputs": [],
   "source": [
    "# 15. Create a program that removes all occurrences of a specific element from a list using a `for` loop.\n",
    "ls = [1,2,3,4,6,6,7,9,8]\n",
    "n = 6\n",
    "\n",
    "updated_list = [i for i in ls if i!=n]\n",
    "\n",
    "print(f\"element {n} removed from given list\")"
   ]
  },
  {
   "cell_type": "code",
   "execution_count": null,
   "id": "dce055ee",
   "metadata": {},
   "outputs": [],
   "source": [
    "# 16. Develop a program that generates a multiplication table for numbers from 1 to 5 using a nested `for` loop.\n",
    "\n",
    "start = 1\n",
    "end = 5\n",
    "\n",
    "for i in range(start, end+1):\n",
    "    print(f\"multiplication table for {i}:\")\n",
    "    for j in range(1,11):\n",
    "        print(i*j, end=\" \")\n",
    "    print(\"\\n\")\n"
   ]
  },
  {
   "cell_type": "code",
   "execution_count": null,
   "id": "815ae001",
   "metadata": {},
   "outputs": [],
   "source": [
    "# 17. Write a program that converts a list of Fahrenheit temperatures to Celsius using a `for` loop.\n",
    "\n",
    "def fahrenheit_to_celsius(fahrenheit):\n",
    "    celsius = (fahrenheit - 32) * 5/9\n",
    "    return celsius\n",
    "\n",
    "def convert_fahrenheit_to_celsius(fahrenheit_list):\n",
    "    celsius_list = []\n",
    "    for temperature in fahrenheit_list:\n",
    "        celsius = fahrenheit_to_celsius(temperature)\n",
    "        celsius_list.append(celsius)\n",
    "    return celsius_list\n",
    "\n",
    "# Input a list of Fahrenheit temperatures \n",
    "fahrenheit_list = [11,12,234,45,223,13]\n",
    "\n",
    "celsius_temperatures = convert_fahrenheit_to_celsius(fahrenheit_list)\n",
    "\n",
    "print(\"Fahrenheit Temperatures:\", fahrenheit_list)\n",
    "print(\"Celsius Temperatures:\", celsius_temperatures)\n",
    "\n"
   ]
  },
  {
   "cell_type": "code",
   "execution_count": null,
   "id": "57965379",
   "metadata": {},
   "outputs": [],
   "source": [
    "# 18. Create a program to print the common elements from two lists using a `for` loop.\n",
    "\n",
    "ls1 = [1,2,3,4]\n",
    "ls2 = [3,4,5,6,7,1]\n",
    "\n",
    "common_element = [x for x in ls2 if x in ls1]\n",
    "\n",
    "print(f\"common elements between two list is {common_element}\")"
   ]
  },
  {
   "cell_type": "code",
   "execution_count": null,
   "id": "d2b88d23",
   "metadata": {},
   "outputs": [],
   "source": [
    "# 19. Develop a program that prints the pattern of right-angled triangles using a `for` loop. Use ‘*’ to draw the pattern\n",
    "\n",
    "def print_right_triangle(height):\n",
    "    for i in range(1, height + 1):\n",
    "        for j in range(i):\n",
    "            print('*', end='')\n",
    "        print()\n",
    "\n",
    "# Input the height of the right-angled triangle\n",
    "height = 3\n",
    "\n",
    "if height <= 0:\n",
    "    print(\"Please enter a positive integer.\")\n",
    "else:\n",
    "    print(\"Right-angled triangle pattern:\")\n",
    "    print_right_triangle(height)\n"
   ]
  },
  {
   "cell_type": "code",
   "execution_count": null,
   "id": "51dfe627",
   "metadata": {},
   "outputs": [],
   "source": [
    "# 20. Write a program to find the greatest common divisor (GCD) of two numbers using a `for` loop.\n",
    "\n",
    "def find_gcd(a, b):\n",
    "    while b:\n",
    "        a, b = b, a % b\n",
    "    return a\n",
    "\n",
    "# Input the two numbers\n",
    "num1 = 12\n",
    "num2 = 6\n",
    "\n",
    "if num1 < 0 or num2 < 0:\n",
    "    print(\"Please enter positive integers.\")\n",
    "else:\n",
    "    gcd = find_gcd(num1, num2)\n",
    "    print(\"The GCD of\", num1, \"and\", num2, \"is\", gcd)\n"
   ]
  },
  {
   "cell_type": "code",
   "execution_count": null,
   "id": "340124cd",
   "metadata": {},
   "outputs": [],
   "source": []
  },
  {
   "cell_type": "markdown",
   "id": "bca34597",
   "metadata": {},
   "source": [
    "# Advanced Level\n"
   ]
  },
  {
   "cell_type": "code",
   "execution_count": null,
   "id": "492d6820",
   "metadata": {},
   "outputs": [],
   "source": [
    "# 21. Create a program that calculates the sum of the digits of numbers in a list using a list comprehension.\n",
    "\n",
    "ls = [1,2,3,4,5,6,7,8,9]\n",
    "\n",
    "sum([x for x in ls])"
   ]
  },
  {
   "cell_type": "code",
   "execution_count": null,
   "id": "a59511bc",
   "metadata": {},
   "outputs": [],
   "source": [
    "# 22. Write a program to find the prime factors of a given number using a `for` loop and list comprehension.\n",
    "\n",
    "def is_prime(num):\n",
    "    if num <= 1:\n",
    "        return False\n",
    "    elif num == 2:\n",
    "        return True\n",
    "    elif num % 2 == 0:\n",
    "        return False\n",
    "    else:\n",
    "        # Check for factors up to the square root of the number\n",
    "        for i in range(3, int(num ** 0.5) + 1, 2):\n",
    "            if num % i == 0:\n",
    "                return False\n",
    "        return True\n",
    "\n",
    "num = 5\n",
    "\n",
    "prime_fact = [x for x in range(1, num+1) if num % x == 0 if is_prime(num)]\n",
    "\n",
    "print(f\"prime factors of a given number are: {prime_fact}\")"
   ]
  },
  {
   "cell_type": "code",
   "execution_count": null,
   "id": "ece944e1",
   "metadata": {},
   "outputs": [],
   "source": [
    "# 23. Develop a program that extracts unique elements from a list and stores them in a new list using a list comprehension.\n",
    "\n",
    "ls = [1,2,2,3,3,4,5,6,7,8,9]\n",
    "\n",
    "print(\"unique elemenents from list:\",list(set(ls)))"
   ]
  },
  {
   "cell_type": "code",
   "execution_count": null,
   "id": "7d8346b0",
   "metadata": {},
   "outputs": [],
   "source": [
    "# 24. Create a program that generates a list of all palindromic numbers up to a specified limit using a list comprehension.\n",
    "\n",
    "def is_palindrome(num):\n",
    "    # Convert the number to a string and check if it reads the same forwards and backwards\n",
    "    num_str = str(num)\n",
    "    return num_str == num_str[::-1]\n",
    "\n",
    "# Input the upper limit\n",
    "upper_limit = 50 \n",
    "\n",
    "# Use a list comprehension to generate palindromic numbers\n",
    "palindromic_numbers = [num for num in range(1, upper_limit + 1) if is_palindrome(num)]\n",
    "\n",
    "# Print the list of palindromic numbers\n",
    "print(\"Palindromic Numbers up to\", upper_limit, \"are:\", palindromic_numbers)\n"
   ]
  },
  {
   "cell_type": "code",
   "execution_count": null,
   "id": "34a43881",
   "metadata": {},
   "outputs": [],
   "source": [
    "# 25. Write a program to flatten a nested list using list comprehension.\n",
    "\n",
    "def flatten_nested_list(nested_list):\n",
    "    flattened_list = []\n",
    "    for item in nested_list:\n",
    "        if isinstance(item, list):\n",
    "            flattened_list.extend(flatten_nested_list(item))\n",
    "        else:\n",
    "            flattened_list.append(item)\n",
    "    return flattened_list\n",
    "\n",
    "nested_list = [1, [2, 3, [4, 5]], 6, [7, [8]]]\n",
    "flattened_list = flatten_nested_list(nested_list)\n",
    "flattened_list"
   ]
  },
  {
   "cell_type": "code",
   "execution_count": null,
   "id": "4644ad47",
   "metadata": {},
   "outputs": [],
   "source": [
    "# 26. Develop a program that computes the sum of even and odd numbers in a list separately using list comprehension.\n",
    "\n",
    "ls = [1, 2, 3, 4, 5, 6, 7, 8]\n",
    "\n",
    "# Use list comprehensions to separate even and odd numbers\n",
    "even_numbers = [num for num in ls if num % 2 == 0]\n",
    "odd_numbers = [num for num in ls if num % 2 != 0]\n",
    "\n",
    "# Calculate the sum of even and odd numbers\n",
    "sum_even = sum(even_numbers)\n",
    "sum_odd = sum(odd_numbers)\n",
    "\n",
    "# Print the results\n",
    "print(\"Even Numbers:\", even_numbers)\n",
    "print(\"Sum of Even Numbers:\", sum_even)\n",
    "print(\"Odd Numbers:\", odd_numbers)\n",
    "print(\"Sum of Odd Numbers:\", sum_odd)\n"
   ]
  },
  {
   "cell_type": "code",
   "execution_count": null,
   "id": "77c2cc5c",
   "metadata": {},
   "outputs": [],
   "source": [
    "# 27. Create a program that generates a list of squares of odd numbers between 1 and 10 using list comprehension.\n",
    "\n",
    "start = 1\n",
    "end = 10\n",
    "sq_odd = [x*x for x in range(start,end+1) if x % 2 != 0]\n",
    "\n",
    "print(f\"squere of odd numbers between {start} and {end} is {sq_odd}\")"
   ]
  },
  {
   "cell_type": "code",
   "execution_count": null,
   "id": "006d18ce",
   "metadata": {},
   "outputs": [],
   "source": [
    "# 28. Write a program that combines two lists into a dictionary using list comprehension.\n",
    "\n",
    "keys = ['a', 'b', 'c']\n",
    "values = [1,2,4]\n",
    "\n",
    "# Use list comprehension to create a dictionary\n",
    "combined_dict = {keys[i]: values[i] for i in range(min(len(keys), len(values)))}\n",
    "\n",
    "# Print the resulting dictionary\n",
    "print(\"Combined Dictionary:\", combined_dict)\n"
   ]
  },
  {
   "cell_type": "code",
   "execution_count": null,
   "id": "059d4a5e",
   "metadata": {},
   "outputs": [],
   "source": [
    "# 29. Develop a program that extracts the vowels from a string and stores them in a list using list comprehension.\n",
    "\n",
    "sent = \"assignment by pw skills\"\n",
    "\n",
    "vowels = []\n",
    "\n",
    "for i in sent:\n",
    "    if i.lower() in \"aeou\":\n",
    "        vowels.append(i)\n",
    "        \n",
    "print(f\"vowels inside strings {vowels}\")"
   ]
  },
  {
   "cell_type": "code",
   "execution_count": null,
   "id": "9b6ba778",
   "metadata": {},
   "outputs": [],
   "source": [
    "# 30. Create a program that removes all non-numeric characters from a list of strings using list comprehension\n",
    "\n",
    "sent = \"assignment by pw skills 1221 41124\"\n",
    "\n",
    "non_num = []\n",
    "\n",
    "for i in sent:\n",
    "    if i.lower() not in \"1234567890\":\n",
    "        non_num.append(i)\n",
    "\n",
    "print(f\"non-numeric characters {non_num}\")"
   ]
  },
  {
   "cell_type": "code",
   "execution_count": null,
   "id": "d52ce1fd",
   "metadata": {},
   "outputs": [],
   "source": []
  },
  {
   "cell_type": "markdown",
   "id": "1ec0f20c",
   "metadata": {},
   "source": [
    "# Challenge Level"
   ]
  },
  {
   "cell_type": "code",
   "execution_count": null,
   "id": "ab793f46",
   "metadata": {},
   "outputs": [],
   "source": [
    "# 31. Write a program to generate a list of prime numbers using the Sieve of Eratosthenes algorithm and list comprehension.\n",
    "\n",
    "def sieve_eratosthenes(limit):\n",
    "    sieve = [True] * (limit + 1)\n",
    "    sieve[0] = sieve[1] = False\n",
    "    \n",
    "    for num in range(2, int(limit**0.5) + 1):\n",
    "        if sieve[num]:\n",
    "            for multiple in range(num**2, limit + 1, num):\n",
    "                sieve[multiple] = False\n",
    "    \n",
    "    prime_numbers = [num for num, is_prime in enumerate(sieve) if is_prime]\n",
    "    return prime_numbers\n",
    "\n",
    "# Input the limit for generating prime numbers\n",
    "limit = 10\n",
    "\n",
    "if limit < 2:\n",
    "    print(\"There are no prime numbers within the specified limit.\")\n",
    "else:\n",
    "    prime_numbers = sieve_eratosthenes(limit)\n",
    "    \n",
    "    # Print the list of prime numbers\n",
    "    print(\"Prime Numbers up to\", limit, \"are:\", prime_numbers)\n"
   ]
  },
  {
   "cell_type": "code",
   "execution_count": null,
   "id": "923fe42e",
   "metadata": {},
   "outputs": [],
   "source": [
    "# 32. Create a program that generates a list of all Pythagorean triplets up to a specified limit using list comprehension\n",
    "\n",
    "end = 10\n",
    "\n",
    "pythagorean_triplets = [(a,b,c) for a in range(1, end+1) \n",
    "                                    for b in range(a, end+1)\n",
    "                                        for c in range(b, end+1)\n",
    "                                            if a**2 + b**2 == c**2]\n",
    "\n",
    "print(f\"Pythagorean triplets till {end} are: {pythagorean_triplets}\")"
   ]
  },
  {
   "cell_type": "code",
   "execution_count": null,
   "id": "05e23af2",
   "metadata": {},
   "outputs": [],
   "source": [
    "# 33. Develop a program that generates a list of all possible combinations of two lists using list comprehension.\n",
    "\n",
    "list1 = [1,2]\n",
    "list2 = [2,3,5]\n",
    "#  Use list comprehension to generate combinations\n",
    "combinations = [(x, y) for x in list1 for y in list2]\n",
    "\n",
    "# Print the list of combinations\n",
    "print(\"List 1:\", list1)\n",
    "print(\"List 2:\", list2)\n",
    "print(\"Combinations:\", combinations)"
   ]
  },
  {
   "cell_type": "code",
   "execution_count": null,
   "id": "0fdf6add",
   "metadata": {},
   "outputs": [],
   "source": [
    "# 34. Write a program that calculates the mean, median, and mode of a list of numbers using list \n",
    "# comprehension.\n",
    "\n",
    "def calculate_mean(numbers):\n",
    "    return sum(numbers) / len(numbers)\n",
    "\n",
    "def calculate_median(numbers):\n",
    "    sorted_numbers = sorted(numbers)\n",
    "    n = len(sorted_numbers)\n",
    "    if n % 2 == 0:\n",
    "        mid1 = sorted_numbers[n // 2 - 1]\n",
    "        mid2 = sorted_numbers[n // 2]\n",
    "        return (mid1 + mid2) / 2\n",
    "    else:\n",
    "        return sorted_numbers[n // 2]\n",
    "\n",
    "def calculate_mode(numbers):\n",
    "    frequency = {}\n",
    "    for num in numbers:\n",
    "        if num in frequency:\n",
    "            frequency[num] += 1\n",
    "        else:\n",
    "            frequency[num] = 1\n",
    "    \n",
    "    mode = [k for k, v in frequency.items() if v == max(frequency.values())]\n",
    "    return mode\n",
    "\n",
    "# Input a list of numbers\n",
    "ls = [1,1,2,3,4,5,6,7,8,9]\n",
    "\n",
    "if len(ls) == 0:\n",
    "    print(\"Please enter at least one number.\")\n",
    "else:\n",
    "    mean = calculate_mean(ls)\n",
    "    median = calculate_median(ls)\n",
    "    mode = calculate_mode(ls)\n",
    "\n",
    "    print(\"Mean:\", mean)\n",
    "    print(\"Median:\", median)\n",
    "    print(\"Mode:\", mode)\n",
    "\n"
   ]
  },
  {
   "cell_type": "code",
   "execution_count": null,
   "id": "d761871c",
   "metadata": {},
   "outputs": [],
   "source": [
    "# 35. Create a program that generates Pascal's triangle up to a specified number of rows using list \n",
    "# comprehension.\n",
    "\n",
    "def generate_pascals_triangle(num_rows):\n",
    "    triangle = [[1]]\n",
    "    \n",
    "    for _ in range(1, num_rows):\n",
    "        prev_row = triangle[-1]\n",
    "        new_row = [1] + [prev_row[i] + prev_row[i + 1] for i in range(len(prev_row) - 1)] + [1]\n",
    "        triangle.append(new_row)\n",
    "    \n",
    "    return triangle\n",
    "\n",
    "\n",
    "num_rows = 3\n",
    "\n",
    "if num_rows <= 0:\n",
    "    print(\"Please enter a positive integer.\")\n",
    "else:\n",
    "    pascals_triangle = generate_pascals_triangle(num_rows)\n",
    "    \n",
    "    # Print Pascal's triangle\n",
    "    for row in pascals_triangle:\n",
    "        print(\" \".join(map(str, row)).center(num_rows * 3))\n"
   ]
  },
  {
   "cell_type": "code",
   "execution_count": null,
   "id": "de1a3c6c",
   "metadata": {},
   "outputs": [],
   "source": [
    "# 36. Develop a program that calculates the sum of the digits of a factorial of numbers from 1 to 5 using list \n",
    "# comprehension.\n",
    "\n",
    "def factorial(n):\n",
    "    if n>0:\n",
    "        if n==1:\n",
    "            return 1\n",
    "    return n*factorial(n-1)\n",
    "\n",
    "start = 1\n",
    "end = 5\n",
    "sum_fact = sum([factorial(x) for x in range(start,end+1)])\n",
    "sum_fact"
   ]
  },
  {
   "cell_type": "code",
   "execution_count": null,
   "id": "380be6b8",
   "metadata": {},
   "outputs": [],
   "source": [
    "# 37. Write a program that finds the longest word in a sentence using list comprehension.\n",
    "\n",
    "sent = \"pw skills DS batch assignment asiignment\"\n",
    "\n",
    "max_len = max(len(i) for i in sent.split(\" \"))\n",
    "\n",
    "longest_words = [x for x in ls if len(x)==max_len]\n",
    "longest_words"
   ]
  },
  {
   "cell_type": "code",
   "execution_count": null,
   "id": "1dae4b1b",
   "metadata": {},
   "outputs": [],
   "source": [
    "# 38. Create a program that filters a list of strings to include only those with more than three vowels using list \n",
    "# comprehension.\n",
    "\n",
    "# Function to count vowels in a string\n",
    "def count_vowels(string):\n",
    "    vowels = \"aeiou\"\n",
    "    return sum(1 for char in string if char.lower() in vowels)\n",
    "\n",
    "# Input a list of strings\n",
    "sent = \"pw skills assignmeent\"\n",
    "\n",
    "# Use list comprehension to filter strings with more than three vowels\n",
    "filtered_strings = [string for string in sent.split(\" \") if count_vowels(string) > 3]\n",
    "\n",
    "# Print the filtered list\n",
    "print(\"Original List:\", sent)\n",
    "print(\"Strings with More than Three Vowels:\", filtered_strings)\n"
   ]
  },
  {
   "cell_type": "code",
   "execution_count": null,
   "id": "fede694e",
   "metadata": {},
   "outputs": [],
   "source": [
    "# 39. Develop a program that calculates the sum of the digits of numbers from 1 to 1000 using list \n",
    "# comprehension.\n",
    "\n",
    "start = 1\n",
    "end = 1000\n",
    "sum_ = sum([x for x in range(start, end+1)])\n",
    "\n",
    "print(f\"sum of numbers between {start} and {end} is {sum_}\")"
   ]
  },
  {
   "cell_type": "code",
   "execution_count": null,
   "id": "96a592e5",
   "metadata": {},
   "outputs": [],
   "source": [
    "# 40. Write a program that generates a list of prime palindromic numbers using list comprehension\n",
    "\n",
    "def is_prime(num):\n",
    "    if num <= 1:\n",
    "        return False\n",
    "    elif num == 2:\n",
    "        return True\n",
    "    elif num % 2 == 0:\n",
    "        return False\n",
    "    else:\n",
    "        # Check for factors up to the square root of the number\n",
    "        for i in range(3, int(num ** 0.5) + 1, 2):\n",
    "            if num % i == 0:\n",
    "                return False\n",
    "        return True\n",
    "\n",
    "def is_palindrome(num):\n",
    "    # Convert the number to a string and check if it reads the same forwards and backwards\n",
    "    num_str = str(num)\n",
    "    return num_str == num_str[::-1]\n",
    "\n",
    "\n",
    "start = 1\n",
    "end = 50\n",
    "\n",
    "prime_palindrom_numbers = [num for num in range(start, end+1) if is_prime(num) if is_palindrome(num)]\n",
    "\n",
    "prime_palindrom_numbers"
   ]
  },
  {
   "cell_type": "code",
   "execution_count": null,
   "id": "88bacb8c",
   "metadata": {},
   "outputs": [],
   "source": []
  },
  {
   "cell_type": "code",
   "execution_count": null,
   "id": "c151b1fa",
   "metadata": {},
   "outputs": [],
   "source": []
  }
 ],
 "metadata": {
  "kernelspec": {
   "display_name": "Python 3 (ipykernel)",
   "language": "python",
   "name": "python3"
  },
  "language_info": {
   "codemirror_mode": {
    "name": "ipython",
    "version": 3
   },
   "file_extension": ".py",
   "mimetype": "text/x-python",
   "name": "python",
   "nbconvert_exporter": "python",
   "pygments_lexer": "ipython3",
   "version": "3.11.3"
  }
 },
 "nbformat": 4,
 "nbformat_minor": 5
}
