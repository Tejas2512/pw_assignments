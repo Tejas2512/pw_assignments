{
 "cells": [
  {
   "cell_type": "markdown",
   "id": "eac7bd47",
   "metadata": {},
   "source": [
    "# Python Basics Variable"
   ]
  },
  {
   "cell_type": "markdown",
   "id": "46a10043",
   "metadata": {},
   "source": [
    "1. Declare two variables, `x` and `y`, and assign them integer values.\n",
    "Swap the values of these variables without using any temporary\n",
    "variable. \n"
   ]
  },
  {
   "cell_type": "code",
   "execution_count": 7,
   "id": "c28b54b8",
   "metadata": {},
   "outputs": [
    {
     "name": "stdout",
     "output_type": "stream",
     "text": [
      "Updated value of x:7 \n",
      "Updated value of y:2\n"
     ]
    }
   ],
   "source": [
    "x = 2\n",
    "y = 7\n",
    "\n",
    "y,x = x,y\n",
    "\n",
    "print(f\"Updated value of x:{x} \\nUpdated value of y:{y}\")"
   ]
  },
  {
   "cell_type": "raw",
   "id": "359be94e",
   "metadata": {},
   "source": []
  },
  {
   "cell_type": "markdown",
   "id": "9f1b8ae2",
   "metadata": {},
   "source": [
    "2. Create a program that calculates the area of a rectangle. Take the\n",
    "length and width as inputs from the user and store them in variables.\n",
    "Calculate and display the area"
   ]
  },
  {
   "cell_type": "code",
   "execution_count": 9,
   "id": "79dc536a",
   "metadata": {},
   "outputs": [
    {
     "name": "stdout",
     "output_type": "stream",
     "text": [
      "Width: 2\n",
      "length: 3\n",
      "Area of rectangle: 6 unit sq.\n"
     ]
    }
   ],
   "source": [
    "w = int(input(\"Width: \"))\n",
    "l = int(input(\"length: \"))\n",
    " \n",
    "print(f\"Area of rectangle: {w*l} unit sq.\")"
   ]
  },
  {
   "cell_type": "markdown",
   "id": "2590e06f",
   "metadata": {},
   "source": []
  },
  {
   "cell_type": "markdown",
   "id": "89a580e9",
   "metadata": {},
   "source": [
    "3. Write a Python program that converts temperature from Celsius to\n",
    "Fahrenheit. Take the temperature in Celsius as input, store it in a\n",
    "variable, convert it to Fahrenheit, and display the result."
   ]
  },
  {
   "cell_type": "code",
   "execution_count": 22,
   "id": "614a41fc",
   "metadata": {},
   "outputs": [
    {
     "name": "stdout",
     "output_type": "stream",
     "text": [
      "Celsius:20\n",
      "Temperature in Fahrenheit: 68.0\n"
     ]
    }
   ],
   "source": [
    "c = int(input(\"Celsius:\"))\n",
    "\n",
    "print(f\"Temperature in Fahrenheit: {c*(9/5) +32}\")"
   ]
  },
  {
   "cell_type": "markdown",
   "id": "e2e84c57",
   "metadata": {},
   "source": []
  },
  {
   "cell_type": "markdown",
   "id": "a652c22d",
   "metadata": {},
   "source": [
    "# String Based Questions"
   ]
  },
  {
   "cell_type": "markdown",
   "id": "706bdacc",
   "metadata": {},
   "source": [
    "1. Write a Python program that takes a string as input and prints the\n",
    "length of the string."
   ]
  },
  {
   "cell_type": "code",
   "execution_count": 23,
   "id": "3267a2b4",
   "metadata": {},
   "outputs": [
    {
     "name": "stdout",
     "output_type": "stream",
     "text": [
      "Insert string: pw skills\n",
      "Length of given string: 9\n"
     ]
    }
   ],
   "source": [
    "s = input(\"Insert string: \")\n",
    "print(f\"Length of given string: {len(s)}\")"
   ]
  },
  {
   "cell_type": "raw",
   "id": "0d0a0e56",
   "metadata": {},
   "source": []
  },
  {
   "cell_type": "markdown",
   "id": "7ea8c925",
   "metadata": {},
   "source": [
    "2. Create a program that takes a sentence from the user and counts the\n",
    "number of vowels (a, e, i, o, u) in the string."
   ]
  },
  {
   "cell_type": "code",
   "execution_count": 24,
   "id": "5a3c93cc",
   "metadata": {},
   "outputs": [
    {
     "name": "stdout",
     "output_type": "stream",
     "text": [
      "Insert string: pw skills\n",
      "Length of given string: 1\n"
     ]
    }
   ],
   "source": [
    "sent = input(\"Insert string: \")\n",
    "\n",
    "vowel = [\"a\", \"e\", \"i\" ,\"o\", \"u\"]\n",
    "\n",
    "ls = [v for v in sent.lower() if v in vowel]\n",
    "print(f\"Length of given string: {len(ls)}\")"
   ]
  },
  {
   "cell_type": "code",
   "execution_count": null,
   "id": "09510d2f",
   "metadata": {},
   "outputs": [],
   "source": []
  },
  {
   "cell_type": "markdown",
   "id": "22774525",
   "metadata": {},
   "source": [
    "3. Given a string, reverse the order of characters using string slicing and\n",
    "print the reversed string."
   ]
  },
  {
   "cell_type": "code",
   "execution_count": 25,
   "id": "c0e1c78a",
   "metadata": {},
   "outputs": [
    {
     "name": "stdout",
     "output_type": "stream",
     "text": [
      "Insert string: pw skills\n",
      "Reverse string: slliks wp\n"
     ]
    }
   ],
   "source": [
    "sent = input(\"Insert string: \")\n",
    "\n",
    "print(f\"Reverse string: {sent[::-1]}\")"
   ]
  },
  {
   "cell_type": "code",
   "execution_count": null,
   "id": "9c9ee8fd",
   "metadata": {},
   "outputs": [],
   "source": []
  },
  {
   "cell_type": "markdown",
   "id": "5478120b",
   "metadata": {},
   "source": [
    "4. Write a program that takes a string as input and checks if it is a\n",
    "palindrome (reads the same forwards and backwards)."
   ]
  },
  {
   "cell_type": "code",
   "execution_count": 26,
   "id": "36caf14b",
   "metadata": {},
   "outputs": [
    {
     "name": "stdout",
     "output_type": "stream",
     "text": [
      "Insert string: ada\n",
      "String is palindrome\n"
     ]
    }
   ],
   "source": [
    "## code is whitespace sensitive.\n",
    "\n",
    "sent = input(\"Insert string: \")\n",
    "\n",
    "if sent == sent[::-1]:\n",
    "    print(\"String is palindrome\")\n",
    "else:\n",
    "    print(\"String is not palindrome\")"
   ]
  },
  {
   "cell_type": "code",
   "execution_count": null,
   "id": "53f2623a",
   "metadata": {},
   "outputs": [],
   "source": []
  },
  {
   "cell_type": "markdown",
   "id": "9b294901",
   "metadata": {},
   "source": [
    "5. Create a program that takes a string as input and removes all the\n",
    "spaces from it. Print the modified string without spaces."
   ]
  },
  {
   "cell_type": "code",
   "execution_count": 27,
   "id": "8185ad0c",
   "metadata": {},
   "outputs": [
    {
     "name": "stdout",
     "output_type": "stream",
     "text": [
      "Insert string: pw skills\n",
      "Updated string: pwskills\n"
     ]
    }
   ],
   "source": [
    "sent = input(\"Insert string: \")\n",
    "\n",
    "print(f\"Updated string: {sent.replace(' ', '')}\")"
   ]
  },
  {
   "cell_type": "code",
   "execution_count": null,
   "id": "f6cf8890",
   "metadata": {},
   "outputs": [],
   "source": []
  }
 ],
 "metadata": {
  "kernelspec": {
   "display_name": "Python 3 (ipykernel)",
   "language": "python",
   "name": "python3"
  },
  "language_info": {
   "codemirror_mode": {
    "name": "ipython",
    "version": 3
   },
   "file_extension": ".py",
   "mimetype": "text/x-python",
   "name": "python",
   "nbconvert_exporter": "python",
   "pygments_lexer": "ipython3",
   "version": "3.11.3"
  }
 },
 "nbformat": 4,
 "nbformat_minor": 5
}
