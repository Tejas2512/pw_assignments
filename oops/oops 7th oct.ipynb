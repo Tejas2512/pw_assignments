{
 "cells": [
  {
   "cell_type": "code",
   "execution_count": 9,
   "id": "8b6a7b1a-3ff5-4b22-be3e-d3b2d7aa7e3a",
   "metadata": {},
   "outputs": [],
   "source": [
    "class a :\n",
    "    \n",
    "    def test(self):\n",
    "        print(\"this test method is a part of class a\")\n",
    "        \n",
    "    def test1(self):\n",
    "        print(\"this is test1 from class a \")"
   ]
  },
  {
   "cell_type": "code",
   "execution_count": 10,
   "id": "8e4d306f-fdb4-47a0-a93d-597f5b21d30b",
   "metadata": {},
   "outputs": [],
   "source": [
    "obj_a = a()"
   ]
  },
  {
   "cell_type": "code",
   "execution_count": 11,
   "id": "81ef5597-cf96-4ed9-a4f6-21e2e93aca70",
   "metadata": {},
   "outputs": [
    {
     "name": "stdout",
     "output_type": "stream",
     "text": [
      "this test method is a part of class a\n"
     ]
    }
   ],
   "source": [
    "obj_a.test()"
   ]
  },
  {
   "cell_type": "code",
   "execution_count": 16,
   "id": "11ee63d6-433d-48dc-ada0-5dd6771310ba",
   "metadata": {},
   "outputs": [],
   "source": [
    "class b(a) :\n",
    "    def test1b(self):\n",
    "        print(\"this is a part of class b \")"
   ]
  },
  {
   "cell_type": "code",
   "execution_count": 17,
   "id": "badaedfe-57d1-43c6-9193-e5afb0f31dbc",
   "metadata": {},
   "outputs": [],
   "source": [
    "obj_b = b()"
   ]
  },
  {
   "cell_type": "code",
   "execution_count": 18,
   "id": "3ce19f61-ba8e-4050-9d4d-614adfd964c5",
   "metadata": {},
   "outputs": [
    {
     "name": "stdout",
     "output_type": "stream",
     "text": [
      "this test method is a part of class a\n"
     ]
    }
   ],
   "source": [
    "obj_b.test()"
   ]
  },
  {
   "cell_type": "code",
   "execution_count": 19,
   "id": "5e473fae-e094-4407-99df-16a04ab4c80a",
   "metadata": {},
   "outputs": [
    {
     "name": "stdout",
     "output_type": "stream",
     "text": [
      "this is test1 from class a \n"
     ]
    }
   ],
   "source": [
    "obj_b.test1()"
   ]
  },
  {
   "cell_type": "code",
   "execution_count": null,
   "id": "02a8f055-535f-4bc2-adc1-575445f82570",
   "metadata": {},
   "outputs": [],
   "source": [
    "obj_b."
   ]
  },
  {
   "cell_type": "code",
   "execution_count": 21,
   "id": "59361cd3-c0c4-4ddd-abac-cbe3275ade5f",
   "metadata": {},
   "outputs": [],
   "source": [
    "class lecture:\n",
    "    \n",
    "    def topic(self):\n",
    "        print(\"todays class we are discussing about inheritance condept in oops\")\n",
    "        \n",
    "    def timing(self):\n",
    "        print(\"timing for todays class is 9 AM IST\")\n",
    "        \n",
    "    def end_time(self):\n",
    "        print(\"today i will try to end class bit early\")"
   ]
  },
  {
   "cell_type": "code",
   "execution_count": 23,
   "id": "6e3dd2de-883e-4e9e-98a0-4a7089af1627",
   "metadata": {},
   "outputs": [],
   "source": [
    "class student(lecture):\n",
    "    \n",
    "    def student_details(self):\n",
    "        print(\"this class will give you a student details\")"
   ]
  },
  {
   "cell_type": "code",
   "execution_count": 24,
   "id": "c2ad2a89-0f29-4410-86c4-e33f47b4186d",
   "metadata": {},
   "outputs": [],
   "source": [
    "naval = student()"
   ]
  },
  {
   "cell_type": "code",
   "execution_count": 25,
   "id": "38c86e7f-5560-464a-b597-c88a74819f1a",
   "metadata": {},
   "outputs": [
    {
     "name": "stdout",
     "output_type": "stream",
     "text": [
      "todays class we are discussing about inheritance condept in oops\n"
     ]
    }
   ],
   "source": [
    "naval.topic()"
   ]
  },
  {
   "cell_type": "code",
   "execution_count": 26,
   "id": "02efc8a4-f995-4f85-87d2-620ccc0f61fa",
   "metadata": {},
   "outputs": [
    {
     "name": "stdout",
     "output_type": "stream",
     "text": [
      "timing for todays class is 9 AM IST\n"
     ]
    }
   ],
   "source": [
    "satish = student()\n",
    "satish.timing()"
   ]
  },
  {
   "cell_type": "code",
   "execution_count": 28,
   "id": "03932972-a58b-46e5-a3f8-ffc43c84ce53",
   "metadata": {},
   "outputs": [],
   "source": [
    "class teacher(student):\n",
    "    def details(self):\n",
    "        print(\"this will give you a details about teacher\")"
   ]
  },
  {
   "cell_type": "code",
   "execution_count": 29,
   "id": "fff36c1b-f1e9-467e-b29f-c304aa9feec9",
   "metadata": {},
   "outputs": [
    {
     "name": "stdout",
     "output_type": "stream",
     "text": [
      "timing for todays class is 9 AM IST\n"
     ]
    }
   ],
   "source": [
    "sudh = teacher()\n",
    "sudh.timing()"
   ]
  },
  {
   "cell_type": "code",
   "execution_count": 39,
   "id": "a5e8c94b-de62-4ef5-8eba-81259d83dd3d",
   "metadata": {},
   "outputs": [],
   "source": [
    "class lecture:\n",
    "    def topic(self):\n",
    "        print(\"todays class we are discussing about inheritance condept in oops\")\n",
    "        \n",
    "    def timing(self):\n",
    "        print(\"timing for todays class is 9 AM IST\")\n",
    "        \n",
    "    def end_time(self):\n",
    "        print(\"today i will try to end class bit early\")"
   ]
  },
  {
   "cell_type": "code",
   "execution_count": 40,
   "id": "2007141c-1b71-4cd4-9bed-a3cd8d851baa",
   "metadata": {},
   "outputs": [],
   "source": [
    "class student:\n",
    "    \n",
    "    def student_details(self):\n",
    "        print(\"this class will give you a student details\")\n",
    "        \n",
    "    def timing(self):\n",
    "        print(\"this is a timing fun from student class\")\n",
    "        "
   ]
  },
  {
   "cell_type": "code",
   "execution_count": 48,
   "id": "272860d3-1fac-475b-8c09-0490069224bc",
   "metadata": {},
   "outputs": [],
   "source": [
    "class teacher(lecture,student):\n",
    "    def details(self):\n",
    "        print(\"this will give you a details about teacher\")"
   ]
  },
  {
   "cell_type": "code",
   "execution_count": 49,
   "id": "f4a9ae16-f0e3-4a4a-a003-38773611cd2a",
   "metadata": {},
   "outputs": [],
   "source": [
    "krish = teacher()"
   ]
  },
  {
   "cell_type": "code",
   "execution_count": 50,
   "id": "6dc85f37-219e-4c72-927c-9aebb550fea9",
   "metadata": {},
   "outputs": [
    {
     "name": "stdout",
     "output_type": "stream",
     "text": [
      "timing for todays class is 9 AM IST\n"
     ]
    }
   ],
   "source": [
    "krish.timing()"
   ]
  },
  {
   "cell_type": "code",
   "execution_count": 37,
   "id": "8bcbac88-9172-4a31-a191-9c4b9a1c6eac",
   "metadata": {},
   "outputs": [
    {
     "name": "stdout",
     "output_type": "stream",
     "text": [
      "this class will give you a student details\n"
     ]
    }
   ],
   "source": [
    "krish.student_details()"
   ]
  },
  {
   "cell_type": "markdown",
   "id": "86b47d4f-860e-4702-83a0-0145887ab41a",
   "metadata": {},
   "source": [
    "Problem 1: Bank Account Create a class representing a bank account with attributes like account number, account holder name, and balance. Implement methods to deposit and withdraw money from the account.\n",
    "\n",
    "Problem 2: Employee Management Create a class representing an employee with attributes like employee ID, name, and salary. Implement methods to calculate the yearly bonus and display employee details.\n",
    "\n",
    "Problem 3: Vehicle Rental Create a class representing a vehicle rental system. Implement methods to rent a vehicle, return a vehicle, and display available vehicles.\n",
    "\n",
    "Problem 4: Library Catalog Create classes representing a library and a book. Implement methods to add books to the library, borrow books, and display available books.\n",
    "\n",
    "Problem 5: Product Inventory Create classes representing a product and an inventory system. Implement methods to add products to the inventory, update product quantity, and display available products.\n",
    "\n",
    "Problem 6: Shape Calculation Create a class representing a shape with attributes like length, width, and height. Implement methods to calculate the area and perimeter of the shape.\n",
    "\n",
    "Problem 7: Student Management Create a class representing a student with attributes like student ID, name, and grades. Implement methods to calculate the average grade and display student details.\n",
    "\n",
    "Problem 8: Email Management Create a class representing an email with attributes like sender, recipient, and subject. Implement methods to send an email and display email details.\n",
    "\n",
    "Problem 9: Social Media Profile Create a class representing a social media profile with attributes like username and posts. Implement methods to add posts, display posts, and search for posts by keyword.\n",
    "\n",
    "Problem 10: ToDo List Create a class representing a ToDo list with attributes like tasks and due dates. Implement methods to add tasks, mark tasks as completed, and display pending tasks."
   ]
  },
  {
   "cell_type": "code",
   "execution_count": 6,
   "id": "bd69f3a3",
   "metadata": {},
   "outputs": [
    {
     "name": "stdout",
     "output_type": "stream",
     "text": [
      "Deposit of $500.00 successful. New balance: $1500.00\n",
      "Withdrawal of $200.00 successful. New balance: $1300.00\n",
      "Current balance: $1300.00\n"
     ]
    }
   ],
   "source": [
    "# Problem 1: Bank Account Create a class representing a bank account with attributes like account number, account holder name, and balance. Implement methods to deposit and withdraw money from the account.\n",
    "\n",
    "class BankAccount:\n",
    "    def __init__(self, account_number, account_holder, balance=0.0):\n",
    "        self.account_number = account_number\n",
    "        self.account_holder = account_holder\n",
    "        self.balance = balance\n",
    "\n",
    "    def deposit(self, amount):\n",
    "        if amount > 0:\n",
    "            self.balance += amount\n",
    "            print(f'Deposit of ${amount:.2f} successful. New balance: ${self.balance:.2f}')\n",
    "        else:\n",
    "            print('Invalid deposit amount. Please enter a positive amount.')\n",
    "\n",
    "    def withdraw(self, amount):\n",
    "        if 0 < amount <= self.balance:\n",
    "            self.balance -= amount\n",
    "            print(f'Withdrawal of ${amount:.2f} successful. New balance: ${self.balance:.2f}')\n",
    "        elif amount <= 0:\n",
    "            print('Invalid withdrawal amount. Please enter a positive amount.')\n",
    "        else:\n",
    "            print('Insufficient funds for withdrawal.')\n",
    "\n",
    "    def get_balance(self):\n",
    "        return self.balance\n",
    "\n",
    "# Example usage:\n",
    "account1 = BankAccount(account_number='123456789', account_holder='John Doe', balance=1000.0)\n",
    "\n",
    "# Deposit money\n",
    "account1.deposit(500.0)\n",
    "\n",
    "# Withdraw money\n",
    "account1.withdraw(200.0)\n",
    "\n",
    "# Get current balance\n",
    "print(f'Current balance: ${account1.get_balance():.2f}')\n"
   ]
  },
  {
   "cell_type": "code",
   "execution_count": 7,
   "id": "adb3c991",
   "metadata": {},
   "outputs": [
    {
     "name": "stdout",
     "output_type": "stream",
     "text": [
      "Employee ID: E001\n",
      "Name: Alice\n",
      "Salary: $50000.00\n",
      "Yearly Bonus: $5000.00\n"
     ]
    }
   ],
   "source": [
    "# Problem 2: Employee Management Create a class representing an employee with attributes like employee ID, name, and salary. Implement methods to calculate the yearly bonus and display employee details.\n",
    "\n",
    "class Employee:\n",
    "    def __init__(self, employee_id, name, salary):\n",
    "        self.employee_id = employee_id\n",
    "        self.name = name\n",
    "        self.salary = salary\n",
    "\n",
    "    def calculate_bonus(self, bonus_percentage):\n",
    "        bonus_amount = (bonus_percentage / 100) * self.salary\n",
    "        return bonus_amount\n",
    "\n",
    "    def display_details(self):\n",
    "        print(f\"Employee ID: {self.employee_id}\")\n",
    "        print(f\"Name: {self.name}\")\n",
    "        print(f\"Salary: ${self.salary:.2f}\")\n",
    "\n",
    "# Example usage:\n",
    "employee1 = Employee(employee_id='E001', name='Alice', salary=50000.0)\n",
    "\n",
    "# Display employee details\n",
    "employee1.display_details()\n",
    "\n",
    "# Calculate and display yearly bonus\n",
    "bonus_percentage = 10  # 10% bonus\n",
    "bonus_amount = employee1.calculate_bonus(bonus_percentage)\n",
    "print(f\"Yearly Bonus: ${bonus_amount:.2f}\")\n"
   ]
  },
  {
   "cell_type": "code",
   "execution_count": 8,
   "id": "6740ce46",
   "metadata": {},
   "outputs": [
    {
     "name": "stdout",
     "output_type": "stream",
     "text": [
      "Available Vehicles:\n",
      "V001 - Sedan\n",
      "V002 - SUV\n",
      "V003 - Truck\n",
      "Vehicle V002 rented successfully.\n",
      "Available Vehicles:\n",
      "V001 - Sedan\n",
      "V003 - Truck\n",
      "Vehicle V002 returned successfully.\n",
      "Available Vehicles:\n",
      "V001 - Sedan\n",
      "V002 - SUV\n",
      "V003 - Truck\n"
     ]
    }
   ],
   "source": [
    "# Problem 3: Vehicle Rental Create a class representing a vehicle rental system. Implement methods to rent a vehicle, return a vehicle, and display available vehicles.\n",
    "\n",
    "class Vehicle:\n",
    "    def __init__(self, vehicle_id, model, is_available=True):\n",
    "        self.vehicle_id = vehicle_id\n",
    "        self.model = model\n",
    "        self.is_available = is_available\n",
    "\n",
    "class VehicleRentalSystem:\n",
    "    def __init__(self):\n",
    "        self.vehicles = []\n",
    "\n",
    "    def add_vehicle(self, vehicle_id, model):\n",
    "        vehicle = Vehicle(vehicle_id, model)\n",
    "        self.vehicles.append(vehicle)\n",
    "\n",
    "    def rent_vehicle(self, vehicle_id):\n",
    "        for vehicle in self.vehicles:\n",
    "            if vehicle.vehicle_id == vehicle_id and vehicle.is_available:\n",
    "                vehicle.is_available = False\n",
    "                print(f\"Vehicle {vehicle_id} rented successfully.\")\n",
    "                return\n",
    "        print(f\"Vehicle {vehicle_id} not available for rent.\")\n",
    "\n",
    "    def return_vehicle(self, vehicle_id):\n",
    "        for vehicle in self.vehicles:\n",
    "            if vehicle.vehicle_id == vehicle_id and not vehicle.is_available:\n",
    "                vehicle.is_available = True\n",
    "                print(f\"Vehicle {vehicle_id} returned successfully.\")\n",
    "                return\n",
    "        print(f\"Invalid return. Vehicle {vehicle_id} not found or already available.\")\n",
    "\n",
    "    def display_available_vehicles(self):\n",
    "        print(\"Available Vehicles:\")\n",
    "        for vehicle in self.vehicles:\n",
    "            if vehicle.is_available:\n",
    "                print(f\"{vehicle.vehicle_id} - {vehicle.model}\")\n",
    "\n",
    "# Example usage:\n",
    "rental_system = VehicleRentalSystem()\n",
    "\n",
    "# Add vehicles\n",
    "rental_system.add_vehicle(vehicle_id='V001', model='Sedan')\n",
    "rental_system.add_vehicle(vehicle_id='V002', model='SUV')\n",
    "rental_system.add_vehicle(vehicle_id='V003', model='Truck')\n",
    "\n",
    "# Display available vehicles\n",
    "rental_system.display_available_vehicles()\n",
    "\n",
    "# Rent a vehicle\n",
    "rental_system.rent_vehicle(vehicle_id='V002')\n",
    "\n",
    "# Display available vehicles after renting\n",
    "rental_system.display_available_vehicles()\n",
    "\n",
    "# Return the rented vehicle\n",
    "rental_system.return_vehicle(vehicle_id='V002')\n",
    "\n",
    "# Display available vehicles after returning\n",
    "rental_system.display_available_vehicles()\n"
   ]
  },
  {
   "cell_type": "code",
   "execution_count": 32,
   "id": "8a00db85",
   "metadata": {},
   "outputs": [
    {
     "name": "stdout",
     "output_type": "stream",
     "text": [
      "Available Books:\n",
      "Book id: 01 - Title: The Great Gatsby\n",
      "Book id: 02 - Title: To Kill a Mockingbird\n",
      "Book id: 03 - Title: 1984\n",
      "Book id: 04 - Title: Pride and Prejudice\n",
      "Book id: 05 - Title: The Catcher in the Rye\n",
      "Book id: 06 - Title: Brave New World\n",
      "Book id: 07 - Title: The Lord of the Rings\n",
      "Book id: 08 - Title: The Chronicles of Narnia\n",
      "Book id: 01 'The Great Gatsby' borrowed.\n",
      "Book id: 02 'To Kill a Mockingbird' borrowed.\n",
      "Book id 09 not found.\n",
      "Available Books:\n",
      "Book id: 03 - Title: 1984\n",
      "Book id: 04 - Title: Pride and Prejudice\n",
      "Book id: 05 - Title: The Catcher in the Rye\n",
      "Book id: 06 - Title: Brave New World\n",
      "Book id: 07 - Title: The Lord of the Rings\n",
      "Book id: 08 - Title: The Chronicles of Narnia\n"
     ]
    }
   ],
   "source": [
    "# Problem 4: Library Catalog Create classes representing a library and a book. Implement methods to add books to the library, borrow books, and display available books.\n",
    "\n",
    "class LibraryCatalog:\n",
    "    def __init__(self, catalog):\n",
    "        self.catalog = catalog\n",
    "    \n",
    "    def add_books(self, new_books):\n",
    "        self.catalog.update(new_books)\n",
    "        \n",
    "    def borrow_books(self, book_ids):\n",
    "        for book_id in book_ids:\n",
    "            if book_id in self.catalog:\n",
    "                print(f\"Book id: {book_id} '{self.catalog[book_id]}' borrowed.\")\n",
    "                self.catalog.pop(book_id)\n",
    "            else:\n",
    "                print(f\"Book id {book_id} not found.\")\n",
    "    \n",
    "    def display_available_books(self):\n",
    "        print(\"Available Books:\")\n",
    "        for book_id, title in self.catalog.items():\n",
    "            print(f\"Book id: {book_id} - Title: {title}\")\n",
    "\n",
    "initial_catalog = {\n",
    "    \"01\": \"The Great Gatsby\",\n",
    "    \"02\": \"To Kill a Mockingbird\",\n",
    "    \"03\": \"1984\",\n",
    "    \"04\": \"Pride and Prejudice\",\n",
    "    \"05\": \"The Catcher in the Rye\"\n",
    "}\n",
    "\n",
    "library = LibraryCatalog(initial_catalog)\n",
    "\n",
    "library.add_books({\n",
    "    \"06\": \"Brave New World\",\n",
    "    \"07\": \"The Lord of the Rings\",\n",
    "    \"08\": \"The Chronicles of Narnia\"\n",
    "})\n",
    "\n",
    "library.display_available_books()\n",
    "\n",
    "library.borrow_books([\"01\", \"02\", \"09\"])\n",
    "\n",
    "library.display_available_books()\n"
   ]
  },
  {
   "cell_type": "code",
   "execution_count": 40,
   "id": "e7eee898",
   "metadata": {},
   "outputs": [
    {
     "name": "stdout",
     "output_type": "stream",
     "text": [
      "Available Products:\n",
      "Product: Apple - Quantity: 10\n",
      "Product: Banana - Quantity: 12\n",
      "Product: Orange - Quantity: 100\n",
      "Available Products:\n",
      "Product: Apple - Quantity: 10\n",
      "Product: Banana - Quantity: 12\n",
      "Product: Orange - Quantity: 100\n",
      "Product: Grapes - Quantity: 10\n",
      "Product: Strawberry - Quantity: 12\n",
      "Product: Pineapple - Quantity: 100\n",
      "Available Products:\n",
      "Product: Apple - Quantity: 9\n",
      "Product: Banana - Quantity: 24\n",
      "Product: Orange - Quantity: 200\n",
      "Product: Grapes - Quantity: 10\n",
      "Product: Strawberry - Quantity: 12\n",
      "Product: Pineapple - Quantity: 100\n"
     ]
    }
   ],
   "source": [
    "# Problem 5: Product Inventory Create classes representing a product and an inventory system. Implement methods to add products to the inventory, update product quantity, and display available products.\n",
    "\n",
    "class Product:\n",
    "    def __init__(self, name, quantity):\n",
    "        self.name = name\n",
    "        self.quantity = quantity\n",
    "\n",
    "class InventorySystem:\n",
    "    def __init__(self, products):\n",
    "        self.products = products\n",
    "    \n",
    "    def add_products(self, new_products):\n",
    "        self.products.update(new_products)\n",
    "                     \n",
    "    def update_quantity(self, product_quantities):\n",
    "        for name, quantity_change in product_quantities.items():\n",
    "            try:\n",
    "                self.products[name].quantity += quantity_change\n",
    "            except KeyError:\n",
    "                # If the product doesn't exist, add it to the inventory\n",
    "                self.products[name] = Product(name, quantity_change)\n",
    "                \n",
    "    def display_products(self):\n",
    "        print(\"Available Products:\")\n",
    "        for name, product in self.products.items():\n",
    "            print(f\"Product: {name} - Quantity: {product.quantity}\")\n",
    "\n",
    "initial_products = {\n",
    "    \"Apple\": Product(name=\"Apple\", quantity=10),\n",
    "    \"Banana\": Product(name=\"Banana\", quantity=12),\n",
    "    \"Orange\": Product(name=\"Orange\", quantity=100)\n",
    "}\n",
    "\n",
    "inventory = InventorySystem(initial_products)\n",
    "inventory.display_products()\n",
    "\n",
    "additional_products = {\n",
    "    \"Grapes\": Product(name=\"Grapes\", quantity=10),\n",
    "    \"Strawberry\": Product(name=\"Strawberry\", quantity=12),\n",
    "    \"Pineapple\": Product(name=\"Pineapple\", quantity=100)\n",
    "}\n",
    "\n",
    "inventory.add_products(additional_products)\n",
    "inventory.display_products()\n",
    "\n",
    "quantity_changes = {\n",
    "    \"Apple\": -1,\n",
    "    \"Banana\": 12,\n",
    "    \"Orange\": 100\n",
    "}\n",
    "\n",
    "inventory.update_quantity(quantity_changes)\n",
    "inventory.display_products()\n"
   ]
  },
  {
   "cell_type": "code",
   "execution_count": 9,
   "id": "2f49eb5a",
   "metadata": {},
   "outputs": [
    {
     "name": "stdout",
     "output_type": "stream",
     "text": [
      "Area: 15\n",
      "Perimeter: 16\n"
     ]
    }
   ],
   "source": [
    "# Problem 6: Shape Calculation Create a class representing a shape with attributes like length, width, and height. Implement methods to calculate the area and perimeter of the shape.\n",
    "\n",
    "class Shape:\n",
    "    def __init__(self, length, width=None, height=None):\n",
    "        self.length = length\n",
    "        self.width = width\n",
    "        self.height = height\n",
    "\n",
    "    def calculate_area(self):\n",
    "        raise NotImplementedError(\"Subclasses must implement the calculate_area method\")\n",
    "\n",
    "    def calculate_perimeter(self):\n",
    "        raise NotImplementedError(\"Subclasses must implement the calculate_perimeter method\")\n",
    "\n",
    "class Rectangle(Shape):\n",
    "    def __init__(self, length, width):\n",
    "        super().__init__(length, width)\n",
    "\n",
    "    def calculate_area(self):\n",
    "        return self.length * self.width\n",
    "\n",
    "    def calculate_perimeter(self):\n",
    "        return 2 * (self.length + self.width)\n",
    "\n",
    "# Example usage:\n",
    "rectangle = Rectangle(length=5, width=3)\n",
    "\n",
    "# Calculate and display area\n",
    "area = rectangle.calculate_area()\n",
    "print(f\"Area: {area}\")\n",
    "\n",
    "# Calculate and display perimeter\n",
    "perimeter = rectangle.calculate_perimeter()\n",
    "print(f\"Perimeter: {perimeter}\")\n"
   ]
  },
  {
   "cell_type": "code",
   "execution_count": 10,
   "id": "a437a1f8",
   "metadata": {},
   "outputs": [
    {
     "name": "stdout",
     "output_type": "stream",
     "text": [
      "Student ID: S001\n",
      "Name: Alice\n",
      "Grades: 90, 85, 92, 88\n",
      "Average Grade: 88.75\n",
      "Student ID: S001\n",
      "Name: Alice\n",
      "Grades: 90, 85, 92, 88, 95\n",
      "Average Grade: 90.00\n"
     ]
    }
   ],
   "source": [
    "# Problem 7: Student Management Create a class representing a student with attributes like student ID, name, and grades. Implement methods to calculate the average grade and display student details.\n",
    "\n",
    "class Student:\n",
    "    def __init__(self, student_id, name, grades=[]):\n",
    "        self.student_id = student_id\n",
    "        self.name = name\n",
    "        self.grades = grades\n",
    "\n",
    "    def add_grade(self, grade):\n",
    "        self.grades.append(grade)\n",
    "\n",
    "    def calculate_average_grade(self):\n",
    "        if not self.grades:\n",
    "            return 0.0  # Return 0 if there are no grades to avoid division by zero\n",
    "        return sum(self.grades) / len(self.grades)\n",
    "\n",
    "    def display_details(self):\n",
    "        print(f\"Student ID: {self.student_id}\")\n",
    "        print(f\"Name: {self.name}\")\n",
    "        print(\"Grades:\", \", \".join(map(str, self.grades)))\n",
    "        print(f\"Average Grade: {self.calculate_average_grade():.2f}\")\n",
    "\n",
    "# Example usage:\n",
    "student1 = Student(student_id='S001', name='Alice', grades=[90, 85, 92, 88])\n",
    "\n",
    "# Display student details\n",
    "student1.display_details()\n",
    "\n",
    "# Add a new grade\n",
    "student1.add_grade(95)\n",
    "\n",
    "# Display updated student details\n",
    "student1.display_details()\n",
    "\n"
   ]
  },
  {
   "cell_type": "code",
   "execution_count": 11,
   "id": "86986e78",
   "metadata": {},
   "outputs": [
    {
     "name": "stdout",
     "output_type": "stream",
     "text": [
      "Email Details:\n",
      "Sender: sender@example.com\n",
      "Recipient: recipient@example.com\n",
      "Subject: Hello\n",
      "Message:\n",
      "Hi there, this is a test email.\n",
      "Status: Not Sent\n",
      "Email sent from sender@example.com to recipient@example.com with subject 'Hello'\n",
      "Email Details:\n",
      "Sender: sender@example.com\n",
      "Recipient: recipient@example.com\n",
      "Subject: Hello\n",
      "Message:\n",
      "Hi there, this is a test email.\n",
      "Status: Sent\n"
     ]
    }
   ],
   "source": [
    "# Problem 8: Email Management Create a class representing an email with attributes like sender, recipient, and subject. Implement methods to send an email and display email details.\n",
    "\n",
    "class Email:\n",
    "    def __init__(self, sender, recipient, subject, message):\n",
    "        self.sender = sender\n",
    "        self.recipient = recipient\n",
    "        self.subject = subject\n",
    "        self.message = message\n",
    "        self.is_sent = False\n",
    "\n",
    "    def send_email(self):\n",
    "        # Logic to send an email (placeholder)\n",
    "        # In a real-world scenario, you would use a library or service to send emails.\n",
    "        print(f\"Email sent from {self.sender} to {self.recipient} with subject '{self.subject}'\")\n",
    "        self.is_sent = True\n",
    "\n",
    "    def display_details(self):\n",
    "        print(\"Email Details:\")\n",
    "        print(f\"Sender: {self.sender}\")\n",
    "        print(f\"Recipient: {self.recipient}\")\n",
    "        print(f\"Subject: {self.subject}\")\n",
    "        print(\"Message:\")\n",
    "        print(self.message)\n",
    "        print(f\"Status: {'Sent' if self.is_sent else 'Not Sent'}\")\n",
    "\n",
    "# Example usage:\n",
    "email1 = Email(sender='sender@example.com', recipient='recipient@example.com', subject='Hello', message='Hi there, this is a test email.')\n",
    "\n",
    "# Display email details before sending\n",
    "email1.display_details()\n",
    "\n",
    "# Send the email\n",
    "email1.send_email()\n",
    "\n",
    "# Display updated email details\n",
    "email1.display_details()\n"
   ]
  },
  {
   "cell_type": "code",
   "execution_count": 52,
   "id": "2e6f4fac",
   "metadata": {},
   "outputs": [
    {
     "name": "stdout",
     "output_type": "stream",
     "text": [
      "Posts by JohnDoe:\n",
      "- Having a great day!\n",
      "- Exploring new places.\n",
      "- Coding is fun!\n",
      "Posts containing 'coding':\n",
      "- Coding is fun!\n"
     ]
    }
   ],
   "source": [
    "# Problem 9: Social Media Profile Create a class representing a social media profile with attributes like username and posts. Implement methods to add posts, display posts, and search for posts by keyword.\n",
    "\n",
    "\n",
    "class SocialMediaProfile:\n",
    "    def __init__(self, username, posts=[]):\n",
    "        self.username = username\n",
    "        self.posts = posts\n",
    "\n",
    "    def add_post(self, post_content):\n",
    "        post = {\n",
    "            'username': self.username,\n",
    "            'content': post_content\n",
    "        }\n",
    "        self.posts.append(post)\n",
    "\n",
    "    def display_posts(self):\n",
    "        print(f\"Posts by {self.username}:\")\n",
    "        for post in self.posts:\n",
    "            print(f\"- {post['content']}\")\n",
    "\n",
    "    def search_posts_by_keyword(self, keyword):\n",
    "        matching_posts = [post for post in self.posts if keyword.lower() in post['content'].lower()]\n",
    "        if matching_posts:\n",
    "            print(f\"Posts containing '{keyword}':\")\n",
    "            for post in matching_posts:\n",
    "                print(f\"- {post['content']}\")\n",
    "        else:\n",
    "            print(f\"No posts containing '{keyword}' found.\")\n",
    "\n",
    "# Example usage:\n",
    "profile = SocialMediaProfile(username='JohnDoe')\n",
    "\n",
    "profile.add_post(\"Having a great day!\")\n",
    "profile.add_post(\"Exploring new places.\")\n",
    "profile.add_post(\"Coding is fun!\")\n",
    "\n",
    "profile.display_posts()\n",
    "\n",
    "profile.search_posts_by_keyword(\"coding\")\n"
   ]
  },
  {
   "cell_type": "code",
   "execution_count": 53,
   "id": "ee7b37a3",
   "metadata": {},
   "outputs": [
    {
     "name": "stdout",
     "output_type": "stream",
     "text": [
      "Pending Tasks:\n",
      "1. Complete project - Due Date: None\n",
      "2. Read a book - Due Date: 2023-10-20\n",
      "3. Go for a run - Due Date: 2023-10-15\n",
      "Task 'Read a book' marked as completed.\n",
      "Pending Tasks:\n",
      "1. Complete project - Due Date: None\n",
      "2. Go for a run - Due Date: 2023-10-15\n"
     ]
    }
   ],
   "source": [
    "# Problem 10: ToDo List Create a class representing a ToDo list with attributes like tasks and due dates. Implement methods to add tasks, mark tasks as completed, and display pending tasks.\n",
    "\n",
    "class ToDoList:\n",
    "    def __init__(self):\n",
    "        self.tasks = []\n",
    "\n",
    "    def add_task(self, task, due_date=None):\n",
    "        new_task = {\n",
    "            'task': task,\n",
    "            'due_date': due_date,\n",
    "            'completed': False\n",
    "        }\n",
    "        self.tasks.append(new_task)\n",
    "\n",
    "    def mark_task_as_completed(self, task_index):\n",
    "        if 0 <= task_index < len(self.tasks):\n",
    "            self.tasks[task_index]['completed'] = True\n",
    "            print(f\"Task '{self.tasks[task_index]['task']}' marked as completed.\")\n",
    "        else:\n",
    "            print(\"Invalid task index.\")\n",
    "\n",
    "    def display_pending_tasks(self):\n",
    "        pending_tasks = [task for task in self.tasks if not task['completed']]\n",
    "        if pending_tasks:\n",
    "            print(\"Pending Tasks:\")\n",
    "            for index, task in enumerate(pending_tasks):\n",
    "                print(f\"{index + 1}. {task['task']} - Due Date: {task['due_date']}\")\n",
    "        else:\n",
    "            print(\"No pending tasks.\")\n",
    "\n",
    "# Example usage:\n",
    "todo_list = ToDoList()\n",
    "\n",
    "todo_list.add_task(\"Complete project\")\n",
    "todo_list.add_task(\"Read a book\", due_date=\"2023-10-20\")\n",
    "todo_list.add_task(\"Go for a run\", due_date=\"2023-10-15\")\n",
    "\n",
    "todo_list.display_pending_tasks()\n",
    "\n",
    "todo_list.mark_task_as_completed(1)\n",
    "\n",
    "todo_list.display_pending_tasks()\n"
   ]
  },
  {
   "cell_type": "code",
   "execution_count": null,
   "id": "81eedc98",
   "metadata": {},
   "outputs": [],
   "source": []
  },
  {
   "cell_type": "code",
   "execution_count": null,
   "id": "d5a69452",
   "metadata": {},
   "outputs": [],
   "source": []
  },
  {
   "cell_type": "code",
   "execution_count": null,
   "id": "7532eb6e",
   "metadata": {},
   "outputs": [],
   "source": []
  }
 ],
 "metadata": {
  "kernelspec": {
   "display_name": "Python 3 (ipykernel)",
   "language": "python",
   "name": "python3"
  },
  "language_info": {
   "codemirror_mode": {
    "name": "ipython",
    "version": 3
   },
   "file_extension": ".py",
   "mimetype": "text/x-python",
   "name": "python",
   "nbconvert_exporter": "python",
   "pygments_lexer": "ipython3",
   "version": "3.11.3"
  }
 },
 "nbformat": 4,
 "nbformat_minor": 5
}
